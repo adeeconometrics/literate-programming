{
  "nbformat": 4,
  "nbformat_minor": 0,
  "metadata": {
    "colab": {
      "name": "Basic Statistics.ipynb",
      "provenance": [],
      "authorship_tag": "ABX9TyOsEGlv1T70UZVXPk2nuwWk",
      "include_colab_link": true
    },
    "kernelspec": {
      "name": "python3",
      "display_name": "Python 3"
    }
  },
  "cells": [
    {
      "cell_type": "markdown",
      "metadata": {
        "id": "view-in-github",
        "colab_type": "text"
      },
      "source": [
        "<a href=\"https://colab.research.google.com/github/adeeconometrics/literate-programming/blob/main/Basic_Statistics.ipynb\" target=\"_parent\"><img src=\"https://colab.research.google.com/assets/colab-badge.svg\" alt=\"Open In Colab\"/></a>"
      ]
    },
    {
      "cell_type": "markdown",
      "metadata": {
        "id": "FCcLEAja1UVa"
      },
      "source": [
        "# Basic Statistics and Simulations\n",
        "By Dave Amiana \n",
        "\n",
        "---- \n",
        "## Contents\n",
        "- Basic Concepts and Definitions\n",
        "    - Data and Variables \n",
        "    - Sampling Tecniques\n",
        "- Data Presentation\n",
        "    - Constructing Frequency Distribution Table\n",
        "    - Basic Data Visualization\n",
        "- Measures of Central Tendency\n",
        "    - Ungrouped Data \n",
        "    - Grouped Data \n",
        "- Measures of Dispersion, Positions, and Shape\n",
        "    - Dispersion\n",
        "    - Position\n",
        "    - Shape\n",
        "- The Normal Distribution\n",
        "    - Definitions and Properties \n",
        "    - Concepts behind: Integrals\n",
        "    - Applications"
      ]
    },
    {
      "cell_type": "code",
      "metadata": {
        "id": "euJc3CH11QTC"
      },
      "source": [
        ""
      ],
      "execution_count": null,
      "outputs": []
    },
    {
      "cell_type": "markdown",
      "metadata": {
        "id": "m07ueB6aG1_P"
      },
      "source": [
        "## Basic Concepts and Definitions \n",
        "\n",
        "Before we further our discussion, it is important to ground ourselves with some set of conceptual definition of terms. Here are the list of the basic concepts that we shall beign with:\n",
        "\n",
        "- Variable - a characteristic or attribute that can assume different values \n",
        "- Data - the value of the variable \n",
        "- Random Data - value of the variables that are determined by chance \n",
        "- Data set - a collection of data values\n",
        "- Data value (or datum) - each value in the data set\n",
        "- Population - all subjects that are being studied \n",
        "    - Parameter -  numerical summary or any measurement coming from a **population**\n",
        "- Sample - group of subject selected from a **population**\n",
        "    - Statistic - measure of the sample\n",
        "\n",
        "### Data and Variables \n",
        "Here we define the basic types (or forms) that our data or variables can embody.\n",
        "\n",
        "- Qualitative -  a broad category for any variable that can’t be counted (i.e. has no numerical value). Nominal and ordinal variables fall under this umbrella term.\n",
        "\n",
        "- Quantitaitve - A broad category that includes any variable that can be counted, or has a numerical value associated with it. Examples of variables that fall into this category include discrete variables and ratio variables.\n",
        "\n",
        "- Dependent variable -  the outcome of an experiment. As you change the independent variable, you watch what happens to the dependent variable.\n",
        "\n",
        "- Independent variable -  a variable that is not affected by anything that you, the researcher, does. Usually plotted on the x-axis.\n",
        "\n",
        "Remark: more extensive list these kinds are linked [here](https://www.statisticshowto.com/probability-and-statistics/types-of-variables/)\n",
        "\n",
        "#### Levels of Measurement \n",
        "- Nominal -  names \n",
        "- Ordinal -  categories in scale e.g. ranking\n",
        "- Interval -  comparison between the numerical differences are meaningful but not the ratio of the measurements\n",
        "- Ratio - one that affects or influences another variable\n",
        "\n",
        "----\n",
        "\n",
        "### Sampling Techniques \n",
        "In determining the sample size- typically we use samples of the population and not the population itsel because of the tremendous cost of in doing so. Instead, we rely on several techniques of sampling to get the best approximation of the behavior (or the trends) that are manifested by our population. \n",
        "\n",
        "To determine the *sufficient* sample size from a given population, the **Slovin's Formula** is usually used which is defined as follows: $$n= \\frac{N}{1+Ne^2}$$\n",
        "\n",
        "where $n$ is for the sample size, $N$  for population size, and $e$ for the margin of error. \n",
        "\n",
        "On that note, here are the basic kinds of sampling techniques. \n",
        "<!-- explain with illustrations and examples-->\n",
        "\n",
        "1. Simple Random Sampling \n",
        "2. Systematic Sampling\n",
        "3. Stratified Sampling\n",
        "4. Cluster Sampling \n",
        "\n",
        "It is important to note that these techniques are done relative to the study (or experiment) that you are working on. Hence, there are best practices (or techniques) for investigating different events for different instances. A more extensive list of sampling techniques is linked [here](https://en.wikipedia.org/wiki/Sampling_(statistics)"
      ]
    },
    {
      "cell_type": "markdown",
      "metadata": {
        "id": "x4_6pNaqNQJi"
      },
      "source": [
        "## Data Presentation \n",
        "\n",
        "### Constructing Frequency Distribution Table\n",
        "\n",
        "### Basic Data Visualization"
      ]
    },
    {
      "cell_type": "code",
      "metadata": {
        "id": "g8XdiKktNrgZ"
      },
      "source": [
        "# visualizing data using matplotlib"
      ],
      "execution_count": null,
      "outputs": []
    },
    {
      "cell_type": "markdown",
      "metadata": {
        "id": "gfsNtr40Nr-P"
      },
      "source": [
        "## Measure of Central Tendencies\n",
        "The centrla tendency of a distribution pertains to the typical value for a [probability distribution](https://en.wikipedia.org/wiki/Probability_distribution). The most common measures of central tendencies are the arithmetic mean, median, and the mode which we shall discuss relative to the kinds of data that we are working on i.e. ungrouped and grouped data. \n",
        "\n",
        "Measures of central tendency ought to give us a single value that represents the average of values for all the outcomes of your data set. \n",
        "\n",
        "----\n",
        "\n",
        "### Ungrouped Data \n",
        "\n",
        "#### Mean\n",
        "\n",
        "\n",
        "#### Median\n",
        "\n",
        "#### Mode \n",
        "\n",
        "### Grouped Data "
      ]
    }
  ]
}