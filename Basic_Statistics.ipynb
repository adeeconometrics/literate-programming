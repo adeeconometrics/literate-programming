{
  "nbformat": 4,
  "nbformat_minor": 0,
  "metadata": {
    "colab": {
      "name": "Basic Statistics.ipynb",
      "provenance": [],
      "authorship_tag": "ABX9TyMr2QV3iGihnHUJnVgVc9XL",
      "include_colab_link": true
    },
    "kernelspec": {
      "name": "python3",
      "display_name": "Python 3"
    }
  },
  "cells": [
    {
      "cell_type": "markdown",
      "metadata": {
        "id": "view-in-github",
        "colab_type": "text"
      },
      "source": [
        "<a href=\"https://colab.research.google.com/github/adeeconometrics/literate-programming/blob/main/Basic_Statistics.ipynb\" target=\"_parent\"><img src=\"https://colab.research.google.com/assets/colab-badge.svg\" alt=\"Open In Colab\"/></a>"
      ]
    },
    {
      "cell_type": "markdown",
      "metadata": {
        "id": "FCcLEAja1UVa"
      },
      "source": [
        "# Basic Statistics and Simulations\n",
        "\n",
        "---- \n",
        "## Contents\n",
        "- Basic Concepts and Definitions\n",
        "    - Data and Variables \n",
        "    - Sampling Tecniques\n",
        "- Data Presentation\n",
        "    - Constructing Frequency Distribution Table\n",
        "    - Basic Data Visualization\n",
        "- Measures of Central Tendency\n",
        "    - Ungrouped Data \n",
        "    - Grouped Data \n",
        "- Measures of Dispersion, Positions, and Shape\n",
        "    - Dispersion\n",
        "    - Position\n",
        "    - Shape\n",
        "- The Normal Distribution\n",
        "    - Definitions and Properties \n",
        "    - Concepts behind: Integrals\n",
        "    - Applications"
      ]
    },
    {
      "cell_type": "code",
      "metadata": {
        "id": "euJc3CH11QTC"
      },
      "source": [
        ""
      ],
      "execution_count": null,
      "outputs": []
    },
    {
      "cell_type": "markdown",
      "metadata": {
        "id": "m07ueB6aG1_P"
      },
      "source": [
        "## Introduction\n",
        "*The processing of statistical information has a long history that extends back to the beginning of mankind. - R.E. Walpole, Introduction to Statistics 3rd ediction*\n",
        "\n",
        "Data processing and using descriptive methods to retrieve relevant information have been used to manage different sorts of events such as taxes, tallying voting scores, wars and so on. Today, thanks to the development of probability theory, these mere descriptions can be extended to deal uncertain events such as decision-making and forecasting, and extract relevant features which we can generalize under some sufficient amount of collected data.\n",
        "\n",
        "\n",
        "In that note, there are two main departments of statistics:(1) descriptive statistics which merely describes some feature about the data it is usually composed with those methods concerned with collecting and describing a set of data so as to lead to a meaningful information, and (2) inferential statistics which comprises those methods concerned with the analysis of a subset of data leading to **predictions** (or inferences) about the entire set of data. \n",
        "\n",
        "As you may wonder, the generalizations associated with statistical inferences are *always* subject to uncertainties. In dealing with such *uncertain* events, we use our understanding of probability theory (which is a subject for a separate discussion).\n",
        "\n",
        "In this notebook, we will explore how to implement these concepts and bring them into practice. \n",
        "\n",
        "\n",
        "<!-- the format is as follows: concept, formula, worked problem, solution using Python (this should explain the process algorithmically and not hide some details)-->\n",
        "\n",
        "## Problems for Statisticians\n",
        "<!-- this assumption makes it more fun and engaging, shoudl we include this or not?-->\n",
        "\n",
        "Although this notebook is not exclusively made for a statistician, it is helpful to imagine ourselves as practitioners of statistics and emphathize to the problems faced by statisticians. \n",
        "\n",
        "Statistical analysis provide us the power to test claims or assumptions and subject them into the light of finding *validity*. There is an intellectual discourse that talk about the rigour of this subject, however, we will not adress those philosophical issues in this notebook. \n",
        "\n",
        "But how do we test different statistical tests and compare them of each other? Does sophisticated statistical method guarantee a stronger result in a way that is coherent with our understanding of the world? \n",
        "\n",
        "<!-- should you further this discussion? -->\n",
        "----\n",
        "\n",
        "## Basic Concepts and Definitions \n",
        "\n",
        "Before we further our discussion, it is important to ground ourselves with some set of conceptual definition of terms. Here are the list of the basic concepts that we shall beign with:\n",
        "\n",
        "- Variable - a characteristic or attribute that can assume different values \n",
        "- Data - the value of the variable \n",
        "- Random Data - value of the variables that are determined by chance \n",
        "- Data set - a collection of data values\n",
        "- Data value (or datum) - each value in the data set\n",
        "- Population - all subjects that are being studied \n",
        "    - Parameter -  numerical summary or any measurement coming from a **population**\n",
        "- Sample - group of subject selected from a **population**\n",
        "    - Statistic - measure of the sample\n",
        "\n",
        "### Data and Variables \n",
        "Here we define the basic types (or forms) that our data or variables can embody.\n",
        "\n",
        "- Qualitative -  a broad category for any variable that can’t be counted (i.e. has no numerical value). Nominal and ordinal variables fall under this umbrella term.\n",
        "\n",
        "- Quantitaitve - A broad category that includes any variable that can be counted, or has a numerical value associated with it. Examples of variables that fall into this category include discrete variables and ratio variables.\n",
        "\n",
        "- Dependent variable -  the outcome of an experiment. As you change the independent variable, you watch what happens to the dependent variable.\n",
        "\n",
        "- Independent variable -  a variable that is not affected by anything that you, the researcher, does. Usually plotted on the x-axis.\n",
        "\n",
        "Remark: more extensive list these kinds are linked [here](https://www.statisticshowto.com/probability-and-statistics/types-of-variables/)\n",
        "\n",
        "#### Levels of Measurement \n",
        "- Nominal -  names \n",
        "- Ordinal -  categories in scale e.g. ranking\n",
        "- Interval -  comparison between the numerical differences are meaningful but not the ratio of the measurements\n",
        "- Ratio - one that affects or influences another variable\n",
        "\n",
        "----\n",
        "### Data Collection\n",
        "*Get the Facts first, and then you can distort them as much as you please. - M. Twain*\n",
        "\n",
        "We may define data as the collection of facts, and statistics that are used for reference of analysis. \n",
        "\n",
        "#### Methods of Data Collection\n",
        "1. Direct Method\n",
        "\n",
        "2. Indirect Method \n",
        "\n",
        "3. Registration Method\n",
        "\n",
        "4. Experimental Method\n",
        "\n",
        "<!-- where can we find or collect some data? Link some database.-->\n",
        "\n",
        "### Sampling Techniques \n",
        "In determining the sample size- typically we use samples of the population and not the population itsel because of the tremendous cost of in doing so. Instead, we rely on several techniques of sampling to get the best approximation of the behavior (or the trends) that are manifested by our population. \n",
        "\n",
        "To determine the *sufficient* sample size from a given population, the **Slovin's Formula** is usually used which is defined as follows: $$n= \\frac{N}{1+Ne^2}$$\n",
        "\n",
        "where $n$ is for the sample size, $N$  for population size, and $e$ for the margin of error. \n",
        "\n",
        "On that note, here are the basic kinds of sampling techniques. \n",
        "<!-- explain with illustrations and examples-->\n",
        "\n",
        "1. Simple Random Sampling \n",
        "2. Systematic Sampling\n",
        "3. Stratified Sampling\n",
        "4. Cluster Sampling \n",
        "\n",
        "It is important to note that these techniques are done relative to the study (or experiment) that you are working on. Hence, there are best practices (or techniques) for investigating different events for different instances. A more extensive list of sampling techniques is linked [here](https://en.wikipedia.org/wiki/Sampling_(statistics)"
      ]
    },
    {
      "cell_type": "code",
      "metadata": {
        "id": "Km_qgcIJrpVw"
      },
      "source": [
        "# applying Slovin's Formula in Python\n",
        "Sample_size = lambda population_size, error: [population_size/(1+population_size*(error**2))]"
      ],
      "execution_count": null,
      "outputs": []
    },
    {
      "cell_type": "markdown",
      "metadata": {
        "id": "x4_6pNaqNQJi"
      },
      "source": [
        "## Data Presentation \n",
        "\n",
        "### Constructing Frequency Distribution Table\n",
        "\n",
        "### Basic Data Visualization"
      ]
    },
    {
      "cell_type": "code",
      "metadata": {
        "id": "g8XdiKktNrgZ"
      },
      "source": [
        "# visualizing data using matplotlib"
      ],
      "execution_count": null,
      "outputs": []
    },
    {
      "cell_type": "markdown",
      "metadata": {
        "id": "gfsNtr40Nr-P"
      },
      "source": [
        "# Statistical Measures of Data \n",
        "*A variety of Statisitcal Measures are employed to summarize and describe sets of data. - R.E. Walpole*\n",
        "\n",
        "## Measure of Central Tendencies\n",
        "The centrla tendency of a distribution pertains to the typical value for a [probability distribution](https://en.wikipedia.org/wiki/Probability_distribution). The most common measures of central tendencies are the arithmetic mean, median, and the mode which we shall discuss relative to the kinds of data that we are working on i.e. ungrouped and grouped data. \n",
        "\n",
        "Measures of central tendency ought to give us a single value that represents the average of values for all the outcomes of your data set. \n",
        "\n",
        "----\n",
        "Before we get the measures of our central tendency, it is important that we take note of the *data structure* of our data set. We begin by asking ourselves the question: are the data grouped or not? Once we get the structure of our data, we can perform the following operations to get what we desire on our data set. \n",
        "\n",
        "### Ungrouped Data \n",
        "Can be represented as a list of data, or arrays of data. Ungrouped data is the data you first gather from an experiment or study. The data is raw — that is, not yet sorted into categories, classified. An ungrouped set of data is basically a list of numbers.\n",
        "\n",
        "#### Mean\n",
        "\n",
        "- **Population mean**. If the set of data $x_1,x_2,...,x_n$, not necessarily all distinct represents a finite population of size $N$, then the population mean is given by\n",
        "$$\\mu = \\frac{1}{N} \\sum_{i=1}^{N} x_i$$\n",
        "\n",
        "<!-- explain in terms of code what this means-->\n",
        "\n",
        "- **Sample mean**. If the set of data $x_1,x_2,...,x_n$, not necessarily all distinct represents, represents a finit sample of size $n$, then the sample mean is given by \n",
        "$$\\bar{x}= \\frac{1}{n} \\sum_{i=1}^{n} x_i$$\n",
        "\n",
        "#### Median\n",
        "The median of a set is of observations sorted in increasing order of magnitude is the middle value -- when the number of obsvervations is odd the middle value will be the median, otherwise the arithmetic mean of two middle values shall be the median (in the case where the set of observations are even).\n",
        "\n",
        "- if even $\\tilde{x} = \\frac{x_n + x_{n+1}}{2}$\n",
        "- if odd $\\tilde{x} = x_{\\frac{n+1}{2}}$\n",
        "\n",
        "#### Mode \n",
        "The mode of a set of observations is the value which occurs most often or the value that has the gratest amount of frequency. \n",
        "\n",
        "----\n",
        "\n",
        "### Grouped Data \n",
        "Some structure of data sets are grouped by some range of numbers. Or categorized in some orders of magnitude. For such cases, the following versions for measuring (approximating) the central tendencies are listed as follows.\n",
        "\n",
        "<!-- how do we group data and tally them, describe briefly -->\n",
        "\n",
        "#### Mean\n",
        "$$\\bar{x} = \\frac{1}{n} \\sum f x_m$$\n",
        "Where: \n",
        "\n",
        "> $f_m:= \\text{frequency of the median class}$\n",
        "\n",
        "> $x_i:= \\text{class mark}$\n",
        "\n",
        "> $n:= \\text{total number of observations}$\n",
        "\n",
        "\n",
        "#### Median\n",
        "\n",
        "$$\\tilde{x} = L+ \\left(  \\frac{\\frac{n}{2} - s_b}{f_m} \\right) i$$\n",
        "\n",
        "Where:\n",
        "\n",
        "> $f_m:= \\text{frequency of the median class}$ \n",
        "\n",
        "> $x_i:= \\text{class mark}$\n",
        "\n",
        "> $n:= \\text{total number of observations}$\n",
        "\n",
        "> $L:= \\text{lower boundary of the median class}$\n",
        "\n",
        "> $S_b=<  \\text{cf of the class before the median class}$\n",
        "\n",
        "> $i :=\\text{size of the class interval}$\n",
        "\n",
        "#### Mode\n",
        "\n",
        "$$\\hat{x}= L \\left( \\frac{\\Delta_1}{\\Delta_1 +\\Delta_2} \\right)i$$\n",
        "\n",
        "Where:\n",
        "> $\\Delta_1:= \\text{difference in the frequencies of the modal class and the next lower class}$\n",
        "\n",
        "> $\\Delta_2:= \\text{difference in the frequencies of the modal class and the next higher class}$\n",
        "\n",
        ">$i = \\text{size of class interval}$\n",
        "\n",
        ">$L:=\\text{lower boundary of the modal class}$"
      ]
    },
    {
      "cell_type": "code",
      "metadata": {
        "id": "kJ9mxMiphMgM"
      },
      "source": [
        "# measures of central tendencies "
      ],
      "execution_count": null,
      "outputs": []
    },
    {
      "cell_type": "markdown",
      "metadata": {
        "id": "cfWI34oUhNUZ"
      },
      "source": [
        "## Measures of Dispersion, Position, and Shape\n",
        "----\n",
        "### Measures of Dispersion\n",
        "Measures of dispersion (or variability) tells us the average distance of each observation from the *center of the distribution*; they summarize and describe the extent to which scores in a distribution differ from each other. \n",
        "\n",
        "#### Measures of Absolute Dispersion\n",
        "- **Range** is the difference between the highest and the lowes values; the simplest but most unreliable measure of dispersion. Range is given by: $range = HV- LV$ where HV is the highest vaue, and LV is the lowest value. \n",
        "\n",
        "- **Variance** is the average of the squared deviation of each score from the **mean**.\n",
        "    - Ungrouped data \n",
        "        - Population Variance \n",
        "        $$\\sigma ^2=\\frac{1}{N} \\sum f(x- \\mu)^2$$\n",
        "\n",
        "        - Sample Variance \n",
        "        $$s^2 = \\frac{1}{n-1} \\sum (x- \\bar{x})^2$$\n",
        "\n",
        "    - Grouped data \n",
        "        - Population Variance \n",
        "        $$\\sigma ^2=\\frac{1}{N} \\sum f(x_m- \\mu)^2$$\n",
        "\n",
        "        - Sample Variance \n",
        "        $$s^2 = \\frac{1}{n-1} \\sum (x_m- \\bar{x})^2 \\text{or } s^2 = \\frac{n \\sum fx^2 - (\\sum fx)^2}{n(n-1)}$$\n",
        "\n",
        "- **Standard Deviation** is the square root of the variance\n",
        "<!-- demonstrate this by giving the code -->\n",
        "    - Ungrouped data \n",
        "        - Population Standard Deviation\n",
        "        $$\\sigma= \\sqrt{\\frac{1}{N} \\sum f(x- \\mu)^2}$$\n",
        "\n",
        "        - Sample Standard Deivation\n",
        "        $$s = \\sqrt{\\frac{1}{n-1} \\sum (x- \\bar{x})^2} $$\n",
        "\n",
        "    - Grouped data \n",
        "        - Population Standard Deviation\n",
        "        $$\\sigma =\\sqrt{\\frac{1}{N} \\sum f(x_m- \\mu)^2}$$\n",
        "\n",
        "        - Sample Standard Deivation\n",
        "        $$s = \\sqrt{\\frac{1}{n-1} \\sum (x_m- \\bar{x})^2} $$\n",
        "    \n",
        "----\n",
        "#### Measures of Relative Dispersion\n",
        "\n",
        "**Coefficient of Variation** is the ratio of the standard deviation to the mean; used to compair variability of two or more sets of data even when are they expressed in different units: $cv = \\frac{\\sigma}{\\bar{x}}$\n",
        "\n",
        "**Chebyshev's Theorem**The fraction of any set of numbers lying within $k$ standard deviations of those numbers of the mean of those numbers is at least \n",
        "$1 - \\frac{1}{k^2}$.\n"
      ]
    },
    {
      "cell_type": "code",
      "metadata": {
        "id": "GdPnzuB8rfzD"
      },
      "source": [
        "# measures of dispersion"
      ],
      "execution_count": null,
      "outputs": []
    },
    {
      "cell_type": "markdown",
      "metadata": {
        "id": "-s3uz4lv0lQO"
      },
      "source": [
        "### Measures of Position\n",
        "The measures of position are used for locating a position of non-central piece of data relative to the entire dataset\n",
        "\n",
        "- **z-score** measures how many standard deviation an observation is above or below the mean. \n",
        "    - Population: $z= \\frac{x- \\mu}{\\sigma}$\n",
        "    - Sample: $z= \\frac{x-\\bar{x}}{s}$\n",
        "\n",
        "- **Fractiles** are a specific fraction or percentage of the observation given in a set must fall. Since the definition other measures may be defined in terms of percentiles, we will leave our formulas for computing the percentile and a conversion formula for converting percentiles to Quartiles and Deciles. \n",
        "    - Percentiles \n",
        "        - Ungrouped \n",
        "            1. Arrange the data from lowest to highest\n",
        "            2. Substitute into the formula $c=\\frac{np}{100}$ where $n$ = total number of values and $p$ = percentile rank.\n",
        "            3. If $c$ is a whole number, use the value halfway between the c-th and $(c+1)$st values when coming up from the lowest value; else round up to the next whole number [starting at the lowest value, count over to the number that corresponds to the rounded up value].\n",
        "        - Grouped. The k-th percentile on the class interval with at least $\\frac{kn}{100}$ cumulative frequency. The k-th percentile is given by \n",
        "        $$P_k = L + \\frac{\\left( \\frac{kn}{100} -S_b \\right) i }{f_p}$$ \n",
        "        Where:\n",
        "            - $f_p$ = frequency of the percentile class \n",
        "            - $n$ =  total number of observations\n",
        "            - $i$ = size of the class interval\n",
        "            - $L$ = lower boundary of the percentile class\n",
        "            - $S_b$ =< cumulative frequency of the class before percentile class \n",
        "    - Quartiles: $Q_1 = P_{25}$\n",
        "    - Deciles: $D_1 = P_{10}$ "
      ]
    },
    {
      "cell_type": "code",
      "metadata": {
        "id": "gYWgOpbNuW5z"
      },
      "source": [
        "# determining the measures of position"
      ],
      "execution_count": null,
      "outputs": []
    },
    {
      "cell_type": "markdown",
      "metadata": {
        "id": "SN4rgCYewI-0"
      },
      "source": [
        "### Measures of Shapes \n",
        " **Skewness** refers to the degree of symmetry and asymmetry of a distribution; the normal distribution is bell-shaped and symmetric through the mean: it has the property of $\\text{mean = median = mode}$.\n",
        "<!-- Insert illustration-->\n",
        "\n",
        "- **negatively skewed** - the case where the mean is less than the median; we say that *the mass of the distribution is concentrated on the right of the figure*\n",
        "- **positively skewed** - the case where the mean is greater than median; we say that *the mass of the distribution is concentrated on the left of the figure*\n",
        "\n",
        "**Computing for Skewness**\n",
        "$$SK = \\frac{3(\\bar{x} - \\tilde{x})}{s} | s\\; \\text{= standard deviation}$$\n",
        "\n",
        "-Interpretation\n",
        "    - if $SK=0$, the distribution is *normal*\n",
        "    - if $SK<0$, the distribution is skewed to the *left*\n",
        "    - if $SK>0$, the distribution is skewed to the *right*\n",
        "\n",
        "\n",
        "**Kurtosis** measures the peakness of the distribution; defines how heavily the tails of a distribution differ from the tails of a normal distribution. \n",
        "<!-- Insert illustration-->\n",
        "- Mesokurtic - means a normal distribution\n",
        "- Leptokurtic -  means that the distribution is more peaked than the normal distribution\n",
        "- Platykurtic -  means that the distribution is flatter than the normal distribution\n",
        "\n",
        "**Computing for Kurtosis**\n",
        "- Ungrouped\n",
        "$$Ku=\\frac{\\sum (x- \\tilde{x})^4}{ns^4}$$\n",
        "- Grouped \n",
        "$$Ku=\\frac{\\sum (x_m- \\tilde{x})^4}{ns^4}$$\n",
        "\n",
        "Interpretation\n",
        "- if $Ku=3$, the distribution is *mesokurtic*\n",
        "- if $Ku <3$, the distribution is *leptokurtic*\n",
        "- if $Ku>3$, the distribution is *platykurtic*"
      ]
    },
    {
      "cell_type": "code",
      "metadata": {
        "id": "VpVZvIAD9rCp"
      },
      "source": [
        "# checking skewness and kurtosis of a distribution"
      ],
      "execution_count": null,
      "outputs": []
    }
  ]
}