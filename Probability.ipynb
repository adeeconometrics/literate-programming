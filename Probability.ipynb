{
  "nbformat": 4,
  "nbformat_minor": 0,
  "metadata": {
    "colab": {
      "name": "Probability.ipynb",
      "provenance": [],
      "authorship_tag": "ABX9TyPLVOsMt7mk0TtDVE9lBk1E",
      "include_colab_link": true
    },
    "kernelspec": {
      "name": "python3",
      "display_name": "Python 3"
    }
  },
  "cells": [
    {
      "cell_type": "markdown",
      "metadata": {
        "id": "view-in-github",
        "colab_type": "text"
      },
      "source": [
        "<a href=\"https://colab.research.google.com/github/adeeconometrics/literate-programming/blob/main/Probability.ipynb\" target=\"_parent\"><img src=\"https://colab.research.google.com/assets/colab-badge.svg\" alt=\"Open In Colab\"/></a>"
      ]
    },
    {
      "cell_type": "markdown",
      "metadata": {
        "id": "ZlHV43RnBXXl"
      },
      "source": [
        "#Probability & Simulations\n",
        "In this notebook, we will explore  some interesting concepts introduced in Probability, together with simple simulations to interact with these concepts.\n",
        "\n",
        "----\n",
        "## Introduction\n",
        "We begin our discussion by introducing some elementary concepts in Probability. It is important to note that the language of probability theory can be express using the language of Sets in [Set theory](https://brilliant.org/wiki/set-theory/#:~:text=Set%20theory%20is%20a%20branch,%5C%7D%20%7B%E2%99%A1%2C%E2%99%A0%7D.). \n",
        "Here we list some basic terminologies to further our discussion. \n",
        "\n",
        "- Experiments - the process of observing a phenomemon that has variations in its outcomes\n",
        "- Outcome - a result from a single trial of an experiment\n",
        "- Sample Space - the set of all possible outcomes of an experiment, we denote this, by convention, as $S$.\n",
        "    - Event - a collection of some outcome from an experiment; a subset of the sample space\n",
        "        - simple event - an event that contains one element.\n",
        "        - compound event - a set that can be espressed as a *union* of simple events. \n",
        "    - Null space (or empty space) - a subset of the sample space that contains no elements, we denote this by $\\emptyset$.\n",
        "\n",
        "At this point, we shall introduce some basic operations we can do with these concepts. Later, we shall see a prototypical implementation of these operations in Python. \n",
        "- Union ($A \\cup B$): Contains both elements $A$ and $B$.\n",
        "    - E.g. Let $A:=\\{1,2,3\\}$ and $B:=\\{3,4,5\\}$, then $A\\cup B=\\{1,2,3,4,5\\}$\n",
        "\n",
        "- Intersection ($A\\cap B$): Contains elements that are common to set $A$ and $B$.\n",
        "    - E.g. Let $A:=\\{1,2,3\\}$ and $B:=\\{3,4,5\\}$, then $A\\cap B=\\{3\\}$\n",
        "\n",
        "- Complementation ($A^C$): Contains elements not in $A$.\n",
        "    - E.g. Let $S:=\\{ s\\in \\mathbb{N}| 1\\leq s \\leq 10\\}$, and $A:=\\{1,2,3,4,5\\}$, then $A^C=\\{6,7,8,9,10\\}$\n",
        "    \n",
        "We can think of these operations as set-constructors which lists down a new set of elements. "
      ]
    },
    {
      "cell_type": "code",
      "metadata": {
        "id": "IsT1DglNBM0r"
      },
      "source": [
        "# set a list and do the above operations \n",
        "# search how to implement sets in Python"
      ],
      "execution_count": null,
      "outputs": []
    },
    {
      "cell_type": "markdown",
      "metadata": {
        "id": "DTv9cKPcG6Jl"
      },
      "source": [
        "## Conceptions of Probability\n",
        "The study of Probability can be an unsettling course, especially if you were used to deductive reasoning like classical logic, or geometry. But probability rewards us to deal with uncertain events and formally reason about them. Probability has been involved with lots of controversies on the matter regarding its principles and schools of thoughts. The formalisation of the field was achieved by three primary axioms called the [Kolmogorov Axioms](https://bityl.co/45fQ). \n",
        "\n",
        "This notebook will not introduce the axiomatic version of probability theory, instead it shall provide us an intuitive understanding, as well as familiarity with the concepts tailored in probability theory. To get back with the axiomatic foundations, it is sufficient, given the purpose of this notebook, to think about the Kolmogorov axioms as the concepts that glues probability as a formal piece of mathematics were one can use logic to deal with uncertain events.  \n",
        "\n",
        "For this section, I shall introduce you to some assertions on probabilities. First, what do we mean by probability? **Probability pertains to the likelihood of occurrence of an even** We can assert probability in three ways:\n",
        "1. Subjective Probability - which takes a wild guess about the chances of an occurrence e.g. beliefs, opinion, educated guess, intuition, etc. \n",
        "2. Classical Probability -  are applied when all possible outcomes are *equally likely to happen*\n",
        "3. Empirical Probability -  are assigned based on the prior knowledge of events i.e. based from research experiments\n",
        "\n",
        "Each of these has distinct features which I discussed further in this [blog post](https://bityl.co/45fx). \n",
        "\n",
        "----\n",
        "## Counting Principles, Permutations, and Combinations\n",
        "\n",
        "### Counting: Multiplication Rule\n",
        " If an operation (or relationships) can be perfomed (or combined) in $n_1$ ways, and for each of these, a second operation can be performed in $n_2$ ways, then the result of combining the two operations is: $n_1 \\times n_2$. \n",
        "\n",
        " Note: The generalization of this rule is achieved by adding subsequent operations $n_1, ..., n_k$ which translates to $n_1 \\times, ..., \\times n_k$ operations. \n",
        "\n",
        "<!--\n",
        "FROM MULTIPLICATION TO FACTORIALS, WHY IT MAKES SENSE? GIVE MORE EXAMPLES. \n",
        "--> \n",
        "\n",
        " ### Permutation and Combinations\n",
        " It is important to realize that permutation concerns about arrangements of sets (with order) while combinations does not regard order. These concepts should be distinguished first for it can be confusing from the everyday use of the term *combination* what we really mean is *permutation*. For instance, the combination of our password, taken from the meaning we ought to ascribe in this context, can imply that the orders $1,2,3 \\equiv 3,2,1 \\equiv 2,1,3 ...$, In other words, the correct combination of numbers regardless of their order shall be deemed as valid. \n",
        "\n",
        "  As we mentioned above, **permutation** pertains to an ordered arrangement of all part of a set of objects. There are different ways we can make sense of permutations, but more generally, the formula for permutations is expressed as $P_{n}^{r} = \\frac{n!}{(n-r)!}$\n",
        "\n",
        "  We shall describe some cases where different versions of the permutations formula are applied for a given example. \n",
        "  - How many distinct permutations can be made from the letters of the word \"Mathematics\".\n",
        "  - How many ways can a caravan of 10 covered wagons from U.S. be arranged in a cricle?\n",
        "  - A college plays 10 football games during a season. In how many ways can the team end the season with 5 wins, 2 loses and 3 ties?\n",
        "\n",
        "-----"
      ]
    },
    {
      "cell_type": "code",
      "metadata": {
        "id": "13aWUYtRVZGi"
      },
      "source": [
        "import math \n",
        "from functools import reduce\n",
        "\n",
        "f = math.factorial \n",
        "x=input()\n",
        "f(x)\n",
        "\n",
        "def permutation(n,r):\n",
        "    return int(f(n)/(f(n-r)))\n",
        "\n",
        "def combination(n,r):\n",
        "    return int(f(n)(f(n-r)*f(r)))\n",
        "# c=lambda x,y: f(x)/(f(x-y)*f(y))\n",
        "\n",
        "def circle(n):\n",
        "    return int(f(n-1))\n",
        "\n",
        "def permutation_cetegories(n,r):\n",
        "    bottom = reduce((lambda x,y: f(x)*f(y)), r)\n",
        "    return int(f(n)/bottom)"
      ],
      "execution_count": null,
      "outputs": []
    },
    {
      "cell_type": "markdown",
      "metadata": {
        "id": "VYGN5W3btM53"
      },
      "source": [
        "## Classical Probability \n",
        "Before we further this discussion, it is important to note that the main assumption make for modelling events in classical probability are that which follows an equal distribution. That means for every element in the sample space, we get an equal amoun of probabilities per element. \n",
        "\n",
        "$$P(A_1)=P(A_2)$$\n",
        "where $A_1, A_2 \\in S$.\n",
        "\n",
        "----\n",
        "### Properties of Classical Probaiblities:\n",
        "- $0 \\leq P(E) \\leq 1, P(\\emptyset) =0, P(S)=1$\n",
        "- If $S:=\\{x_1,...,x_k\\}$, then $P(\\{x_1 \\})=\\frac{1}{k}$ and $\\sum_{i=1}^{k} P(\\{x_i\\})=1$\n"
      ]
    },
    {
      "cell_type": "code",
      "metadata": {
        "id": "o-OE6cXH9dMR"
      },
      "source": [
        ""
      ],
      "execution_count": null,
      "outputs": []
    },
    {
      "cell_type": "markdown",
      "metadata": {
        "id": "kbJRkGeEuVHw"
      },
      "source": [
        "## Plans on this notebook:\n",
        "- illustrate counting principle \n",
        "- illustrate conditional, independent, and joint probabilities via examples \n",
        "- some worked exercises with experimental data "
      ]
    }
  ]
}