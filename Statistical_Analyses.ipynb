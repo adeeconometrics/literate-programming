{
  "nbformat": 4,
  "nbformat_minor": 0,
  "metadata": {
    "colab": {
      "name": "Statistical Analyses.ipynb",
      "provenance": [],
      "authorship_tag": "ABX9TyP/6mMQJ8xYgpobi94pMtwM",
      "include_colab_link": true
    },
    "kernelspec": {
      "name": "python3",
      "display_name": "Python 3"
    }
  },
  "cells": [
    {
      "cell_type": "markdown",
      "metadata": {
        "id": "view-in-github",
        "colab_type": "text"
      },
      "source": [
        "<a href=\"https://colab.research.google.com/github/adeeconometrics/literate-programming/blob/main/Statistical_Analyses.ipynb\" target=\"_parent\"><img src=\"https://colab.research.google.com/assets/colab-badge.svg\" alt=\"Open In Colab\"/></a>"
      ]
    },
    {
      "cell_type": "markdown",
      "metadata": {
        "id": "qTD0CsX0x2EB"
      },
      "source": [
        "#Statistical Analyses\n",
        "By Dave Arthur D. Amiana\n",
        "\n",
        "\n",
        "This notebook shall discuss some of the most prominent statistical methods, their assumptions and applications in a research setting. The code implementation in [SciPy(scipy.stats)](https://docs.scipy.org/doc/scipy/reference/stats.html) is also documented in this notebook. It shall serve as a guide for understanding Statistical Methods and apply them right-away. \n",
        "\n",
        "<!--\n",
        "About this Notebook:\n",
        "The notebook should contain\n",
        "- illustrative examples\n",
        "- explanation of concepts\n",
        "    - straight forward (proofs should be discussed seperately but it should be clear why the formulas work either by example or informal reasoning)\n",
        "    - offer links if you think the concept is beyond or too broad to be discussed and could make another set of discussion just for its own\n",
        "- application of concepts\n",
        "-->\n",
        "\n",
        "\n",
        "### About SciPy\n",
        "SciPy  is a Python-based ecosystem of open-source software for mathematics, science, and engineering. It provides an array of computatioanl tools written in [C](https://www.tutorialspoint.com/cprogramming/index.htm) and [Fortran](https://www.tutorialspoint.com/fortran/fortran_overview.htm) for high-performance codebase and interfaced with a python package. To install SciPy if you already have Python installed in your system, type: ``\n",
        "python -m pip install --user numpy scipy matplotlib ipython jupyter pandas sympy nose``. in your command line interface (CLI). For other cases, [refer to the documation](https://www.scipy.org/install.html).\n",
        "\n",
        "You can explore a myriad of scientific libraries of advanced computation [here](https://docs.scipy.org). \n",
        "\n",
        "----\n",
        "##Content\n",
        "\n",
        "- Probability Distributions\n",
        "    - Normal Distribution\n",
        "    - Binomial distribution\n",
        "    - T-distribution\n",
        "    - Chi square - distribution\n",
        "    - F Distribution\n",
        "\n",
        "- Parametric Statistics\n",
        "    - T-test\n",
        "        - One Sample T-Test\n",
        "        - Two Sample T-Test\n",
        "        - Paired T-test\n",
        "    - Z-test\n",
        "        - One Sample Z-test\n",
        "        - Two Sample Z-test\n",
        "    - Chi square- test\n",
        "    - Levene's Test\n",
        "    - ANOVA\n",
        "        - One-way\n",
        "        - Two-way\n",
        "    - Shapiro-Wilk test\n",
        "\n",
        "<!-- Non-parametric Statistics-->\n"
      ]
    },
    {
      "cell_type": "code",
      "metadata": {
        "id": "-NI491_Mxvc2"
      },
      "source": [
        ""
      ],
      "execution_count": null,
      "outputs": []
    },
    {
      "cell_type": "markdown",
      "metadata": {
        "id": "i3FUsckxULaL"
      },
      "source": [
        "## Probability Distrubutions\n",
        "\n",
        "A probability distribution is a mathematical function that outputs the possibilities of occurrence of different possible outcomes for an experiment; It is a mathematical description of a random phenomenon in terms of its sample space and the probabilities of events (subsets of the sample space).\n",
        "\n",
        "The sample space, often denoted by $\\Omega$ , is the set of all possible outcomes of a random phenomenon being observed; it may be any set: a set of real numbers, a set of vectors, a set of arbitrary non-numerical values, etc. \n",
        "\n",
        "To define probability distributions for the specific case of random variables (so the sample space can be seen as a numeric set), it is common to distinguish between **discrete** and **continuous** random variables.\n",
        "\n",
        "### General Definition \n",
        "Since probability distributions can be has alternative definitions, one of the most general descriptions, which applies for continuous and discrete variables, is by means of a probability function ${\\displaystyle P\\colon {\\mathcal {A}}\\rightarrow \\mathbb {R} } $ whose input space ${\\mathcal {A}}$ is related to the sample space, and gives a probability as its output.\n",
        "\n",
        "<!-- do I elaboration-->\n",
        "It is important to note that the probability function only characterize a probability distribution if if satisfied the [Kolmogorov axioms](), as follows:\n",
        "1. ${\\displaystyle P(X\\in E)\\geq 0\\;\\forall E\\in {\\mathcal {A}}}$, so the probability is non-negative;\n",
        "\n",
        "2. ${\\displaystyle \\sup _{E\\in {\\mathcal {A}}}P(X\\in E)=1}$, so no probability exceeds 1; and\n",
        "\n",
        "3. ${\\displaystyle P(X\\in \\bigsqcup _{i}E_{i})=\\sum _{i}P(X\\in E_{i})}$ for any disjoint family of sets  $\\{E_{i}\\}$.\n",
        "\n",
        "Probability distributions are generally divided into two classes: (1) Discrete Probability Distribution and (2) Continuous Probability Distribution. \n",
        "\n",
        "A probability distribution whose sample space is one-dimensional (e.g. $\\mathbb{R}$, $\\mathbb{N}$) are called *univariate*, while a distribution whose sample space is a vector space of dimensions more than 1 is called *multivariate.* A univariate distribution gives the probabilities of a single random variable taking on various alternative values; a multivariate distribution (a joint probability distribution) gives the probabilities of a random vector – a list of two or more random variables – taking on various combinations of values. \n",
        "\n",
        "Commonly encountered Univariate Distributions:\n",
        "- [Binomial Distribution](https://en.wikipedia.org/wiki/Binomial_distribution)\n",
        "- [Hypergeometric Distribution](https://en.wikipedia.org/wiki/Hypergeometric_distribution)\n",
        "- [Normal Distribution](https://en.wikipedia.org/wiki/Normal_distribution)\n",
        "- T-Distribution\n",
        "- Chi-square Distribution\n",
        "- F- Distribution\n",
        "\n",
        "Commonly encountered Multivariate Distribution\n",
        "- [Multivariate Normal Distribution](https://en.wikipedia.org/wiki/Multivariate_normal_distribution)\n",
        "\n",
        "### Key Concepts\n",
        "\n",
        "- **Probability Function** - describes the probability ${\\displaystyle P(X\\in E)} $that the event $E$, from the sample space, occurs.\n",
        "\n",
        "Functions for discrete variables\n",
        "\n",
        "- **Probability Mass Function** - function that gives the probability that a discrete random variable is equal to some value.\n",
        "\n",
        "- **Frequency Distribution** - a table that displays the frequency of various outcomes **in a sample**.\n",
        "\n",
        "- **Relative Frequency Distribution** - : a frequency distribution where each value has been divided (normalized) by a number of outcomes in a sample i.e. sample size.\n",
        "\n",
        "- **Discrete Probability Distribution Function** -  general term to indicate the way the total probability of 1 is distributed over **all** various possible outcomes (i.e. over entire population) for discrete random variable.\n",
        "\n",
        "- **Cumulative Distribution Function** -  function evaluating the probability that $X$ will take a value less than or equal to $x$ for a discrete random variable.\n",
        "- **Categorical Distribution** -  for discrete random variables with a finite set of values.\n",
        "\n",
        "Functions for continuous variables\n",
        "\n",
        "- **Probability Density Function** - function whose value at any given sample (or point) in the sample space (the set of possible values taken by the random variable) can be interpreted as providing a relative likelihood that the value of the random variable would equal that sample.\n",
        "\n",
        "- **Continuous Probability Distribution Function** - most often reserved for continuous random variables.\n",
        "\n",
        "- **Cumulative Probability Distribution Function** - function evaluating the probability that $X$ will take a value less than or equal to $x$ for continuous variable.\n",
        "\n",
        "- **Quantile function** - the inverse of the cumulative distribution function. Gives $x$ such that, with probability $q$, $X$ will not exceed $x$.\n",
        "\n",
        "----\n",
        "Basic Terms \n",
        "- Random Variable\n",
        "    - discrete random variable - the value with highest probability\n",
        "    - continuous random variable - a location at which the probability density function has a local peak.\n",
        "\n",
        "- Support - set of values that can be assumed with non-zero probability by the random variable\n",
        "\n",
        "- Tail - the regions close to the bounds of the random variable, if the pmf or pdf are relatively low therein. \n",
        "\n",
        "- Head -  the region where the pmf or pdf is relatively high.\n",
        "\n",
        "- Expected value (or mean) - the weighted average of the possible values, using their probabilities as their weights; or the continuous analog thereof.\n",
        "\n",
        "- Median - the value such that the set of values less than the median, and the set greater than the median, each have probabilities no greater than one-half.\n",
        "\n",
        "- Variance - the second moment of the pmf or pdf about the mean; an important measure of the dispersion of the distribution.\n",
        "\n",
        "- Standard Deviation - the square root of the variance\n",
        "\n",
        "- Symmetry -  a property of some distributions in which the portion of the distribution to the left of a specific value(usually the median) is a mirror image of the portion to its right.\n",
        "\n",
        "- Skewness - a measure of the extent to which a pmf or pdf \"leans\" to one side of its mean. The third standardized moment of the distribution.\n",
        "\n",
        "- Kurtosis - a measure of the \"fatness\" of the tails of a pmf or pdf. The fourth standardized moment of the distribution.\n",
        "\n"
      ]
    },
    {
      "cell_type": "code",
      "metadata": {
        "id": "Dwuf9eMErYI-"
      },
      "source": [
        ""
      ],
      "execution_count": null,
      "outputs": []
    },
    {
      "cell_type": "markdown",
      "metadata": {
        "id": "uivpeaeGHc9R"
      },
      "source": [
        "## The Normal Distribution\n",
        "\n",
        "*The most important continuous probability distribution in the entire field of statistics is the normal distribution - R. Walpole, 2002*\n",
        "\n",
        "The Normal Distribution has some notable properties that which some statistical analysis are predicated upon; we call these group of analyses as *parametric statistics*, the other group that which holds no assumptions with regards to the probabilitic distribution are called *nonparametric statistics*. \n",
        "\n",
        "Here are the notable features of the normal distribution that would be enough to begin our exploration with different hypotheses testing:\n",
        "-  The mean, median, and mode are located at the center of the distribution and are equal to each other;\n",
        "    - the distribution is unimodal\n",
        "- the curve is symmetric about the mean\n",
        "- the curve never touches the x-axis\n",
        "- the total area under a curve is equal to 1.00 or 100%\n",
        "\n",
        "### The Normal Curve \n",
        "The graph of the normal distibution is called the *normal curve*. The mathematical equation of the probability distribution of the normal curve depends on two parameters $\\mu$, the mean and $\\sigma$, the standard deviation. Hence we denote the values of the density function of $X$ by $n(x; \\mu, \\sigma)$. We formalize this definition below. \n",
        "\n",
        "\n",
        "If $X$ is a *normal random variable* with mean $\\mu$ and variance $\\sigma^2$, then the equation of the *normal curve* is \n",
        "\n",
        "$n(x;\\mu, \\sigma)= {\\frac{1}{\\sigma\\sqrt{2\\pi}}}e^{- {\\frac {1}{2}} (\\frac {x-\\mu}{\\sigma})^2}$, for $- \\infty<x< \\infty$\n",
        "\n",
        "Where:\n",
        "- $\\pi = 3.14159...$\n",
        "- $e = 2.71828...$\n",
        "\n",
        "Once $\\mu$ and $\\sigma$ are specified, the normal curve is completely determined.\n",
        "\n",
        "The simplest case of the normal distribution, which we shall cover in this notebook will be the case known as the *standard normal distribution* which is notable for the defining property of the distribution that has $\\mu =0$ and $\\sigma = 1$ adn described by the [probability density function](https://en.wikipedia.org/wiki/Probability_density_function)\n",
        "\n",
        "$${\\displaystyle \\varphi (x)={\\frac {1}{\\sqrt {2\\pi }}}e^{-{\\frac {1}{2}}x^{2}}}$$\n",
        "\n",
        "Here, the factor $1/{\\sqrt {2\\pi }}$ ensures that the total area under the curve $\\varphi (x)$ is equal to one. The factor $1/2$ in the exponent ensures that the distribution has unit variance (i.e., variance being equal to one), and therefore also unit standard deviation. This function is symmetric around $x=0$, where it attains its maximum value $1/{\\sqrt {2\\pi }}$ and has inflection points at ${\\displaystyle x=+1}$ and $x=-1$.\n",
        "\n",
        "----\n",
        "### Applications of the area under a curve\n",
        "\n",
        "The area under the standard normal distribution can be thought of as a probability i.e. if it were possible to select any z-value at random, the probability of choosing one, say between $z_1$ and $z_2$ would be the same as the area under the curve between $z_1$ and $z_2$.\n",
        "\n"
      ]
    },
    {
      "cell_type": "code",
      "metadata": {
        "id": "xcAAKwuO-aAp",
        "colab": {
          "base_uri": "https://localhost:8080/",
          "height": 298
        },
        "outputId": "6a888720-6a78-420e-c8b2-1ff71c4b6026"
      },
      "source": [
        "#plotting the pdf\n",
        "import numpy as np\n",
        "import matplotlib.pyplot as plt\n",
        "\n",
        "x = np.linspace(-5,5,1000)\n",
        "mean = 0\n",
        "std = 1\n",
        "# definition of the normal curve \n",
        "y =  (1 / (np.sqrt(2 * np.pi * np.power(std, 2)))) * \\\n",
        "    (np.power(np.e, -(np.power((x - mean), 2) / (2 * np.power(std, 2)))))\n",
        "\n",
        "plt.title(\"The Normal Distribution\")\n",
        "plt.plot(x,y)"
      ],
      "execution_count": null,
      "outputs": [
        {
          "output_type": "execute_result",
          "data": {
            "text/plain": [
              "[<matplotlib.lines.Line2D at 0x7f4bfaf89f60>]"
            ]
          },
          "metadata": {
            "tags": []
          },
          "execution_count": 9
        },
        {
          "output_type": "display_data",
          "data": {
            "image/png": "[encoded data removed]",
            "text/plain": [
              "<Figure size 432x288 with 1 Axes>"
            ]
          },
          "metadata": {
            "tags": [],
            "needs_background": "light"
          }
        }
      ]
    },
    {
      "cell_type": "markdown",
      "metadata": {
        "id": "rMyCS2gNrG0q"
      },
      "source": [
        "#### Case 1: Normal curves with $\\mu_1 \\neq \\mu_2$ and $\\sigma_1 = \\sigma_2$"
      ]
    },
    {
      "cell_type": "code",
      "metadata": {
        "id": "lE-liyAtq_HZ",
        "colab": {
          "base_uri": "https://localhost:8080/",
          "height": 281
        },
        "outputId": "d6379ec7-0f01-4277-f530-3d4b61054ac5"
      },
      "source": [
        "# plotting the with \n",
        "x = np.linspace(-5,12,1000)\n",
        "\n",
        "# definition of the normal curve \n",
        "y = lambda mean, std: (1 / (np.sqrt(2 * np.pi * np.power(std, 2)))) * \\\n",
        "    (np.power(np.e, -(np.power((x - mean), 2) / (2 * np.power(std, 2)))))\n",
        "\n",
        "# testing case 1 where the mean is not equal and the std are equal\n",
        "y_1 = y(3,2)\n",
        "y_2 = y(4,2)\n",
        "\n",
        "plt.plot(x,y_1, label = \"y₁\")\n",
        "plt.plot(x,y_2,  label = \"y₂\")\n",
        "plt.title(\"μ₁ ≠ μ₂; σ₁ = σ₂\")\n",
        "\n",
        "plt.legend()\n",
        "plt.show()"
      ],
      "execution_count": null,
      "outputs": [
        {
          "output_type": "display_data",
          "data": {
            "image/png": "[encoded data removed]",
            "text/plain": [
              "<Figure size 432x288 with 1 Axes>"
            ]
          },
          "metadata": {
            "tags": [],
            "needs_background": "light"
          }
        }
      ]
    },
    {
      "cell_type": "markdown",
      "metadata": {
        "id": "AsqVqhF7vFJl"
      },
      "source": [
        "#### Case 2: Normal Curves with $\\mu_1 = \\mu_2$ and $\\sigma_1 \\neq \\sigma_2$"
      ]
    },
    {
      "cell_type": "code",
      "metadata": {
        "id": "6lVC72E_vQNA",
        "colab": {
          "base_uri": "https://localhost:8080/",
          "height": 281
        },
        "outputId": "defba9dc-a48e-4b99-bcf2-e8463dd4e6f9"
      },
      "source": [
        "x = np.linspace(-10,15,1000)\n",
        "\n",
        "# definition of the normal curve \n",
        "y = lambda mean, std: (1 / (np.sqrt(2 * np.pi * np.power(std, 2)))) * \\\n",
        "    (np.power(np.e, -(np.power((x - mean), 2) / (2 * np.power(std, 2)))))\n",
        "\n",
        "# testing case 1 where the mean is not equal and the std are equal\n",
        "y_1 = y(3,2)\n",
        "y_2 = y(3,4)\n",
        "\n",
        "plt.plot(x,y_1, label = \"y₁\")\n",
        "plt.plot(x,y_2,  label = \"y₂\")\n",
        "plt.title(\"μ₁ = μ₂; σ₁  ≠ σ₂\")\n",
        "\n",
        "plt.legend()\n",
        "plt.show()"
      ],
      "execution_count": null,
      "outputs": [
        {
          "output_type": "display_data",
          "data": {
            "image/png": "[encoded data removed]",
            "text/plain": [
              "<Figure size 432x288 with 1 Axes>"
            ]
          },
          "metadata": {
            "tags": [],
            "needs_background": "light"
          }
        }
      ]
    },
    {
      "cell_type": "markdown",
      "metadata": {
        "id": "KemGcPKMvtoi"
      },
      "source": [
        "#### Case 3: Normal Curves with $\\mu_1 \\neq \\mu_2$ and $\\sigma_1 < \\sigma_2$"
      ]
    },
    {
      "cell_type": "code",
      "metadata": {
        "id": "lCMrWqFkv3ny",
        "colab": {
          "base_uri": "https://localhost:8080/",
          "height": 281
        },
        "outputId": "53b92e17-a8a1-44d8-cc3f-162e299cf711"
      },
      "source": [
        "x = np.linspace(-10,15,1000)\n",
        "\n",
        "# definition of the normal curve \n",
        "y = lambda mean, std: (1 / (np.sqrt(2 * np.pi * np.power(std, 2)))) * \\\n",
        "    (np.power(np.e, -(np.power((x - mean), 2) / (2 * np.power(std, 2)))))\n",
        "\n",
        "# testing case 1 where the mean is not equal and the std are equal\n",
        "y_1 = y(3,2)\n",
        "y_2 = y(6,4)\n",
        "\n",
        "plt.plot(x,y_1, label = \"y₁\")\n",
        "plt.plot(x,y_2,  label = \"y₂\")\n",
        "plt.title(\"μ₁ ≠ μ₂; σ₁ < σ₂\")\n",
        "\n",
        "plt.legend()\n",
        "plt.show()"
      ],
      "execution_count": null,
      "outputs": [
        {
          "output_type": "display_data",
          "data": {
            "image/png": "[encoded data removed]",
            "text/plain": [
              "<Figure size 432x288 with 1 Axes>"
            ]
          },
          "metadata": {
            "tags": [],
            "needs_background": "light"
          }
        }
      ]
    },
    {
      "cell_type": "markdown",
      "metadata": {
        "id": "XY3R9-rVwfES"
      },
      "source": [
        "As we might have noticed given the graphs of the normal curves under different parameter configuration of $\\mu$ and $\\sigma$, we see that the normal curve shifts with respect to the mean and spreads with respect to the standard deviation. The equation for the normal distribution guarantees that the area under the curve is always equal to 1. We can show this by using the integral of the normal curve. "
      ]
    },
    {
      "cell_type": "code",
      "metadata": {
        "id": "yfVIatOZyP2W",
        "colab": {
          "base_uri": "https://localhost:8080/",
          "height": 105
        },
        "outputId": "0018ada3-8e83-44e9-dd1f-350b295d46c9"
      },
      "source": [
        "import sympy\n",
        "from sympy import *\n",
        "sympy.init_printing()\n",
        "x = sympy.symbols(\"x\")\n",
        "# probability distribution\n",
        "P =  1/(sqrt(2*pi))*E**((-x**2)/2)\n",
        "\n",
        "display(P)\n",
        "# uppper bound\n",
        "u = oo\n",
        "# lower bound\n",
        "l = -oo\n",
        "\n",
        "display(sympy.Integral(P,(x,l,u)))\n",
        "\n",
        "area = N(sympy.Integral(P,(x,l,u)))\n",
        "display(area)"
      ],
      "execution_count": null,
      "outputs": [
        {
          "output_type": "display_data",
          "data": {
            "image/png": "[encoded data removed]",
            "text/latex": "$$\\frac{\\sqrt{2} e^{- \\frac{x^{2}}{2}}}{2 \\sqrt{\\pi}}$$",
            "text/plain": [
              "      2 \n",
              "    -x  \n",
              "    ────\n",
              "     2  \n",
              "√2⋅ℯ    \n",
              "────────\n",
              "  2⋅√π  "
            ]
          },
          "metadata": {
            "tags": []
          }
        },
        {
          "output_type": "display_data",
          "data": {
            "image/png": "[encoded data removed]",
            "text/latex": "$$\\int_{-\\infty}^{\\infty} \\frac{\\sqrt{2} e^{- \\frac{x^{2}}{2}}}{2 \\sqrt{\\pi}}\\, dx$$",
            "text/plain": [
              "∞             \n",
              "⌠             \n",
              "⎮        2    \n",
              "⎮      -x     \n",
              "⎮      ────   \n",
              "⎮       2     \n",
              "⎮  √2⋅ℯ       \n",
              "⎮  ──────── dx\n",
              "⎮    2⋅√π     \n",
              "⌡             \n",
              "-∞            "
            ]
          },
          "metadata": {
            "tags": []
          }
        },
        {
          "output_type": "display_data",
          "data": {
            "image/png": "[encoded data removed]",
            "text/latex": "$$1.0$$",
            "text/plain": [
              "1.00000000000000"
            ]
          },
          "metadata": {
            "tags": []
          }
        }
      ]
    },
    {
      "cell_type": "markdown",
      "metadata": {
        "id": "bJRWFDkG5res"
      },
      "source": [
        "The normal distribution\n",
        "\n",
        "$${\\displaystyle f(x)={\\frac {1}{\\sigma {\\sqrt {2\\pi }}}}e^{-{\\frac {1}{2}}\\left({\\frac {x-\\mu }{\\sigma }}\\right)^{2}}}$$"
      ]
    },
    {
      "cell_type": "code",
      "metadata": {
        "id": "ZJ2JgPCB1J0a",
        "colab": {
          "base_uri": "https://localhost:8080/",
          "height": 102
        },
        "outputId": "0fdac52c-8868-47ae-eaec-8c91bb975425"
      },
      "source": [
        "# NOTE: JUSTIFY WHY THIS IS NOT EQUAL TO 1. WRONG INPUT OR THERE'S A DEEPER REASON TO IT\n",
        "\n",
        "# area of the normal cruve under different parameter values of the mean and std\n",
        "x, mean, std = sympy.symbols(\"x, mu, sigma\")\n",
        "# probability distribution\n",
        "\n",
        "P =  1/(sqrt(pi*2)*std)*E**(-((x-mean)/(2*std))**2)\n",
        "display(P)\n",
        "\n",
        "# uppper bound\n",
        "u = oo\n",
        "# lower bound\n",
        "l = -oo\n",
        "display(sympy.Integral(P,(x,l,u)))\n",
        "\n",
        "display(sympy.integrate(P.subs(mean,0).subs(std,1),(x,l,u)))"
      ],
      "execution_count": null,
      "outputs": [
        {
          "output_type": "display_data",
          "data": {
            "image/png": "[encoded data removed]",
            "text/latex": "$$\\frac{\\sqrt{2}}{2 \\sqrt{\\pi} \\sigma} e^{- \\frac{\\left(- \\mu + x\\right)^{2}}{4 \\sigma^{2}}}$$",
            "text/plain": [
              "             2 \n",
              "    -(-μ + x)  \n",
              "    ───────────\n",
              "           2   \n",
              "        4⋅σ    \n",
              "√2⋅ℯ           \n",
              "───────────────\n",
              "     2⋅√π⋅σ    "
            ]
          },
          "metadata": {
            "tags": []
          }
        },
        {
          "output_type": "display_data",
          "data": {
            "image/png": "[encoded data removed]",
            "text/latex": "$$\\int_{-\\infty}^{\\infty} \\frac{\\sqrt{2}}{2 \\sqrt{\\pi} \\sigma} e^{- \\frac{\\left(- \\mu + x\\right)^{2}}{4 \\sigma^{2}}}\\, dx$$",
            "text/plain": [
              "∞                    \n",
              "⌠                    \n",
              "⎮               2    \n",
              "⎮      -(-μ + x)     \n",
              "⎮      ───────────   \n",
              "⎮             2      \n",
              "⎮          4⋅σ       \n",
              "⎮  √2⋅ℯ              \n",
              "⎮  ─────────────── dx\n",
              "⎮       2⋅√π⋅σ       \n",
              "⌡                    \n",
              "-∞                   "
            ]
          },
          "metadata": {
            "tags": []
          }
        },
        {
          "output_type": "display_data",
          "data": {
            "image/png": "[encoded data removed]",
            "text/latex": "$$\\sqrt{2}$$",
            "text/plain": [
              "√2"
            ]
          },
          "metadata": {
            "tags": []
          }
        }
      ]
    },
    {
      "cell_type": "code",
      "metadata": {
        "id": "sG0wp4YzbkyW"
      },
      "source": [
        "# plotting CDF\n",
        "\n"
      ],
      "execution_count": null,
      "outputs": []
    },
    {
      "cell_type": "code",
      "metadata": {
        "id": "3iR4Vd4FXc_5"
      },
      "source": [
        "# transforming normal distributions to standard normal through z-scores\n",
        "\n"
      ],
      "execution_count": null,
      "outputs": []
    },
    {
      "cell_type": "markdown",
      "metadata": {
        "id": "Yr33-XPqzItL"
      },
      "source": [
        "note that "
      ]
    },
    {
      "cell_type": "markdown",
      "metadata": {
        "id": "AvVRXhxE-V-P"
      },
      "source": [
        "----\n",
        "### Basic Concepts Related to  Hypothesis Testing\n",
        "Hypothesis testing is a decision-making procedure for evaluating claims about a population. \n",
        "\n",
        "- Null Hypothesis - hypotheses that were formulated with the hope that they be rejected. \n",
        "    - the assumption that experimental results are due to chance alone\n",
        "    - assumes things to be equal $\\{ =, \\leq, \\geq\\}$\n",
        "\n",
        "- Alternative Hypothesis - allows for the possibility of several values \n",
        "    - statement which is true if the null hypothesis is false\n",
        "    - does not include equality $\\{ \\neq, <, >\\}$\n",
        "\n",
        "- Statistical Test - uses the data obtained from a sample to make decisions about whether the null hypothesis should be rejected \n",
        "    - Test Values - pertains to the numerical value obtained from the statistical test; hypothesis testing is a decision made to reject or not reject the null hypothesis on the basis of the **test value**.\n",
        "\n",
        "- Errors\n",
        "    - Type 1 ($\\alpha$) - if you reject the $H_0$ when it is true (false positives) \n",
        "        - happens when our *significance level is too large*\n",
        "    - Type 2 ($\\beta$) - if you did not reject the $H_0$ when it is false (false negative)\n",
        "        - happens when our *significance level is too small*\n",
        "\n",
        "- Critical Values - determines critical and non-critical regions upon which our decision will be based on. \n",
        "    - Critical region - the range of values of the **test value** that indicates that there is a significant difference and the $H_0$ should be rejected.\n",
        "    - non-critical region - the range of values of the **test value** that indicates the difference was probably due to chance and that the $H_0$ should not be rejected. \n",
        "    \n",
        "- Level of Significance - the maximum probability (or threshold) of committing a **type 1 error**. \n",
        "\n",
        "\n",
        "The procedure for testing the *acceptability* of an assertion given by the *hypothesis statement*. The crucial step of this procedure is for declaring our hypothesis statements and making decisions about the hypothesis. \n",
        "\n",
        "1. Define the population\n",
        "2. Select a sample from the population (collect data)\n",
        "3. State the particular hypothesis that will be investigated \n",
        "    - Null hypothesis ($H_0$) - assets that there is *no significant difference between a parameter and a specific value*.\n",
        "    - Alternative hypothesis ($H_a$) - asserts that there is a difference between parameters\n",
        "4. Give the significance level. The default value is $\\alpha = 0.05$. \n",
        "5. Choose the appropriate **test statistic** and establish the **rejection region**\n",
        "6. Compute for the value of the test statistic from the sample\n",
        "7. Makr a decision. Reject $H_0$ if the test statistic has a value in the critical region, otherwise do not reject. \n",
        "8. Reach a conclusion. "
      ]
    },
    {
      "cell_type": "code",
      "metadata": {
        "id": "EQo9o-Sq417X"
      },
      "source": [
        "# computing the z-score\n",
        "\n",
        "P =  1/(sqrt(2*pi))*E**((-x**2)/2)\n",
        "\n",
        "# uppper bound\n",
        "u = oo\n",
        "# lower bound\n",
        "l = -oo\n",
        "display(sympy.Integral(P,(x,l,u)))\n",
        "\n",
        "sympy.integralte(P,(x,l,u))"
      ],
      "execution_count": null,
      "outputs": []
    },
    {
      "cell_type": "code",
      "metadata": {
        "id": "x6VIOOZl3sEi",
        "colab": {
          "base_uri": "https://localhost:8080/",
          "height": 281
        },
        "outputId": "6233143d-3289-4756-e052-c0118a18c087"
      },
      "source": [
        "# plotting shaded region of the z-distribution\n",
        "import numpy as np\n",
        "from scipy.stats import norm\n",
        "import matplotlib.pyplot as plt\n",
        "\n",
        "x = np.arange(-3,9,0.001)\n",
        "\n",
        "def draw_z_score(x, cond, mu, sigma, title):\n",
        "    y = norm.pdf(x, mu, sigma)\n",
        "    z = x[cond]\n",
        "    plt.plot(x, y)\n",
        "    plt.fill_between(z, 0, norm.pdf(z, mu, sigma))\n",
        "    plt.title(title)\n",
        "    plt.show()\n",
        "\n",
        "\n",
        "z = 2\n",
        "draw_z_score(x, x<z, 3.5, 1.5, \"x<z\")"
      ],
      "execution_count": null,
      "outputs": [
        {
          "output_type": "display_data",
          "data": {
            "image/png": "[encoded data removed]",
            "text/plain": [
              "<Figure size 432x288 with 1 Axes>"
            ]
          },
          "metadata": {
            "tags": [],
            "needs_background": "light"
          }
        }
      ]
    },
    {
      "cell_type": "markdown",
      "metadata": {
        "id": "J7GFz9h9RZ2A"
      },
      "source": [
        "## T distribution\n"
      ]
    },
    {
      "cell_type": "code",
      "metadata": {
        "id": "WEtbsXyU-E6a"
      },
      "source": [
        "# find pdf and cdf of t-dist"
      ],
      "execution_count": null,
      "outputs": []
    },
    {
      "cell_type": "markdown",
      "metadata": {
        "id": "RYEvCJUeCgP-"
      },
      "source": [
        "#### Comparing single means test statistic\n",
        "Standard normal transformation: for transforming all normally distributed variables to standard normal distribution of variables $(\\mu =0; \\sigma =1)$.\n",
        "$$z = \\frac{\\bar{x}-\\mu}{\\sigma}$$\n",
        "\n",
        "- z-test\n",
        "    - assumes (1) the mean $\\mu$ of the population is known; (2) $n\\geq 30$ or when the population is normally distributed $\\sigma$ is known. \n",
        "    $$z = \\frac{\\bar{X}-\\mu}{\\sigma / \\sqrt{n}}$$\n",
        "- t-test\n",
        "    - used as an alternative to z-test when (1) sample size is small $n\\leq 30$, (2) $\\sigma$ is not known, and when (3) the population is normally or approximately normally distributed. \n",
        "    $$t = \\frac{\\bar{X}-\\mu}{s/ \\sqrt{n}} $$"
      ]
    },
    {
      "cell_type": "code",
      "metadata": {
        "id": "F0lVmZlORRv5"
      },
      "source": [
        "# import math module\n",
        "import math as m"
      ],
      "execution_count": null,
      "outputs": []
    },
    {
      "cell_type": "code",
      "metadata": {
        "id": "cWJ0VKBvRSDY"
      },
      "source": [
        "def std_normal(x, mu, sigma):\n",
        "    return (x - mu)/sigma\n",
        "\n",
        "def z_test(X, mu, sigma, n):\n",
        "    return (X-mu)/(sigma/m.sqrt(n))\n",
        "\n",
        "def t_test(X, mu, s, n):\n",
        "    return (X-mu)/(s/m.sqrt(n))"
      ],
      "execution_count": null,
      "outputs": []
    },
    {
      "cell_type": "markdown",
      "metadata": {
        "id": "7m_2pOWy4_KK"
      },
      "source": [
        "#### Comparing difference between means \n",
        "- Z-test\n",
        "$$z = \\frac{(\\bar{x_1}-\\bar{x_2})-(\\mu_1-\\mu_2)}{\\sqrt{\\frac{\\sigma_1^2}{n_1}+\\frac{\\sigma_2^2}{n_2}}}$$\n",
        "- T-test unequal variance\n",
        "$$t = \\frac{(\\bar{x_1}-\\bar{x_2})-(\\mu_1-\\mu_2)}{\\sqrt{\\frac{s_1^2}{n_1}+\\frac{s_2^2}{n_2}}}$$\n",
        "- T-test equal variance\n",
        "$$t =  \\frac{(\\bar{x_1}-\\bar{x_2})-(\\mu_1-\\mu_2)}{\\sqrt{\\frac{(n_1-1)s_1^2 + (n_2-1)s_2^2}{n_1+n_2-2}}\\cdot \\sqrt{\\frac{1}{n_1}+\\frac{1}{n_2}}}$$"
      ]
    },
    {
      "cell_type": "code",
      "metadata": {
        "id": "hZ3MlTyrIp-l"
      },
      "source": [
        "# check for independence "
      ],
      "execution_count": null,
      "outputs": []
    },
    {
      "cell_type": "code",
      "metadata": {
        "id": "e8fEqgiB5nqk"
      },
      "source": [
        "# using the math module \n",
        "\n",
        "z_2 = lambda x1, x2, sig1,sig2, n1,n2: (x1-x2)/(m.sqrt((m.pow(sig1,2)/n1)+(m.pow(sig2,2)/n2)))\n",
        "t_2uneq = lambda x1, x2, s1,s2, n1,n2: (x1-x2)/(m.sqrt((m.pow(s1,2)/n1)+(m.pow(s2,2)/n2)))\n",
        "t_2eq = lambda  x1, x2, s1,s2, n1,n2: (x1-x2)/(m.sqrt(((n1-1)*m.pow(s1,2)+(n2-1)*m.pow(s2,2))/(n1+n2-2))*m.sqrt((1/n1)+(1/n2)))"
      ],
      "execution_count": null,
      "outputs": []
    },
    {
      "cell_type": "code",
      "metadata": {
        "id": "-oGLf1TMIRkB"
      },
      "source": [
        "# confidence interval of z- and t- dist given α-value"
      ],
      "execution_count": null,
      "outputs": []
    },
    {
      "cell_type": "code",
      "metadata": {
        "id": "UPBdHDHeJfsG"
      },
      "source": [
        "# t-test for 2 dependent samples"
      ],
      "execution_count": null,
      "outputs": []
    },
    {
      "cell_type": "code",
      "metadata": {
        "id": "hSK3DBESYlib"
      },
      "source": [
        "# difference between 2 proportions"
      ],
      "execution_count": null,
      "outputs": []
    },
    {
      "cell_type": "markdown",
      "metadata": {
        "id": "5nB-MfW5Zo37"
      },
      "source": [
        "### F-distribution"
      ]
    },
    {
      "cell_type": "code",
      "metadata": {
        "id": "-j9mCEgjYyi1"
      },
      "source": [
        "# difference between 2 variances"
      ],
      "execution_count": null,
      "outputs": []
    },
    {
      "cell_type": "markdown",
      "metadata": {
        "id": "Q-TCW7OhY15D"
      },
      "source": [
        "## $\\chi^2$ test\n",
        "- test for goodness fit\n",
        "$$\\chi^2 = \\sum \\left( \\frac{f_o-f_e}{f_e}\\right)$$\n",
        "- test for independence\n",
        "$$\\chi^2 = \\sum \\frac{(f_o-f_e)^2}{f_e}$$"
      ]
    },
    {
      "cell_type": "code",
      "metadata": {
        "id": "3v-uC4z8Y8Sa"
      },
      "source": [
        "#chi-square test \n",
        "# k= number of categories; f_o = observed values; size\n",
        "\n",
        "def goodness_fit(k, f_o, size):\n",
        "    f_e = [size/len(k)]*size\n",
        "    return sum([(o-e)/e for o in f_o for e in f_e]) \n",
        "\n",
        "def independence_test(k, f_o, size):\n",
        "    f_e = [size/len(k)]*size\n",
        "    return sum([m.pow((o-e),2)/e for o in f_o for e in f_e]) "
      ],
      "execution_count": null,
      "outputs": []
    },
    {
      "cell_type": "code",
      "metadata": {
        "id": "r2CMtFkXqWJx"
      },
      "source": [
        "# visualize "
      ],
      "execution_count": null,
      "outputs": []
    }
  ]
}