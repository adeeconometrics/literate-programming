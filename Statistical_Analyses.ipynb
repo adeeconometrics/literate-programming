{
  "nbformat": 4,
  "nbformat_minor": 0,
  "metadata": {
    "colab": {
      "name": "Statistical Analyses.ipynb",
      "provenance": [],
      "authorship_tag": "ABX9TyM5NKTCKZWCBpOw+dDcuiUf",
      "include_colab_link": true
    },
    "kernelspec": {
      "name": "python3",
      "display_name": "Python 3"
    }
  },
  "cells": [
    {
      "cell_type": "markdown",
      "metadata": {
        "id": "view-in-github",
        "colab_type": "text"
      },
      "source": [
        "<a href=\"https://colab.research.google.com/github/adeeconometrics/literate-programming/blob/main/Statistical_Analyses.ipynb\" target=\"_parent\"><img src=\"https://colab.research.google.com/assets/colab-badge.svg\" alt=\"Open In Colab\"/></a>"
      ]
    },
    {
      "cell_type": "markdown",
      "metadata": {
        "id": "qTD0CsX0x2EB"
      },
      "source": [
        "#Statistical Analyses\n",
        "\n",
        "This notebook shall discuss some of the most prominent statistical methods, their assumptions and applications in a research setting. The code implementation in [SciPy(scipy.stats)](https://docs.scipy.org/doc/scipy/reference/stats.html) is also documented in this notebook. It shall serve as a guide for understanding Statistical Methods and apply them right-away. \n",
        "\n",
        "### About SciPy\n",
        "SciPy  is a Python-based ecosystem of open-source software for mathematics, science, and engineering. It provides an array of computatioanl tools written in [C](https://www.tutorialspoint.com/cprogramming/index.htm) and [Fortran](https://www.tutorialspoint.com/fortran/fortran_overview.htm) for high-performance codebase and interfaced with a python package. To install SciPy if you already have Python installed in your system, type: ``\n",
        "python -m pip install --user numpy scipy matplotlib ipython jupyter pandas sympy nose``. in your command line interface (CLI). For other cases, [refer to the documation](https://www.scipy.org/install.html).\n",
        "\n",
        "You can explore a myriad of scientific libraries of advanced computation [here](https://docs.scipy.org). \n",
        "\n",
        "----\n",
        "##Content\n",
        "\n",
        "- Probability Distributions\n",
        "    - Normal Distribution\n",
        "    - Binomial distribution\n",
        "    - T-distribution\n",
        "    - Chi square - distribution\n",
        "    - F Distribution\n",
        "\n",
        "- Parametric Statistics\n",
        "    - T-test\n",
        "        - One Sample T-Test\n",
        "        - Two Sample T-Test\n",
        "        - Paired T-test\n",
        "    - Z-test\n",
        "        - One Sample Z-test\n",
        "        - Two Sample Z-test\n",
        "    - Chi square- test\n",
        "    - Levene's Test\n",
        "    - ANOVA\n",
        "        - One-way\n",
        "        - Two-way\n",
        "    - Shapiro-Wilk test\n",
        "\n",
        "- Non-parametric Statistics\n"
      ]
    },
    {
      "cell_type": "code",
      "metadata": {
        "id": "-NI491_Mxvc2"
      },
      "source": [
        ""
      ],
      "execution_count": null,
      "outputs": []
    },
    {
      "cell_type": "markdown",
      "metadata": {
        "id": "Po3qFZqqPNbc"
      },
      "source": [
        ""
      ]
    },
    {
      "cell_type": "markdown",
      "metadata": {
        "id": "i3FUsckxULaL"
      },
      "source": [
        "## Probability Distrubutions\n",
        "\n",
        "A probability distribution is a mathematical function that outputs the possibilities of occurrence of different possible outcomes for an experiment; It is a mathematical description of a random phenomenon in terms of its sample space and the probabilities of events (subsets of the sample space).\n",
        "\n",
        "The sample space, often denoted by $\\Omega$ , is the set of all possible outcomes of a random phenomenon being observed; it may be any set: a set of real numbers, a set of vectors, a set of arbitrary non-numerical values, etc. \n",
        "\n",
        "To define probability distributions for the specific case of random variables (so the sample space can be seen as a numeric set), it is common to distinguish between **discrete** and **continuous** random variables.\n",
        "\n",
        "### General Definition \n",
        "Since probability distributions can be has alternative definitions, one of the most general descriptions, which applies for continuous and discrete variables, is by means of a probability function ${\\displaystyle P\\colon {\\mathcal {A}}\\rightarrow \\mathbb {R} } $ whose input space ${\\mathcal {A}}$ is related to the sample space, and gives a probability as its output.\n",
        "\n",
        "<!-- do I elaboration-->\n",
        "It is important to note that the probability function only characterize a probability distribution if if satisfied the [Kolmogorov axioms](), as follows:\n",
        "1. ${\\displaystyle P(X\\in E)\\geq 0\\;\\forall E\\in {\\mathcal {A}}}$, so the probability is non-negative;\n",
        "\n",
        "2. ${\\displaystyle \\sup _{E\\in {\\mathcal {A}}}P(X\\in E)=1}$, so no probability exceeds 1; and\n",
        "\n",
        "3. ${\\displaystyle P(X\\in \\bigsqcup _{i}E_{i})=\\sum _{i}P(X\\in E_{i})}$ for any disjoint family of sets  $\\{E_{i}\\}$.\n",
        "\n",
        "Probability distributions are generally divided into two classes: (1) Discrete Probability Distribution and (2) Continuous Probability Distribution. \n",
        "\n",
        "A probability distribution whose sample space is one-dimensional (e.g. $\\mathbb{R}$, $\\mathbb{N}$) are called *univariate*, while a distribution whose sample space is a vector space of dimensions more than 1 is called *multivariate.* A univariate distribution gives the probabilities of a single random variable taking on various alternative values; a multivariate distribution (a joint probability distribution) gives the probabilities of a random vector – a list of two or more random variables – taking on various combinations of values. \n",
        "\n",
        "Commonly encountered Univariate Distributions:\n",
        "- [Binomial Distribution](https://en.wikipedia.org/wiki/Binomial_distribution)\n",
        "- [Hypergeometric Distribution](https://en.wikipedia.org/wiki/Hypergeometric_distribution)\n",
        "- [Normal Distribution](https://en.wikipedia.org/wiki/Normal_distribution)\n",
        "\n",
        "Commonly encountered Multivariate Distribution\n",
        "- [Multivariate Normal Distribution](https://en.wikipedia.org/wiki/Multivariate_normal_distribution)\n",
        "\n",
        "### Key Concepts\n",
        "\n",
        "Functions for discrete variables\n",
        "- **Probability Function** - describes the probability ${\\displaystyle P(X\\in E)} $that the event $E$, from the sample space, occurs.\n",
        "\n",
        "- **Probability Mass Function** - function that gives the probability that a discrete random variable is equal to some value.\n",
        "\n",
        "- **Frequency Distribution** - a table that displays the frequency of various outcomes **in a sample**.\n",
        "\n",
        "- **Relative Frequency Distribution** - : a frequency distribution where each value has been divided (normalized) by a number of outcomes in a sample i.e. sample size.\n",
        "\n",
        "- **Discrete Probability Distribution Function** -  general term to indicate the way the total probability of 1 is distributed over **all** various possible outcomes (i.e. over entire population) for discrete random variable.\n",
        "\n",
        "- **Cumulative Distribution Function** -  function evaluating the probability that $X$ will take a value less than or equal to $x$ for a discrete random variable.\n",
        "- **Categorical Distribution** -  for discrete random variables with a finite set of values.\n",
        "\n",
        "Functions for continuous variables\n",
        "\n",
        "- **Probability Density Function** - function whose value at any given sample (or point) in the sample space (the set of possible values taken by the random variable) can be interpreted as providing a relative likelihood that the value of the random variable would equal that sample.\n",
        "\n",
        "- **Continuous Probability Distribution Function** - most often reserved for continuous random variables.\n",
        "\n",
        "- **Cumulative Probability Distribution Function** - function evaluating the probability that $X$ will take a value less than or equal to $x$ for continuous variable.\n",
        "\n",
        "- **Quantile function** - the inverse of the cumulative distribution function. Gives $x$ such that, with probability $q$, $X$ will not exceed $x$.\n",
        "\n",
        "----\n",
        "Basic Terms \n",
        "- Mode\n",
        "    - discrete random variable - the value with highest probability\n",
        "    - continuous random variable - a location at which the probability density function has a local peak.\n",
        "\n",
        "- Support - set of values that can be assumed with non-zero probability by the random variable\n",
        "\n",
        "- Tail - the regions close to the bounds of the random variable, if the pmf or pdf are relatively low therein. \n",
        "\n",
        "- Head -  the region where the pmf or pdf is relatively high.\n",
        "\n",
        "- Expected value (or mean) - the weighted average of the possible values, using their probabilities as their weights; or the continuous analog thereof.\n",
        "\n",
        "- Median - the value such that the set of values less than the median, and the set greater than the median, each have probabilities no greater than one-half.\n",
        "\n",
        "- Variance - the second moment of the pmf or pdf about the mean; an important measure of the dispersion of the distribution.\n",
        "\n",
        "- Standard Deviation - the square root of the variance\n",
        "\n",
        "- Symmetry -  a property of some distributions in which the portion of the distribution to the left of a specific value(usually the median) is a mirror image of the portion to its right.\n",
        "\n",
        "- Skewness - a measure of the extent to which a pmf or pdf \"leans\" to one side of its mean. The third standardized moment of the distribution.\n",
        "\n",
        "- Kurtosis - a measure of the \"fatness\" of the tails of a pmf or pdf. The fourth standardized moment of the distribution."
      ]
    }
  ]
}