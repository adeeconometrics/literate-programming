{
  "nbformat": 4,
  "nbformat_minor": 0,
  "metadata": {
    "colab": {
      "name": "Optimizations.ipynb",
      "provenance": [],
      "authorship_tag": "ABX9TyPN4LHxi06DruJIbnwJ+FRc",
      "include_colab_link": true
    },
    "kernelspec": {
      "name": "python3",
      "display_name": "Python 3"
    }
  },
  "cells": [
    {
      "cell_type": "markdown",
      "metadata": {
        "id": "view-in-github",
        "colab_type": "text"
      },
      "source": [
        "<a href=\"https://colab.research.google.com/github/adeeconometrics/literate-programming/blob/main/Optimizations.ipynb\" target=\"_parent\"><img src=\"https://colab.research.google.com/assets/colab-badge.svg\" alt=\"Open In Colab\"/></a>"
      ]
    },
    {
      "cell_type": "markdown",
      "metadata": {
        "id": "jCtpP6EwHZ_Q"
      },
      "source": [
        "# Symbolic and Numerical Computation\n",
        "By Dave Arthur D. Amiana \n",
        "\n",
        "----\n",
        "Overview of the notebook:\n",
        "\n",
        "This notebook will serve as an introduction to Optimization from single-variable to mutlivariable scenarios. For this notebook, optimization problems will be laid out from an engineering's perspective. Concepts will be briefly explained as well, but links to more elaborate discussions will be provided instead.\n",
        "\n",
        "The primary focus of this notebook is to gain some understanding with the concept and implement them in Python using the scientific libraries for numerical and symbolic computations. \n",
        "\n",
        "----\n",
        "\n",
        "### List of contents:\n",
        "- Single-variable functions\n",
        "    - Slope of a function\n",
        "        - Secant\n",
        "        - Tangent \n",
        "    - Newton's Method of approximation\n",
        "    - Concavity and Convexity of a function\n",
        "        - First Derivative test\n",
        "        - Second Derivative test \n",
        "\n",
        "- Multi-variable functions\n",
        "    - Partial derivatives\n",
        "    - Gradient of a function\n",
        "    - Gradient vector\n",
        "    - Jacobi Matrix\n",
        "    - Hessian Matrix\n",
        "    - Langrangian Multiplier"
      ]
    },
    {
      "cell_type": "code",
      "metadata": {
        "id": "m3aiRFwQHWWH"
      },
      "source": [
        "import numpy as np\n",
        "import scipy as sci\n",
        "import matplotlib.pyplot as plt\n",
        "import sympy as sp"
      ],
      "execution_count": null,
      "outputs": []
    },
    {
      "cell_type": "code",
      "metadata": {
        "id": "-3HWa19RIMML"
      },
      "source": [
        "from sympy import *\n",
        "sp.init_printing()"
      ],
      "execution_count": null,
      "outputs": []
    },
    {
      "cell_type": "code",
      "metadata": {
        "id": "ZJgYlBo8IRnA"
      },
      "source": [
        "# initialize symbols\n",
        "x,y,z = sp.symbols(\"x y z\")"
      ],
      "execution_count": null,
      "outputs": []
    },
    {
      "cell_type": "markdown",
      "metadata": {
        "id": "pEUien3nKCGZ"
      },
      "source": [
        "## Single Variable Functions\n",
        "\n",
        "Discussion: \n",
        "\n",
        "Examples:\n",
        "\n",
        "Notes for the following code blocks:"
      ]
    },
    {
      "cell_type": "code",
      "metadata": {
        "id": "v_xbwfgUKTVw"
      },
      "source": [
        ""
      ],
      "execution_count": null,
      "outputs": []
    },
    {
      "cell_type": "markdown",
      "metadata": {
        "id": "HL8nbauSKVOP"
      },
      "source": [
        "## Multivariable Functions\n",
        "\n",
        "Discussion: \n",
        "\n",
        "Examples:\n",
        "\n",
        "Notes for the following code blocks:"
      ]
    },
    {
      "cell_type": "code",
      "metadata": {
        "id": "Vax7b9o1KaDo"
      },
      "source": [
        ""
      ],
      "execution_count": null,
      "outputs": []
    }
  ]
}