{
  "nbformat": 4,
  "nbformat_minor": 0,
  "metadata": {
    "colab": {
      "name": "Optimizations.ipynb",
      "provenance": [],
      "authorship_tag": "ABX9TyMCxkG6JKyt77dU9VgE3aPd",
      "include_colab_link": true
    },
    "kernelspec": {
      "name": "python3",
      "display_name": "Python 3"
    }
  },
  "cells": [
    {
      "cell_type": "markdown",
      "metadata": {
        "id": "view-in-github",
        "colab_type": "text"
      },
      "source": [
        "<a href=\"https://colab.research.google.com/github/adeeconometrics/literate-programming/blob/main/Optimizations.ipynb\" target=\"_parent\"><img src=\"https://colab.research.google.com/assets/colab-badge.svg\" alt=\"Open In Colab\"/></a>"
      ]
    },
    {
      "cell_type": "markdown",
      "metadata": {
        "id": "jCtpP6EwHZ_Q"
      },
      "source": [
        "# Symbolic and Numerical Computation\n",
        "By Dave Arthur D. Amiana \n",
        "\n",
        "----\n",
        "Overview of the notebook:\n",
        "\n",
        "This notebook will serve as an introduction to Optimization from single-variable to mutlivariable scenarios. For this notebook, optimization problems will be laid out from an engineering's perspective. Concepts will be briefly explained as well, but links to more elaborate discussions will be provided instead.\n",
        "\n",
        "The primary focus of this notebook is to gain some understanding with the concept and implement them in Python using the scientific libraries for numerical and symbolic computations. \n",
        "\n",
        "----\n",
        "\n",
        "### List of contents:\n",
        "- Single-variable functions\n",
        "    - Slope of a function\n",
        "        - Secant\n",
        "        - Tangent \n",
        "    - Newton's Method of approximation\n",
        "    - Concavity and Convexity of a function\n",
        "        - First Derivative test\n",
        "        - Second Derivative test \n",
        "\n",
        "- Multi-variable functions\n",
        "    - Partial derivatives\n",
        "    - Gradient of a function\n",
        "    - Gradient vector\n",
        "    - Jacobi Matrix\n",
        "    - Hessian Matrix\n",
        "    - Langrangian Multiplier"
      ]
    },
    {
      "cell_type": "code",
      "metadata": {
        "id": "m3aiRFwQHWWH"
      },
      "source": [
        "import numpy as np\n",
        "import scipy as sci\n",
        "import matplotlib.pyplot as plt\n",
        "import sympy as sp"
      ],
      "execution_count": 155,
      "outputs": []
    },
    {
      "cell_type": "code",
      "metadata": {
        "id": "-3HWa19RIMML"
      },
      "source": [
        "from sympy import init_printing, N\n",
        "init_printing()"
      ],
      "execution_count": 45,
      "outputs": []
    },
    {
      "cell_type": "code",
      "metadata": {
        "id": "ZJgYlBo8IRnA"
      },
      "source": [
        "# initialize symbols\n",
        "x,y,z = sp.symbols(\"x y z\")"
      ],
      "execution_count": 46,
      "outputs": []
    },
    {
      "cell_type": "markdown",
      "metadata": {
        "id": "pEUien3nKCGZ"
      },
      "source": [
        "## Single Variable Functions\n",
        "Single-variable (univariable) functions are of the form $f(x)$ such that a function $f$ takes one *argument* $x$ and *maps it to* $y$. It is often written as: $f:x\\to y$. Albeit univariate functions are hardly used in the real world, taking some time to understand their behavior is rudimentary to understanding the behavior of multi-variable functions that we usually encounter in the wild.  \n",
        "\n",
        "----\n",
        "\n",
        "**Discussion:**\n",
        "\n",
        "Since optimization is concerned with finding the maximum and minimum values for a given function. These values, which we refer to as *extremas* of a function requires us to traverse over the function and point out the maximum point where the function maps to i.e. the highest peak of the shape of our function, and the lowest value our function can get. We can express our objective as ``max(f(x))`` and ``min(f(x))`` which translates to finding the maximum/minimum value of our function given the derinition of our function ``f(x)``, but that's not the whole story underneath. In order to find the maximum values of our function, we have to get a sense of what does it mean to be the highest and lowest value of a function? \n",
        "\n",
        "Our objective is to find the regions where it maps to the maximum and minimum values of $y$ given $x$ and compare this for all values of $x\\in D \\text{ where D is the domain of our function}$. In other words, we wish to find $\\forall x. [f(c)\\geq f(x)\\; | (x,c) \\in D]$ for our maximum value and  $\\forall x. [f(c)\\leq f(x)\\; | (x,c) \\in D]$ for our minimum value.\n",
        "\n",
        "\n",
        "Before we get into more details of this, it is good to begin with the notion of derivatives and how it ought to describe very little changes on our function. \n",
        "\n",
        "Recall the definition of the slope of a function $f(x)=y$, we denote the slope of $f(x)$ as $m=\\frac{\\Delta y}{\\Delta x}$ such that $\\Delta x$ desribes the changes in $x$ and $\\Delta y$ describes the changes that happens in $y$. Hence, the slope of a function, written in two-point form is denoted as $m = \\frac{y_2-y_1}{x_2 -x_1}$. But we wish to know the *very little changes* happening in a specific point $(x_0, y_0)$, our slope can only give us the change for a given interval. How can we generalize this notion to capture a richer sense of what's happening to our function when little values of $x_0$ changes? \n",
        "\n",
        "The derivative of a function of real variable i.e. $x\\in \\mathbb{R}$ measures the *sensitivity to change of the output value* with respect to a change in its *input value*, $x$.\n",
        "\n",
        "<!-- insert illustration -->\n",
        "\n",
        "The **derivative of a function** at a chosen input value, **when it exists**, is *the slope of the tangent line to the graph of the function at that point*. The **tangent line** is the best linear approximation of the function near that input value.\n",
        "\n",
        "For this reason, the derivative is often described as the instantaneous rate of change, the ratio of the instantaneous change in the dependent variable to that of the independent variable.\n",
        "\n",
        "----\n",
        "\n",
        "Examples:\n",
        "\n",
        "Notes for the following code blocks:"
      ]
    },
    {
      "cell_type": "code",
      "metadata": {
        "id": "bYbkPJsCuJJG"
      },
      "source": [
        "from sympy import Function, Eq, lambdify"
      ],
      "execution_count": 47,
      "outputs": []
    },
    {
      "cell_type": "markdown",
      "metadata": {
        "id": "hg9jLhju4MPB"
      },
      "source": [
        "A few technical notes:\n",
        "\n",
        "The notion of optimization is drawn from the idea of limits of a function, we recall from our calculus class that a limit exists if it satisties the following properties:\n",
        "\n",
        "$$\\lim_{x \\to c^+} f(x) = \\lim_{x \\to c^-} f(x)=\\lim_{x \\to c} f(x)=L$$\n",
        "Else, we denote that the limit does not exist. This is an important context to understand the naive implementation of our method for computing the derivative of a function. \n",
        "\n",
        "----\n",
        "definition of a derivative:\n",
        "\n",
        "$$f'(a)=\\lim _{h\\to 0}{\\frac {f(a+h)-f(a)}{h}}.$$\n",
        "\n",
        "to test this, we know that the derivative of $\\sin(x)$ is $\\cos(x)$, we evalua this at $a=\\pi$ which is $cos(\\pi)=-1$. The following codeblocks implements the naive version, purely numerical methods, and purely symbolic methods.  "
      ]
    },
    {
      "cell_type": "code",
      "metadata": {
        "colab": {
          "base_uri": "https://localhost:8080/",
          "height": 281
        },
        "id": "iJlsmBk7LBoF",
        "outputId": "f2c4685e-f34b-4e53-b5da-64535f5998ac"
      },
      "source": [
        "x_ = np.linspace(-4,4,100)\n",
        "y_ = np.sin(x_)\n",
        "y_0 = np.cos(x_)\n",
        "plt.plot(x_, y_)\n",
        "plt.plot(x_, y_0)"
      ],
      "execution_count": 48,
      "outputs": [
        {
          "output_type": "execute_result",
          "data": {
            "text/plain": [
              "[<matplotlib.lines.Line2D at 0x7f28ef816d30>]"
            ]
          },
          "metadata": {
            "tags": []
          },
          "execution_count": 48
        },
        {
          "output_type": "display_data",
          "data": {
            "image/png": "[encoded data removed]",
            "text/plain": [
              "<Figure size 432x288 with 1 Axes>"
            ]
          },
          "metadata": {
            "tags": [],
            "needs_background": "light"
          }
        }
      ]
    },
    {
      "cell_type": "code",
      "metadata": {
        "colab": {
          "base_uri": "https://localhost:8080/",
          "height": 37
        },
        "id": "4fqP6UqP3rMp",
        "outputId": "10668cea-0a52-4595-bf7f-f7f7ff038118"
      },
      "source": [
        "# naive implementation of numerical methods in differetiation\n",
        "\n",
        "f = lambda _x: np.sin(_x)\n",
        "a = np.pi\n",
        "\n",
        "def derivative(f,a,h=10e-10):\n",
        "    right = (f(a+h)-f(a))/h\n",
        "    left = (f(a+(0-h))-f(a))/-h\n",
        "    if(left==right):\n",
        "        mid_val = (right+left)/2\n",
        "        return mid_val\n",
        "    else:\n",
        "        print(\"the limit does not exist\")\n",
        "\n",
        "derivative(f,a)"
      ],
      "execution_count": 49,
      "outputs": [
        {
          "output_type": "execute_result",
          "data": {
            "image/png": "[encoded data removed]",
            "text/latex": "$$-1.000000082740371$$",
            "text/plain": [
              "-1.000000082740371"
            ]
          },
          "metadata": {
            "tags": []
          },
          "execution_count": 49
        }
      ]
    },
    {
      "cell_type": "code",
      "metadata": {
        "colab": {
          "base_uri": "https://localhost:8080/",
          "height": 37
        },
        "id": "L05OGNT272DX",
        "outputId": "c98cd3f0-9811-4307-e611-8050cbcc5b40"
      },
      "source": [
        "# alternatively we can use SymPy's differential operator for symbolic solution\n",
        "f_sp = sp.sin(x)\n",
        "sp.diff(f_sp,x).subs(x,sp.pi)"
      ],
      "execution_count": 50,
      "outputs": [
        {
          "output_type": "execute_result",
          "data": {
            "image/png": "[encoded data removed]",
            "text/latex": "$$-1$$",
            "text/plain": [
              "-1"
            ]
          },
          "metadata": {
            "tags": []
          },
          "execution_count": 50
        }
      ]
    },
    {
      "cell_type": "code",
      "metadata": {
        "colab": {
          "base_uri": "https://localhost:8080/"
        },
        "id": "2jWqsGw08DR7",
        "outputId": "8161d94b-ed34-4416-d68f-7daa8fb0b0fe"
      },
      "source": [
        "f_np = sp.lambdify(x, sp.diff(sp.sin(x)), \"numpy\")\n",
        "f_np(np.array([np.pi]*3))"
      ],
      "execution_count": 51,
      "outputs": [
        {
          "output_type": "execute_result",
          "data": {
            "text/plain": [
              "array([-1., -1., -1.])"
            ]
          },
          "metadata": {
            "tags": []
          },
          "execution_count": 51
        }
      ]
    },
    {
      "cell_type": "code",
      "metadata": {
        "colab": {
          "base_uri": "https://localhost:8080/"
        },
        "id": "WJcFLYE5XRTQ",
        "outputId": "ded35be7-10da-42ec-899f-84127694fa5c"
      },
      "source": [
        "a,b,c =(1,2,3)\n",
        "print(a,b,c)"
      ],
      "execution_count": 52,
      "outputs": [
        {
          "output_type": "stream",
          "text": [
            "1 2 3\n"
          ],
          "name": "stdout"
        }
      ]
    },
    {
      "cell_type": "markdown",
      "metadata": {
        "id": "fRg9p2eRq2jf"
      },
      "source": [
        "#### Defnitions\n",
        "Extemas:\n",
        "- Absolute maximum\n",
        "- Local maximum\n",
        "- Absolute minimum\n",
        "- Local minimum\n",
        "\n",
        "Concavity\n",
        "\n",
        "Convexity\n",
        "\n",
        "Critical number - a critical number of a function $f$ is a number $c$ in the domain of $f$ such that either $f''(c)=0$ or $f'(c)$ does not exist. If $f$ has a local minimum or maximum at $c$, then $c$ is a critical number of $f$.\n",
        "\n",
        "----\n",
        "#### Theorems\n",
        "\n",
        "----\n",
        "#### Procedure\n",
        "- Increasing/Decreasing Test.\n",
        "    - if $f'(x)>0$ on an open interval, then $f$ is increasing on that interval. \n",
        "    - if $f'(x)<0$ on an open interval, then $f$ is decreasing on that interval.\n",
        "- First Derivative Test. Suppose that $c$ is a *critical number* of a continuous function $f$.\n",
        "    - if $f'$ changes from positive to negative at $c$, then $f$ has a local maximum at $c$.\n",
        "    - if $f'$ changes from negative to postive at $c$, then $f$ has a local minimum at $c$.\n",
        "    - if $f'$ does not change sign at $c$, that is, $f'$ is positive on both sides of $c$ or negative on both sides, then $f$ has no local maximum or minimum at $c$.\n",
        "\n",
        "\n",
        "- Second Derivative Test. Suuppose $f''$ is continuous near $c$.\n",
        "    - if $f'(c)=0$ and $f''(c)>0$, then $f$ has a local minimum at $c$.\n",
        "    - if $f'(c)=0$ and $f''(c)<0$, then $f$ has a local maximum at $c$\n",
        "\n",
        "- Concavity Test\n",
        "    - if $f''(x)>0$ for all $x$ in the interval $I$, then the graph of $f$ is **concave upward** on $I$.\n",
        "    - if $f''(x)>0$ for all $x$ in $I$, then the graph of $f$ is **concave downward** on $I$"
      ]
    },
    {
      "cell_type": "code",
      "metadata": {
        "colab": {
          "base_uri": "https://localhost:8080/",
          "height": 58
        },
        "id": "vndiPKNgsrZ6",
        "outputId": "7915cf53-1e75-4427-d216-32be6efa13d1"
      },
      "source": [
        "# objective: access solveset output\n",
        "list_solution = list(sp.solveset(sp.Eq(x**3-3*x**2+5,0)))\n",
        "list_solution"
      ],
      "execution_count": 95,
      "outputs": [
        {
          "output_type": "execute_result",
          "data": {
            "image/png": "[encoded data removed]",
            "text/latex": "$$\\left [ - \\frac{1}{3} \\sqrt[3]{\\frac{27 \\sqrt{5}}{2} + \\frac{81}{2}} - \\frac{3}{\\sqrt[3]{\\frac{27 \\sqrt{5}}{2} + \\frac{81}{2}}} + 1, \\quad \\frac{3}{2 \\sqrt[3]{\\frac{27 \\sqrt{5}}{2} + \\frac{81}{2}}} + \\frac{1}{6} \\sqrt[3]{\\frac{27 \\sqrt{5}}{2} + \\frac{81}{2}} + 1 + i \\left(- \\frac{3 \\sqrt{3}}{2 \\sqrt[3]{\\frac{27 \\sqrt{5}}{2} + \\frac{81}{2}}} + \\frac{\\sqrt{3}}{6} \\sqrt[3]{\\frac{27 \\sqrt{5}}{2} + \\frac{81}{2}}\\right), \\quad \\frac{3}{2 \\sqrt[3]{\\frac{27 \\sqrt{5}}{2} + \\frac{81}{2}}} + \\frac{1}{6} \\sqrt[3]{\\frac{27 \\sqrt{5}}{2} + \\frac{81}{2}} + 1 + i \\left(- \\frac{\\sqrt{3}}{6} \\sqrt[3]{\\frac{27 \\sqrt{5}}{2} + \\frac{81}{2}} + \\frac{3 \\sqrt{3}}{2 \\sqrt[3]{\\frac{27 \\sqrt{5}}{2} + \\frac{81}{2}}}\\right)\\right ]$$",
            "text/plain": [
              "⎡      ____________                                                  _________\n",
              "⎢     ╱ 27⋅√5   81                                                  ╱ 27⋅√5   \n",
              "⎢  3 ╱  ───── + ──                                               3 ╱  ───── + \n",
              "⎢  ╲╱     2     2            3                      3            ╲╱     2     \n",
              "⎢- ──────────────── - ──────────────── + 1, ────────────────── + ─────────────\n",
              "⎢         3               ____________            ____________          6     \n",
              "⎢                        ╱ 27⋅√5   81            ╱ 27⋅√5   81                 \n",
              "⎢                     3 ╱  ───── + ──       2⋅3 ╱  ───── + ──                 \n",
              "⎣                     ╲╱     2     2          ╲╱     2     2                  \n",
              "\n",
              "___         ⎛                              ____________⎞                      \n",
              "81          ⎜                             ╱ 27⋅√5   81 ⎟                      \n",
              "──          ⎜                       √3⋅3 ╱  ───── + ── ⎟                      \n",
              "2           ⎜         3⋅√3             ╲╱     2     2  ⎟          3           \n",
              "─── + 1 + ⅈ⋅⎜- ────────────────── + ───────────────────⎟, ────────────────── +\n",
              "            ⎜        ____________            6         ⎟        ____________  \n",
              "            ⎜       ╱ 27⋅√5   81                       ⎟       ╱ 27⋅√5   81   \n",
              "            ⎜  2⋅3 ╱  ───── + ──                       ⎟  2⋅3 ╱  ───── + ──   \n",
              "            ⎝    ╲╱     2     2                        ⎠    ╲╱     2     2    \n",
              "\n",
              "     ____________         ⎛         ____________                     ⎞⎤\n",
              "    ╱ 27⋅√5   81          ⎜        ╱ 27⋅√5   81                      ⎟⎥\n",
              " 3 ╱  ───── + ──          ⎜  √3⋅3 ╱  ───── + ──                      ⎟⎥\n",
              " ╲╱     2     2           ⎜     ╲╱     2     2            3⋅√3       ⎟⎥\n",
              " ──────────────── + 1 + ⅈ⋅⎜- ─────────────────── + ──────────────────⎟⎥\n",
              "        6                 ⎜           6                  ____________⎟⎥\n",
              "                          ⎜                             ╱ 27⋅√5   81 ⎟⎥\n",
              "                          ⎜                        2⋅3 ╱  ───── + ── ⎟⎥\n",
              "                          ⎝                          ╲╱     2     2  ⎠⎦"
            ]
          },
          "metadata": {
            "tags": []
          },
          "execution_count": 95
        }
      ]
    },
    {
      "cell_type": "code",
      "metadata": {
        "colab": {
          "base_uri": "https://localhost:8080/"
        },
        "id": "NHxkXDp8Bbft",
        "outputId": "d2dc7a9b-4f85-4a2c-ec18-1ef63b928ff2"
      },
      "source": [
        "type(sp.solveset(sp.Eq(sp.sin(x),0)))"
      ],
      "execution_count": 55,
      "outputs": [
        {
          "output_type": "execute_result",
          "data": {
            "text/plain": [
              "sympy.sets.sets.Union"
            ]
          },
          "metadata": {
            "tags": []
          },
          "execution_count": 55
        }
      ]
    },
    {
      "cell_type": "code",
      "metadata": {
        "colab": {
          "base_uri": "https://localhost:8080/",
          "height": 38
        },
        "id": "KbVbCGKlk06i",
        "outputId": "4fba0aae-d658-459d-a2c7-f7c96e06d26e"
      },
      "source": [
        "# finding solutions \n",
        "sp.solveset(sp.Eq(sp.sin(x),0), x)"
      ],
      "execution_count": 56,
      "outputs": [
        {
          "output_type": "execute_result",
          "data": {
            "image/png": "[encoded data removed]",
            "text/latex": "$$\\left\\{2 n \\pi\\; |\\; n \\in \\mathbb{Z}\\right\\} \\cup \\left\\{2 n \\pi + \\pi\\; |\\; n \\in \\mathbb{Z}\\right\\}$$",
            "text/plain": [
              "{2⋅n⋅π | n ∊ ℤ} ∪ {2⋅n⋅π + π | n ∊ ℤ}"
            ]
          },
          "metadata": {
            "tags": []
          },
          "execution_count": 56
        }
      ]
    },
    {
      "cell_type": "code",
      "metadata": {
        "id": "v_xbwfgUKTVw",
        "colab": {
          "base_uri": "https://localhost:8080/"
        },
        "outputId": "8673aac6-cc3b-45c3-c89c-5ef2879a9e9b"
      },
      "source": [
        "# algorithm for finding the extreme values of a function\n",
        "\n",
        "def in_dec_test(func,_x):\n",
        "    test_val = sp.diff(func, x).subs(x,_x)\n",
        "    if(test_val>0):\n",
        "        print(\"the point at ({0}, {1}, is increasing\".format(_x,test_val))\n",
        "    if(test_val<0):\n",
        "         print(\"the point at ({0}, {1}, is decreasing\".format(_x,test_val))\n",
        "\n",
        "def find_critical_num(func):\n",
        "    return np.array(sp.solveset(sp.Eq(func,0)))\n",
        "\n",
        "def first_diff_test(init_func):    # add feature: domain boundary\n",
        "    _critical_values = [sp.solveset(sp.diff(init_func,x),0)]    \n",
        "    # get list of corrdinates\n",
        "    _coordinates = [(_x, init_func.subs(x,_x)) for _x in _critical_values]\n",
        "    # determine what they are\n",
        "\n",
        "def second_diff_test(init_func):\n",
        "    _critical_values = list(sp.solveset(sp.Eq(sp.diff(init_func, x))))   \n",
        "    _relative_max = [(_x, init_func.subs(x,_x)) for _x in _critical_values if sp.diff(init_func, x,2).subs(x,_x)<0]\n",
        "    _relative_min = [(_x, init_func.subs(x,_x)) for _x in _critical_values if sp.diff(init_func, x,2).subs(x,_x)>0]\n",
        "    print(\"relative min\", _relative_min, \"\\n relative max:\", _relative_max)\n",
        "\n",
        "def concavity_test(x):\n",
        "    pass\n",
        "\n",
        "def plot_func(func,x_):\n",
        "    x_val = np.linspace(-x_,x_,1000)\n",
        "    y = lambda a: np.array([func.subs(x,a_) for a_ in a])\n",
        "    plt.plot(x_val,y(x_val))\n",
        "    plt.ylim(-x_,x_)\n",
        "\n",
        "\n",
        "fun = x**3-3*x**2+5\n",
        "second_diff_test(fun)"
      ],
      "execution_count": 128,
      "outputs": [
        {
          "output_type": "stream",
          "text": [
            "relative min [(2, 1)] \n",
            " relative max: [(0, 5)]\n"
          ],
          "name": "stdout"
        }
      ]
    },
    {
      "cell_type": "code",
      "metadata": {
        "colab": {
          "base_uri": "https://localhost:8080/"
        },
        "id": "r5Qfp8VSaTCL",
        "outputId": "be7637b3-50a9-4371-d9b9-cbffec3d62c7"
      },
      "source": [
        "init_func =  x**3-3*x**2+5\n",
        "_critical_values = list(sp.solveset(sp.Eq(sp.diff(init_func, x))))   \n",
        "_relative_max = [(_x, init_func.subs(x,_x)) for _x in _critical_values if sp.diff(init_func, x,2).subs(x,_x)<0]\n",
        "_relative_min = [(_x, init_func.subs(x,_x)) for _x in _critical_values if sp.diff(init_func, x,2).subs(x,_x)>0]\n",
        "print(\"relative min\", _relative_min, \"\\n relative max:\", _relative_max)"
      ],
      "execution_count": 121,
      "outputs": [
        {
          "output_type": "stream",
          "text": [
            "relative min [(2, 1)] \n",
            " relative max: [(0, 5)]\n"
          ],
          "name": "stdout"
        }
      ]
    },
    {
      "cell_type": "code",
      "metadata": {
        "colab": {
          "base_uri": "https://localhost:8080/",
          "height": 268
        },
        "id": "rE1KQ_WFc_uy",
        "outputId": "a603a610-ae61-4bcf-b494-931b5e07d30c"
      },
      "source": [
        "def plot_func(func,x_):\n",
        "    x_val = np.linspace(-x_,x_,1000)\n",
        "    y = lambda a: np.array([func.subs(x,a_) for a_ in a])\n",
        "    plt.plot(x_val,y(x_val))\n",
        "    plt.ylim(-x_,x_)\n",
        "\n",
        "plot_func(x**3-3*x**2+5, 6)"
      ],
      "execution_count": 172,
      "outputs": [
        {
          "output_type": "display_data",
          "data": {
            "image/png": "[encoded data removed]",
            "text/plain": [
              "<Figure size 432x288 with 1 Axes>"
            ]
          },
          "metadata": {
            "tags": [],
            "needs_background": "light"
          }
        }
      ]
    },
    {
      "cell_type": "code",
      "metadata": {
        "colab": {
          "base_uri": "https://localhost:8080/",
          "height": 37
        },
        "id": "Lcv30XwHXuNX",
        "outputId": "5e68baaa-93cc-4253-ff59-7951dec34ecd"
      },
      "source": [
        "f_ = x+1\n",
        "def f(_f):\n",
        "    return [(_x, _f.subs(x,_x)) for _x in range(0,10)]\n",
        "f(f_)"
      ],
      "execution_count": 112,
      "outputs": [
        {
          "output_type": "execute_result",
          "data": {
            "image/png": "[encoded data removed]",
            "text/latex": "$$\\left [ \\left ( 0, \\quad 1\\right ), \\quad \\left ( 1, \\quad 2\\right ), \\quad \\left ( 2, \\quad 3\\right ), \\quad \\left ( 3, \\quad 4\\right ), \\quad \\left ( 4, \\quad 5\\right ), \\quad \\left ( 5, \\quad 6\\right ), \\quad \\left ( 6, \\quad 7\\right ), \\quad \\left ( 7, \\quad 8\\right ), \\quad \\left ( 8, \\quad 9\\right ), \\quad \\left ( 9, \\quad 10\\right )\\right ]$$",
            "text/plain": [
              "[(0, 1), (1, 2), (2, 3), (3, 4), (4, 5), (5, 6), (6, 7), (7, 8), (8, 9), (9, 1\n",
              "0)]"
            ]
          },
          "metadata": {
            "tags": []
          },
          "execution_count": 112
        }
      ]
    },
    {
      "cell_type": "code",
      "metadata": {
        "colab": {
          "base_uri": "https://localhost:8080/",
          "height": 37
        },
        "id": "V6e023cDSiMv",
        "outputId": "37817e25-13a7-4633-db26-5cf13b94cbe8"
      },
      "source": [
        "list(sp.solveset(sp.Eq(sp.diff(x**2- 1, x))))\n",
        "# type(sp.diff(x**2-1,x))"
      ],
      "execution_count": 91,
      "outputs": [
        {
          "output_type": "execute_result",
          "data": {
            "image/png": "[encoded data removed]",
            "text/latex": "$$\\left [ 0\\right ]$$",
            "text/plain": [
              "[0]"
            ]
          },
          "metadata": {
            "tags": []
          },
          "execution_count": 91
        }
      ]
    },
    {
      "cell_type": "code",
      "metadata": {
        "colab": {
          "base_uri": "https://localhost:8080/",
          "height": 37
        },
        "id": "oiR1ffS6KGBN",
        "outputId": "ec9a9efa-221f-4508-ae17-8e783d6f3393"
      },
      "source": [
        "fc = sp.sin(x)\n",
        "[fc.subs(x, a) for a in range(0,10)]"
      ],
      "execution_count": 70,
      "outputs": [
        {
          "output_type": "execute_result",
          "data": {
            "image/png": "[encoded data removed]",
            "text/latex": "$$\\left [ 0, \\quad \\sin{\\left (1 \\right )}, \\quad \\sin{\\left (2 \\right )}, \\quad \\sin{\\left (3 \\right )}, \\quad \\sin{\\left (4 \\right )}, \\quad \\sin{\\left (5 \\right )}, \\quad \\sin{\\left (6 \\right )}, \\quad \\sin{\\left (7 \\right )}, \\quad \\sin{\\left (8 \\right )}, \\quad \\sin{\\left (9 \\right )}\\right ]$$",
            "text/plain": [
              "[0, sin(1), sin(2), sin(3), sin(4), sin(5), sin(6), sin(7), sin(8), sin(9)]"
            ]
          },
          "metadata": {
            "tags": []
          },
          "execution_count": 70
        }
      ]
    },
    {
      "cell_type": "markdown",
      "metadata": {
        "id": "HL8nbauSKVOP"
      },
      "source": [
        "## Multivariable Functions\n",
        "\n",
        "Discussion: \n",
        "\n",
        "Examples:\n",
        "\n",
        "Notes for the following code blocks:"
      ]
    },
    {
      "cell_type": "code",
      "metadata": {
        "id": "Vax7b9o1KaDo"
      },
      "source": [
        ""
      ],
      "execution_count": null,
      "outputs": []
    }
  ]
}