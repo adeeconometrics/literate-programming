{
  "nbformat": 4,
  "nbformat_minor": 0,
  "metadata": {
    "colab": {
      "name": "Probability Distributions_Continuous",
      "provenance": [],
      "authorship_tag": "ABX9TyMfnu0qlNQjmYKV9NFiQv4n",
      "include_colab_link": true
    },
    "kernelspec": {
      "name": "python3",
      "display_name": "Python 3"
    }
  },
  "cells": [
    {
      "cell_type": "markdown",
      "metadata": {
        "id": "view-in-github",
        "colab_type": "text"
      },
      "source": [
        "<a href=\"https://colab.research.google.com/github/adeeconometrics/literate-programming/blob/main/Probability_Distributions_Continuous.ipynb\" target=\"_parent\"><img src=\"https://colab.research.google.com/assets/colab-badge.svg\" alt=\"Open In Colab\"/></a>"
      ]
    },
    {
      "cell_type": "markdown",
      "metadata": {
        "id": "DeTjf3MbK4Qt"
      },
      "source": [
        "# Continuous Probability Distributions\n",
        "by Dave Amiana\n",
        "\n",
        "The purpose of this notebook is to introduce and explore some probability models for continuous variabbles; this can be seen as an extension of models in the discrete space.\n",
        "\n",
        "The following probability distributions that we shall explore in this notebook are listed as follows:\n",
        "\n",
        "- Normal-distribution\n",
        "    - standard normal distribution\n",
        "- t-distribution\n",
        "- F-distribution\n",
        "- $\\chi^2$ distribution\n",
        "- $\\Gamma$ distribution\n",
        "\n",
        "We will explore the derivation of these distributions, their motvation, assumptions, and applications. "
      ]
    },
    {
      "cell_type": "code",
      "metadata": {
        "id": "d7kVwi3bM-mA"
      },
      "source": [
        "# import all the relevant packages\n",
        "import matplotlib.pyplot as plt\n",
        "import numpy as np\n",
        "from sympy import init_printing, lambdify, N, gamma, beta, oo\n",
        "import sympy as sp\n",
        "\n",
        "sp.init_printing() # enable LaTeX output"
      ],
      "execution_count": 1,
      "outputs": []
    },
    {
      "cell_type": "code",
      "metadata": {
        "id": "iZwHfArif4Vf"
      },
      "source": [
        "x,y,z = sp.symbols('x,y,z')"
      ],
      "execution_count": 2,
      "outputs": []
    },
    {
      "cell_type": "markdown",
      "metadata": {
        "id": "vyVNcczerJOZ"
      },
      "source": [
        "## Continuous Uniform Distribution\n",
        "\n",
        "#### Definition\n",
        "\n",
        "Probability Density Function\n",
        "$$f(x)={\\begin{cases}{\\frac {1}{b-a}}&\\mathrm {for} \\ a\\leq x\\leq b,\\\\[8pt]0&\\mathrm {for} \\ x<a\\ \\mathrm {or} \\ x>b\\end{cases}}$$\n",
        "\n",
        "Cumulative Distribution Function\n",
        "$$F(x)={\\begin{cases}0&{\\text{for }}x<a\\\\[8pt]{\\frac {x-a}{b-a}}&{\\text{for }}a\\leq x\\leq b\\\\[8pt]1&{\\text{for }}x>b\\end{cases}}$$"
      ]
    },
    {
      "cell_type": "code",
      "metadata": {
        "id": "rGfoU8GprRoe"
      },
      "source": [
        "def uniform_dist_pdf(a,b, x):\n",
        "    if (x<a or x>b):\n",
        "        return 0\n",
        "    else:\n",
        "        return 1/(b-a)\n",
        "\n",
        "def uniform_dist_cdf(a,b, x):\n",
        "    if (x<a):\n",
        "        return 0\n",
        "    elif (x>b):\n",
        "        return 1\n",
        "    else: \n",
        "        return (x-a)/(b-a)"
      ],
      "execution_count": 4,
      "outputs": []
    },
    {
      "cell_type": "code",
      "metadata": {
        "colab": {
          "base_uri": "https://localhost:8080/",
          "height": 281
        },
        "id": "62NhMKRhGp4N",
        "outputId": "915a439b-4bc2-46e6-fc89-26f036b5395d"
      },
      "source": [
        "# visualizing pdf\n",
        "\n",
        "a=3;b=5;x_val = 1\n",
        "x_unif = np.linspace(-x_val, x_val, 100)\n",
        "y_unif_pdf = np.array([uniform_dist_pdf(a,b,i) for i in x_unif])\n",
        "\n",
        "plt.plot(x_unif, y_unif_pdf)"
      ],
      "execution_count": 13,
      "outputs": [
        {
          "output_type": "execute_result",
          "data": {
            "text/plain": [
              "[<matplotlib.lines.Line2D at 0x7fef9d3cd2e8>]"
            ]
          },
          "metadata": {
            "tags": []
          },
          "execution_count": 13
        },
        {
          "output_type": "display_data",
          "data": {
            "image/png": "[encoded data removed]",
            "text/plain": [
              "<Figure size 432x288 with 1 Axes>"
            ]
          },
          "metadata": {
            "tags": [],
            "needs_background": "light"
          }
        }
      ]
    },
    {
      "cell_type": "code",
      "metadata": {
        "colab": {
          "base_uri": "https://localhost:8080/"
        },
        "id": "Wm3C_hJvN9rW",
        "outputId": "3de263c4-39c6-4ad5-9a9c-0f2d245d6b26"
      },
      "source": [
        "np.cumsum(y_unif_pdf)[-1] # should be very close to 1"
      ],
      "execution_count": 14,
      "outputs": [
        {
          "output_type": "execute_result",
          "data": {
            "text/plain": [
              "0"
            ]
          },
          "metadata": {
            "tags": []
          },
          "execution_count": 14
        }
      ]
    },
    {
      "cell_type": "code",
      "metadata": {
        "colab": {
          "base_uri": "https://localhost:8080/",
          "height": 281
        },
        "id": "X-Q_xzzFOC0s",
        "outputId": "a88cc7f0-a6ae-4fd6-e082-491d5249f665"
      },
      "source": [
        "# visualizing cdf\n",
        "y_unif_cdf = np.array([uniform_dist_cdf(a,b,i) for i in x_unif])\n",
        "\n",
        "plt.plot(x_unif, y_unif_pdf)"
      ],
      "execution_count": 16,
      "outputs": [
        {
          "output_type": "execute_result",
          "data": {
            "text/plain": [
              "[<matplotlib.lines.Line2D at 0x7fef9d35b550>]"
            ]
          },
          "metadata": {
            "tags": []
          },
          "execution_count": 16
        },
        {
          "output_type": "display_data",
          "data": {
            "image/png": "[encoded data removed]",
            "text/plain": [
              "<Figure size 432x288 with 1 Axes>"
            ]
          },
          "metadata": {
            "tags": [],
            "needs_background": "light"
          }
        }
      ]
    },
    {
      "cell_type": "code",
      "metadata": {
        "colab": {
          "base_uri": "https://localhost:8080/"
        },
        "id": "SZ-OlmnAOL6U",
        "outputId": "469dd654-597e-478f-d8bb-276c529bea41"
      },
      "source": [
        "y_unif_cdf[-1]  # should be very close to 1"
      ],
      "execution_count": 17,
      "outputs": [
        {
          "output_type": "execute_result",
          "data": {
            "text/plain": [
              "0"
            ]
          },
          "metadata": {
            "tags": []
          },
          "execution_count": 17
        }
      ]
    },
    {
      "cell_type": "markdown",
      "metadata": {
        "id": "uivpeaeGHc9R"
      },
      "source": [
        "## The Normal Distribution\n",
        "\n",
        "*The most important continuous probability distribution in the entire field of statistics is the normal distribution - R. Walpole, 2002*\n",
        "\n",
        "The Normal Distribution has some notable properties that which some statistical analysis are predicated upon; we call these group of analyses as *parametric statistics*, the other group that which holds no assumptions with regards to the probabilitic distribution are called *nonparametric statistics*. \n",
        "\n",
        "Here are the notable features of the normal distribution that would be enough to begin our exploration with different hypotheses testing:\n",
        "-  The mean, median, and mode are located at the center of the distribution and are equal to each other;\n",
        "    - the distribution is unimodal\n",
        "- the curve is symmetric about the mean\n",
        "- the curve never touches the x-axis\n",
        "- the total area under a curve is equal to 1.00 or 100%\n",
        "\n",
        "### The Normal Curve \n",
        "The graph of the normal distibution is called the *normal curve*. The mathematical equation of the probability distribution of the normal curve depends on two parameters $\\mu$, the mean and $\\sigma$, the standard deviation. Hence we denote the values of the density function of $X$ by $n(x; \\mu, \\sigma)$. We formalize this definition below. \n",
        "\n",
        "\n",
        "If $X$ is a *normal random variable* with mean $\\mu$ and variance $\\sigma^2$, then the equation of the *normal curve* is \n",
        "\n",
        "$n(x;\\mu, \\sigma)= {\\frac{1}{\\sigma\\sqrt{2\\pi}}}e^{- {\\frac {1}{2}} (\\frac {x-\\mu}{\\sigma})^2}$, for $- \\infty<x< \\infty$\n",
        "\n",
        "Where:\n",
        "- $\\pi = 3.14159...$\n",
        "- $e = 2.71828...$\n",
        "\n",
        "Once $\\mu$ and $\\sigma$ are specified, the normal curve is completely determined.\n",
        "\n",
        "The simplest case of the normal distribution, which we shall cover in this notebook will be the case known as the *standard normal distribution* which is notable for the defining property of the distribution that has $\\mu =0$ and $\\sigma = 1$ adn described by the [probability density function](https://en.wikipedia.org/wiki/Probability_density_function)\n",
        "\n",
        "$${\\displaystyle \\varphi (x)={\\frac {1}{\\sqrt {2\\pi }}}e^{-{\\frac {1}{2}}x^{2}}}$$\n",
        "\n",
        "Here, the factor $1/{\\sqrt {2\\pi }}$ ensures that the total area under the curve $\\varphi (x)$ is equal to one. The factor $1/2$ in the exponent ensures that the distribution has unit variance (i.e., variance being equal to one), and therefore also unit standard deviation. This function is symmetric around $x=0$, where it attains its maximum value $1/{\\sqrt {2\\pi }}$ and has inflection points at ${\\displaystyle x=+1}$ and $x=-1$.\n",
        "\n",
        "----\n",
        "### Applications of the area under a curve\n",
        "\n",
        "The area under the standard normal distribution can be thought of as a probability i.e. if it were possible to select any z-value at random, the probability of choosing one, say between $z_1$ and $z_2$ would be the same as the area under the curve between $z_1$ and $z_2$.\n",
        "\n"
      ]
    },
    {
      "cell_type": "code",
      "metadata": {
        "id": "6LMueH9NOZo6"
      },
      "source": [
        "def normal_dist_f(x):\n",
        "    return 1/(np.sqrt(2*np.pi))*np.power(np.e, -1/2*x**2)"
      ],
      "execution_count": null,
      "outputs": []
    },
    {
      "cell_type": "markdown",
      "metadata": {
        "id": "bJRWFDkG5res"
      },
      "source": [
        "The normal distribution\n",
        "\n",
        "$${\\displaystyle f(x)={\\frac {1}{\\sigma {\\sqrt {2\\pi }}}}e^{-{\\frac {1}{2}}\\left({\\frac {x-\\mu }{\\sigma }}\\right)^{2}}}$$"
      ]
    },
    {
      "cell_type": "code",
      "metadata": {
        "id": "Z0xHME7RAXwk"
      },
      "source": [
        "# PDF given x\n",
        "def norm_dist_pdf(x, mean, std):\n",
        "    return (1/(np.sqrt(2*np.pi * np.power(std, 2))))* np.power(np.e, -(np.power((x - mean), 2) / (2 * np.power(std, 2))))"
      ],
      "execution_count": 3,
      "outputs": []
    },
    {
      "cell_type": "code",
      "metadata": {
        "id": "xcAAKwuO-aAp",
        "colab": {
          "base_uri": "https://localhost:8080/",
          "height": 303
        },
        "outputId": "38890bf0-649b-4d7b-d59b-0148c0e790b4"
      },
      "source": [
        "#plotting the pdf\n",
        "mean = 0; std = 1\n",
        "x_norm = np.linspace(-5,5,1000)\n",
        "y_norm_f =  np.array([norm_dist_pdf(x_i, mean, std) for x_i in x_norm])\n",
        "\n",
        "plt.title(\"The Normal Distribution\")\n",
        "plt.plot(x_norm,y_norm_f)"
      ],
      "execution_count": 9,
      "outputs": [
        {
          "output_type": "execute_result",
          "data": {
            "text/plain": [
              "[<matplotlib.lines.Line2D at 0x7f26a843d3c8>]"
            ]
          },
          "metadata": {
            "tags": []
          },
          "execution_count": 9
        },
        {
          "output_type": "display_data",
          "data": {
            "image/png": "[encoded data removed]",
            "text/plain": [
              "<Figure size 432x288 with 1 Axes>"
            ]
          },
          "metadata": {
            "tags": [],
            "needs_background": "light"
          }
        }
      ]
    },
    {
      "cell_type": "code",
      "metadata": {
        "colab": {
          "base_uri": "https://localhost:8080/",
          "height": 37
        },
        "id": "aO0lcL3OWz3c",
        "outputId": "fb64cefc-2f60-477f-dcd9-44369ba1b432"
      },
      "source": [
        "np.cumsum(y_norm_f)[-1]"
      ],
      "execution_count": null,
      "outputs": [
        {
          "output_type": "execute_result",
          "data": {
            "image/png": "[encoded data removed]",
            "text/latex": "$$99.89994420133425$$",
            "text/plain": [
              "99.89994420133425"
            ]
          },
          "metadata": {
            "tags": []
          },
          "execution_count": 19
        }
      ]
    },
    {
      "cell_type": "code",
      "metadata": {
        "colab": {
          "base_uri": "https://localhost:8080/",
          "height": 283
        },
        "id": "YWvy8NmlXwWM",
        "outputId": "57516ad9-757c-42c9-b41d-0e1ebc56e2d6"
      },
      "source": [
        "plt.plot(x_norm,np.cumsum(y_norm_f))"
      ],
      "execution_count": 16,
      "outputs": [
        {
          "output_type": "execute_result",
          "data": {
            "text/plain": [
              "[<matplotlib.lines.Line2D at 0x7f26a7d2d7f0>]"
            ]
          },
          "metadata": {
            "tags": []
          },
          "execution_count": 16
        },
        {
          "output_type": "display_data",
          "data": {
            "image/png": "[encoded data removed]",
            "text/plain": [
              "<Figure size 432x288 with 1 Axes>"
            ]
          },
          "metadata": {
            "tags": [],
            "needs_background": "light"
          }
        }
      ]
    },
    {
      "cell_type": "markdown",
      "metadata": {
        "id": "PwI5zsJT1mgv"
      },
      "source": [
        "### Cumulative Distribution Function:\n",
        "$${\\displaystyle \\Phi (x)={\\frac {1}{\\sqrt {2\\pi }}}\\int _{-\\infty }^{x}e^{-t^{2}/2}\\,dt}$$\n",
        "\n",
        "The above integral cannot be expressed in terms of elementary functions, and are often said to be [special functions](https://en.wikipedia.org/wiki/Special_function). "
      ]
    },
    {
      "cell_type": "code",
      "metadata": {
        "id": "yfVIatOZyP2W"
      },
      "source": [
        "# introduce relevant symbol\n",
        "t = sp.symbols(\"t\")"
      ],
      "execution_count": 19,
      "outputs": []
    },
    {
      "cell_type": "code",
      "metadata": {
        "id": "sG0wp4YzbkyW"
      },
      "source": [
        "# CDF - test this function\n",
        "def norm_dist_cdf(*x_0, lower=\"-oo\", upper=None):\n",
        "    if(upper==None):\n",
        "        cdf = 1/(sp.sqrt(2*sp.pi))* sp.integrate(sp.E(-t/2),(x, lower, x_0))\n",
        "        return cdf\n",
        "    else:\n",
        "        cdf = 1/(sp.sqrt(2*sp.pi))* sp.integrate(sp.E(-t/2),(x, lower, upper))\n",
        "        return cdf"
      ],
      "execution_count": 24,
      "outputs": []
    },
    {
      "cell_type": "code",
      "metadata": {
        "colab": {
          "base_uri": "https://localhost:8080/",
          "height": 272
        },
        "id": "GzYCeWgpkWz4",
        "outputId": "10af2902-0ecd-46fa-b3c7-8af2309baec3"
      },
      "source": [
        "norm_dist_cdf(0)"
      ],
      "execution_count": 25,
      "outputs": [
        {
          "output_type": "error",
          "ename": "TypeError",
          "evalue": "ignored",
          "traceback": [
            "\u001b[0;31m---------------------------------------------------------------------------\u001b[0m",
            "\u001b[0;31mTypeError\u001b[0m                                 Traceback (most recent call last)",
            "\u001b[0;32m<ipython-input-25-4ca16ab13aa9>\u001b[0m in \u001b[0;36m<module>\u001b[0;34m()\u001b[0m\n\u001b[0;32m----> 1\u001b[0;31m \u001b[0mnorm_dist_cdf\u001b[0m\u001b[0;34m(\u001b[0m\u001b[0;36m0\u001b[0m\u001b[0;34m)\u001b[0m\u001b[0;34m\u001b[0m\u001b[0;34m\u001b[0m\u001b[0m\n\u001b[0m",
            "\u001b[0;32m<ipython-input-24-073f3f667ded>\u001b[0m in \u001b[0;36mnorm_dist_cdf\u001b[0;34m(lower, upper, *x_0)\u001b[0m\n\u001b[1;32m      2\u001b[0m \u001b[0;32mdef\u001b[0m \u001b[0mnorm_dist_cdf\u001b[0m\u001b[0;34m(\u001b[0m\u001b[0;34m*\u001b[0m\u001b[0mx_0\u001b[0m\u001b[0;34m,\u001b[0m \u001b[0mlower\u001b[0m\u001b[0;34m=\u001b[0m\u001b[0;34m\"-oo\"\u001b[0m\u001b[0;34m,\u001b[0m \u001b[0mupper\u001b[0m\u001b[0;34m=\u001b[0m\u001b[0;32mNone\u001b[0m\u001b[0;34m)\u001b[0m\u001b[0;34m:\u001b[0m\u001b[0;34m\u001b[0m\u001b[0;34m\u001b[0m\u001b[0m\n\u001b[1;32m      3\u001b[0m     \u001b[0;32mif\u001b[0m\u001b[0;34m(\u001b[0m\u001b[0mupper\u001b[0m\u001b[0;34m==\u001b[0m\u001b[0;32mNone\u001b[0m\u001b[0;34m)\u001b[0m\u001b[0;34m:\u001b[0m\u001b[0;34m\u001b[0m\u001b[0;34m\u001b[0m\u001b[0m\n\u001b[0;32m----> 4\u001b[0;31m         \u001b[0mcdf\u001b[0m \u001b[0;34m=\u001b[0m \u001b[0;36m1\u001b[0m\u001b[0;34m/\u001b[0m\u001b[0;34m(\u001b[0m\u001b[0msp\u001b[0m\u001b[0;34m.\u001b[0m\u001b[0msqrt\u001b[0m\u001b[0;34m(\u001b[0m\u001b[0;36m2\u001b[0m\u001b[0;34m*\u001b[0m\u001b[0msp\u001b[0m\u001b[0;34m.\u001b[0m\u001b[0mpi\u001b[0m\u001b[0;34m)\u001b[0m\u001b[0;34m)\u001b[0m\u001b[0;34m*\u001b[0m \u001b[0msp\u001b[0m\u001b[0;34m.\u001b[0m\u001b[0mintegrate\u001b[0m\u001b[0;34m(\u001b[0m\u001b[0msp\u001b[0m\u001b[0;34m.\u001b[0m\u001b[0mE\u001b[0m\u001b[0;34m(\u001b[0m\u001b[0;34m-\u001b[0m\u001b[0mt\u001b[0m\u001b[0;34m/\u001b[0m\u001b[0;36m2\u001b[0m\u001b[0;34m)\u001b[0m\u001b[0;34m,\u001b[0m\u001b[0;34m(\u001b[0m\u001b[0mx\u001b[0m\u001b[0;34m,\u001b[0m \u001b[0mlower\u001b[0m\u001b[0;34m,\u001b[0m \u001b[0mx_0\u001b[0m\u001b[0;34m)\u001b[0m\u001b[0;34m)\u001b[0m\u001b[0;34m\u001b[0m\u001b[0;34m\u001b[0m\u001b[0m\n\u001b[0m\u001b[1;32m      5\u001b[0m         \u001b[0;32mreturn\u001b[0m \u001b[0mcdf\u001b[0m\u001b[0;34m\u001b[0m\u001b[0;34m\u001b[0m\u001b[0m\n\u001b[1;32m      6\u001b[0m     \u001b[0;32melse\u001b[0m\u001b[0;34m:\u001b[0m\u001b[0;34m\u001b[0m\u001b[0;34m\u001b[0m\u001b[0m\n",
            "\u001b[0;31mTypeError\u001b[0m: 'Exp1' object is not callable"
          ]
        }
      ]
    },
    {
      "cell_type": "code",
      "metadata": {
        "id": "gcfl6LrGCLuS"
      },
      "source": [
        "# plotting CDF\n",
        "def norm_dist_cdf_plot(_x):\n",
        "    pass"
      ],
      "execution_count": null,
      "outputs": []
    },
    {
      "cell_type": "code",
      "metadata": {
        "id": "3iR4Vd4FXc_5"
      },
      "source": [
        "# transforming normal distributions to standard normal through z-scores\n"
      ],
      "execution_count": null,
      "outputs": []
    },
    {
      "cell_type": "markdown",
      "metadata": {
        "id": "AvVRXhxE-V-P"
      },
      "source": [
        "----\n",
        "### Basic Concepts Related to  Hypothesis Testing\n",
        "Hypothesis testing is a decision-making procedure for evaluating claims about a population. \n",
        "\n",
        "- Null Hypothesis - hypotheses that were formulated with the hope that they be rejected. \n",
        "    - the assumption that experimental results are due to chance alone\n",
        "    - assumes things to be equal $\\{ =, \\leq, \\geq\\}$\n",
        "\n",
        "- Alternative Hypothesis - allows for the possibility of several values \n",
        "    - statement which is true if the null hypothesis is false\n",
        "    - does not include equality $\\{ \\neq, <, >\\}$\n",
        "\n",
        "- Statistical Test - uses the data obtained from a sample to make decisions about whether the null hypothesis should be rejected \n",
        "    - Test Values - pertains to the numerical value obtained from the statistical test; hypothesis testing is a decision made to reject or not reject the null hypothesis on the basis of the **test value**.\n",
        "\n",
        "- Errors\n",
        "    - Type 1 ($\\alpha$) - if you reject the $H_0$ when it is true (false positives) \n",
        "        - happens when our *significance level is too large*\n",
        "    - Type 2 ($\\beta$) - if you did not reject the $H_0$ when it is false (false negative)\n",
        "        - happens when our *significance level is too small*\n",
        "\n",
        "- Critical Values - determines critical and non-critical regions upon which our decision will be based on. \n",
        "    - Critical region - the range of values of the **test value** that indicates that there is a significant difference and the $H_0$ should be rejected.\n",
        "    - non-critical region - the range of values of the **test value** that indicates the difference was probably due to chance and that the $H_0$ should not be rejected. \n",
        "    \n",
        "- Level of Significance - the maximum probability (or threshold) of committing a **type 1 error**. \n",
        "\n",
        "\n",
        "The procedure for testing the *acceptability* of an assertion given by the *hypothesis statement*. The crucial step of this procedure is for declaring our hypothesis statements and making decisions about the hypothesis. \n",
        "\n",
        "1. Define the population\n",
        "2. Select a sample from the population (collect data)\n",
        "3. State the particular hypothesis that will be investigated \n",
        "    - Null hypothesis ($H_0$) - assets that there is *no significant difference between a parameter and a specific value*.\n",
        "    - Alternative hypothesis ($H_a$) - asserts that there is a difference between parameters\n",
        "4. Give the significance level. The default value is $\\alpha = 0.05$. \n",
        "5. Choose the appropriate **test statistic** and establish the **rejection region**\n",
        "6. Compute for the value of the test statistic from the sample\n",
        "7. Makr a decision. Reject $H_0$ if the test statistic has a value in the critical region, otherwise do not reject. \n",
        "8. Reach a conclusion. "
      ]
    },
    {
      "cell_type": "code",
      "metadata": {
        "id": "EQo9o-Sq417X",
        "colab": {
          "base_uri": "https://localhost:8080/",
          "height": 71
        },
        "outputId": "4453f71b-eec2-4ea9-db37-154ad37ad14a"
      },
      "source": [
        "# computing the z-score\n",
        "P =  1/(sp.sqrt(2*sp.pi))*sp.E**((-x**2)/2)\n",
        "# uppper bound\n",
        "u = oo\n",
        "# lower bound\n",
        "l = -oo\n",
        "display(sp.Integral(P,(x,l,u)))\n",
        "\n",
        "sp.integrate(P,(x,l,u))"
      ],
      "execution_count": 23,
      "outputs": [
        {
          "output_type": "display_data",
          "data": {
            "image/png": "[encoded data removed]",
            "text/latex": "$$\\int_{-\\infty}^{\\infty} \\frac{\\sqrt{2} e^{- \\frac{x^{2}}{2}}}{2 \\sqrt{\\pi}}\\, dx$$",
            "text/plain": [
              "∞             \n",
              "⌠             \n",
              "⎮        2    \n",
              "⎮      -x     \n",
              "⎮      ────   \n",
              "⎮       2     \n",
              "⎮  √2⋅ℯ       \n",
              "⎮  ──────── dx\n",
              "⎮    2⋅√π     \n",
              "⌡             \n",
              "-∞            "
            ]
          },
          "metadata": {
            "tags": []
          }
        },
        {
          "output_type": "execute_result",
          "data": {
            "image/png": "[encoded data removed]",
            "text/latex": "$$1$$",
            "text/plain": [
              "1"
            ]
          },
          "metadata": {
            "tags": []
          },
          "execution_count": 23
        }
      ]
    },
    {
      "cell_type": "code",
      "metadata": {
        "id": "x6VIOOZl3sEi",
        "colab": {
          "base_uri": "https://localhost:8080/",
          "height": 281
        },
        "outputId": "6233143d-3289-4756-e052-c0118a18c087"
      },
      "source": [
        "# plotting shaded region of the z-distribution\n",
        "from scipy.stats import norm\n",
        "\n",
        "x = np.arange(-3,9,0.001)\n",
        "\n",
        "def draw_z_score(x, cond, mu, sigma, title):\n",
        "    y = norm.pdf(x, mu, sigma)\n",
        "    z = x[cond]\n",
        "    plt.plot(x, y)\n",
        "    plt.fill_between(z, 0, norm.pdf(z, mu, sigma))\n",
        "    plt.title(title)\n",
        "    plt.show()\n",
        "\n",
        "\n",
        "z = 2\n",
        "draw_z_score(x, x<z, 3.5, 1.5, \"x<z\")"
      ],
      "execution_count": null,
      "outputs": [
        {
          "output_type": "display_data",
          "data": {
            "image/png": "[encoded data removed]",
            "text/plain": [
              "<Figure size 432x288 with 1 Axes>"
            ]
          },
          "metadata": {
            "tags": [],
            "needs_background": "light"
          }
        }
      ]
    },
    {
      "cell_type": "code",
      "metadata": {
        "id": "_dAuaYkdPLlH"
      },
      "source": [
        ""
      ],
      "execution_count": null,
      "outputs": []
    },
    {
      "cell_type": "markdown",
      "metadata": {
        "id": "J7GFz9h9RZ2A"
      },
      "source": [
        "## T distribution\n",
        "Discussion:\n",
        "\n",
        "The student's t-distribution (or simply t-distribution) is  any member of a family of continuous probability distributions that arise when estimating the mean of a normally-distributed population in situations where the sample size is small and the population's standard deviation is unknown.\n",
        "\n",
        "### Functional Definition\n",
        "#### Probability Density Function:\n",
        "\n",
        "The probability density function is symmetric, and its overall shape resembles the bell shape of a normally distributed variable with mean 0 and variance 1, except that it is a bit lower and wider. As the number of degrees of freedom grows, the t-distribution approaches the normal distribution with mean 0 and variance 1\n",
        "\n",
        "$$f(t) = \\frac{\\Gamma(\\frac{\\nu+1}{2})} {\\sqrt{\\nu\\pi}\\,\\Gamma(\\frac{\\nu}{2})} \\left(1+\\frac{t^2}{\\nu} \\right)^{\\!-\\frac{\\nu+1}{2}},\\!$$\n",
        "\n",
        "where $v$ is the number of degrees of freedom and $\\Gamma$ is the [gamma function](https://en.wikipedia.org/wiki/Gamma_function).\n",
        "\n",
        "The density function of the t-distribution may also be written in terms of the $\\beta$ -function. \n",
        "\n",
        "$$f(t) = \\frac{1}{\\sqrt{\\nu}\\,\\mathrm{B} (\\frac{1}{2}, \\frac{\\nu}{2})} \\left(1+\\frac{t^2}{\\nu} \\right)^{\\!-\\frac{\\nu+1}{2}}\\!,$$\n",
        "\n",
        "where B is the [beta-function](https://en.wikipedia.org/wiki/Beta_function). \n",
        "\n",
        "#### Cumulative Distribution Function:\n",
        "\n",
        "The cumulative distribution function can be written in terms of I, the regularized incomplete beta function. For t > 0,\n",
        "\n",
        "$${\\displaystyle F(t)=\\int _{-\\infty }^{t}f(u)\\,du=1-{\\tfrac {1}{2}}I_{x(t)}\\left({\\tfrac {\\nu }{2}},{\\tfrac {1}{2}}\\right),}$$\n",
        "\n",
        "where\n",
        "\n",
        "$$x(t) = \\frac{\\nu}{{t^2+\\nu}}$$\n",
        "\n",
        "Other values would be obtained by symmetry. An alternative formula, valid for $t^2 < \\nu$, is\n",
        "\n",
        "$${\\displaystyle \\int _{-\\infty }^{t}f(u)\\,du={\\tfrac {1}{2}}+t{\\frac {\\Gamma \\left({\\tfrac {1}{2}}(\\nu +1)\\right)}{{\\sqrt {\\pi \\nu }}\\,\\Gamma \\left({\\tfrac {\\nu }{2}}\\right)}}\\,{}_{2}F_{1}\\left({\\tfrac {1}{2}},{\\tfrac {1}{2}}(\\nu +1);{\\tfrac {3}{2}};-{\\tfrac {t^{2}}{\\nu }}\\right),}$$\n",
        "\n",
        "where $_ 2F_1$ is a particular case of the hypergeometric function.\n",
        "\n",
        "For implementing this distribution, we will use a library in SymPy to define the gamma function and beta-function symbolically. \n"
      ]
    },
    {
      "cell_type": "code",
      "metadata": {
        "id": "CRhBPsWX-QAF"
      },
      "source": [
        "# introduct symbols\n",
        "df, t = sp.symbols(\"v, t\")"
      ],
      "execution_count": null,
      "outputs": []
    },
    {
      "cell_type": "markdown",
      "metadata": {
        "id": "kPvd6lUQuR6y"
      },
      "source": [
        "### $\\Gamma$-function:\n",
        "\n",
        "$$\\Gamma(x) := \\int^{\\infty}_{0} t^{x-1} e^{-t} \\mathrm{d}t.$$"
      ]
    },
    {
      "cell_type": "code",
      "metadata": {
        "colab": {
          "base_uri": "https://localhost:8080/",
          "height": 36
        },
        "id": "3g0ndFUFuUOT",
        "outputId": "73e22598-808c-4e8f-f32c-0547622a3cad"
      },
      "source": [
        "# user-defined lambda function definition from the above integral\n",
        "# for some reason this is much slower than SymPy's implementation of the Gamma function\n",
        "\n",
        "g = lambda x: N(sp.Integral(t**(x-1)*E**(- t),(t,0, oo)))\n",
        "g(sp.pi)"
      ],
      "execution_count": null,
      "outputs": [
        {
          "output_type": "execute_result",
          "data": {
            "image/png": "[encoded data removed]",
            "text/latex": "$$2.28803779534003$$",
            "text/plain": [
              "2.28803779534003"
            ]
          },
          "metadata": {
            "tags": []
          },
          "execution_count": 13
        }
      ]
    },
    {
      "cell_type": "code",
      "metadata": {
        "colab": {
          "base_uri": "https://localhost:8080/",
          "height": 36
        },
        "id": "yBYP8ly82Cmc",
        "outputId": "6bd0f920-e7c5-4189-9a0d-57a5748d1731"
      },
      "source": [
        "# using the gamma function implementation in Sympy\n",
        "N(gamma(pi))"
      ],
      "execution_count": null,
      "outputs": [
        {
          "output_type": "execute_result",
          "data": {
            "image/png": "[encoded data removed]",
            "text/latex": "$$2.28803779534003$$",
            "text/plain": [
              "2.28803779534003"
            ]
          },
          "metadata": {
            "tags": []
          },
          "execution_count": 32
        }
      ]
    },
    {
      "cell_type": "code",
      "metadata": {
        "colab": {
          "base_uri": "https://localhost:8080/",
          "height": 288
        },
        "id": "nE5503rh3v2l",
        "outputId": "120870c8-4054-4144-d291-f83a7cb01480"
      },
      "source": [
        "# plotting the gamma function using scipy\n",
        "\n",
        "# defining gamma function in numpy\n",
        "x = np.linspace(-5, 5, 10000)\n",
        "γ = np.array([gamma(i) for i in x])\n",
        "\n",
        "plt.plot(x, γ)\n",
        "plt.ylim(-2,2)"
      ],
      "execution_count": null,
      "outputs": [
        {
          "output_type": "execute_result",
          "data": {
            "image/png": "[encoded data removed]",
            "text/latex": "$$\\left ( -2.0, \\quad 2.0\\right )$$",
            "text/plain": [
              "(-2.0, 2.0)"
            ]
          },
          "metadata": {
            "tags": []
          },
          "execution_count": 23
        },
        {
          "output_type": "display_data",
          "data": {
            "image/png": "[encoded data removed]",
            "text/plain": [
              "<Figure size 432x288 with 1 Axes>"
            ]
          },
          "metadata": {
            "tags": [],
            "needs_background": "light"
          }
        }
      ]
    },
    {
      "cell_type": "code",
      "metadata": {
        "colab": {
          "base_uri": "https://localhost:8080/",
          "height": 36
        },
        "id": "CQ_39lfBCs3U",
        "outputId": "900eb9dc-bc83-470a-b6f2-573c3bfb5a12"
      },
      "source": [
        "# Γ function definition of PDF\n",
        "expr = (sp.gamma((df+1)/2)/(sp.sqrt(df*sp.pi)*(sp.gamma(df/2))))*(1+(t**2/df))**(-(df+1)/2)\n",
        "k = sp.lambdify([df,t], expr, \"sympy\")\n",
        "res  = k(1,.1)\n",
        "N(res)"
      ],
      "execution_count": null,
      "outputs": [
        {
          "output_type": "execute_result",
          "data": {
            "image/png": "[encoded data removed]",
            "text/latex": "$$0.315158303152268$$",
            "text/plain": [
              "0.315158303152268"
            ]
          },
          "metadata": {
            "tags": []
          },
          "execution_count": 12
        }
      ]
    },
    {
      "cell_type": "markdown",
      "metadata": {
        "id": "p7fGU8lmEjju"
      },
      "source": [
        "### The $\\beta$ - function:\n",
        "$${\\displaystyle \\mathrm {B} (x,y)=\\int _{0}^{1}t^{x-1}(1-t)^{y-1}\\,dt}$$"
      ]
    },
    {
      "cell_type": "code",
      "metadata": {
        "colab": {
          "base_uri": "https://localhost:8080/",
          "height": 36
        },
        "id": "3ArSDL3D9mqx",
        "outputId": "35ffc493-079c-4d53-b407-3788c10b07cc"
      },
      "source": [
        "# β function definition of PDF\n",
        "B  = lambda x_0, y_0: sp.Integral(t**(x_0-1)*(1-t)**(y_0-1), (t,0,1))\n",
        "N(B(3,4))"
      ],
      "execution_count": null,
      "outputs": [
        {
          "output_type": "execute_result",
          "data": {
            "image/png": "[encoded data removed]",
            "text/latex": "$$0.0166666666666667$$",
            "text/plain": [
              "0.0166666666666667"
            ]
          },
          "metadata": {
            "tags": []
          },
          "execution_count": 25
        }
      ]
    },
    {
      "cell_type": "code",
      "metadata": {
        "colab": {
          "base_uri": "https://localhost:8080/",
          "height": 36
        },
        "id": "-lBHIZxzDtPS",
        "outputId": "70bf6678-9182-4dfb-d31d-e2598932eb52"
      },
      "source": [
        "# β function implementation in SymPy\n",
        "N(sp.beta(3,4))"
      ],
      "execution_count": null,
      "outputs": [
        {
          "output_type": "execute_result",
          "data": {
            "image/png": "[encoded data removed]",
            "text/latex": "$$0.0166666666666667$$",
            "text/plain": [
              "0.0166666666666667"
            ]
          },
          "metadata": {
            "tags": []
          },
          "execution_count": 27
        }
      ]
    },
    {
      "cell_type": "markdown",
      "metadata": {
        "id": "DNuLZMPgEqSL"
      },
      "source": [
        "### PDF of T-distribution\n",
        "$$f(t) = \\frac{\\Gamma(\\frac{\\nu+1}{2})} {\\sqrt{\\nu\\pi}\\,\\Gamma(\\frac{\\nu}{2})} \\left(1+\\frac{t^2}{\\nu} \\right)^{\\!-\\frac{\\nu+1}{2}}\\!$$"
      ]
    },
    {
      "cell_type": "code",
      "metadata": {
        "id": "WEtbsXyU-E6a"
      },
      "source": [
        "# definition of the pdf - for graphing the distirbution\n",
        "def t_dist_pdf(df, t):\n",
        "    val = sp.gamma((df+1)/2)/(sp.sqrt(df*sp.pi)*sp.gamma(df/2))*(1+(t**2/df))**(-((df+1)/2))\n",
        "    return N(val)"
      ],
      "execution_count": null,
      "outputs": []
    },
    {
      "cell_type": "markdown",
      "metadata": {
        "id": "o3sSfV9wEyFn"
      },
      "source": [
        "### CDF of T-distribution\n",
        "$$\\int_{-\\infty}^{t} f(x,t) dt$$"
      ]
    },
    {
      "cell_type": "code",
      "metadata": {
        "id": "yPrEo1BHEtlI"
      },
      "source": [
        "# definition of the cmf -  for finding the probability values\n",
        "def t_dist_cdf(df, *a, lower = \"-oo\", upper=None):\n",
        "    expr = sp.gamma((df+1)/2)/(sp.sqrt(df*sp.pi)*sp.gamma(df/2))*(1+(t**2/df))**(-((df+1)/2))\n",
        "    if(upper==None):\n",
        "        val = sp.Integral(expr, (t,lower,a))\n",
        "    if(upper!=None):\n",
        "         val = sp.Integral(expr, (t,lower,upper))\n",
        "    return N(val)\n",
        "\n",
        "# t_dist_cdf(10, lower=-1, upper=1)"
      ],
      "execution_count": null,
      "outputs": []
    },
    {
      "cell_type": "code",
      "metadata": {
        "id": "Zc_Uy-Kq-GEJ"
      },
      "source": [
        "# to-do: improve function as lambda function with loc and scale, and shading\n",
        "# plotting the t-distribution\n",
        "from scipy.special import gamma \n",
        "\n",
        "def t_dist_np(x, t=0): # loc, scale, df\n",
        "    val = gamma((x+1)/2)/(np.sqrt(x*np.pi)*gamma(x/2))*(1+(t**2/x))**(-((x+1)/2))\n",
        "    return val\n",
        "\n",
        "x = np.linspace(-5,5, 10000)\n",
        "y = np.array([t_dist_np(1,i) for i in x])\n",
        "\n",
        "plt.plot(x,y)"
      ],
      "execution_count": null,
      "outputs": []
    },
    {
      "cell_type": "markdown",
      "metadata": {
        "id": "RYEvCJUeCgP-"
      },
      "source": [
        "#### Comparing single means test statistic\n",
        "Standard normal transformation: for transforming all normally distributed variables to standard normal distribution of variables $(\\mu =0; \\sigma =1)$.\n",
        "$$z = \\frac{\\bar{x}-\\mu}{\\sigma}$$\n",
        "\n",
        "- z-test\n",
        "    - assumes (1) the mean $\\mu$ of the population is known; (2) $n\\geq 30$ or when the population is normally distributed $\\sigma$ is known. \n",
        "    $$z = \\frac{\\bar{X}-\\mu}{\\sigma / \\sqrt{n}}$$\n",
        "- t-test\n",
        "    - used as an alternative to z-test when (1) sample size is small $n\\leq 30$, (2) $\\sigma$ is not known, and when (3) the population is normally or approximately normally distributed. \n",
        "    $$t = \\frac{\\bar{X}-\\mu}{s/ \\sqrt{n}} $$"
      ]
    },
    {
      "cell_type": "code",
      "metadata": {
        "id": "cWJ0VKBvRSDY"
      },
      "source": [
        "def std_normal(x, mu, sigma):\n",
        "    return (x - mu)/sigma\n",
        "\n",
        "def z_test(X, mu, sigma, n):\n",
        "    return (X-mu)/(sigma/m.sqrt(n))\n",
        "\n",
        "def t_test(X, mu, s, n):\n",
        "    return (X-mu)/(s/m.sqrt(n))"
      ],
      "execution_count": null,
      "outputs": []
    },
    {
      "cell_type": "markdown",
      "metadata": {
        "id": "7m_2pOWy4_KK"
      },
      "source": [
        "#### Comparing difference between means \n",
        "- Z-test\n",
        "$$z = \\frac{(\\bar{x_1}-\\bar{x_2})-(\\mu_1-\\mu_2)}{\\sqrt{\\frac{\\sigma_1^2}{n_1}+\\frac{\\sigma_2^2}{n_2}}}$$\n",
        "- T-test unequal variance\n",
        "$$t = \\frac{(\\bar{x_1}-\\bar{x_2})-(\\mu_1-\\mu_2)}{\\sqrt{\\frac{s_1^2}{n_1}+\\frac{s_2^2}{n_2}}}$$\n",
        "- T-test equal variance\n",
        "$$t =  \\frac{(\\bar{x_1}-\\bar{x_2})-(\\mu_1-\\mu_2)}{\\sqrt{\\frac{(n_1-1)s_1^2 + (n_2-1)s_2^2}{n_1+n_2-2}}\\cdot \\sqrt{\\frac{1}{n_1}+\\frac{1}{n_2}}}$$"
      ]
    },
    {
      "cell_type": "code",
      "metadata": {
        "id": "e8fEqgiB5nqk"
      },
      "source": [
        "# using the math module \n",
        "\n",
        "z_2 = lambda x1, x2, sig1,sig2, n1,n2: (x1-x2)/(m.sqrt((m.pow(sig1,2)/n1)+(m.pow(sig2,2)/n2)))\n",
        "t_2uneq = lambda x1, x2, s1,s2, n1,n2: (x1-x2)/(m.sqrt((m.pow(s1,2)/n1)+(m.pow(s2,2)/n2)))\n",
        "t_2eq = lambda  x1, x2, s1,s2, n1,n2: (x1-x2)/(m.sqrt(((n1-1)*m.pow(s1,2)+(n2-1)*m.pow(s2,2))/(n1+n2-2))*m.sqrt((1/n1)+(1/n2)))"
      ],
      "execution_count": null,
      "outputs": []
    },
    {
      "cell_type": "code",
      "metadata": {
        "id": "-oGLf1TMIRkB"
      },
      "source": [
        "# confidence interval of z- and t- dist given α-value"
      ],
      "execution_count": null,
      "outputs": []
    },
    {
      "cell_type": "code",
      "metadata": {
        "id": "UPBdHDHeJfsG"
      },
      "source": [
        "# t-test for 2 dependent samples"
      ],
      "execution_count": null,
      "outputs": []
    },
    {
      "cell_type": "code",
      "metadata": {
        "id": "hSK3DBESYlib"
      },
      "source": [
        "# difference between 2 proportions"
      ],
      "execution_count": null,
      "outputs": []
    },
    {
      "cell_type": "markdown",
      "metadata": {
        "id": "5nB-MfW5Zo37"
      },
      "source": [
        "### F-distribution\n",
        "Discussion:\n",
        "\n",
        "Fisher–Snedecor distribution (after Ronald Fisher and George W. Snedecor) is a continuous probability distribution that arises frequently as the null distribution of a test statistic, most notably in the analysis of variance (ANOVA), e.g., F-test.\n",
        "\n",
        "### Functional Definition:\n",
        "#### Probability Density Function:\n",
        "\n",
        "If a random variable $X$ has an F-distribution with parameters $d_1$ and $d_2$, we write X~F(d₁,d₂). Then the probability density function for X is given by:\n",
        "\n",
        "$${\\displaystyle {\\begin{aligned}f(x;d_{1},d_{2})&={\\frac {\\sqrt {\\frac {(d_{1}x)^{d_{1}}\\,\\,d_{2}^{d_{2}}}{(d_{1}x+d_{2})^{d_{1}+d_{2}}}}}{x\\,\\mathrm {B} \\!\\left({\\frac {d_{1}}{2}},{\\frac {d_{2}}{2}}\\right)}}\\\\&={\\frac {1}{\\mathrm {B} \\!\\left({\\frac {d_{1}}{2}},{\\frac {d_{2}}{2}}\\right)}}\\left({\\frac {d_{1}}{d_{2}}}\\right)^{\\frac {d_{1}}{2}}x^{{\\frac {d_{1}}{2}}-1}\\left(1+{\\frac {d_{1}}{d_{2}}}\\,x\\right)^{-{\\frac {d_{1}+d_{2}}{2}}}\\end{aligned}}}$$\n",
        "\n",
        "for real x>0. Where B is the beta function. \n",
        "\n",
        "#### Cummulative Density Function:\n",
        "The CDF is: \n",
        "$$F(x;d_{1},d_{2})=I_{{{\\frac  {d_{1}x}{d_{1}x+d_{2}}}}}\\left({\\tfrac  {d_{1}}{2}},{\\tfrac  {d_{2}}{2}}\\right),$$\n",
        "where I is the regularized [incomplete beta function](https://en.wikipedia.org/wiki/Regularized_incomplete_beta_function).\n"
      ]
    },
    {
      "cell_type": "code",
      "metadata": {
        "id": "3x2uAn1oFofb"
      },
      "source": [
        "# initialize symbols\n",
        "a,b = sp.symbols(\"a b\")"
      ],
      "execution_count": null,
      "outputs": []
    },
    {
      "cell_type": "markdown",
      "metadata": {
        "id": "PriAlU6FFWtd"
      },
      "source": [
        "### Incomplete $\\beta$- function:\n",
        "\n",
        "$${\\displaystyle \\mathrm {B} (x;\\,a,b)=\\int _{0}^{x}t^{a-1}\\,(1-t)^{b-1}\\,dt.}$$"
      ]
    },
    {
      "cell_type": "code",
      "metadata": {
        "id": "EhUdWxSRWF4-"
      },
      "source": [
        "# Prototypical implementation\n",
        "def incomplete_beta(x_0,a_0,b_0):\n",
        "    expr = \n",
        "    sp.integrate()\n",
        "    pass"
      ],
      "execution_count": null,
      "outputs": []
    },
    {
      "cell_type": "code",
      "metadata": {
        "id": "B5nV9CAWF1DK"
      },
      "source": [
        "# implementation from SymPy"
      ],
      "execution_count": null,
      "outputs": []
    },
    {
      "cell_type": "code",
      "metadata": {
        "id": "J_R9eyY2X-u7"
      },
      "source": [
        "# implementation in scipy\n",
        "from scipy import integrate\n",
        "\n"
      ],
      "execution_count": null,
      "outputs": []
    },
    {
      "cell_type": "code",
      "metadata": {
        "id": "Zq1QBGsfPCsZ"
      },
      "source": [
        "# pdf\n",
        "def f_dist_pdf():\n",
        "    pass"
      ],
      "execution_count": null,
      "outputs": []
    },
    {
      "cell_type": "code",
      "metadata": {
        "id": "t7t97wWQPChQ"
      },
      "source": [
        "# cdf\n",
        "def f_dist_cdf():\n",
        "    pass"
      ],
      "execution_count": null,
      "outputs": []
    },
    {
      "cell_type": "code",
      "metadata": {
        "id": "-j9mCEgjYyi1"
      },
      "source": [
        "# difference between 2 variances\n"
      ],
      "execution_count": null,
      "outputs": []
    },
    {
      "cell_type": "markdown",
      "metadata": {
        "id": "X-EGfjwqHey8"
      },
      "source": [
        "### $\\chi^2$ Distribution\n",
        "Discussion:\n",
        "$\\chi^2$-distribution with $k$ degrees of freedom is the distribution of a sum of the squares of $k$ independent standard normal random variables.\n",
        "\n",
        "The chi-square distribution is used in the common chi-square tests for goodness of fit of an observed distribution to a theoretical one, the independence of two criteria of classification of qualitative data, and in confidence interval estimation for a population standard deviation of a normal distribution from a sample standard deviation.\n",
        "\n",
        "Some noteble characteristics about the $\\chi^2$ are:\n",
        "1. The chi-square distribution is a family of curves based on the degrees of freedom.\n",
        "2. chi-square distributions are positively skewed.\n",
        "3. All chi-square values are greater than or equal to zero.\n",
        "4. The total area under each chi-square distribution is equal to 1.\n",
        "\n",
        "### Functional Definition\n",
        "\n",
        "#### Probability Density Function\n",
        "The probability density function (pdf) of the chi-square distribution is\n",
        "\n",
        "$${\\displaystyle f(x;\\,k)={\\begin{cases}{\\dfrac {x^{{\\frac {k}{2}}-1}e^{-{\\frac {x}{2}}}}{2^{\\frac {k}{2}}\\Gamma \\left({\\frac {k}{2}}\\right)}},&x>0;\\\\0,&{\\text{otherwise}}.\\end{cases}}}$$\n",
        "\n",
        "where ${\\textstyle \\Gamma (k/2)}$ denotes the gamma function, which has closed-form values for integer $k$.\n",
        "\n",
        "#### Commulative Density Function\n",
        "$$F(x;\\,k)={\\frac {\\gamma ({\\frac {k}{2}},\\,{\\frac {x}{2}})}{\\Gamma ({\\frac {k}{2}})}}=P\\left({\\frac {k}{2}},\\,{\\frac {x}{2}}\\right),$$\n",
        "\n",
        "where ${\\displaystyle \\gamma (s,t)}$ is the lower incomplete gamma function and ${\\textstyle P(s,t)}$ is the regularized gamma function.\n"
      ]
    },
    {
      "cell_type": "code",
      "metadata": {
        "id": "A4meTfPZ-0x-"
      },
      "source": [
        "# introduce symbol\n",
        "k = sp.Symbol(k)"
      ],
      "execution_count": null,
      "outputs": []
    },
    {
      "cell_type": "code",
      "metadata": {
        "id": "l48sfDAzHfdZ"
      },
      "source": [
        "# pdf \n",
        "\n",
        "def chi_dist_pdf(x_0,k_0):\n",
        "    pass "
      ],
      "execution_count": null,
      "outputs": []
    },
    {
      "cell_type": "code",
      "metadata": {
        "id": "hQJR0wCmHft0"
      },
      "source": [
        "# cdf\n",
        "\n",
        "def chi_dist_pdf(x_0,k_0):\n",
        "    pass "
      ],
      "execution_count": null,
      "outputs": []
    },
    {
      "cell_type": "code",
      "metadata": {
        "id": "uCNrZN_vPOBo"
      },
      "source": [
        ""
      ],
      "execution_count": null,
      "outputs": []
    },
    {
      "cell_type": "code",
      "metadata": {
        "id": "9Y6a4HY1PNui"
      },
      "source": [
        ""
      ],
      "execution_count": null,
      "outputs": []
    },
    {
      "cell_type": "code",
      "metadata": {
        "id": "1es8wnIKPNiz"
      },
      "source": [
        ""
      ],
      "execution_count": null,
      "outputs": []
    },
    {
      "cell_type": "markdown",
      "metadata": {
        "id": "xS9McX9cPINE"
      },
      "source": [
        "## $\\chi^2$-Distribution\n",
        "\n",
        "### Motivation\n",
        "\n",
        "### Assumptions & Applications\n"
      ]
    },
    {
      "cell_type": "markdown",
      "metadata": {
        "id": "QAgj9hNTPIVP"
      },
      "source": [
        "## F-Distribution\n",
        "\n",
        "### Motivation\n",
        "\n",
        "### Assumptions & Applications\n"
      ]
    },
    {
      "cell_type": "code",
      "metadata": {
        "id": "PY92i7gbPO5I"
      },
      "source": [
        ""
      ],
      "execution_count": null,
      "outputs": []
    },
    {
      "cell_type": "code",
      "metadata": {
        "id": "b2kIttQRPOkB"
      },
      "source": [
        ""
      ],
      "execution_count": null,
      "outputs": []
    },
    {
      "cell_type": "code",
      "metadata": {
        "id": "ANbgsmGtPOeK"
      },
      "source": [
        ""
      ],
      "execution_count": null,
      "outputs": []
    },
    {
      "cell_type": "markdown",
      "metadata": {
        "id": "buPdEwGlPIfT"
      },
      "source": [
        "## $\\Gamma$-Distribution\n",
        "\n",
        "### Motivation\n",
        "\n",
        "### Assumptions & Applications\n"
      ]
    },
    {
      "cell_type": "code",
      "metadata": {
        "id": "oRQSeOvbPPbY"
      },
      "source": [
        ""
      ],
      "execution_count": null,
      "outputs": []
    },
    {
      "cell_type": "code",
      "metadata": {
        "id": "IFq2r6fFPPTH"
      },
      "source": [
        ""
      ],
      "execution_count": null,
      "outputs": []
    },
    {
      "cell_type": "code",
      "metadata": {
        "id": "XY9MA0JkNIJh"
      },
      "source": [
        ""
      ],
      "execution_count": null,
      "outputs": []
    }
  ]
}