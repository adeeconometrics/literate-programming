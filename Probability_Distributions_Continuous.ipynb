{
  "nbformat": 4,
  "nbformat_minor": 0,
  "metadata": {
    "colab": {
      "name": "Probability Distributions_Continuous",
      "provenance": [],
      "authorship_tag": "ABX9TyM0Tn/4QnLt/6vv8TmAyv6o",
      "include_colab_link": true
    },
    "kernelspec": {
      "name": "python3",
      "display_name": "Python 3"
    }
  },
  "cells": [
    {
      "cell_type": "markdown",
      "metadata": {
        "id": "view-in-github",
        "colab_type": "text"
      },
      "source": [
        "<a href=\"https://colab.research.google.com/github/adeeconometrics/literate-programming/blob/main/Probability_Distributions_Continuous.ipynb\" target=\"_parent\"><img src=\"https://colab.research.google.com/assets/colab-badge.svg\" alt=\"Open In Colab\"/></a>"
      ]
    },
    {
      "cell_type": "markdown",
      "metadata": {
        "id": "ZMp_JgI1XRWe"
      },
      "source": [
        "# TODO\r\n",
        "Improve template it should be \r\n",
        "\r\n",
        "- section\r\n",
        "    - brief description {assumptions, use-cases}\r\n",
        "    - definition & parameters with definition on their bounds\r\n",
        "    - implementation \r\n",
        "        - naive method\r\n",
        "        - symbolic method\r\n",
        "        - numerical method"
      ]
    },
    {
      "cell_type": "markdown",
      "metadata": {
        "id": "DeTjf3MbK4Qt"
      },
      "source": [
        "# Continuous Probability Distributions\n",
        "by Dave Amiana\n",
        "\n",
        "The purpose of this notebook is to introduce and explore some probability models for continuous variabbles; this can be seen as an extension of models in the discrete space.\n",
        "\n",
        "The following probability distributions that we shall explore in this notebook are listed as follows:\n",
        "\n",
        "- Normal-distribution\n",
        "    - standard normal distribution\n",
        "- t-distribution\n",
        "    - Cauchy distribution:: TODO\n",
        "- F-distribution\n",
        "- $\\chi^2$ distribution\n",
        "- $\\Gamma$ distribution\n",
        "- Pareto distribution\n",
        "- Log-Normal distribution\n",
        "- Non-central $\\chi^2$ distribution\n",
        "\n",
        "We will explore the derivation of these distributions, their motvation, assumptions, and applications. "
      ]
    },
    {
      "cell_type": "code",
      "metadata": {
        "id": "d7kVwi3bM-mA"
      },
      "source": [
        "# import relevant packages\n",
        "import matplotlib.pyplot as plt\n",
        "import numpy as np\n",
        "from sympy import init_printing, lambdify, N, gamma, beta, oo\n",
        "import sympy as sp\n",
        "import scipy as sci\n",
        "import scipy.integrate as integrate \n",
        "import scipy.special as ss\n",
        "\n",
        "sp.init_printing() "
      ],
      "execution_count": null,
      "outputs": []
    },
    {
      "cell_type": "code",
      "metadata": {
        "id": "iZwHfArif4Vf"
      },
      "source": [
        "x,y,z = sp.symbols('x,y,z')"
      ],
      "execution_count": null,
      "outputs": []
    },
    {
      "cell_type": "markdown",
      "metadata": {
        "id": "_D_0GLXoUg1u"
      },
      "source": [
        "#Fundamental Functions\r\n",
        "\r\n",
        "Before we begin our exploration with implementing probability distirbutions functionally, we are welcomed with the following functions and their corresponding definitions. \r\n",
        "\r\n",
        "- gamma function\r\n",
        "$${\\displaystyle \\Gamma (z)=\\int _{0}^{\\infty }x^{z-1}e^{-x}\\,dx,\\ \\qquad \\Re (z)>0\\ .}$$\r\n",
        "- beta function\r\n",
        "$${\\displaystyle \\mathrm {B} (x,y)=\\int _{0}^{1}t^{x-1}(1-t)^{y-1}\\,dt}$$\r\n",
        "- incomplete gamma function\r\n",
        "    - upper incomplete \r\n",
        "    $$ \\Gamma(s,x) = \\int_x^{\\infty} t^{s-1}e^{-t}{\\rm d}t $$\r\n",
        "    - lower incomplete\r\n",
        "    $$  \\gamma(s,x) = \\int_0^x t^{s-1} e^{-t}\\{\\rm d}t $$\r\n",
        "- incomplete beta function\r\n",
        "$${\\displaystyle \\mathrm {B} (x;\\,a,b)=\\int _{0}^{x}t^{a-1}\\,(1-t)^{b-1}\\,dt}$$"
      ]
    },
    {
      "cell_type": "markdown",
      "metadata": {
        "id": "kPvd6lUQuR6y"
      },
      "source": [
        "### $\\Gamma$-function:\n",
        "\n",
        "$$\\Gamma(x) := \\int^{\\infty}_{0} t^{x-1} e^{-t} \\mathrm{d}t.$$"
      ]
    },
    {
      "cell_type": "code",
      "metadata": {
        "colab": {
          "base_uri": "https://localhost:8080/",
          "height": 36
        },
        "id": "3g0ndFUFuUOT",
        "outputId": "73e22598-808c-4e8f-f32c-0547622a3cad"
      },
      "source": [
        "# naive symbolic implementation\n",
        "def g(x):\n",
        "    return N(sp.Integral(t**(x-1)*E**(- t),(t,0, oo)))\n",
        "g(sp.pi)"
      ],
      "execution_count": null,
      "outputs": [
        {
          "output_type": "execute_result",
          "data": {
            "image/png": "[encoded data removed]",
            "text/latex": "$$2.28803779534003$$",
            "text/plain": [
              "2.28803779534003"
            ]
          },
          "metadata": {
            "tags": []
          },
          "execution_count": 13
        }
      ]
    },
    {
      "cell_type": "code",
      "metadata": {
        "colab": {
          "base_uri": "https://localhost:8080/",
          "height": 36
        },
        "id": "yBYP8ly82Cmc",
        "outputId": "6bd0f920-e7c5-4189-9a0d-57a5748d1731"
      },
      "source": [
        "# implementation in Sympy\n",
        "N(gamma(pi))"
      ],
      "execution_count": null,
      "outputs": [
        {
          "output_type": "execute_result",
          "data": {
            "image/png": "[encoded data removed]",
            "text/latex": "$$2.28803779534003$$",
            "text/plain": [
              "2.28803779534003"
            ]
          },
          "metadata": {
            "tags": []
          },
          "execution_count": 32
        }
      ]
    },
    {
      "cell_type": "code",
      "metadata": {
        "colab": {
          "base_uri": "https://localhost:8080/",
          "height": 288
        },
        "id": "nE5503rh3v2l",
        "outputId": "120870c8-4054-4144-d291-f83a7cb01480"
      },
      "source": [
        "# plotting the gamma function using scipy\n",
        "\n",
        "x = np.linspace(-5, 5, 10000)\n",
        "γ = np.array([gamma(i) for i in x])\n",
        "\n",
        "plt.plot(x, γ)\n",
        "plt.ylim(-2,2)"
      ],
      "execution_count": null,
      "outputs": [
        {
          "output_type": "execute_result",
          "data": {
            "image/png": "[encoded data removed]",
            "text/latex": "$$\\left ( -2.0, \\quad 2.0\\right )$$",
            "text/plain": [
              "(-2.0, 2.0)"
            ]
          },
          "metadata": {
            "tags": []
          },
          "execution_count": 23
        },
        {
          "output_type": "display_data",
          "data": {
            "image/png": "[encoded data removed]",
            "text/plain": [
              "<Figure size 432x288 with 1 Axes>"
            ]
          },
          "metadata": {
            "tags": [],
            "needs_background": "light"
          }
        }
      ]
    },
    {
      "cell_type": "code",
      "metadata": {
        "colab": {
          "base_uri": "https://localhost:8080/",
          "height": 335
        },
        "id": "_Ryn28d8dz2u",
        "outputId": "9ee1bbe1-afdc-4ad7-909d-9d63920c6b76"
      },
      "source": [
        "# naive numerical method for Gamma function\r\n",
        "def gamma(x):\r\n",
        "    g = lambda _x,t: t**(_x-1)*np.exp(-t**2)\r\n",
        "    return sci.integrate.quad(g, 0, np.inf, args=x)\r\n",
        "\r\n",
        "gamma(np.pi)"
      ],
      "execution_count": null,
      "outputs": [
        {
          "output_type": "error",
          "ename": "OverflowError",
          "evalue": "ignored",
          "traceback": [
            "\u001b[0;31m---------------------------------------------------------------------------\u001b[0m",
            "\u001b[0;31mOverflowError\u001b[0m                             Traceback (most recent call last)",
            "\u001b[0;32m<ipython-input-108-52751f3bcce5>\u001b[0m in \u001b[0;36m<module>\u001b[0;34m()\u001b[0m\n\u001b[1;32m      4\u001b[0m     \u001b[0;32mreturn\u001b[0m \u001b[0msci\u001b[0m\u001b[0;34m.\u001b[0m\u001b[0mintegrate\u001b[0m\u001b[0;34m.\u001b[0m\u001b[0mquad\u001b[0m\u001b[0;34m(\u001b[0m\u001b[0mg\u001b[0m\u001b[0;34m,\u001b[0m \u001b[0;36m0\u001b[0m\u001b[0;34m,\u001b[0m \u001b[0mnp\u001b[0m\u001b[0;34m.\u001b[0m\u001b[0minf\u001b[0m\u001b[0;34m,\u001b[0m \u001b[0margs\u001b[0m\u001b[0;34m=\u001b[0m\u001b[0mx\u001b[0m\u001b[0;34m)\u001b[0m\u001b[0;34m\u001b[0m\u001b[0;34m\u001b[0m\u001b[0m\n\u001b[1;32m      5\u001b[0m \u001b[0;34m\u001b[0m\u001b[0m\n\u001b[0;32m----> 6\u001b[0;31m \u001b[0mgamma\u001b[0m\u001b[0;34m(\u001b[0m\u001b[0mnp\u001b[0m\u001b[0;34m.\u001b[0m\u001b[0mpi\u001b[0m\u001b[0;34m)\u001b[0m\u001b[0;34m\u001b[0m\u001b[0;34m\u001b[0m\u001b[0m\n\u001b[0m",
            "\u001b[0;32m<ipython-input-108-52751f3bcce5>\u001b[0m in \u001b[0;36mgamma\u001b[0;34m(x)\u001b[0m\n\u001b[1;32m      2\u001b[0m \u001b[0;32mdef\u001b[0m \u001b[0mgamma\u001b[0m\u001b[0;34m(\u001b[0m\u001b[0mx\u001b[0m\u001b[0;34m)\u001b[0m\u001b[0;34m:\u001b[0m\u001b[0;34m\u001b[0m\u001b[0;34m\u001b[0m\u001b[0m\n\u001b[1;32m      3\u001b[0m     \u001b[0mg\u001b[0m \u001b[0;34m=\u001b[0m \u001b[0;32mlambda\u001b[0m \u001b[0m_x\u001b[0m\u001b[0;34m,\u001b[0m\u001b[0mt\u001b[0m\u001b[0;34m:\u001b[0m \u001b[0mt\u001b[0m\u001b[0;34m**\u001b[0m\u001b[0;34m(\u001b[0m\u001b[0m_x\u001b[0m\u001b[0;34m-\u001b[0m\u001b[0;36m1\u001b[0m\u001b[0;34m)\u001b[0m\u001b[0;34m*\u001b[0m\u001b[0mnp\u001b[0m\u001b[0;34m.\u001b[0m\u001b[0mexp\u001b[0m\u001b[0;34m(\u001b[0m\u001b[0;34m-\u001b[0m\u001b[0mt\u001b[0m\u001b[0;34m**\u001b[0m\u001b[0;36m2\u001b[0m\u001b[0;34m)\u001b[0m\u001b[0;34m\u001b[0m\u001b[0;34m\u001b[0m\u001b[0m\n\u001b[0;32m----> 4\u001b[0;31m     \u001b[0;32mreturn\u001b[0m \u001b[0msci\u001b[0m\u001b[0;34m.\u001b[0m\u001b[0mintegrate\u001b[0m\u001b[0;34m.\u001b[0m\u001b[0mquad\u001b[0m\u001b[0;34m(\u001b[0m\u001b[0mg\u001b[0m\u001b[0;34m,\u001b[0m \u001b[0;36m0\u001b[0m\u001b[0;34m,\u001b[0m \u001b[0mnp\u001b[0m\u001b[0;34m.\u001b[0m\u001b[0minf\u001b[0m\u001b[0;34m,\u001b[0m \u001b[0margs\u001b[0m\u001b[0;34m=\u001b[0m\u001b[0mx\u001b[0m\u001b[0;34m)\u001b[0m\u001b[0;34m\u001b[0m\u001b[0;34m\u001b[0m\u001b[0m\n\u001b[0m\u001b[1;32m      5\u001b[0m \u001b[0;34m\u001b[0m\u001b[0m\n\u001b[1;32m      6\u001b[0m \u001b[0mgamma\u001b[0m\u001b[0;34m(\u001b[0m\u001b[0mnp\u001b[0m\u001b[0;34m.\u001b[0m\u001b[0mpi\u001b[0m\u001b[0;34m)\u001b[0m\u001b[0;34m\u001b[0m\u001b[0;34m\u001b[0m\u001b[0m\n",
            "\u001b[0;32m/usr/local/lib/python3.6/dist-packages/scipy/integrate/quadpack.py\u001b[0m in \u001b[0;36mquad\u001b[0;34m(func, a, b, args, full_output, epsabs, epsrel, limit, points, weight, wvar, wopts, maxp1, limlst)\u001b[0m\n\u001b[1;32m    340\u001b[0m     \u001b[0;32mif\u001b[0m \u001b[0mweight\u001b[0m \u001b[0;32mis\u001b[0m \u001b[0;32mNone\u001b[0m\u001b[0;34m:\u001b[0m\u001b[0;34m\u001b[0m\u001b[0;34m\u001b[0m\u001b[0m\n\u001b[1;32m    341\u001b[0m         retval = _quad(func, a, b, args, full_output, epsabs, epsrel, limit,\n\u001b[0;32m--> 342\u001b[0;31m                        points)\n\u001b[0m\u001b[1;32m    343\u001b[0m     \u001b[0;32melse\u001b[0m\u001b[0;34m:\u001b[0m\u001b[0;34m\u001b[0m\u001b[0;34m\u001b[0m\u001b[0m\n\u001b[1;32m    344\u001b[0m         \u001b[0;32mif\u001b[0m \u001b[0mpoints\u001b[0m \u001b[0;32mis\u001b[0m \u001b[0;32mnot\u001b[0m \u001b[0;32mNone\u001b[0m\u001b[0;34m:\u001b[0m\u001b[0;34m\u001b[0m\u001b[0;34m\u001b[0m\u001b[0m\n",
            "\u001b[0;32m/usr/local/lib/python3.6/dist-packages/scipy/integrate/quadpack.py\u001b[0m in \u001b[0;36m_quad\u001b[0;34m(func, a, b, args, full_output, epsabs, epsrel, limit, points)\u001b[0m\n\u001b[1;32m    453\u001b[0m             \u001b[0;32mreturn\u001b[0m \u001b[0m_quadpack\u001b[0m\u001b[0;34m.\u001b[0m\u001b[0m_qagse\u001b[0m\u001b[0;34m(\u001b[0m\u001b[0mfunc\u001b[0m\u001b[0;34m,\u001b[0m\u001b[0ma\u001b[0m\u001b[0;34m,\u001b[0m\u001b[0mb\u001b[0m\u001b[0;34m,\u001b[0m\u001b[0margs\u001b[0m\u001b[0;34m,\u001b[0m\u001b[0mfull_output\u001b[0m\u001b[0;34m,\u001b[0m\u001b[0mepsabs\u001b[0m\u001b[0;34m,\u001b[0m\u001b[0mepsrel\u001b[0m\u001b[0;34m,\u001b[0m\u001b[0mlimit\u001b[0m\u001b[0;34m)\u001b[0m\u001b[0;34m\u001b[0m\u001b[0;34m\u001b[0m\u001b[0m\n\u001b[1;32m    454\u001b[0m         \u001b[0;32melse\u001b[0m\u001b[0;34m:\u001b[0m\u001b[0;34m\u001b[0m\u001b[0;34m\u001b[0m\u001b[0m\n\u001b[0;32m--> 455\u001b[0;31m             \u001b[0;32mreturn\u001b[0m \u001b[0m_quadpack\u001b[0m\u001b[0;34m.\u001b[0m\u001b[0m_qagie\u001b[0m\u001b[0;34m(\u001b[0m\u001b[0mfunc\u001b[0m\u001b[0;34m,\u001b[0m\u001b[0mbound\u001b[0m\u001b[0;34m,\u001b[0m\u001b[0minfbounds\u001b[0m\u001b[0;34m,\u001b[0m\u001b[0margs\u001b[0m\u001b[0;34m,\u001b[0m\u001b[0mfull_output\u001b[0m\u001b[0;34m,\u001b[0m\u001b[0mepsabs\u001b[0m\u001b[0;34m,\u001b[0m\u001b[0mepsrel\u001b[0m\u001b[0;34m,\u001b[0m\u001b[0mlimit\u001b[0m\u001b[0;34m)\u001b[0m\u001b[0;34m\u001b[0m\u001b[0;34m\u001b[0m\u001b[0m\n\u001b[0m\u001b[1;32m    456\u001b[0m     \u001b[0;32melse\u001b[0m\u001b[0;34m:\u001b[0m\u001b[0;34m\u001b[0m\u001b[0;34m\u001b[0m\u001b[0m\n\u001b[1;32m    457\u001b[0m         \u001b[0;32mif\u001b[0m \u001b[0minfbounds\u001b[0m \u001b[0;34m!=\u001b[0m \u001b[0;36m0\u001b[0m\u001b[0;34m:\u001b[0m\u001b[0;34m\u001b[0m\u001b[0;34m\u001b[0m\u001b[0m\n",
            "\u001b[0;32m<ipython-input-108-52751f3bcce5>\u001b[0m in \u001b[0;36m<lambda>\u001b[0;34m(_x, t)\u001b[0m\n\u001b[1;32m      1\u001b[0m \u001b[0;31m# numerical method for implementing the Gamma function\u001b[0m\u001b[0;34m\u001b[0m\u001b[0;34m\u001b[0m\u001b[0;34m\u001b[0m\u001b[0m\n\u001b[1;32m      2\u001b[0m \u001b[0;32mdef\u001b[0m \u001b[0mgamma\u001b[0m\u001b[0;34m(\u001b[0m\u001b[0mx\u001b[0m\u001b[0;34m)\u001b[0m\u001b[0;34m:\u001b[0m\u001b[0;34m\u001b[0m\u001b[0;34m\u001b[0m\u001b[0m\n\u001b[0;32m----> 3\u001b[0;31m     \u001b[0mg\u001b[0m \u001b[0;34m=\u001b[0m \u001b[0;32mlambda\u001b[0m \u001b[0m_x\u001b[0m\u001b[0;34m,\u001b[0m\u001b[0mt\u001b[0m\u001b[0;34m:\u001b[0m \u001b[0mt\u001b[0m\u001b[0;34m**\u001b[0m\u001b[0;34m(\u001b[0m\u001b[0m_x\u001b[0m\u001b[0;34m-\u001b[0m\u001b[0;36m1\u001b[0m\u001b[0;34m)\u001b[0m\u001b[0;34m*\u001b[0m\u001b[0mnp\u001b[0m\u001b[0;34m.\u001b[0m\u001b[0mexp\u001b[0m\u001b[0;34m(\u001b[0m\u001b[0;34m-\u001b[0m\u001b[0mt\u001b[0m\u001b[0;34m**\u001b[0m\u001b[0;36m2\u001b[0m\u001b[0;34m)\u001b[0m\u001b[0;34m\u001b[0m\u001b[0;34m\u001b[0m\u001b[0m\n\u001b[0m\u001b[1;32m      4\u001b[0m     \u001b[0;32mreturn\u001b[0m \u001b[0msci\u001b[0m\u001b[0;34m.\u001b[0m\u001b[0mintegrate\u001b[0m\u001b[0;34m.\u001b[0m\u001b[0mquad\u001b[0m\u001b[0;34m(\u001b[0m\u001b[0mg\u001b[0m\u001b[0;34m,\u001b[0m \u001b[0;36m0\u001b[0m\u001b[0;34m,\u001b[0m \u001b[0mnp\u001b[0m\u001b[0;34m.\u001b[0m\u001b[0minf\u001b[0m\u001b[0;34m,\u001b[0m \u001b[0margs\u001b[0m\u001b[0;34m=\u001b[0m\u001b[0mx\u001b[0m\u001b[0;34m)\u001b[0m\u001b[0;34m\u001b[0m\u001b[0;34m\u001b[0m\u001b[0m\n\u001b[1;32m      5\u001b[0m \u001b[0;34m\u001b[0m\u001b[0m\n",
            "\u001b[0;31mOverflowError\u001b[0m: (34, 'Numerical result out of range')"
          ]
        }
      ]
    },
    {
      "cell_type": "code",
      "metadata": {
        "colab": {
          "base_uri": "https://localhost:8080/",
          "height": 36
        },
        "id": "CQ_39lfBCs3U",
        "outputId": "900eb9dc-bc83-470a-b6f2-573c3bfb5a12"
      },
      "source": [
        "# Γ function definition of PDF\n",
        "expr = (sp.gamma((df+1)/2)/(sp.sqrt(df*sp.pi)*(sp.gamma(df/2))))*(1+(t**2/df))**(-(df+1)/2)\n",
        "k = sp.lambdify([df,t], expr, \"sympy\")\n",
        "res  = k(1,.1)\n",
        "N(res)"
      ],
      "execution_count": null,
      "outputs": [
        {
          "output_type": "execute_result",
          "data": {
            "image/png": "[encoded data removed]",
            "text/latex": "$$0.315158303152268$$",
            "text/plain": [
              "0.315158303152268"
            ]
          },
          "metadata": {
            "tags": []
          },
          "execution_count": 12
        }
      ]
    },
    {
      "cell_type": "markdown",
      "metadata": {
        "id": "p7fGU8lmEjju"
      },
      "source": [
        "### The $\\beta$ - function:\n",
        "$${\\displaystyle \\mathrm {B} (x,y)=\\int _{0}^{1}t^{x-1}(1-t)^{y-1}\\,dt}$$"
      ]
    },
    {
      "cell_type": "code",
      "metadata": {
        "colab": {
          "base_uri": "https://localhost:8080/",
          "height": 36
        },
        "id": "3ArSDL3D9mqx",
        "outputId": "35ffc493-079c-4d53-b407-3788c10b07cc"
      },
      "source": [
        "# β function definition of PDF\n",
        "B  = lambda x_0, y_0: sp.Integral(t**(x_0-1)*(1-t)**(y_0-1), (t,0,1))\n",
        "N(B(3,4))"
      ],
      "execution_count": null,
      "outputs": [
        {
          "output_type": "execute_result",
          "data": {
            "image/png": "[encoded data removed]",
            "text/latex": "$$0.0166666666666667$$",
            "text/plain": [
              "0.0166666666666667"
            ]
          },
          "metadata": {
            "tags": []
          },
          "execution_count": 25
        }
      ]
    },
    {
      "cell_type": "code",
      "metadata": {
        "colab": {
          "base_uri": "https://localhost:8080/",
          "height": 36
        },
        "id": "-lBHIZxzDtPS",
        "outputId": "6a8cd73b-24ee-45f4-df5c-69cc2680086b"
      },
      "source": [
        "# β function implementation in SymPy\n",
        "N(sp.beta(3,4))"
      ],
      "execution_count": null,
      "outputs": [
        {
          "output_type": "execute_result",
          "data": {
            "image/png": "[encoded data removed]",
            "text/latex": "$$0.0166666666666667$$",
            "text/plain": [
              "0.0166666666666667"
            ]
          },
          "metadata": {
            "tags": []
          },
          "execution_count": 44
        }
      ]
    },
    {
      "cell_type": "code",
      "metadata": {
        "id": "nuJGpbZtWAga"
      },
      "source": [
        "# numerical method: FIX THIS\r\n",
        "def beta(x_0,y_0):\r\n",
        "    expr = lambda x0,y0,t0: t0**(x0-1)*(1-t0)**(y0-1)\r\n",
        "    return sci.integrate.quad(expr, 0,1, args=(x_0,y_0))"
      ],
      "execution_count": null,
      "outputs": []
    },
    {
      "cell_type": "code",
      "metadata": {
        "colab": {
          "base_uri": "https://localhost:8080/",
          "height": 37
        },
        "id": "wQUJ_g1FXJjH",
        "outputId": "ec8b380d-3dc1-499c-c8af-0127f5e1c0ee"
      },
      "source": [
        "beta(3,4)"
      ],
      "execution_count": null,
      "outputs": [
        {
          "output_type": "execute_result",
          "data": {
            "image/png": "[encoded data removed]",
            "text/latex": "$$\\left ( 4.869095763000251, \\quad 5.405782225187673e-14\\right )$$",
            "text/plain": [
              "(4.869095763000251, 5.405782225187673e-14)"
            ]
          },
          "metadata": {
            "tags": []
          },
          "execution_count": 71
        }
      ]
    },
    {
      "cell_type": "code",
      "metadata": {
        "colab": {
          "base_uri": "https://localhost:8080/",
          "height": 36
        },
        "id": "0WF_75bHYFlj",
        "outputId": "85aa3b98-925a-427e-a964-5ff1dc33e3d6"
      },
      "source": [
        "sci.special.beta(3,4)"
      ],
      "execution_count": null,
      "outputs": [
        {
          "output_type": "execute_result",
          "data": {
            "image/png": "[encoded data removed]",
            "text/latex": "$$0.016666666666666666$$",
            "text/plain": [
              "0.016666666666666666"
            ]
          },
          "metadata": {
            "tags": []
          },
          "execution_count": 46
        }
      ]
    },
    {
      "cell_type": "markdown",
      "metadata": {
        "id": "vyVNcczerJOZ"
      },
      "source": [
        "## Continuous Uniform Distribution\n",
        "\n",
        "#### Definition\n",
        "\n",
        "Probability Density Function\n",
        "$$f(x)={\\begin{cases}{\\frac {1}{b-a}}&\\mathrm {for} \\ a\\leq x\\leq b,\\\\[8pt]0&\\mathrm {for} \\ x<a\\ \\mathrm {or} \\ x>b\\end{cases}}$$\n",
        "\n",
        "parameters:\n",
        "- $-\\infty< a<b < \\infty$ boundary of the distribution\n",
        "- $x$ random variable\n",
        "----\n",
        "Cumulative Distribution Function\n",
        "$$F(x)={\\begin{cases}0&{\\text{for }}x<a\\\\[8pt]{\\frac {x-a}{b-a}}&{\\text{for }}a\\leq x\\leq b\\\\[8pt]1&{\\text{for }}x>b\\end{cases}}$$\n",
        "\n",
        "parameters:\n",
        "- $-\\infty< a<b < \\infty$ boundary of the distribution\n",
        "- $x$ random variable"
      ]
    },
    {
      "cell_type": "code",
      "metadata": {
        "id": "rGfoU8GprRoe"
      },
      "source": [
        "def uniform_dist_pdf(a,b, x):\n",
        "    if (x<a or x>b):\n",
        "        return 0\n",
        "    else:\n",
        "        return 1/(b-a)\n",
        "\n",
        "def uniform_dist_cdf(a,b, x):\n",
        "    if (x<a):\n",
        "        return 0\n",
        "    elif (x>b):\n",
        "        return 1\n",
        "    else: \n",
        "        return (x-a)/(b-a)"
      ],
      "execution_count": null,
      "outputs": []
    },
    {
      "cell_type": "code",
      "metadata": {
        "colab": {
          "base_uri": "https://localhost:8080/",
          "height": 281
        },
        "id": "62NhMKRhGp4N",
        "outputId": "915a439b-4bc2-46e6-fc89-26f036b5395d"
      },
      "source": [
        "# visualizing pdf\n",
        "\n",
        "a=3;b=5;x_val = 1\n",
        "x_unif = np.linspace(-x_val, x_val, 100)\n",
        "y_unif_pdf = np.array([uniform_dist_pdf(a,b,i) for i in x_unif])\n",
        "\n",
        "plt.plot(x_unif, y_unif_pdf)"
      ],
      "execution_count": null,
      "outputs": [
        {
          "output_type": "execute_result",
          "data": {
            "text/plain": [
              "[<matplotlib.lines.Line2D at 0x7fef9d3cd2e8>]"
            ]
          },
          "metadata": {
            "tags": []
          },
          "execution_count": 13
        },
        {
          "output_type": "display_data",
          "data": {
            "image/png": "[encoded data removed]",
            "text/plain": [
              "<Figure size 432x288 with 1 Axes>"
            ]
          },
          "metadata": {
            "tags": [],
            "needs_background": "light"
          }
        }
      ]
    },
    {
      "cell_type": "code",
      "metadata": {
        "colab": {
          "base_uri": "https://localhost:8080/"
        },
        "id": "Wm3C_hJvN9rW",
        "outputId": "3de263c4-39c6-4ad5-9a9c-0f2d245d6b26"
      },
      "source": [
        "np.cumsum(y_unif_pdf)[-1] # should be very close to 1"
      ],
      "execution_count": null,
      "outputs": [
        {
          "output_type": "execute_result",
          "data": {
            "text/plain": [
              "0"
            ]
          },
          "metadata": {
            "tags": []
          },
          "execution_count": 14
        }
      ]
    },
    {
      "cell_type": "code",
      "metadata": {
        "colab": {
          "base_uri": "https://localhost:8080/",
          "height": 281
        },
        "id": "X-Q_xzzFOC0s",
        "outputId": "a88cc7f0-a6ae-4fd6-e082-491d5249f665"
      },
      "source": [
        "# visualizing cdf\n",
        "y_unif_cdf = np.array([uniform_dist_cdf(a,b,i) for i in x_unif])\n",
        "\n",
        "plt.plot(x_unif, y_unif_pdf)"
      ],
      "execution_count": null,
      "outputs": [
        {
          "output_type": "execute_result",
          "data": {
            "text/plain": [
              "[<matplotlib.lines.Line2D at 0x7fef9d35b550>]"
            ]
          },
          "metadata": {
            "tags": []
          },
          "execution_count": 16
        },
        {
          "output_type": "display_data",
          "data": {
            "image/png": "[encoded data removed]",
            "text/plain": [
              "<Figure size 432x288 with 1 Axes>"
            ]
          },
          "metadata": {
            "tags": [],
            "needs_background": "light"
          }
        }
      ]
    },
    {
      "cell_type": "code",
      "metadata": {
        "colab": {
          "base_uri": "https://localhost:8080/"
        },
        "id": "SZ-OlmnAOL6U",
        "outputId": "469dd654-597e-478f-d8bb-276c529bea41"
      },
      "source": [
        "y_unif_cdf[-1]  # should be very close to 1"
      ],
      "execution_count": null,
      "outputs": [
        {
          "output_type": "execute_result",
          "data": {
            "text/plain": [
              "0"
            ]
          },
          "metadata": {
            "tags": []
          },
          "execution_count": 17
        }
      ]
    },
    {
      "cell_type": "markdown",
      "metadata": {
        "id": "uivpeaeGHc9R"
      },
      "source": [
        "## The Normal Distribution\n",
        "\n",
        "Definition\n",
        "\n",
        "Probability Density Function\n",
        "$${\\displaystyle {\\frac {1}{\\sigma {\\sqrt {2\\pi }}}}e^{-{\\frac {1}{2}}\\left({\\frac {x-\\mu }{\\sigma }}\\right)^{2}}}$$\n",
        "\n",
        "parameters:\n",
        "- $\\mu$ - mean\n",
        "- $x$ - random variable\n",
        "- $\\sigma$ - standard deviation\n",
        "----\n",
        "Cumulative Distribution Function\n",
        "$${\\displaystyle \\Phi (x)={\\frac {1}{\\sqrt {2\\pi }}}\\int _{-\\infty }^{x}e^{-t^{2}/2}\\,dt}$$\n",
        "\n",
        "parameter:\n",
        "- $x$ - random variable\n",
        "\n",
        "The above integral cannot be expressed in terms of elementary functions, and are often said to be [special functions](https://en.wikipedia.org/wiki/Special_function). "
      ]
    },
    {
      "cell_type": "code",
      "metadata": {
        "id": "6LMueH9NOZo6"
      },
      "source": [
        "def normal_dist_f(x):\n",
        "    return 1/(np.sqrt(2*np.pi))*np.power(np.e, -1/2*x**2)"
      ],
      "execution_count": null,
      "outputs": []
    },
    {
      "cell_type": "code",
      "metadata": {
        "id": "Z0xHME7RAXwk"
      },
      "source": [
        "# PDF given x\n",
        "def norm_dist_pdf(x, mean, std):\n",
        "    return (1/(np.sqrt(2*np.pi * np.power(std, 2))))* np.power(np.e, -(np.power((x - mean), 2) / (2 * np.power(std, 2))))"
      ],
      "execution_count": null,
      "outputs": []
    },
    {
      "cell_type": "code",
      "metadata": {
        "id": "xcAAKwuO-aAp",
        "colab": {
          "base_uri": "https://localhost:8080/",
          "height": 303
        },
        "outputId": "38890bf0-649b-4d7b-d59b-0148c0e790b4"
      },
      "source": [
        "# plotting the pdf\n",
        "mean = 0; std = 1\n",
        "x_norm = np.linspace(-5,5,1000)\n",
        "y_norm_f =  np.array([norm_dist_pdf(x_i, mean, std) for x_i in x_norm])\n",
        "\n",
        "plt.title(\"The Normal Distribution\")\n",
        "plt.plot(x_norm,y_norm_f)"
      ],
      "execution_count": null,
      "outputs": [
        {
          "output_type": "execute_result",
          "data": {
            "text/plain": [
              "[<matplotlib.lines.Line2D at 0x7f26a843d3c8>]"
            ]
          },
          "metadata": {
            "tags": []
          },
          "execution_count": 9
        },
        {
          "output_type": "display_data",
          "data": {
            "image/png": "[encoded data removed]",
            "text/plain": [
              "<Figure size 432x288 with 1 Axes>"
            ]
          },
          "metadata": {
            "tags": [],
            "needs_background": "light"
          }
        }
      ]
    },
    {
      "cell_type": "code",
      "metadata": {
        "colab": {
          "base_uri": "https://localhost:8080/",
          "height": 37
        },
        "id": "aO0lcL3OWz3c",
        "outputId": "fb64cefc-2f60-477f-dcd9-44369ba1b432"
      },
      "source": [
        "np.cumsum(y_norm_f)[-1]"
      ],
      "execution_count": null,
      "outputs": [
        {
          "output_type": "execute_result",
          "data": {
            "image/png": "[encoded data removed]",
            "text/latex": "$$99.89994420133425$$",
            "text/plain": [
              "99.89994420133425"
            ]
          },
          "metadata": {
            "tags": []
          },
          "execution_count": 19
        }
      ]
    },
    {
      "cell_type": "code",
      "metadata": {
        "colab": {
          "base_uri": "https://localhost:8080/",
          "height": 283
        },
        "id": "YWvy8NmlXwWM",
        "outputId": "57516ad9-757c-42c9-b41d-0e1ebc56e2d6"
      },
      "source": [
        "plt.plot(x_norm,np.cumsum(y_norm_f))"
      ],
      "execution_count": null,
      "outputs": [
        {
          "output_type": "execute_result",
          "data": {
            "text/plain": [
              "[<matplotlib.lines.Line2D at 0x7f26a7d2d7f0>]"
            ]
          },
          "metadata": {
            "tags": []
          },
          "execution_count": 16
        },
        {
          "output_type": "display_data",
          "data": {
            "image/png": "[encoded data removed]",
            "text/plain": [
              "<Figure size 432x288 with 1 Axes>"
            ]
          },
          "metadata": {
            "tags": [],
            "needs_background": "light"
          }
        }
      ]
    },
    {
      "cell_type": "code",
      "metadata": {
        "id": "yfVIatOZyP2W"
      },
      "source": [
        "# introduce relevant symbol\n",
        "t = sp.symbols(\"t\")"
      ],
      "execution_count": null,
      "outputs": []
    },
    {
      "cell_type": "code",
      "metadata": {
        "id": "sG0wp4YzbkyW"
      },
      "source": [
        "# CDF - test this function\n",
        "def norm_dist_cdf(*x_0, lower=\"-oo\", upper=None):\n",
        "    if(upper==None):\n",
        "        cdf = 1/(sp.sqrt(2*sp.pi))* sp.integrate(sp.exp(-t/2),(x, lower, x_0))\n",
        "        return cdf\n",
        "    else:\n",
        "        cdf = 1/(sp.sqrt(2*sp.pi))* sp.integrate(sp.exp(-t/2),(x, lower, upper))\n",
        "        return cdf"
      ],
      "execution_count": null,
      "outputs": []
    },
    {
      "cell_type": "code",
      "metadata": {
        "colab": {
          "base_uri": "https://localhost:8080/",
          "height": 47
        },
        "id": "GzYCeWgpkWz4",
        "outputId": "df70f61b-9614-4f29-a1ca-12201b20b353"
      },
      "source": [
        "N(norm_dist_cdf(upper=oo))"
      ],
      "execution_count": null,
      "outputs": [
        {
          "output_type": "execute_result",
          "data": {
            "image/png": "[encoded data removed]",
            "text/latex": "$$\\infty \\operatorname{sign}{\\left (e^{- \\frac{t}{2}} \\right )}$$",
            "text/plain": [
              "        ⎛ -t ⎞\n",
              "        ⎜ ───⎟\n",
              "        ⎜  2 ⎟\n",
              "inf⋅sign⎝ℯ   ⎠"
            ]
          },
          "metadata": {
            "tags": []
          },
          "execution_count": 103
        }
      ]
    },
    {
      "cell_type": "code",
      "metadata": {
        "colab": {
          "base_uri": "https://localhost:8080/",
          "height": 36
        },
        "id": "cJDVA4fqjXL1",
        "outputId": "1e943efa-44a6-44c0-ed1f-d446a40561fe"
      },
      "source": [
        "sp.exp(-1/2)"
      ],
      "execution_count": null,
      "outputs": [
        {
          "output_type": "execute_result",
          "data": {
            "image/png": "[encoded data removed]",
            "text/latex": "$$0.606530659712633$$",
            "text/plain": [
              "0.606530659712633"
            ]
          },
          "metadata": {
            "tags": []
          },
          "execution_count": 105
        }
      ]
    },
    {
      "cell_type": "code",
      "metadata": {
        "id": "NbwgwpFpkbGO"
      },
      "source": [
        "#numerical method \r\n",
        "def norm_dist_cdf_num(*x_0, lower=-np.inf, upper=None):\r\n",
        "    _expr = lambda _t: np.exp(-_t/2)\r\n",
        "    if(upper==None):\r\n",
        "        cdf = 1/(np.sqrt(2*np.pi))* sci.integrate.quad(_expr, lower,upper)[0]\r\n",
        "        return cdf\r\n",
        "    else:\r\n",
        "        cdf = 1/(np.sqrt(2*np.pi))* (sci.integrate.quad(_expr, lower,upper)[0])\r\n",
        "        return cdf"
      ],
      "execution_count": null,
      "outputs": []
    },
    {
      "cell_type": "code",
      "metadata": {
        "colab": {
          "base_uri": "https://localhost:8080/",
          "height": 302
        },
        "id": "P_b6I3aimBoh",
        "outputId": "f6423226-9f53-44b4-d87f-f403ea2e381e"
      },
      "source": [
        "norm_dist_cdf_num(0)"
      ],
      "execution_count": null,
      "outputs": [
        {
          "output_type": "error",
          "ename": "TypeError",
          "evalue": "ignored",
          "traceback": [
            "\u001b[0;31m---------------------------------------------------------------------------\u001b[0m",
            "\u001b[0;31mTypeError\u001b[0m                                 Traceback (most recent call last)",
            "\u001b[0;32m<ipython-input-101-2481b29fa879>\u001b[0m in \u001b[0;36m<module>\u001b[0;34m()\u001b[0m\n\u001b[0;32m----> 1\u001b[0;31m \u001b[0mnorm_dist_cdf_num\u001b[0m\u001b[0;34m(\u001b[0m\u001b[0;36m0\u001b[0m\u001b[0;34m)\u001b[0m\u001b[0;34m\u001b[0m\u001b[0;34m\u001b[0m\u001b[0m\n\u001b[0m",
            "\u001b[0;32m<ipython-input-100-b3f6ad5f956c>\u001b[0m in \u001b[0;36mnorm_dist_cdf_num\u001b[0;34m(lower, upper, *x_0)\u001b[0m\n\u001b[1;32m      3\u001b[0m     \u001b[0m_expr\u001b[0m \u001b[0;34m=\u001b[0m \u001b[0;32mlambda\u001b[0m \u001b[0m_t\u001b[0m\u001b[0;34m:\u001b[0m \u001b[0mnp\u001b[0m\u001b[0;34m.\u001b[0m\u001b[0mexp\u001b[0m\u001b[0;34m(\u001b[0m\u001b[0;34m-\u001b[0m\u001b[0m_t\u001b[0m\u001b[0;34m/\u001b[0m\u001b[0;36m2\u001b[0m\u001b[0;34m)\u001b[0m\u001b[0;34m\u001b[0m\u001b[0;34m\u001b[0m\u001b[0m\n\u001b[1;32m      4\u001b[0m     \u001b[0;32mif\u001b[0m\u001b[0;34m(\u001b[0m\u001b[0mupper\u001b[0m\u001b[0;34m==\u001b[0m\u001b[0;32mNone\u001b[0m\u001b[0;34m)\u001b[0m\u001b[0;34m:\u001b[0m\u001b[0;34m\u001b[0m\u001b[0;34m\u001b[0m\u001b[0m\n\u001b[0;32m----> 5\u001b[0;31m         \u001b[0mcdf\u001b[0m \u001b[0;34m=\u001b[0m \u001b[0;36m1\u001b[0m\u001b[0;34m/\u001b[0m\u001b[0;34m(\u001b[0m\u001b[0mnp\u001b[0m\u001b[0;34m.\u001b[0m\u001b[0msqrt\u001b[0m\u001b[0;34m(\u001b[0m\u001b[0;36m2\u001b[0m\u001b[0;34m*\u001b[0m\u001b[0mnp\u001b[0m\u001b[0;34m.\u001b[0m\u001b[0mpi\u001b[0m\u001b[0;34m)\u001b[0m\u001b[0;34m)\u001b[0m\u001b[0;34m*\u001b[0m \u001b[0msci\u001b[0m\u001b[0;34m.\u001b[0m\u001b[0mintegrate\u001b[0m\u001b[0;34m.\u001b[0m\u001b[0mquad\u001b[0m\u001b[0;34m(\u001b[0m\u001b[0m_expr\u001b[0m\u001b[0;34m,\u001b[0m  \u001b[0mlower\u001b[0m\u001b[0;34m,\u001b[0m\u001b[0mupper\u001b[0m\u001b[0;34m)\u001b[0m\u001b[0;34m[\u001b[0m\u001b[0;36m0\u001b[0m\u001b[0;34m]\u001b[0m\u001b[0;34m\u001b[0m\u001b[0;34m\u001b[0m\u001b[0m\n\u001b[0m\u001b[1;32m      6\u001b[0m         \u001b[0;32mreturn\u001b[0m \u001b[0mcdf\u001b[0m\u001b[0;34m\u001b[0m\u001b[0;34m\u001b[0m\u001b[0m\n\u001b[1;32m      7\u001b[0m     \u001b[0;32melse\u001b[0m\u001b[0;34m:\u001b[0m\u001b[0;34m\u001b[0m\u001b[0;34m\u001b[0m\u001b[0m\n",
            "\u001b[0;32m/usr/local/lib/python3.6/dist-packages/scipy/integrate/quadpack.py\u001b[0m in \u001b[0;36mquad\u001b[0;34m(func, a, b, args, full_output, epsabs, epsrel, limit, points, weight, wvar, wopts, maxp1, limlst)\u001b[0m\n\u001b[1;32m    336\u001b[0m \u001b[0;34m\u001b[0m\u001b[0m\n\u001b[1;32m    337\u001b[0m     \u001b[0;31m# check the limits of integration: \\int_a^b, expect a < b\u001b[0m\u001b[0;34m\u001b[0m\u001b[0;34m\u001b[0m\u001b[0;34m\u001b[0m\u001b[0m\n\u001b[0;32m--> 338\u001b[0;31m     \u001b[0mflip\u001b[0m\u001b[0;34m,\u001b[0m \u001b[0ma\u001b[0m\u001b[0;34m,\u001b[0m \u001b[0mb\u001b[0m \u001b[0;34m=\u001b[0m \u001b[0mb\u001b[0m \u001b[0;34m<\u001b[0m \u001b[0ma\u001b[0m\u001b[0;34m,\u001b[0m \u001b[0mmin\u001b[0m\u001b[0;34m(\u001b[0m\u001b[0ma\u001b[0m\u001b[0;34m,\u001b[0m \u001b[0mb\u001b[0m\u001b[0;34m)\u001b[0m\u001b[0;34m,\u001b[0m \u001b[0mmax\u001b[0m\u001b[0;34m(\u001b[0m\u001b[0ma\u001b[0m\u001b[0;34m,\u001b[0m \u001b[0mb\u001b[0m\u001b[0;34m)\u001b[0m\u001b[0;34m\u001b[0m\u001b[0;34m\u001b[0m\u001b[0m\n\u001b[0m\u001b[1;32m    339\u001b[0m \u001b[0;34m\u001b[0m\u001b[0m\n\u001b[1;32m    340\u001b[0m     \u001b[0;32mif\u001b[0m \u001b[0mweight\u001b[0m \u001b[0;32mis\u001b[0m \u001b[0;32mNone\u001b[0m\u001b[0;34m:\u001b[0m\u001b[0;34m\u001b[0m\u001b[0;34m\u001b[0m\u001b[0m\n",
            "\u001b[0;31mTypeError\u001b[0m: '<' not supported between instances of 'NoneType' and 'float'"
          ]
        }
      ]
    },
    {
      "cell_type": "code",
      "metadata": {
        "id": "gcfl6LrGCLuS"
      },
      "source": [
        "# plotting CDF\n",
        "def norm_dist_cdf_plot(_x):\n",
        "    pass"
      ],
      "execution_count": null,
      "outputs": []
    },
    {
      "cell_type": "code",
      "metadata": {
        "id": "3iR4Vd4FXc_5"
      },
      "source": [
        "# transforming normal distributions to standard normal through z-scores\n"
      ],
      "execution_count": null,
      "outputs": []
    },
    {
      "cell_type": "markdown",
      "metadata": {
        "id": "J7GFz9h9RZ2A"
      },
      "source": [
        "## T distribution\n",
        "\n",
        "Definition\n",
        "\n",
        "Probability Density Function\n",
        "$$f(t) = \\frac{\\Gamma(\\frac{\\nu+1}{2})} {\\sqrt{\\nu\\pi}\\,\\Gamma(\\frac{\\nu}{2})} \\left(1+\\frac{t^2}{\\nu} \\right)^{\\!-\\frac{\\nu+1}{2}},\\!$$\n",
        "\n",
        "where $v$ is the number of degrees of freedom and $\\Gamma$ is the [gamma function](https://en.wikipedia.org/wiki/Gamma_function).\n",
        "\n",
        "The density function of the t-distribution may also be written in terms of the $\\beta$ -function. \n",
        "\n",
        "$$f(t) = \\frac{1}{\\sqrt{\\nu}\\,\\mathrm{B} (\\frac{1}{2}, \\frac{\\nu}{2})} \\left(1+\\frac{t^2}{\\nu} \\right)^{\\!-\\frac{\\nu+1}{2}}\\!,$$\n",
        "\n",
        "where B is the [beta-function](https://en.wikipedia.org/wiki/Beta_function). \n",
        "\n",
        "----\n",
        "Cumulative Distribution Function:\n",
        "\n",
        "The cumulative distribution function can be written in terms of I, the regularized incomplete beta function. For t > 0,\n",
        "\n",
        "$${\\displaystyle F(t)=\\int _{-\\infty }^{t}f(u)\\,du=1-{\\tfrac {1}{2}}I_{x(t)}\\left({\\tfrac {\\nu }{2}},{\\tfrac {1}{2}}\\right),}$$\n",
        "\n",
        "where\n",
        "\n",
        "$$x(t) = \\frac{\\nu}{{t^2+\\nu}}$$\n",
        "\n",
        "Other values would be obtained by symmetry. An alternative formula, valid for $t^2 < \\nu$, is\n",
        "\n",
        "$${\\displaystyle \\int _{-\\infty }^{t}f(u)\\,du={\\tfrac {1}{2}}+t{\\frac {\\Gamma \\left({\\tfrac {1}{2}}(\\nu +1)\\right)}{{\\sqrt {\\pi \\nu }}\\,\\Gamma \\left({\\tfrac {\\nu }{2}}\\right)}}\\,{}_{2}F_{1}\\left({\\tfrac {1}{2}},{\\tfrac {1}{2}}(\\nu +1);{\\tfrac {3}{2}};-{\\tfrac {t^{2}}{\\nu }}\\right),}$$\n",
        "\n",
        "where $_ 2F_1$ is a particular case of the hypergeometric function.\n",
        "\n",
        "For implementing this distribution, we will use a library in SymPy to define the gamma function and beta-function symbolically. \n"
      ]
    },
    {
      "cell_type": "code",
      "metadata": {
        "id": "CRhBPsWX-QAF"
      },
      "source": [
        "# introduct symbols\n",
        "df, t = sp.symbols(\"v, t\")"
      ],
      "execution_count": null,
      "outputs": []
    },
    {
      "cell_type": "markdown",
      "metadata": {
        "id": "DNuLZMPgEqSL"
      },
      "source": [
        "### PDF of T-distribution\n",
        "$$f(t) = \\frac{\\Gamma(\\frac{\\nu+1}{2})} {\\sqrt{\\nu\\pi}\\,\\Gamma(\\frac{\\nu}{2})} \\left(1+\\frac{t^2}{\\nu} \\right)^{\\!-\\frac{\\nu+1}{2}}\\!$$"
      ]
    },
    {
      "cell_type": "code",
      "metadata": {
        "id": "WEtbsXyU-E6a"
      },
      "source": [
        "# definition of the pdf - for graphing the distirbution\n",
        "def t_dist_pdf(df, t):\n",
        "    val = sp.gamma((df+1)/2)/(sp.sqrt(df*sp.pi)*sp.gamma(df/2))*(1+(t**2/df))**(-((df+1)/2))\n",
        "    return N(val)"
      ],
      "execution_count": null,
      "outputs": []
    },
    {
      "cell_type": "code",
      "metadata": {
        "id": "s9Xjb9PdZZht"
      },
      "source": [
        "# numerical method"
      ],
      "execution_count": null,
      "outputs": []
    },
    {
      "cell_type": "markdown",
      "metadata": {
        "id": "o3sSfV9wEyFn"
      },
      "source": [
        "### CDF of T-distribution\n",
        "$$\\int_{-\\infty}^{t} f(x,t) dt$$"
      ]
    },
    {
      "cell_type": "code",
      "metadata": {
        "id": "yPrEo1BHEtlI"
      },
      "source": [
        "# definition of the cmf -  for finding the probability values\n",
        "def t_dist_cdf(df, *a, lower = \"-oo\", upper=None):\n",
        "    expr = sp.gamma((df+1)/2)/(sp.sqrt(df*sp.pi)*sp.gamma(df/2))*(1+(t**2/df))**(-((df+1)/2))\n",
        "    if(upper==None):\n",
        "        val = sp.Integral(expr, (t,lower,a))\n",
        "    if(upper!=None):\n",
        "         val = sp.Integral(expr, (t,lower,upper))\n",
        "    return N(val)\n",
        "\n",
        "# t_dist_cdf(10, lower=-1, upper=1)"
      ],
      "execution_count": null,
      "outputs": []
    },
    {
      "cell_type": "code",
      "metadata": {
        "id": "Zc_Uy-Kq-GEJ"
      },
      "source": [
        "# to-do: improve function as lambda function with loc and scale, and shading\n",
        "# plotting the t-distribution\n",
        "from scipy.special import gamma \n",
        "\n",
        "def t_dist_np(x, t=0): # loc, scale, df\n",
        "    val = gamma((x+1)/2)/(np.sqrt(x*np.pi)*gamma(x/2))*(1+(t**2/x))**(-((x+1)/2))\n",
        "    return val\n",
        "\n",
        "x = np.linspace(-5,5, 10000)\n",
        "y = np.array([t_dist_np(1,i) for i in x])\n",
        "\n",
        "plt.plot(x,y)"
      ],
      "execution_count": null,
      "outputs": []
    },
    {
      "cell_type": "markdown",
      "metadata": {
        "id": "5nB-MfW5Zo37"
      },
      "source": [
        "### F-distribution\n",
        "Fisher–Snedecor distribution (after Ronald Fisher and George W. Snedecor) is a continuous probability distribution that arises frequently as the null distribution of a test statistic, most notably in the analysis of variance (ANOVA), e.g., F-test.\n",
        "\n",
        "----\n",
        "Definition:\n",
        "\n",
        "\n",
        "Probability Density Function:\n",
        "\n",
        "If a random variable $X$ has an F-distribution with parameters $d_1$ and $d_2$, we write X~F(d₁,d₂). Then the probability density function for X is given by:\n",
        "\n",
        "$${\\displaystyle {\\begin{aligned}f(x;d_{1},d_{2})&={\\frac {\\sqrt {\\frac {(d_{1}x)^{d_{1}}\\,\\,d_{2}^{d_{2}}}{(d_{1}x+d_{2})^{d_{1}+d_{2}}}}}{x\\,\\mathrm {B} \\!\\left({\\frac {d_{1}}{2}},{\\frac {d_{2}}{2}}\\right)}}\\\\&={\\frac {1}{\\mathrm {B} \\!\\left({\\frac {d_{1}}{2}},{\\frac {d_{2}}{2}}\\right)}}\\left({\\frac {d_{1}}{d_{2}}}\\right)^{\\frac {d_{1}}{2}}x^{{\\frac {d_{1}}{2}}-1}\\left(1+{\\frac {d_{1}}{d_{2}}}\\,x\\right)^{-{\\frac {d_{1}+d_{2}}{2}}}\\end{aligned}}}$$\n",
        "\n",
        "for real x>0. Where B is the beta function. \n",
        "\n",
        "Cummulative Density Function:\n",
        "\n",
        "$$F(x;d_{1},d_{2})=I_{{{\\frac  {d_{1}x}{d_{1}x+d_{2}}}}}\\left({\\tfrac  {d_{1}}{2}},{\\tfrac  {d_{2}}{2}}\\right),$$\n",
        "where I is the regularized [incomplete beta function](https://en.wikipedia.org/wiki/Regularized_incomplete_beta_function).\n"
      ]
    },
    {
      "cell_type": "code",
      "metadata": {
        "id": "3x2uAn1oFofb"
      },
      "source": [
        "# initialize symbols\n",
        "a,b = sp.symbols(\"a b\")"
      ],
      "execution_count": null,
      "outputs": []
    },
    {
      "cell_type": "markdown",
      "metadata": {
        "id": "PriAlU6FFWtd"
      },
      "source": [
        "### Incomplete $\\beta$- function:\n",
        "\n",
        "$${\\displaystyle \\mathrm {B} (x;\\,a,b)=\\int _{0}^{x}t^{a-1}\\,(1-t)^{b-1}\\,dt.}$$"
      ]
    },
    {
      "cell_type": "code",
      "metadata": {
        "id": "EhUdWxSRWF4-"
      },
      "source": [
        "# Prototypical implementation\n",
        "def incomplete_beta(x_0,a_0,b_0):\n",
        "    expr = t**(a_0-1)*(1-t)**(b_0-1)\n",
        "    return N(sp.integrate(expr, (t, 0, x_0)))"
      ],
      "execution_count": null,
      "outputs": []
    },
    {
      "cell_type": "code",
      "metadata": {
        "id": "B5nV9CAWF1DK"
      },
      "source": [
        "# implementation from SciPy\r\n",
        "def incomplete_beta_num(x_0, a_0, b_0):\r\n",
        "    expr = lambda t_0: t_0**(a_0-1)*(1-t_0)**(b_0-1)\r\n",
        "    return sci.integrate.quad(expr, 0, x_0)[0]"
      ],
      "execution_count": null,
      "outputs": []
    },
    {
      "cell_type": "code",
      "metadata": {
        "colab": {
          "base_uri": "https://localhost:8080/",
          "height": 36
        },
        "id": "UX-bbOavPZ09",
        "outputId": "243e386c-ba24-424b-d6a2-bdf89874b895"
      },
      "source": [
        "incomplete_beta(3,4,5)"
      ],
      "execution_count": null,
      "outputs": [
        {
          "output_type": "execute_result",
          "data": {
            "image/png": "[encoded data removed]",
            "text/latex": "$$125.260714285714$$",
            "text/plain": [
              "125.260714285714"
            ]
          },
          "metadata": {
            "tags": []
          },
          "execution_count": 15
        }
      ]
    },
    {
      "cell_type": "code",
      "metadata": {
        "colab": {
          "base_uri": "https://localhost:8080/",
          "height": 37
        },
        "id": "-ghd2K2BQLik",
        "outputId": "9eef0967-de32-4129-875f-af909a926dc7"
      },
      "source": [
        "incomplete_beta_num(3,4,5)"
      ],
      "execution_count": null,
      "outputs": [
        {
          "output_type": "execute_result",
          "data": {
            "image/png": "[encoded data removed]",
            "text/latex": "$$\\left ( 125.2607142857143, \\quad 1.3906732908099328e-12\\right )$$",
            "text/plain": [
              "(125.2607142857143, 1.3906732908099328e-12)"
            ]
          },
          "metadata": {
            "tags": []
          },
          "execution_count": 26
        }
      ]
    },
    {
      "cell_type": "markdown",
      "metadata": {
        "id": "s2RsoN_htrl9"
      },
      "source": [
        "$${\\displaystyle {\\begin{aligned}f(x;d_{1},d_{2})&={\\frac {\\sqrt {\\frac {(d_{1}x)^{d_{1}}\\,\\,d_{2}^{d_{2}}}{(d_{1}x+d_{2})^{d_{1}+d_{2}}}}}{x\\,\\mathrm {B} \\!\\left({\\frac {d_{1}}{2}},{\\frac {d_{2}}{2}}\\right)}}\\\\&={\\frac {1}{\\mathrm {B} \\!\\left({\\frac {d_{1}}{2}},{\\frac {d_{2}}{2}}\\right)}}\\left({\\frac {d_{1}}{d_{2}}}\\right)^{\\frac {d_{1}}{2}}x^{{\\frac {d_{1}}{2}}-1}\\left(1+{\\frac {d_{1}}{d_{2}}}\\,x\\right)^{-{\\frac {d_{1}+d_{2}}{2}}}\\end{aligned}}}$$"
      ]
    },
    {
      "cell_type": "code",
      "metadata": {
        "id": "Zq1QBGsfPCsZ"
      },
      "source": [
        "# pdf\n",
        "def f_dist_pdf(x_0, d1, d2):\n",
        "    return np.sqrt(((d1*x_0)**d1*d2**d2)/(d1*x_0+d2)**(d1+d2))/((x_0)*incomplete_beta_num(x_0, d1/2, d2/2)) "
      ],
      "execution_count": null,
      "outputs": []
    },
    {
      "cell_type": "code",
      "metadata": {
        "colab": {
          "base_uri": "https://localhost:8080/",
          "height": 36
        },
        "id": "u08gGUakUIMa",
        "outputId": "158385b7-3e6d-4370-d5c1-1caa6c4f0d26"
      },
      "source": [
        "f_dist_pdf(1,2,3)"
      ],
      "execution_count": null,
      "outputs": [
        {
          "output_type": "execute_result",
          "data": {
            "image/png": "[encoded data removed]",
            "text/latex": "$$0.27885480092693393$$",
            "text/plain": [
              "0.27885480092693393"
            ]
          },
          "metadata": {
            "tags": []
          },
          "execution_count": 38
        }
      ]
    },
    {
      "cell_type": "code",
      "metadata": {
        "colab": {
          "base_uri": "https://localhost:8080/",
          "height": 36
        },
        "id": "4_HcnuzIcJaj",
        "outputId": "9c96c1c9-49dd-47a4-b5ff-5b08b84a0d50"
      },
      "source": [
        "def test_f(x_0,d1,d2):\r\n",
        "    return np.sqrt(((d1*x_0)**d1*d2**d2)/(d1*x_0+d2)**(d1+d2))/((x_0)*sci.special.beta(d1/2, d2/2)) \r\n",
        "\r\n",
        "test_f(1,2,3)"
      ],
      "execution_count": null,
      "outputs": [
        {
          "output_type": "execute_result",
          "data": {
            "image/png": "[encoded data removed]",
            "text/latex": "$$0.27885480092693404$$",
            "text/plain": [
              "0.27885480092693404"
            ]
          },
          "metadata": {
            "tags": []
          },
          "execution_count": 75
        }
      ]
    },
    {
      "cell_type": "code",
      "metadata": {
        "colab": {
          "base_uri": "https://localhost:8080/",
          "height": 352
        },
        "id": "2hf90q1XUjsj",
        "outputId": "f3e84baf-4ba1-4a55-9d53-ca29f5edf9e6"
      },
      "source": [
        "x_f = np.linspace(1,5,1000)\r\n",
        "y_f = np.array([f_dist_pdf(i, 2,3) for i in x_f])\r\n",
        "\r\n",
        "plt.plot(x_f,y_f)"
      ],
      "execution_count": null,
      "outputs": [
        {
          "output_type": "error",
          "ename": "TypeError",
          "evalue": "ignored",
          "traceback": [
            "\u001b[0;31m---------------------------------------------------------------------------\u001b[0m",
            "\u001b[0;31mTypeError\u001b[0m                                 Traceback (most recent call last)",
            "\u001b[0;32m<ipython-input-39-a20c7ed26306>\u001b[0m in \u001b[0;36m<module>\u001b[0;34m()\u001b[0m\n\u001b[1;32m      1\u001b[0m \u001b[0mx_f\u001b[0m \u001b[0;34m=\u001b[0m \u001b[0mnp\u001b[0m\u001b[0;34m.\u001b[0m\u001b[0mlinspace\u001b[0m\u001b[0;34m(\u001b[0m\u001b[0;36m1\u001b[0m\u001b[0;34m,\u001b[0m\u001b[0;36m5\u001b[0m\u001b[0;34m,\u001b[0m\u001b[0;36m1000\u001b[0m\u001b[0;34m)\u001b[0m\u001b[0;34m\u001b[0m\u001b[0;34m\u001b[0m\u001b[0m\n\u001b[0;32m----> 2\u001b[0;31m \u001b[0my_f\u001b[0m \u001b[0;34m=\u001b[0m \u001b[0mnp\u001b[0m\u001b[0;34m.\u001b[0m\u001b[0marray\u001b[0m\u001b[0;34m(\u001b[0m\u001b[0;34m[\u001b[0m\u001b[0mf_dist_pdf\u001b[0m\u001b[0;34m(\u001b[0m\u001b[0mi\u001b[0m\u001b[0;34m,\u001b[0m \u001b[0;36m2\u001b[0m\u001b[0;34m,\u001b[0m\u001b[0;36m3\u001b[0m\u001b[0;34m)\u001b[0m \u001b[0;32mfor\u001b[0m \u001b[0mi\u001b[0m \u001b[0;32min\u001b[0m \u001b[0mx_f\u001b[0m\u001b[0;34m]\u001b[0m\u001b[0;34m)\u001b[0m\u001b[0;34m\u001b[0m\u001b[0;34m\u001b[0m\u001b[0m\n\u001b[0m\u001b[1;32m      3\u001b[0m \u001b[0;34m\u001b[0m\u001b[0m\n\u001b[1;32m      4\u001b[0m \u001b[0mplt\u001b[0m\u001b[0;34m.\u001b[0m\u001b[0mplot\u001b[0m\u001b[0;34m(\u001b[0m\u001b[0mx_f\u001b[0m\u001b[0;34m,\u001b[0m\u001b[0my_f\u001b[0m\u001b[0;34m)\u001b[0m\u001b[0;34m\u001b[0m\u001b[0;34m\u001b[0m\u001b[0m\n",
            "\u001b[0;32m<ipython-input-39-a20c7ed26306>\u001b[0m in \u001b[0;36m<listcomp>\u001b[0;34m(.0)\u001b[0m\n\u001b[1;32m      1\u001b[0m \u001b[0mx_f\u001b[0m \u001b[0;34m=\u001b[0m \u001b[0mnp\u001b[0m\u001b[0;34m.\u001b[0m\u001b[0mlinspace\u001b[0m\u001b[0;34m(\u001b[0m\u001b[0;36m1\u001b[0m\u001b[0;34m,\u001b[0m\u001b[0;36m5\u001b[0m\u001b[0;34m,\u001b[0m\u001b[0;36m1000\u001b[0m\u001b[0;34m)\u001b[0m\u001b[0;34m\u001b[0m\u001b[0;34m\u001b[0m\u001b[0m\n\u001b[0;32m----> 2\u001b[0;31m \u001b[0my_f\u001b[0m \u001b[0;34m=\u001b[0m \u001b[0mnp\u001b[0m\u001b[0;34m.\u001b[0m\u001b[0marray\u001b[0m\u001b[0;34m(\u001b[0m\u001b[0;34m[\u001b[0m\u001b[0mf_dist_pdf\u001b[0m\u001b[0;34m(\u001b[0m\u001b[0mi\u001b[0m\u001b[0;34m,\u001b[0m \u001b[0;36m2\u001b[0m\u001b[0;34m,\u001b[0m\u001b[0;36m3\u001b[0m\u001b[0;34m)\u001b[0m \u001b[0;32mfor\u001b[0m \u001b[0mi\u001b[0m \u001b[0;32min\u001b[0m \u001b[0mx_f\u001b[0m\u001b[0;34m]\u001b[0m\u001b[0;34m)\u001b[0m\u001b[0;34m\u001b[0m\u001b[0;34m\u001b[0m\u001b[0m\n\u001b[0m\u001b[1;32m      3\u001b[0m \u001b[0;34m\u001b[0m\u001b[0m\n\u001b[1;32m      4\u001b[0m \u001b[0mplt\u001b[0m\u001b[0;34m.\u001b[0m\u001b[0mplot\u001b[0m\u001b[0;34m(\u001b[0m\u001b[0mx_f\u001b[0m\u001b[0;34m,\u001b[0m\u001b[0my_f\u001b[0m\u001b[0;34m)\u001b[0m\u001b[0;34m\u001b[0m\u001b[0;34m\u001b[0m\u001b[0m\n",
            "\u001b[0;32m<ipython-input-31-3b1d8cd99ac0>\u001b[0m in \u001b[0;36mf_dist_pdf\u001b[0;34m(x_0, d1, d2)\u001b[0m\n\u001b[1;32m      1\u001b[0m \u001b[0;31m# pdf\u001b[0m\u001b[0;34m\u001b[0m\u001b[0;34m\u001b[0m\u001b[0;34m\u001b[0m\u001b[0m\n\u001b[1;32m      2\u001b[0m \u001b[0;32mdef\u001b[0m \u001b[0mf_dist_pdf\u001b[0m\u001b[0;34m(\u001b[0m\u001b[0mx_0\u001b[0m\u001b[0;34m,\u001b[0m \u001b[0md1\u001b[0m\u001b[0;34m,\u001b[0m \u001b[0md2\u001b[0m\u001b[0;34m)\u001b[0m\u001b[0;34m:\u001b[0m\u001b[0;34m\u001b[0m\u001b[0;34m\u001b[0m\u001b[0m\n\u001b[0;32m----> 3\u001b[0;31m     \u001b[0;32mreturn\u001b[0m \u001b[0mnp\u001b[0m\u001b[0;34m.\u001b[0m\u001b[0msqrt\u001b[0m\u001b[0;34m(\u001b[0m\u001b[0;34m(\u001b[0m\u001b[0;34m(\u001b[0m\u001b[0md1\u001b[0m\u001b[0;34m*\u001b[0m\u001b[0mx_0\u001b[0m\u001b[0;34m)\u001b[0m\u001b[0;34m**\u001b[0m\u001b[0md1\u001b[0m\u001b[0;34m*\u001b[0m\u001b[0md2\u001b[0m\u001b[0;34m**\u001b[0m\u001b[0md2\u001b[0m\u001b[0;34m)\u001b[0m\u001b[0;34m/\u001b[0m\u001b[0;34m(\u001b[0m\u001b[0md1\u001b[0m\u001b[0;34m*\u001b[0m\u001b[0mx_0\u001b[0m\u001b[0;34m+\u001b[0m\u001b[0md2\u001b[0m\u001b[0;34m)\u001b[0m\u001b[0;34m**\u001b[0m\u001b[0;34m(\u001b[0m\u001b[0md1\u001b[0m\u001b[0;34m+\u001b[0m\u001b[0md2\u001b[0m\u001b[0;34m)\u001b[0m\u001b[0;34m)\u001b[0m\u001b[0;34m/\u001b[0m\u001b[0;34m(\u001b[0m\u001b[0;34m(\u001b[0m\u001b[0mx_0\u001b[0m\u001b[0;34m)\u001b[0m\u001b[0;34m*\u001b[0m\u001b[0mincomplete_beta_num\u001b[0m\u001b[0;34m(\u001b[0m\u001b[0mx_0\u001b[0m\u001b[0;34m,\u001b[0m \u001b[0md1\u001b[0m\u001b[0;34m/\u001b[0m\u001b[0;36m2\u001b[0m\u001b[0;34m,\u001b[0m \u001b[0md2\u001b[0m\u001b[0;34m/\u001b[0m\u001b[0;36m2\u001b[0m\u001b[0;34m)\u001b[0m\u001b[0;34m)\u001b[0m\u001b[0;34m\u001b[0m\u001b[0;34m\u001b[0m\u001b[0m\n\u001b[0m",
            "\u001b[0;32m<ipython-input-30-74f504675878>\u001b[0m in \u001b[0;36mincomplete_beta_num\u001b[0;34m(x_0, a_0, b_0)\u001b[0m\n\u001b[1;32m      2\u001b[0m \u001b[0;32mdef\u001b[0m \u001b[0mincomplete_beta_num\u001b[0m\u001b[0;34m(\u001b[0m\u001b[0mx_0\u001b[0m\u001b[0;34m,\u001b[0m \u001b[0ma_0\u001b[0m\u001b[0;34m,\u001b[0m \u001b[0mb_0\u001b[0m\u001b[0;34m)\u001b[0m\u001b[0;34m:\u001b[0m\u001b[0;34m\u001b[0m\u001b[0;34m\u001b[0m\u001b[0m\n\u001b[1;32m      3\u001b[0m     \u001b[0mexpr\u001b[0m \u001b[0;34m=\u001b[0m \u001b[0;32mlambda\u001b[0m \u001b[0mt_0\u001b[0m\u001b[0;34m:\u001b[0m \u001b[0mt_0\u001b[0m\u001b[0;34m**\u001b[0m\u001b[0;34m(\u001b[0m\u001b[0ma_0\u001b[0m\u001b[0;34m-\u001b[0m\u001b[0;36m1\u001b[0m\u001b[0;34m)\u001b[0m\u001b[0;34m*\u001b[0m\u001b[0;34m(\u001b[0m\u001b[0;36m1\u001b[0m\u001b[0;34m-\u001b[0m\u001b[0mt_0\u001b[0m\u001b[0;34m)\u001b[0m\u001b[0;34m**\u001b[0m\u001b[0;34m(\u001b[0m\u001b[0mb_0\u001b[0m\u001b[0;34m-\u001b[0m\u001b[0;36m1\u001b[0m\u001b[0;34m)\u001b[0m\u001b[0;34m\u001b[0m\u001b[0;34m\u001b[0m\u001b[0m\n\u001b[0;32m----> 4\u001b[0;31m     \u001b[0;32mreturn\u001b[0m \u001b[0msci\u001b[0m\u001b[0;34m.\u001b[0m\u001b[0mintegrate\u001b[0m\u001b[0;34m.\u001b[0m\u001b[0mquad\u001b[0m\u001b[0;34m(\u001b[0m\u001b[0mexpr\u001b[0m\u001b[0;34m,\u001b[0m \u001b[0;36m0\u001b[0m\u001b[0;34m,\u001b[0m \u001b[0mx_0\u001b[0m\u001b[0;34m)\u001b[0m\u001b[0;34m[\u001b[0m\u001b[0;36m0\u001b[0m\u001b[0;34m]\u001b[0m\u001b[0;34m\u001b[0m\u001b[0;34m\u001b[0m\u001b[0m\n\u001b[0m",
            "\u001b[0;32m/usr/local/lib/python3.6/dist-packages/scipy/integrate/quadpack.py\u001b[0m in \u001b[0;36mquad\u001b[0;34m(func, a, b, args, full_output, epsabs, epsrel, limit, points, weight, wvar, wopts, maxp1, limlst)\u001b[0m\n\u001b[1;32m    340\u001b[0m     \u001b[0;32mif\u001b[0m \u001b[0mweight\u001b[0m \u001b[0;32mis\u001b[0m \u001b[0;32mNone\u001b[0m\u001b[0;34m:\u001b[0m\u001b[0;34m\u001b[0m\u001b[0;34m\u001b[0m\u001b[0m\n\u001b[1;32m    341\u001b[0m         retval = _quad(func, a, b, args, full_output, epsabs, epsrel, limit,\n\u001b[0;32m--> 342\u001b[0;31m                        points)\n\u001b[0m\u001b[1;32m    343\u001b[0m     \u001b[0;32melse\u001b[0m\u001b[0;34m:\u001b[0m\u001b[0;34m\u001b[0m\u001b[0;34m\u001b[0m\u001b[0m\n\u001b[1;32m    344\u001b[0m         \u001b[0;32mif\u001b[0m \u001b[0mpoints\u001b[0m \u001b[0;32mis\u001b[0m \u001b[0;32mnot\u001b[0m \u001b[0;32mNone\u001b[0m\u001b[0;34m:\u001b[0m\u001b[0;34m\u001b[0m\u001b[0;34m\u001b[0m\u001b[0m\n",
            "\u001b[0;32m/usr/local/lib/python3.6/dist-packages/scipy/integrate/quadpack.py\u001b[0m in \u001b[0;36m_quad\u001b[0;34m(func, a, b, args, full_output, epsabs, epsrel, limit, points)\u001b[0m\n\u001b[1;32m    451\u001b[0m     \u001b[0;32mif\u001b[0m \u001b[0mpoints\u001b[0m \u001b[0;32mis\u001b[0m \u001b[0;32mNone\u001b[0m\u001b[0;34m:\u001b[0m\u001b[0;34m\u001b[0m\u001b[0;34m\u001b[0m\u001b[0m\n\u001b[1;32m    452\u001b[0m         \u001b[0;32mif\u001b[0m \u001b[0minfbounds\u001b[0m \u001b[0;34m==\u001b[0m \u001b[0;36m0\u001b[0m\u001b[0;34m:\u001b[0m\u001b[0;34m\u001b[0m\u001b[0;34m\u001b[0m\u001b[0m\n\u001b[0;32m--> 453\u001b[0;31m             \u001b[0;32mreturn\u001b[0m \u001b[0m_quadpack\u001b[0m\u001b[0;34m.\u001b[0m\u001b[0m_qagse\u001b[0m\u001b[0;34m(\u001b[0m\u001b[0mfunc\u001b[0m\u001b[0;34m,\u001b[0m\u001b[0ma\u001b[0m\u001b[0;34m,\u001b[0m\u001b[0mb\u001b[0m\u001b[0;34m,\u001b[0m\u001b[0margs\u001b[0m\u001b[0;34m,\u001b[0m\u001b[0mfull_output\u001b[0m\u001b[0;34m,\u001b[0m\u001b[0mepsabs\u001b[0m\u001b[0;34m,\u001b[0m\u001b[0mepsrel\u001b[0m\u001b[0;34m,\u001b[0m\u001b[0mlimit\u001b[0m\u001b[0;34m)\u001b[0m\u001b[0;34m\u001b[0m\u001b[0;34m\u001b[0m\u001b[0m\n\u001b[0m\u001b[1;32m    454\u001b[0m         \u001b[0;32melse\u001b[0m\u001b[0;34m:\u001b[0m\u001b[0;34m\u001b[0m\u001b[0;34m\u001b[0m\u001b[0m\n\u001b[1;32m    455\u001b[0m             \u001b[0;32mreturn\u001b[0m \u001b[0m_quadpack\u001b[0m\u001b[0;34m.\u001b[0m\u001b[0m_qagie\u001b[0m\u001b[0;34m(\u001b[0m\u001b[0mfunc\u001b[0m\u001b[0;34m,\u001b[0m\u001b[0mbound\u001b[0m\u001b[0;34m,\u001b[0m\u001b[0minfbounds\u001b[0m\u001b[0;34m,\u001b[0m\u001b[0margs\u001b[0m\u001b[0;34m,\u001b[0m\u001b[0mfull_output\u001b[0m\u001b[0;34m,\u001b[0m\u001b[0mepsabs\u001b[0m\u001b[0;34m,\u001b[0m\u001b[0mepsrel\u001b[0m\u001b[0;34m,\u001b[0m\u001b[0mlimit\u001b[0m\u001b[0;34m)\u001b[0m\u001b[0;34m\u001b[0m\u001b[0;34m\u001b[0m\u001b[0m\n",
            "\u001b[0;31mTypeError\u001b[0m: can't convert complex to float"
          ]
        }
      ]
    },
    {
      "cell_type": "code",
      "metadata": {
        "id": "t7t97wWQPChQ"
      },
      "source": [
        "# cdf\n",
        "def f_dist_cdf():\n",
        "    pass"
      ],
      "execution_count": null,
      "outputs": []
    },
    {
      "cell_type": "code",
      "metadata": {
        "id": "-j9mCEgjYyi1"
      },
      "source": [
        "# difference between 2 variances"
      ],
      "execution_count": null,
      "outputs": []
    },
    {
      "cell_type": "markdown",
      "metadata": {
        "id": "X-EGfjwqHey8"
      },
      "source": [
        "## $\\chi^2$ Distribution\n",
        "\n",
        "Definition\n",
        "\n",
        "Probability Density Function\n",
        "\n",
        "The probability density function (pdf) of the chi-square distribution is\n",
        "\n",
        "$${\\displaystyle f(x;\\,k)={\\begin{cases}{\\dfrac {x^{{\\frac {k}{2}}-1}e^{-{\\frac {x}{2}}}}{2^{\\frac {k}{2}}\\Gamma \\left({\\frac {k}{2}}\\right)}},&x>0;\\\\0,&{\\text{otherwise}}.\\end{cases}}}$$\n",
        "\n",
        "where ${\\textstyle \\Gamma (k/2)}$ denotes the gamma function, which has closed-form values for integer $k$.\n",
        "\n",
        "\n",
        "Commulative Density Function\n",
        "$$F(x;\\,k)={\\frac {\\gamma ({\\frac {k}{2}},\\,{\\frac {x}{2}})}{\\Gamma ({\\frac {k}{2}})}}=P\\left({\\frac {k}{2}},\\,{\\frac {x}{2}}\\right),$$\n",
        "\n",
        "where ${\\displaystyle \\gamma (s,t)}$ is the lower incomplete gamma function and ${\\textstyle P(s,t)}$ is the regularized gamma function.\n"
      ]
    },
    {
      "cell_type": "code",
      "metadata": {
        "id": "A4meTfPZ-0x-"
      },
      "source": [
        "# introduce symbol\n",
        "k = sp.Symbol(k)"
      ],
      "execution_count": null,
      "outputs": []
    },
    {
      "cell_type": "code",
      "metadata": {
        "id": "l48sfDAzHfdZ"
      },
      "source": [
        "# pdf \n",
        "def chi_dist_pdf(x_0,k_0):\n",
        "    if(x_0>0):\n",
        "        return (np.power(x_0, (k_0/2)-1)*np.exp(-x_0/2))/((2**(k_0/2))*ss.gamma(k_0/2))\n",
        "    else: \n",
        "        return 0"
      ],
      "execution_count": null,
      "outputs": []
    },
    {
      "cell_type": "code",
      "metadata": {
        "id": "hQJR0wCmHft0"
      },
      "source": [
        "# cdf\n",
        "def chi_dist_pdf(x_0,k_0):\n",
        "    return ss.gammaic(k_0/2, x/2)/ss.gamma(k/2)"
      ],
      "execution_count": null,
      "outputs": []
    },
    {
      "cell_type": "markdown",
      "metadata": {
        "id": "buPdEwGlPIfT"
      },
      "source": [
        "## $\\Gamma$-Distribution\n",
        "\n",
        "- Case 1: $k>0 \\text{ shape};\\ \\theta>0 \\text{ scale}$\n",
        "- Case 2: $a>0 \\text{ shape}; \\beta>0  \\text{ scale}$\n",
        "\n",
        "Definitions\n",
        "\n",
        "Probability Density Function:\n",
        "\n",
        "Case 1: \n",
        "$${\\displaystyle f(x)={\\frac {1}{\\Gamma (k)\\theta ^{k}}}x^{k-1}e^{-{\\frac {x}{\\theta }}}}$$\n",
        "\n",
        "Case 2:\n",
        "$$\t{\\displaystyle f(x)={\\frac {\\beta ^{\\alpha }}{\\Gamma (\\alpha )}}x^{\\alpha -1}e^{-\\beta x}}$$\n",
        "\n",
        "Parameter\n",
        "- $x\\in (0, \\infty)$ is the random variable\n",
        "----\n",
        "Cumulative Distribution Function\n",
        "\n",
        "Case 1:\n",
        "$${\\displaystyle F(x)={\\frac {1}{\\Gamma (k)}}\\gamma \\left(k,{\\frac {x}{\\theta }}\\right)}$$\n",
        "\n",
        "Case 2:\n",
        "$$\t{\\displaystyle F(x)={\\frac {1}{\\Gamma (\\alpha )}}\\gamma (\\alpha ,\\beta x)}$$\n",
        "\n",
        "Parameter\n",
        "- $x\\in (0, \\infty)$ is the random variable"
      ]
    },
    {
      "cell_type": "code",
      "metadata": {
        "id": "oRQSeOvbPPbY"
      },
      "source": [
        "def gamma_pdf_c1(k, theta, x):\r\n",
        "    scale  = np.power(x,k-1)*np.exp(-x/theta)\r\n",
        "    return (1/(ss.gamma(k)*np.power(theta,k)))*scale"
      ],
      "execution_count": null,
      "outputs": []
    },
    {
      "cell_type": "code",
      "metadata": {
        "id": "IFq2r6fFPPTH"
      },
      "source": [
        "def gamma_pdf_c2(a, beta, x):\r\n",
        "    scale  = np.power(x,a-1)*np.exp(-x*beta)\r\n",
        "    return (1/(ss.gamma(a)*np.power(beta,a)))*scale"
      ],
      "execution_count": null,
      "outputs": []
    },
    {
      "cell_type": "code",
      "metadata": {
        "id": "XY9MA0JkNIJh"
      },
      "source": [
        "def gamma_cdf_c1(k, theta, x):\r\n",
        "    return (1/ss.gamma(k))*ss.gammaic(k, x/theta)"
      ],
      "execution_count": null,
      "outputs": []
    },
    {
      "cell_type": "code",
      "metadata": {
        "id": "QAX-qHSFFtnn"
      },
      "source": [
        "def gamma_cdf_c1(a, beta, x):\r\n",
        "    return (1/ss.gamma(a))*ss.gammaic(a, x*beta)"
      ],
      "execution_count": null,
      "outputs": []
    },
    {
      "cell_type": "markdown",
      "metadata": {
        "id": "JFEQLlqW1fSh"
      },
      "source": [
        "## Pareto Distribution\r\n",
        "\r\n",
        "Definitions\r\n",
        "\r\n",
        "Probability Density Function:\r\n",
        "$$f_X(x)= \\begin{cases} \\frac{\\alpha x_\\mathrm{m}^\\alpha}{x^{\\alpha+1}} & x \\ge x_\\mathrm{m}, \\\\ 0 & x < x_\\mathrm{m}. \\end{cases} $$\r\n",
        "\r\n",
        "- $x$ is the random variable\r\n",
        "- $k$ is the lower bound of the data\r\n",
        "- $α$ is the shape parameter\r\n",
        "- $x_m$ is the minimum possible value of $x$\r\n",
        "----\r\n",
        "Cumulative Distribution Function\r\n",
        "\r\n",
        "$$F_X(x) = \\begin{cases}\r\n",
        "1-\\left(\\frac{x_\\mathrm{m}}{x}\\right)^\\alpha & x \\ge x_\\mathrm{m}, \\\\\r\n",
        "0 & x < x_\\mathrm{m}.\r\n",
        "\\end{cases}$$\r\n",
        "\r\n",
        "- $x$ is the random variable\r\n",
        "- $k$ is the lower bound of the data\r\n",
        "- $α$ is the shape parameter\r\n",
        "- $x_m$ is the minimum possible value of $x$"
      ]
    },
    {
      "cell_type": "code",
      "metadata": {
        "id": "uXvc2Ck54I-x"
      },
      "source": [
        "def pareto_df(data,x,a):\r\n",
        "        # x ∈ data\r\n",
        "        if(x>=min(data)):\r\n",
        "            return (a*np.power(min(data), a))/(np.power(x,a+1))\r\n",
        "        else:\r\n",
        "            return 0"
      ],
      "execution_count": null,
      "outputs": []
    },
    {
      "cell_type": "code",
      "metadata": {
        "id": "WKulwIMO5FW4"
      },
      "source": [
        "def pareto_cdf(data,x,a):\r\n",
        "    # x ∈ data\r\n",
        "    if(x>=min(data)):\r\n",
        "        return (1-np.power(min(data)/x, a))\r\n",
        "    else:\r\n",
        "        return 0"
      ],
      "execution_count": null,
      "outputs": []
    },
    {
      "cell_type": "markdown",
      "metadata": {
        "id": "Vl-3OOMg5JtM"
      },
      "source": [
        "## Log-Normal Distribution\r\n",
        "\r\n",
        "Definitions\r\n",
        "\r\n",
        "Probability Density Function\r\n",
        "\r\n",
        "Parameters\r\n",
        "\r\n",
        "----\r\n",
        "Cumulative Distribution Function\r\n",
        "\r\n",
        "Parameters"
      ]
    },
    {
      "cell_type": "code",
      "metadata": {
        "id": "LTcE3kq45v0R"
      },
      "source": [
        ""
      ],
      "execution_count": null,
      "outputs": []
    },
    {
      "cell_type": "code",
      "metadata": {
        "id": "ui9DNfQG5w-Y"
      },
      "source": [
        ""
      ],
      "execution_count": null,
      "outputs": []
    },
    {
      "cell_type": "markdown",
      "metadata": {
        "id": "G_sytty15xok"
      },
      "source": [
        "## Non-central $\\chi^2$ distribution\r\n",
        "the noncentral chi-square distribution (or noncentral chi-squared distribution, noncentral $\\chi ^{2}$ distribution) is a noncentral generalization of the chi-square distribution. \r\n",
        "\r\n",
        "Definitions\r\n",
        "\r\n",
        "Probability Density Function\r\n",
        "\r\n",
        "$$f_{X}(x;k,\\lambda )=\\sum _{i=0}^{\\infty }{\\frac {e^{-\\lambda /2}(\\lambda /2)^{i}}{i!}}f_{Y_{k+2i}}(x)$$\r\n",
        "\r\n",
        "Parameters:\r\n",
        "- $Y_q$ is distributed as chi-square with $q$ degrees of freedom\r\n",
        "- $\\lambda$ [noncentrality parameter](https://en.wikipedia.org/wiki/Noncentrality_parameter):\r\n",
        "$$\\lambda =\\sum _{i=1}^{k}\\mu _{i}^{2}$$\r\n",
        "- $k$ degrees of freedom\r\n",
        "- $x$ random variable\r\n",
        "\r\n",
        "----\r\n",
        "Cumulative Distribution Function\r\n",
        "$$1-Q_{\\frac {k}{2}}\\left({\\sqrt {\\lambda }},{\\sqrt {x}}\\right) $$\r\n",
        "with [Marcum Q-function](https://en.wikipedia.org/wiki/Marcum_Q-function) $Q_{M}(a,b)$\r\n",
        "\r\n",
        "$${\\displaystyle {\\begin{aligned}Q_{M}(a,b)&=1-e^{-a^{2}/2}\\sum _{k=0}^{\\infty }\\left({\\frac {a^{2}}{2}}\\right)^{k}{\\frac {\\gamma (M+k,{\\frac {b^{2}}{2}})}{k!\\Gamma (M+k)}}\\\\[6pt]&=1-e^{-a^{2}/2}\\sum _{k=0}^{\\infty }\\left({\\frac {a^{2}}{2}}\\right)^{k}{\\frac {P(M+k,{\\frac {b^{2}}{2}})}{k!}}\\end{aligned}}}$$\r\n",
        "\r\n",
        "Parameters:\r\n",
        "- $\\lambda$ [noncentrality parameter](https://en.wikipedia.org/wiki/Noncentrality_parameter):\r\n",
        "- $k$ degrees of freedom\r\n",
        "- $x$ random variable"
      ]
    },
    {
      "cell_type": "code",
      "metadata": {
        "id": "BjSD3rmk_bZA"
      },
      "source": [
        ""
      ],
      "execution_count": null,
      "outputs": []
    },
    {
      "cell_type": "code",
      "metadata": {
        "id": "bRtDvNIS_cQN"
      },
      "source": [
        ""
      ],
      "execution_count": null,
      "outputs": []
    }
  ]
}