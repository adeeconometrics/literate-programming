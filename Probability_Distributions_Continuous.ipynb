{
  "nbformat": 4,
  "nbformat_minor": 0,
  "metadata": {
    "colab": {
      "name": "Probability Distributions_Continuous",
      "provenance": [],
      "authorship_tag": "ABX9TyMZoc9JleP8ppRyun5aK6Ck",
      "include_colab_link": true
    },
    "kernelspec": {
      "name": "python3",
      "display_name": "Python 3"
    }
  },
  "cells": [
    {
      "cell_type": "markdown",
      "metadata": {
        "id": "view-in-github",
        "colab_type": "text"
      },
      "source": [
        "<a href=\"https://colab.research.google.com/github/adeeconometrics/literate-programming/blob/main/Probability_Distributions_Continuous.ipynb\" target=\"_parent\"><img src=\"https://colab.research.google.com/assets/colab-badge.svg\" alt=\"Open In Colab\"/></a>"
      ]
    },
    {
      "cell_type": "markdown",
      "metadata": {
        "id": "ZMp_JgI1XRWe"
      },
      "source": [
        "# TODO\r\n",
        "Improve template it should be \r\n",
        "\r\n",
        "- section\r\n",
        "    - brief description {assumptions, use-cases}\r\n",
        "    - definition & parameters with definition on their bounds\r\n",
        "    - implementation \r\n",
        "        - naive method\r\n",
        "        - symbolic method\r\n",
        "        - numerical method"
      ]
    },
    {
      "cell_type": "markdown",
      "metadata": {
        "id": "DeTjf3MbK4Qt"
      },
      "source": [
        "# Continuous Probability Distributions\n",
        "by Dave Amiana\n",
        "\n",
        "The purpose of this notebook is to introduce and explore some probability models for continuous variabbles; this can be seen as an extension of models in the discrete space.\n",
        "\n",
        "The following probability distributions that we shall explore in this notebook are listed as follows:\n",
        "\n",
        "- Normal-distribution\n",
        "    - standard normal distribution\n",
        "- t-distribution\n",
        "    - Cauchy distribution:: TODO\n",
        "- F-distribution\n",
        "- $\\chi^2$ distribution\n",
        "- $\\Gamma$ distribution\n",
        "- Pareto distribution\n",
        "- Log-Normal distribution\n",
        "- Non-central $\\chi^2$ distribution\n",
        "\n",
        "We will explore the derivation of these distributions, their motvation, assumptions, and applications. "
      ]
    },
    {
      "cell_type": "code",
      "metadata": {
        "id": "d7kVwi3bM-mA"
      },
      "source": [
        "# import relevant packages\n",
        "import matplotlib.pyplot as plt\n",
        "import numpy as np\n",
        "from sympy import init_printing, lambdify, N, gamma, beta, oo\n",
        "import sympy as sp\n",
        "import scipy as sci\n",
        "import scipy.integrate as integrate \n",
        "import scipy.special as ss\n",
        "\n",
        "sp.init_printing() "
      ],
      "execution_count": 1,
      "outputs": []
    },
    {
      "cell_type": "code",
      "metadata": {
        "id": "iZwHfArif4Vf"
      },
      "source": [
        "x,y,z = sp.symbols('x,y,z')"
      ],
      "execution_count": null,
      "outputs": []
    },
    {
      "cell_type": "markdown",
      "metadata": {
        "id": "_D_0GLXoUg1u"
      },
      "source": [
        "#Fundamental Functions\r\n",
        "\r\n",
        "Before we begin our exploration with implementing probability distirbutions functionally, we are welcomed with the following functions and their corresponding definitions. \r\n",
        "\r\n",
        "- gamma function\r\n",
        "$${\\displaystyle \\Gamma (z)=\\int _{0}^{\\infty }x^{z-1}e^{-x}\\,dx,\\ \\qquad \\Re (z)>0\\ .}$$\r\n",
        "- beta function\r\n",
        "$${\\displaystyle \\mathrm {B} (x,y)=\\int _{0}^{1}t^{x-1}(1-t)^{y-1}\\,dt}$$\r\n",
        "- incomplete gamma function\r\n",
        "    - upper incomplete \r\n",
        "    $$ \\Gamma(s,x) = \\int_x^{\\infty} t^{s-1}e^{-t}{\\rm d}t $$\r\n",
        "    - lower incomplete\r\n",
        "    $$  \\gamma(s,x) = \\int_0^x t^{s-1} e^{-t}\\{\\rm d}t $$\r\n",
        "- incomplete beta function\r\n",
        "$${\\displaystyle \\mathrm {B} (x;\\,a,b)=\\int _{0}^{x}t^{a-1}\\,(1-t)^{b-1}\\,dt}$$"
      ]
    },
    {
      "cell_type": "markdown",
      "metadata": {
        "id": "kPvd6lUQuR6y"
      },
      "source": [
        "### $\\Gamma$-function:\n",
        "\n",
        "$$\\Gamma(x) := \\int^{\\infty}_{0} t^{x-1} e^{-t} \\mathrm{d}t.$$"
      ]
    },
    {
      "cell_type": "code",
      "metadata": {
        "colab": {
          "base_uri": "https://localhost:8080/",
          "height": 36
        },
        "id": "3g0ndFUFuUOT",
        "outputId": "73e22598-808c-4e8f-f32c-0547622a3cad"
      },
      "source": [
        "# naive symbolic implementation\n",
        "def g(x):\n",
        "    return N(sp.Integral(t**(x-1)*E**(- t),(t,0, oo)))\n",
        "g(sp.pi)"
      ],
      "execution_count": null,
      "outputs": [
        {
          "output_type": "execute_result",
          "data": {
            "image/png": "[encoded data removed]",
            "text/latex": "$$2.28803779534003$$",
            "text/plain": [
              "2.28803779534003"
            ]
          },
          "metadata": {
            "tags": []
          },
          "execution_count": 13
        }
      ]
    },
    {
      "cell_type": "code",
      "metadata": {
        "colab": {
          "base_uri": "https://localhost:8080/",
          "height": 36
        },
        "id": "yBYP8ly82Cmc",
        "outputId": "6bd0f920-e7c5-4189-9a0d-57a5748d1731"
      },
      "source": [
        "# implementation in Sympy\n",
        "N(gamma(pi))"
      ],
      "execution_count": null,
      "outputs": [
        {
          "output_type": "execute_result",
          "data": {
            "image/png": "[encoded data removed]",
            "text/latex": "$$2.28803779534003$$",
            "text/plain": [
              "2.28803779534003"
            ]
          },
          "metadata": {
            "tags": []
          },
          "execution_count": 32
        }
      ]
    },
    {
      "cell_type": "code",
      "metadata": {
        "colab": {
          "base_uri": "https://localhost:8080/",
          "height": 288
        },
        "id": "nE5503rh3v2l",
        "outputId": "120870c8-4054-4144-d291-f83a7cb01480"
      },
      "source": [
        "# plotting the gamma function using scipy\n",
        "\n",
        "x = np.linspace(-5, 5, 10000)\n",
        "γ = np.array([gamma(i) for i in x])\n",
        "\n",
        "plt.plot(x, γ)\n",
        "plt.ylim(-2,2)"
      ],
      "execution_count": null,
      "outputs": [
        {
          "output_type": "execute_result",
          "data": {
            "image/png": "[encoded data removed]",
            "text/latex": "$$\\left ( -2.0, \\quad 2.0\\right )$$",
            "text/plain": [
              "(-2.0, 2.0)"
            ]
          },
          "metadata": {
            "tags": []
          },
          "execution_count": 23
        },
        {
          "output_type": "display_data",
          "data": {
            "image/png": "[encoded data removed]",
            "text/plain": [
              "<Figure size 432x288 with 1 Axes>"
            ]
          },
          "metadata": {
            "tags": [],
            "needs_background": "light"
          }
        }
      ]
    },
    {
      "cell_type": "code",
      "metadata": {
        "colab": {
          "base_uri": "https://localhost:8080/",
          "height": 335
        },
        "id": "_Ryn28d8dz2u",
        "outputId": "9ee1bbe1-afdc-4ad7-909d-9d63920c6b76"
      },
      "source": [
        "# naive numerical method for Gamma function\r\n",
        "def gamma(x):\r\n",
        "    g = lambda _x,t: t**(_x-1)*np.exp(-t**2)\r\n",
        "    return sci.integrate.quad(g, 0, np.inf, args=x)\r\n",
        "\r\n",
        "gamma(np.pi)"
      ],
      "execution_count": null,
      "outputs": [
        {
          "output_type": "error",
          "ename": "OverflowError",
          "evalue": "ignored",
          "traceback": [
            "\u001b[0;31m---------------------------------------------------------------------------\u001b[0m",
            "\u001b[0;31mOverflowError\u001b[0m                             Traceback (most recent call last)",
            "\u001b[0;32m<ipython-input-108-52751f3bcce5>\u001b[0m in \u001b[0;36m<module>\u001b[0;34m()\u001b[0m\n\u001b[1;32m      4\u001b[0m     \u001b[0;32mreturn\u001b[0m \u001b[0msci\u001b[0m\u001b[0;34m.\u001b[0m\u001b[0mintegrate\u001b[0m\u001b[0;34m.\u001b[0m\u001b[0mquad\u001b[0m\u001b[0;34m(\u001b[0m\u001b[0mg\u001b[0m\u001b[0;34m,\u001b[0m \u001b[0;36m0\u001b[0m\u001b[0;34m,\u001b[0m \u001b[0mnp\u001b[0m\u001b[0;34m.\u001b[0m\u001b[0minf\u001b[0m\u001b[0;34m,\u001b[0m \u001b[0margs\u001b[0m\u001b[0;34m=\u001b[0m\u001b[0mx\u001b[0m\u001b[0;34m)\u001b[0m\u001b[0;34m\u001b[0m\u001b[0;34m\u001b[0m\u001b[0m\n\u001b[1;32m      5\u001b[0m \u001b[0;34m\u001b[0m\u001b[0m\n\u001b[0;32m----> 6\u001b[0;31m \u001b[0mgamma\u001b[0m\u001b[0;34m(\u001b[0m\u001b[0mnp\u001b[0m\u001b[0;34m.\u001b[0m\u001b[0mpi\u001b[0m\u001b[0;34m)\u001b[0m\u001b[0;34m\u001b[0m\u001b[0;34m\u001b[0m\u001b[0m\n\u001b[0m",
            "\u001b[0;32m<ipython-input-108-52751f3bcce5>\u001b[0m in \u001b[0;36mgamma\u001b[0;34m(x)\u001b[0m\n\u001b[1;32m      2\u001b[0m \u001b[0;32mdef\u001b[0m \u001b[0mgamma\u001b[0m\u001b[0;34m(\u001b[0m\u001b[0mx\u001b[0m\u001b[0;34m)\u001b[0m\u001b[0;34m:\u001b[0m\u001b[0;34m\u001b[0m\u001b[0;34m\u001b[0m\u001b[0m\n\u001b[1;32m      3\u001b[0m     \u001b[0mg\u001b[0m \u001b[0;34m=\u001b[0m \u001b[0;32mlambda\u001b[0m \u001b[0m_x\u001b[0m\u001b[0;34m,\u001b[0m\u001b[0mt\u001b[0m\u001b[0;34m:\u001b[0m \u001b[0mt\u001b[0m\u001b[0;34m**\u001b[0m\u001b[0;34m(\u001b[0m\u001b[0m_x\u001b[0m\u001b[0;34m-\u001b[0m\u001b[0;36m1\u001b[0m\u001b[0;34m)\u001b[0m\u001b[0;34m*\u001b[0m\u001b[0mnp\u001b[0m\u001b[0;34m.\u001b[0m\u001b[0mexp\u001b[0m\u001b[0;34m(\u001b[0m\u001b[0;34m-\u001b[0m\u001b[0mt\u001b[0m\u001b[0;34m**\u001b[0m\u001b[0;36m2\u001b[0m\u001b[0;34m)\u001b[0m\u001b[0;34m\u001b[0m\u001b[0;34m\u001b[0m\u001b[0m\n\u001b[0;32m----> 4\u001b[0;31m     \u001b[0;32mreturn\u001b[0m \u001b[0msci\u001b[0m\u001b[0;34m.\u001b[0m\u001b[0mintegrate\u001b[0m\u001b[0;34m.\u001b[0m\u001b[0mquad\u001b[0m\u001b[0;34m(\u001b[0m\u001b[0mg\u001b[0m\u001b[0;34m,\u001b[0m \u001b[0;36m0\u001b[0m\u001b[0;34m,\u001b[0m \u001b[0mnp\u001b[0m\u001b[0;34m.\u001b[0m\u001b[0minf\u001b[0m\u001b[0;34m,\u001b[0m \u001b[0margs\u001b[0m\u001b[0;34m=\u001b[0m\u001b[0mx\u001b[0m\u001b[0;34m)\u001b[0m\u001b[0;34m\u001b[0m\u001b[0;34m\u001b[0m\u001b[0m\n\u001b[0m\u001b[1;32m      5\u001b[0m \u001b[0;34m\u001b[0m\u001b[0m\n\u001b[1;32m      6\u001b[0m \u001b[0mgamma\u001b[0m\u001b[0;34m(\u001b[0m\u001b[0mnp\u001b[0m\u001b[0;34m.\u001b[0m\u001b[0mpi\u001b[0m\u001b[0;34m)\u001b[0m\u001b[0;34m\u001b[0m\u001b[0;34m\u001b[0m\u001b[0m\n",
            "\u001b[0;32m/usr/local/lib/python3.6/dist-packages/scipy/integrate/quadpack.py\u001b[0m in \u001b[0;36mquad\u001b[0;34m(func, a, b, args, full_output, epsabs, epsrel, limit, points, weight, wvar, wopts, maxp1, limlst)\u001b[0m\n\u001b[1;32m    340\u001b[0m     \u001b[0;32mif\u001b[0m \u001b[0mweight\u001b[0m \u001b[0;32mis\u001b[0m \u001b[0;32mNone\u001b[0m\u001b[0;34m:\u001b[0m\u001b[0;34m\u001b[0m\u001b[0;34m\u001b[0m\u001b[0m\n\u001b[1;32m    341\u001b[0m         retval = _quad(func, a, b, args, full_output, epsabs, epsrel, limit,\n\u001b[0;32m--> 342\u001b[0;31m                        points)\n\u001b[0m\u001b[1;32m    343\u001b[0m     \u001b[0;32melse\u001b[0m\u001b[0;34m:\u001b[0m\u001b[0;34m\u001b[0m\u001b[0;34m\u001b[0m\u001b[0m\n\u001b[1;32m    344\u001b[0m         \u001b[0;32mif\u001b[0m \u001b[0mpoints\u001b[0m \u001b[0;32mis\u001b[0m \u001b[0;32mnot\u001b[0m \u001b[0;32mNone\u001b[0m\u001b[0;34m:\u001b[0m\u001b[0;34m\u001b[0m\u001b[0;34m\u001b[0m\u001b[0m\n",
            "\u001b[0;32m/usr/local/lib/python3.6/dist-packages/scipy/integrate/quadpack.py\u001b[0m in \u001b[0;36m_quad\u001b[0;34m(func, a, b, args, full_output, epsabs, epsrel, limit, points)\u001b[0m\n\u001b[1;32m    453\u001b[0m             \u001b[0;32mreturn\u001b[0m \u001b[0m_quadpack\u001b[0m\u001b[0;34m.\u001b[0m\u001b[0m_qagse\u001b[0m\u001b[0;34m(\u001b[0m\u001b[0mfunc\u001b[0m\u001b[0;34m,\u001b[0m\u001b[0ma\u001b[0m\u001b[0;34m,\u001b[0m\u001b[0mb\u001b[0m\u001b[0;34m,\u001b[0m\u001b[0margs\u001b[0m\u001b[0;34m,\u001b[0m\u001b[0mfull_output\u001b[0m\u001b[0;34m,\u001b[0m\u001b[0mepsabs\u001b[0m\u001b[0;34m,\u001b[0m\u001b[0mepsrel\u001b[0m\u001b[0;34m,\u001b[0m\u001b[0mlimit\u001b[0m\u001b[0;34m)\u001b[0m\u001b[0;34m\u001b[0m\u001b[0;34m\u001b[0m\u001b[0m\n\u001b[1;32m    454\u001b[0m         \u001b[0;32melse\u001b[0m\u001b[0;34m:\u001b[0m\u001b[0;34m\u001b[0m\u001b[0;34m\u001b[0m\u001b[0m\n\u001b[0;32m--> 455\u001b[0;31m             \u001b[0;32mreturn\u001b[0m \u001b[0m_quadpack\u001b[0m\u001b[0;34m.\u001b[0m\u001b[0m_qagie\u001b[0m\u001b[0;34m(\u001b[0m\u001b[0mfunc\u001b[0m\u001b[0;34m,\u001b[0m\u001b[0mbound\u001b[0m\u001b[0;34m,\u001b[0m\u001b[0minfbounds\u001b[0m\u001b[0;34m,\u001b[0m\u001b[0margs\u001b[0m\u001b[0;34m,\u001b[0m\u001b[0mfull_output\u001b[0m\u001b[0;34m,\u001b[0m\u001b[0mepsabs\u001b[0m\u001b[0;34m,\u001b[0m\u001b[0mepsrel\u001b[0m\u001b[0;34m,\u001b[0m\u001b[0mlimit\u001b[0m\u001b[0;34m)\u001b[0m\u001b[0;34m\u001b[0m\u001b[0;34m\u001b[0m\u001b[0m\n\u001b[0m\u001b[1;32m    456\u001b[0m     \u001b[0;32melse\u001b[0m\u001b[0;34m:\u001b[0m\u001b[0;34m\u001b[0m\u001b[0;34m\u001b[0m\u001b[0m\n\u001b[1;32m    457\u001b[0m         \u001b[0;32mif\u001b[0m \u001b[0minfbounds\u001b[0m \u001b[0;34m!=\u001b[0m \u001b[0;36m0\u001b[0m\u001b[0;34m:\u001b[0m\u001b[0;34m\u001b[0m\u001b[0;34m\u001b[0m\u001b[0m\n",
            "\u001b[0;32m<ipython-input-108-52751f3bcce5>\u001b[0m in \u001b[0;36m<lambda>\u001b[0;34m(_x, t)\u001b[0m\n\u001b[1;32m      1\u001b[0m \u001b[0;31m# numerical method for implementing the Gamma function\u001b[0m\u001b[0;34m\u001b[0m\u001b[0;34m\u001b[0m\u001b[0;34m\u001b[0m\u001b[0m\n\u001b[1;32m      2\u001b[0m \u001b[0;32mdef\u001b[0m \u001b[0mgamma\u001b[0m\u001b[0;34m(\u001b[0m\u001b[0mx\u001b[0m\u001b[0;34m)\u001b[0m\u001b[0;34m:\u001b[0m\u001b[0;34m\u001b[0m\u001b[0;34m\u001b[0m\u001b[0m\n\u001b[0;32m----> 3\u001b[0;31m     \u001b[0mg\u001b[0m \u001b[0;34m=\u001b[0m \u001b[0;32mlambda\u001b[0m \u001b[0m_x\u001b[0m\u001b[0;34m,\u001b[0m\u001b[0mt\u001b[0m\u001b[0;34m:\u001b[0m \u001b[0mt\u001b[0m\u001b[0;34m**\u001b[0m\u001b[0;34m(\u001b[0m\u001b[0m_x\u001b[0m\u001b[0;34m-\u001b[0m\u001b[0;36m1\u001b[0m\u001b[0;34m)\u001b[0m\u001b[0;34m*\u001b[0m\u001b[0mnp\u001b[0m\u001b[0;34m.\u001b[0m\u001b[0mexp\u001b[0m\u001b[0;34m(\u001b[0m\u001b[0;34m-\u001b[0m\u001b[0mt\u001b[0m\u001b[0;34m**\u001b[0m\u001b[0;36m2\u001b[0m\u001b[0;34m)\u001b[0m\u001b[0;34m\u001b[0m\u001b[0;34m\u001b[0m\u001b[0m\n\u001b[0m\u001b[1;32m      4\u001b[0m     \u001b[0;32mreturn\u001b[0m \u001b[0msci\u001b[0m\u001b[0;34m.\u001b[0m\u001b[0mintegrate\u001b[0m\u001b[0;34m.\u001b[0m\u001b[0mquad\u001b[0m\u001b[0;34m(\u001b[0m\u001b[0mg\u001b[0m\u001b[0;34m,\u001b[0m \u001b[0;36m0\u001b[0m\u001b[0;34m,\u001b[0m \u001b[0mnp\u001b[0m\u001b[0;34m.\u001b[0m\u001b[0minf\u001b[0m\u001b[0;34m,\u001b[0m \u001b[0margs\u001b[0m\u001b[0;34m=\u001b[0m\u001b[0mx\u001b[0m\u001b[0;34m)\u001b[0m\u001b[0;34m\u001b[0m\u001b[0;34m\u001b[0m\u001b[0m\n\u001b[1;32m      5\u001b[0m \u001b[0;34m\u001b[0m\u001b[0m\n",
            "\u001b[0;31mOverflowError\u001b[0m: (34, 'Numerical result out of range')"
          ]
        }
      ]
    },
    {
      "cell_type": "code",
      "metadata": {
        "colab": {
          "base_uri": "https://localhost:8080/",
          "height": 36
        },
        "id": "CQ_39lfBCs3U",
        "outputId": "900eb9dc-bc83-470a-b6f2-573c3bfb5a12"
      },
      "source": [
        "# Γ function definition of PDF\n",
        "expr = (sp.gamma((df+1)/2)/(sp.sqrt(df*sp.pi)*(sp.gamma(df/2))))*(1+(t**2/df))**(-(df+1)/2)\n",
        "k = sp.lambdify([df,t], expr, \"sympy\")\n",
        "res  = k(1,.1)\n",
        "N(res)"
      ],
      "execution_count": null,
      "outputs": [
        {
          "output_type": "execute_result",
          "data": {
            "image/png": "[encoded data removed]",
            "text/latex": "$$0.315158303152268$$",
            "text/plain": [
              "0.315158303152268"
            ]
          },
          "metadata": {
            "tags": []
          },
          "execution_count": 12
        }
      ]
    },
    {
      "cell_type": "markdown",
      "metadata": {
        "id": "p7fGU8lmEjju"
      },
      "source": [
        "### The $\\beta$ - function:\n",
        "$${\\displaystyle \\mathrm {B} (x,y)=\\int _{0}^{1}t^{x-1}(1-t)^{y-1}\\,dt}$$"
      ]
    },
    {
      "cell_type": "code",
      "metadata": {
        "colab": {
          "base_uri": "https://localhost:8080/",
          "height": 36
        },
        "id": "3ArSDL3D9mqx",
        "outputId": "35ffc493-079c-4d53-b407-3788c10b07cc"
      },
      "source": [
        "# β function definition of PDF\n",
        "B  = lambda x_0, y_0: sp.Integral(t**(x_0-1)*(1-t)**(y_0-1), (t,0,1))\n",
        "N(B(3,4))"
      ],
      "execution_count": null,
      "outputs": [
        {
          "output_type": "execute_result",
          "data": {
            "image/png": "[encoded data removed]",
            "text/latex": "$$0.0166666666666667$$",
            "text/plain": [
              "0.0166666666666667"
            ]
          },
          "metadata": {
            "tags": []
          },
          "execution_count": 25
        }
      ]
    },
    {
      "cell_type": "code",
      "metadata": {
        "colab": {
          "base_uri": "https://localhost:8080/",
          "height": 36
        },
        "id": "-lBHIZxzDtPS",
        "outputId": "6a8cd73b-24ee-45f4-df5c-69cc2680086b"
      },
      "source": [
        "# β function implementation in SymPy\n",
        "N(sp.beta(3,4))"
      ],
      "execution_count": null,
      "outputs": [
        {
          "output_type": "execute_result",
          "data": {
            "image/png": "[encoded data removed]",
            "text/latex": "$$0.0166666666666667$$",
            "text/plain": [
              "0.0166666666666667"
            ]
          },
          "metadata": {
            "tags": []
          },
          "execution_count": 44
        }
      ]
    },
    {
      "cell_type": "code",
      "metadata": {
        "id": "nuJGpbZtWAga"
      },
      "source": [
        "# numerical method: FIX THIS\r\n",
        "def beta(x_0,y_0):\r\n",
        "    expr = lambda x0,y0,t0: t0**(x0-1)*(1-t0)**(y0-1)\r\n",
        "    return sci.integrate.quad(expr, 0,1, args=(x_0,y_0))"
      ],
      "execution_count": null,
      "outputs": []
    },
    {
      "cell_type": "code",
      "metadata": {
        "colab": {
          "base_uri": "https://localhost:8080/",
          "height": 37
        },
        "id": "wQUJ_g1FXJjH",
        "outputId": "ec8b380d-3dc1-499c-c8af-0127f5e1c0ee"
      },
      "source": [
        "beta(3,4)"
      ],
      "execution_count": null,
      "outputs": [
        {
          "output_type": "execute_result",
          "data": {
            "image/png": "[encoded data removed]",
            "text/latex": "$$\\left ( 4.869095763000251, \\quad 5.405782225187673e-14\\right )$$",
            "text/plain": [
              "(4.869095763000251, 5.405782225187673e-14)"
            ]
          },
          "metadata": {
            "tags": []
          },
          "execution_count": 71
        }
      ]
    },
    {
      "cell_type": "code",
      "metadata": {
        "colab": {
          "base_uri": "https://localhost:8080/",
          "height": 36
        },
        "id": "0WF_75bHYFlj",
        "outputId": "85aa3b98-925a-427e-a964-5ff1dc33e3d6"
      },
      "source": [
        "sci.special.beta(3,4)"
      ],
      "execution_count": null,
      "outputs": [
        {
          "output_type": "execute_result",
          "data": {
            "image/png": "[encoded data removed]",
            "text/latex": "$$0.016666666666666666$$",
            "text/plain": [
              "0.016666666666666666"
            ]
          },
          "metadata": {
            "tags": []
          },
          "execution_count": 46
        }
      ]
    },
    {
      "cell_type": "markdown",
      "metadata": {
        "id": "vyVNcczerJOZ"
      },
      "source": [
        "## Continuous Uniform Distribution\n",
        "\n",
        "#### Definition\n",
        "\n",
        "Probability Density Function\n",
        "$$f(x)={\\begin{cases}{\\frac {1}{b-a}}&\\mathrm {for} \\ a\\leq x\\leq b,\\\\[8pt]0&\\mathrm {for} \\ x<a\\ \\mathrm {or} \\ x>b\\end{cases}}$$\n",
        "\n",
        "parameters:\n",
        "- $-\\infty< a<b < \\infty$ boundary of the distribution\n",
        "- $x$ random variable\n",
        "----\n",
        "Cumulative Distribution Function\n",
        "$$F(x)={\\begin{cases}0&{\\text{for }}x<a\\\\[8pt]{\\frac {x-a}{b-a}}&{\\text{for }}a\\leq x\\leq b\\\\[8pt]1&{\\text{for }}x>b\\end{cases}}$$\n",
        "\n",
        "parameters:\n",
        "- $-\\infty< a<b < \\infty$ boundary of the distribution\n",
        "- $x$ random variable"
      ]
    },
    {
      "cell_type": "code",
      "metadata": {
        "id": "rGfoU8GprRoe"
      },
      "source": [
        "def uniform_dist_pdf(a,b, x):\n",
        "    if (x<a or x>b):\n",
        "        return 0\n",
        "    else:\n",
        "        return 1/(b-a)\n",
        "\n",
        "def uniform_dist_cdf(a,b, x):\n",
        "    if (x<a):\n",
        "        return 0\n",
        "    elif (x>b):\n",
        "        return 1\n",
        "    else: \n",
        "        return (x-a)/(b-a)"
      ],
      "execution_count": null,
      "outputs": []
    },
    {
      "cell_type": "code",
      "metadata": {
        "colab": {
          "base_uri": "https://localhost:8080/",
          "height": 281
        },
        "id": "62NhMKRhGp4N",
        "outputId": "915a439b-4bc2-46e6-fc89-26f036b5395d"
      },
      "source": [
        "# visualizing pdf\n",
        "\n",
        "a=3;b=5;x_val = 1\n",
        "x_unif = np.linspace(-x_val, x_val, 100)\n",
        "y_unif_pdf = np.array([uniform_dist_pdf(a,b,i) for i in x_unif])\n",
        "\n",
        "plt.plot(x_unif, y_unif_pdf)"
      ],
      "execution_count": null,
      "outputs": [
        {
          "output_type": "execute_result",
          "data": {
            "text/plain": [
              "[<matplotlib.lines.Line2D at 0x7fef9d3cd2e8>]"
            ]
          },
          "metadata": {
            "tags": []
          },
          "execution_count": 13
        },
        {
          "output_type": "display_data",
          "data": {
            "image/png": "[encoded data removed]",
            "text/plain": [
              "<Figure size 432x288 with 1 Axes>"
            ]
          },
          "metadata": {
            "tags": [],
            "needs_background": "light"
          }
        }
      ]
    },
    {
      "cell_type": "code",
      "metadata": {
        "colab": {
          "base_uri": "https://localhost:8080/"
        },
        "id": "Wm3C_hJvN9rW",
        "outputId": "3de263c4-39c6-4ad5-9a9c-0f2d245d6b26"
      },
      "source": [
        "np.cumsum(y_unif_pdf)[-1] # should be very close to 1"
      ],
      "execution_count": null,
      "outputs": [
        {
          "output_type": "execute_result",
          "data": {
            "text/plain": [
              "0"
            ]
          },
          "metadata": {
            "tags": []
          },
          "execution_count": 14
        }
      ]
    },
    {
      "cell_type": "code",
      "metadata": {
        "colab": {
          "base_uri": "https://localhost:8080/",
          "height": 281
        },
        "id": "X-Q_xzzFOC0s",
        "outputId": "a88cc7f0-a6ae-4fd6-e082-491d5249f665"
      },
      "source": [
        "# visualizing cdf\n",
        "y_unif_cdf = np.array([uniform_dist_cdf(a,b,i) for i in x_unif])\n",
        "\n",
        "plt.plot(x_unif, y_unif_pdf)"
      ],
      "execution_count": null,
      "outputs": [
        {
          "output_type": "execute_result",
          "data": {
            "text/plain": [
              "[<matplotlib.lines.Line2D at 0x7fef9d35b550>]"
            ]
          },
          "metadata": {
            "tags": []
          },
          "execution_count": 16
        },
        {
          "output_type": "display_data",
          "data": {
            "image/png": "[encoded data removed]",
            "text/plain": [
              "<Figure size 432x288 with 1 Axes>"
            ]
          },
          "metadata": {
            "tags": [],
            "needs_background": "light"
          }
        }
      ]
    },
    {
      "cell_type": "code",
      "metadata": {
        "colab": {
          "base_uri": "https://localhost:8080/"
        },
        "id": "SZ-OlmnAOL6U",
        "outputId": "469dd654-597e-478f-d8bb-276c529bea41"
      },
      "source": [
        "y_unif_cdf[-1]  # should be very close to 1"
      ],
      "execution_count": null,
      "outputs": [
        {
          "output_type": "execute_result",
          "data": {
            "text/plain": [
              "0"
            ]
          },
          "metadata": {
            "tags": []
          },
          "execution_count": 17
        }
      ]
    },
    {
      "cell_type": "markdown",
      "metadata": {
        "id": "uivpeaeGHc9R"
      },
      "source": [
        "## The Normal Distribution\n",
        "\n",
        "Definition\n",
        "\n",
        "Probability Density Function\n",
        "$${\\displaystyle {\\frac {1}{\\sigma {\\sqrt {2\\pi }}}}e^{-{\\frac {1}{2}}\\left({\\frac {x-\\mu }{\\sigma }}\\right)^{2}}}$$\n",
        "\n",
        "parameters:\n",
        "- $\\mu$ - mean\n",
        "- $x$ - random variable\n",
        "- $\\sigma$ - standard deviation\n",
        "----\n",
        "Cumulative Distribution Function\n",
        "$${\\displaystyle \\Phi (x)={\\frac {1}{\\sqrt {2\\pi }}}\\int _{-\\infty }^{x}e^{-t^{2}/2}\\,dt}$$\n",
        "\n",
        "parameter:\n",
        "- $x$ - random variable\n",
        "\n",
        "The above integral cannot be expressed in terms of elementary functions, and are often said to be [special functions](https://en.wikipedia.org/wiki/Special_function). "
      ]
    },
    {
      "cell_type": "code",
      "metadata": {
        "id": "6LMueH9NOZo6"
      },
      "source": [
        "def normal_dist_f(x):\n",
        "    return 1/(np.sqrt(2*np.pi))*np.power(np.e, -1/2*x**2)"
      ],
      "execution_count": null,
      "outputs": []
    },
    {
      "cell_type": "code",
      "metadata": {
        "id": "Z0xHME7RAXwk"
      },
      "source": [
        "# PDF given x\n",
        "def norm_dist_pdf(x, mean, std):\n",
        "    return (1/(np.sqrt(2*np.pi * np.power(std, 2))))* np.power(np.e, -(np.power((x - mean), 2) / (2 * np.power(std, 2))))"
      ],
      "execution_count": null,
      "outputs": []
    },
    {
      "cell_type": "code",
      "metadata": {
        "id": "xcAAKwuO-aAp",
        "colab": {
          "base_uri": "https://localhost:8080/",
          "height": 303
        },
        "outputId": "38890bf0-649b-4d7b-d59b-0148c0e790b4"
      },
      "source": [
        "# plotting the pdf\n",
        "mean = 0; std = 1\n",
        "x_norm = np.linspace(-5,5,1000)\n",
        "y_norm_f =  np.array([norm_dist_pdf(x_i, mean, std) for x_i in x_norm])\n",
        "\n",
        "plt.title(\"The Normal Distribution\")\n",
        "plt.plot(x_norm,y_norm_f)"
      ],
      "execution_count": null,
      "outputs": [
        {
          "output_type": "execute_result",
          "data": {
            "text/plain": [
              "[<matplotlib.lines.Line2D at 0x7f26a843d3c8>]"
            ]
          },
          "metadata": {
            "tags": []
          },
          "execution_count": 9
        },
        {
          "output_type": "display_data",
          "data": {
            "image/png": "[encoded data removed]",
            "text/plain": [
              "<Figure size 432x288 with 1 Axes>"
            ]
          },
          "metadata": {
            "tags": [],
            "needs_background": "light"
          }
        }
      ]
    },
    {
      "cell_type": "code",
      "metadata": {
        "colab": {
          "base_uri": "https://localhost:8080/",
          "height": 37
        },
        "id": "aO0lcL3OWz3c",
        "outputId": "fb64cefc-2f60-477f-dcd9-44369ba1b432"
      },
      "source": [
        "np.cumsum(y_norm_f)[-1]"
      ],
      "execution_count": null,
      "outputs": [
        {
          "output_type": "execute_result",
          "data": {
            "image/png": "[encoded data removed]",
            "text/latex": "$$99.89994420133425$$",
            "text/plain": [
              "99.89994420133425"
            ]
          },
          "metadata": {
            "tags": []
          },
          "execution_count": 19
        }
      ]
    },
    {
      "cell_type": "code",
      "metadata": {
        "colab": {
          "base_uri": "https://localhost:8080/",
          "height": 283
        },
        "id": "YWvy8NmlXwWM",
        "outputId": "57516ad9-757c-42c9-b41d-0e1ebc56e2d6"
      },
      "source": [
        "plt.plot(x_norm,np.cumsum(y_norm_f))"
      ],
      "execution_count": null,
      "outputs": [
        {
          "output_type": "execute_result",
          "data": {
            "text/plain": [
              "[<matplotlib.lines.Line2D at 0x7f26a7d2d7f0>]"
            ]
          },
          "metadata": {
            "tags": []
          },
          "execution_count": 16
        },
        {
          "output_type": "display_data",
          "data": {
            "image/png": "[encoded data removed]",
            "text/plain": [
              "<Figure size 432x288 with 1 Axes>"
            ]
          },
          "metadata": {
            "tags": [],
            "needs_background": "light"
          }
        }
      ]
    },
    {
      "cell_type": "code",
      "metadata": {
        "id": "yfVIatOZyP2W"
      },
      "source": [
        "# introduce relevant symbol\n",
        "t = sp.symbols(\"t\")"
      ],
      "execution_count": null,
      "outputs": []
    },
    {
      "cell_type": "code",
      "metadata": {
        "id": "sG0wp4YzbkyW"
      },
      "source": [
        "# CDF - test this function\n",
        "def norm_dist_cdf(*x_0, lower=\"-oo\", upper=None):\n",
        "    if(upper==None):\n",
        "        cdf = 1/(sp.sqrt(2*sp.pi))* sp.integrate(sp.exp(-t/2),(x, lower, x_0))\n",
        "        return cdf\n",
        "    else:\n",
        "        cdf = 1/(sp.sqrt(2*sp.pi))* sp.integrate(sp.exp(-t/2),(x, lower, upper))\n",
        "        return cdf"
      ],
      "execution_count": null,
      "outputs": []
    },
    {
      "cell_type": "code",
      "metadata": {
        "colab": {
          "base_uri": "https://localhost:8080/",
          "height": 47
        },
        "id": "GzYCeWgpkWz4",
        "outputId": "df70f61b-9614-4f29-a1ca-12201b20b353"
      },
      "source": [
        "N(norm_dist_cdf(upper=oo))"
      ],
      "execution_count": null,
      "outputs": [
        {
          "output_type": "execute_result",
          "data": {
            "image/png": "[encoded data removed]",
            "text/latex": "$$\\infty \\operatorname{sign}{\\left (e^{- \\frac{t}{2}} \\right )}$$",
            "text/plain": [
              "        ⎛ -t ⎞\n",
              "        ⎜ ───⎟\n",
              "        ⎜  2 ⎟\n",
              "inf⋅sign⎝ℯ   ⎠"
            ]
          },
          "metadata": {
            "tags": []
          },
          "execution_count": 103
        }
      ]
    },
    {
      "cell_type": "code",
      "metadata": {
        "colab": {
          "base_uri": "https://localhost:8080/",
          "height": 36
        },
        "id": "cJDVA4fqjXL1",
        "outputId": "1e943efa-44a6-44c0-ed1f-d446a40561fe"
      },
      "source": [
        "sp.exp(-1/2)"
      ],
      "execution_count": null,
      "outputs": [
        {
          "output_type": "execute_result",
          "data": {
            "image/png": "[encoded data removed]",
            "text/latex": "$$0.606530659712633$$",
            "text/plain": [
              "0.606530659712633"
            ]
          },
          "metadata": {
            "tags": []
          },
          "execution_count": 105
        }
      ]
    },
    {
      "cell_type": "code",
      "metadata": {
        "id": "NbwgwpFpkbGO"
      },
      "source": [
        "#numerical method \r\n",
        "def norm_dist_cdf_num(*x_0, lower=-np.inf, upper=None):\r\n",
        "    _expr = lambda _t: np.exp(-_t/2)\r\n",
        "    if(upper==None):\r\n",
        "        cdf = 1/(np.sqrt(2*np.pi))* sci.integrate.quad(_expr, lower,upper)[0]\r\n",
        "        return cdf\r\n",
        "    else:\r\n",
        "        cdf = 1/(np.sqrt(2*np.pi))* (sci.integrate.quad(_expr, lower,upper)[0])\r\n",
        "        return cdf"
      ],
      "execution_count": null,
      "outputs": []
    },
    {
      "cell_type": "code",
      "metadata": {
        "colab": {
          "base_uri": "https://localhost:8080/",
          "height": 302
        },
        "id": "P_b6I3aimBoh",
        "outputId": "f6423226-9f53-44b4-d87f-f403ea2e381e"
      },
      "source": [
        "norm_dist_cdf_num(0)"
      ],
      "execution_count": null,
      "outputs": [
        {
          "output_type": "error",
          "ename": "TypeError",
          "evalue": "ignored",
          "traceback": [
            "\u001b[0;31m---------------------------------------------------------------------------\u001b[0m",
            "\u001b[0;31mTypeError\u001b[0m                                 Traceback (most recent call last)",
            "\u001b[0;32m<ipython-input-101-2481b29fa879>\u001b[0m in \u001b[0;36m<module>\u001b[0;34m()\u001b[0m\n\u001b[0;32m----> 1\u001b[0;31m \u001b[0mnorm_dist_cdf_num\u001b[0m\u001b[0;34m(\u001b[0m\u001b[0;36m0\u001b[0m\u001b[0;34m)\u001b[0m\u001b[0;34m\u001b[0m\u001b[0;34m\u001b[0m\u001b[0m\n\u001b[0m",
            "\u001b[0;32m<ipython-input-100-b3f6ad5f956c>\u001b[0m in \u001b[0;36mnorm_dist_cdf_num\u001b[0;34m(lower, upper, *x_0)\u001b[0m\n\u001b[1;32m      3\u001b[0m     \u001b[0m_expr\u001b[0m \u001b[0;34m=\u001b[0m \u001b[0;32mlambda\u001b[0m \u001b[0m_t\u001b[0m\u001b[0;34m:\u001b[0m \u001b[0mnp\u001b[0m\u001b[0;34m.\u001b[0m\u001b[0mexp\u001b[0m\u001b[0;34m(\u001b[0m\u001b[0;34m-\u001b[0m\u001b[0m_t\u001b[0m\u001b[0;34m/\u001b[0m\u001b[0;36m2\u001b[0m\u001b[0;34m)\u001b[0m\u001b[0;34m\u001b[0m\u001b[0;34m\u001b[0m\u001b[0m\n\u001b[1;32m      4\u001b[0m     \u001b[0;32mif\u001b[0m\u001b[0;34m(\u001b[0m\u001b[0mupper\u001b[0m\u001b[0;34m==\u001b[0m\u001b[0;32mNone\u001b[0m\u001b[0;34m)\u001b[0m\u001b[0;34m:\u001b[0m\u001b[0;34m\u001b[0m\u001b[0;34m\u001b[0m\u001b[0m\n\u001b[0;32m----> 5\u001b[0;31m         \u001b[0mcdf\u001b[0m \u001b[0;34m=\u001b[0m \u001b[0;36m1\u001b[0m\u001b[0;34m/\u001b[0m\u001b[0;34m(\u001b[0m\u001b[0mnp\u001b[0m\u001b[0;34m.\u001b[0m\u001b[0msqrt\u001b[0m\u001b[0;34m(\u001b[0m\u001b[0;36m2\u001b[0m\u001b[0;34m*\u001b[0m\u001b[0mnp\u001b[0m\u001b[0;34m.\u001b[0m\u001b[0mpi\u001b[0m\u001b[0;34m)\u001b[0m\u001b[0;34m)\u001b[0m\u001b[0;34m*\u001b[0m \u001b[0msci\u001b[0m\u001b[0;34m.\u001b[0m\u001b[0mintegrate\u001b[0m\u001b[0;34m.\u001b[0m\u001b[0mquad\u001b[0m\u001b[0;34m(\u001b[0m\u001b[0m_expr\u001b[0m\u001b[0;34m,\u001b[0m  \u001b[0mlower\u001b[0m\u001b[0;34m,\u001b[0m\u001b[0mupper\u001b[0m\u001b[0;34m)\u001b[0m\u001b[0;34m[\u001b[0m\u001b[0;36m0\u001b[0m\u001b[0;34m]\u001b[0m\u001b[0;34m\u001b[0m\u001b[0;34m\u001b[0m\u001b[0m\n\u001b[0m\u001b[1;32m      6\u001b[0m         \u001b[0;32mreturn\u001b[0m \u001b[0mcdf\u001b[0m\u001b[0;34m\u001b[0m\u001b[0;34m\u001b[0m\u001b[0m\n\u001b[1;32m      7\u001b[0m     \u001b[0;32melse\u001b[0m\u001b[0;34m:\u001b[0m\u001b[0;34m\u001b[0m\u001b[0;34m\u001b[0m\u001b[0m\n",
            "\u001b[0;32m/usr/local/lib/python3.6/dist-packages/scipy/integrate/quadpack.py\u001b[0m in \u001b[0;36mquad\u001b[0;34m(func, a, b, args, full_output, epsabs, epsrel, limit, points, weight, wvar, wopts, maxp1, limlst)\u001b[0m\n\u001b[1;32m    336\u001b[0m \u001b[0;34m\u001b[0m\u001b[0m\n\u001b[1;32m    337\u001b[0m     \u001b[0;31m# check the limits of integration: \\int_a^b, expect a < b\u001b[0m\u001b[0;34m\u001b[0m\u001b[0;34m\u001b[0m\u001b[0;34m\u001b[0m\u001b[0m\n\u001b[0;32m--> 338\u001b[0;31m     \u001b[0mflip\u001b[0m\u001b[0;34m,\u001b[0m \u001b[0ma\u001b[0m\u001b[0;34m,\u001b[0m \u001b[0mb\u001b[0m \u001b[0;34m=\u001b[0m \u001b[0mb\u001b[0m \u001b[0;34m<\u001b[0m \u001b[0ma\u001b[0m\u001b[0;34m,\u001b[0m \u001b[0mmin\u001b[0m\u001b[0;34m(\u001b[0m\u001b[0ma\u001b[0m\u001b[0;34m,\u001b[0m \u001b[0mb\u001b[0m\u001b[0;34m)\u001b[0m\u001b[0;34m,\u001b[0m \u001b[0mmax\u001b[0m\u001b[0;34m(\u001b[0m\u001b[0ma\u001b[0m\u001b[0;34m,\u001b[0m \u001b[0mb\u001b[0m\u001b[0;34m)\u001b[0m\u001b[0;34m\u001b[0m\u001b[0;34m\u001b[0m\u001b[0m\n\u001b[0m\u001b[1;32m    339\u001b[0m \u001b[0;34m\u001b[0m\u001b[0m\n\u001b[1;32m    340\u001b[0m     \u001b[0;32mif\u001b[0m \u001b[0mweight\u001b[0m \u001b[0;32mis\u001b[0m \u001b[0;32mNone\u001b[0m\u001b[0;34m:\u001b[0m\u001b[0;34m\u001b[0m\u001b[0;34m\u001b[0m\u001b[0m\n",
            "\u001b[0;31mTypeError\u001b[0m: '<' not supported between instances of 'NoneType' and 'float'"
          ]
        }
      ]
    },
    {
      "cell_type": "code",
      "metadata": {
        "id": "gcfl6LrGCLuS"
      },
      "source": [
        "# plotting CDF\n",
        "def norm_dist_cdf_plot(_x):\n",
        "    pass"
      ],
      "execution_count": null,
      "outputs": []
    },
    {
      "cell_type": "code",
      "metadata": {
        "id": "3iR4Vd4FXc_5"
      },
      "source": [
        "# transforming normal distributions to standard normal through z-scores\n"
      ],
      "execution_count": null,
      "outputs": []
    },
    {
      "cell_type": "markdown",
      "metadata": {
        "id": "J7GFz9h9RZ2A"
      },
      "source": [
        "## T distribution\n",
        "\n",
        "Definition\n",
        "\n",
        "Probability Density Function\n",
        "$$f(t) = \\frac{\\Gamma(\\frac{\\nu+1}{2})} {\\sqrt{\\nu\\pi}\\,\\Gamma(\\frac{\\nu}{2})} \\left(1+\\frac{t^2}{\\nu} \\right)^{\\!-\\frac{\\nu+1}{2}},\\!$$\n",
        "\n",
        "where $v$ is the number of degrees of freedom and $\\Gamma$ is the [gamma function](https://en.wikipedia.org/wiki/Gamma_function).\n",
        "\n",
        "The density function of the t-distribution may also be written in terms of the $\\beta$ -function. \n",
        "\n",
        "$$f(t) = \\frac{1}{\\sqrt{\\nu}\\,\\mathrm{B} (\\frac{1}{2}, \\frac{\\nu}{2})} \\left(1+\\frac{t^2}{\\nu} \\right)^{\\!-\\frac{\\nu+1}{2}}\\!,$$\n",
        "\n",
        "where B is the [beta-function](https://en.wikipedia.org/wiki/Beta_function). \n",
        "\n",
        "----\n",
        "Cumulative Distribution Function:\n",
        "\n",
        "The cumulative distribution function can be written in terms of I, the regularized incomplete beta function. For t > 0,\n",
        "\n",
        "$${\\displaystyle F(t)=\\int _{-\\infty }^{t}f(u)\\,du=1-{\\tfrac {1}{2}}I_{x(t)}\\left({\\tfrac {\\nu }{2}},{\\tfrac {1}{2}}\\right),}$$\n",
        "\n",
        "where\n",
        "\n",
        "$$x(t) = \\frac{\\nu}{{t^2+\\nu}}$$\n",
        "\n",
        "Other values would be obtained by symmetry. An alternative formula, valid for $t^2 < \\nu$, is\n",
        "\n",
        "$${\\displaystyle \\int _{-\\infty }^{t}f(u)\\,du={\\tfrac {1}{2}}+t{\\frac {\\Gamma \\left({\\tfrac {1}{2}}(\\nu +1)\\right)}{{\\sqrt {\\pi \\nu }}\\,\\Gamma \\left({\\tfrac {\\nu }{2}}\\right)}}\\,{}_{2}F_{1}\\left({\\tfrac {1}{2}},{\\tfrac {1}{2}}(\\nu +1);{\\tfrac {3}{2}};-{\\tfrac {t^{2}}{\\nu }}\\right),}$$\n",
        "\n",
        "where $_ 2F_1$ is a particular case of the hypergeometric function.\n",
        "\n",
        "For implementing this distribution, we will use a library in SymPy to define the gamma function and beta-function symbolically. \n"
      ]
    },
    {
      "cell_type": "code",
      "metadata": {
        "id": "CRhBPsWX-QAF"
      },
      "source": [
        "# introduct symbols\n",
        "df, t = sp.symbols(\"v, t\")"
      ],
      "execution_count": null,
      "outputs": []
    },
    {
      "cell_type": "markdown",
      "metadata": {
        "id": "DNuLZMPgEqSL"
      },
      "source": [
        "### PDF of T-distribution\n",
        "$$f(t) = \\frac{\\Gamma(\\frac{\\nu+1}{2})} {\\sqrt{\\nu\\pi}\\,\\Gamma(\\frac{\\nu}{2})} \\left(1+\\frac{t^2}{\\nu} \\right)^{\\!-\\frac{\\nu+1}{2}}\\!$$"
      ]
    },
    {
      "cell_type": "code",
      "metadata": {
        "id": "WEtbsXyU-E6a"
      },
      "source": [
        "# definition of the pdf - for graphing the distirbution\n",
        "def t_dist_pdf(df, t):\n",
        "    val = sp.gamma((df+1)/2)/(sp.sqrt(df*sp.pi)*sp.gamma(df/2))*(1+(t**2/df))**(-((df+1)/2))\n",
        "    return N(val)"
      ],
      "execution_count": null,
      "outputs": []
    },
    {
      "cell_type": "code",
      "metadata": {
        "id": "s9Xjb9PdZZht"
      },
      "source": [
        "# numerical method"
      ],
      "execution_count": null,
      "outputs": []
    },
    {
      "cell_type": "markdown",
      "metadata": {
        "id": "o3sSfV9wEyFn"
      },
      "source": [
        "### CDF of T-distribution\n",
        "$$\\int_{-\\infty}^{t} f(x,t) dt$$"
      ]
    },
    {
      "cell_type": "code",
      "metadata": {
        "id": "yPrEo1BHEtlI"
      },
      "source": [
        "# definition of the cmf -  for finding the probability values\n",
        "def t_dist_cdf(df, *a, lower = \"-oo\", upper=None):\n",
        "    expr = sp.gamma((df+1)/2)/(sp.sqrt(df*sp.pi)*sp.gamma(df/2))*(1+(t**2/df))**(-((df+1)/2))\n",
        "    if(upper==None):\n",
        "        val = sp.Integral(expr, (t,lower,a))\n",
        "    if(upper!=None):\n",
        "         val = sp.Integral(expr, (t,lower,upper))\n",
        "    return N(val)\n",
        "\n",
        "# t_dist_cdf(10, lower=-1, upper=1)"
      ],
      "execution_count": null,
      "outputs": []
    },
    {
      "cell_type": "code",
      "metadata": {
        "id": "Zc_Uy-Kq-GEJ"
      },
      "source": [
        "# to-do: improve function as lambda function with loc and scale, and shading\n",
        "# plotting the t-distribution\n",
        "from scipy.special import gamma \n",
        "\n",
        "def t_dist_np(x, t=0): # loc, scale, df\n",
        "    val = gamma((x+1)/2)/(np.sqrt(x*np.pi)*gamma(x/2))*(1+(t**2/x))**(-((x+1)/2))\n",
        "    return val\n",
        "\n",
        "x = np.linspace(-5,5, 10000)\n",
        "y = np.array([t_dist_np(1,i) for i in x])\n",
        "\n",
        "plt.plot(x,y)"
      ],
      "execution_count": null,
      "outputs": []
    },
    {
      "cell_type": "markdown",
      "metadata": {
        "id": "ewwGgBVAC2Ro"
      },
      "source": [
        "$$F_r(t) = \\frac{1}{2}+ \\frac{1}{2} \\left[I \\left(1; \\frac{1}{2} r, \\frac{1}{2} \\right) - I \\left(  \\frac{r}{r+t^2} ;  \\frac{1}{2} r,  \\frac{1}{2}\\right) \\right]*sgn(t)$$"
      ]
    },
    {
      "cell_type": "code",
      "metadata": {
        "id": "yju21TTMCwhY"
      },
      "source": [
        "# another cdf definition from https://mathworld.wolfram.com/Studentst-Distribution.html\r\n",
        "\r\n",
        "def t_cdf(df, x):\r\n",
        "    reg_beta = lambda z, a,b: ss.betainc(a,b,z)/ss.beta(a,b)\r\n",
        "    return 0.5+0.5*(reg_beta(1,0.5*df,0.5)-reg_beta(df/(df+x**2), 0.5*df, 0.5))*np.sign(x)"
      ],
      "execution_count": 8,
      "outputs": []
    },
    {
      "cell_type": "code",
      "metadata": {
        "colab": {
          "base_uri": "https://localhost:8080/",
          "height": 36
        },
        "id": "oTC7iOw3EhR4",
        "outputId": "324560de-adb0-49f5-85ec-1b407c6d3c93"
      },
      "source": [
        "t_cdf(12, 1)"
      ],
      "execution_count": 9,
      "outputs": [
        {
          "output_type": "execute_result",
          "data": {
            "image/png": "[encoded data removed]",
            "text/latex": "$$0.9486572293341465$$",
            "text/plain": [
              "0.9486572293341465"
            ]
          },
          "metadata": {
            "tags": []
          },
          "execution_count": 9
        }
      ]
    },
    {
      "cell_type": "markdown",
      "metadata": {
        "id": "hoQ7tJMKGwAX"
      },
      "source": [
        "this plot seems to be indicative behavior that the `t_cdf` function is not well-defined. "
      ]
    },
    {
      "cell_type": "code",
      "metadata": {
        "colab": {
          "base_uri": "https://localhost:8080/",
          "height": 283
        },
        "id": "LGDjKRSOGaOJ",
        "outputId": "d746e57e-47d7-45ac-fcf6-9217714088ae"
      },
      "source": [
        "df = 12\r\n",
        "x = np.linspace(0,4,1000)\r\n",
        "y = np.array([t_cdf(df, i) for i in x])\r\n",
        "\r\n",
        "plt.plot(x,y)"
      ],
      "execution_count": 12,
      "outputs": [
        {
          "output_type": "execute_result",
          "data": {
            "text/plain": [
              "[<matplotlib.lines.Line2D at 0x7f7c34362860>]"
            ]
          },
          "metadata": {
            "tags": []
          },
          "execution_count": 12
        },
        {
          "output_type": "display_data",
          "data": {
            "image/png": "[encoded data removed]",
            "text/plain": [
              "<Figure size 432x288 with 1 Axes>"
            ]
          },
          "metadata": {
            "tags": [],
            "needs_background": "light"
          }
        }
      ]
    },
    {
      "cell_type": "markdown",
      "metadata": {
        "id": "5nB-MfW5Zo37"
      },
      "source": [
        "### F-distribution\n",
        "Fisher–Snedecor distribution (after Ronald Fisher and George W. Snedecor) is a continuous probability distribution that arises frequently as the null distribution of a test statistic, most notably in the analysis of variance (ANOVA), e.g., F-test.\n",
        "\n",
        "----\n",
        "Definition:\n",
        "\n",
        "\n",
        "Probability Density Function:\n",
        "\n",
        "If a random variable $X$ has an F-distribution with parameters $d_1$ and $d_2$, we write X~F(d₁,d₂). Then the probability density function for X is given by:\n",
        "\n",
        "$${\\displaystyle {\\begin{aligned}f(x;d_{1},d_{2})&={\\frac {\\sqrt {\\frac {(d_{1}x)^{d_{1}}\\,\\,d_{2}^{d_{2}}}{(d_{1}x+d_{2})^{d_{1}+d_{2}}}}}{x\\,\\mathrm {B} \\!\\left({\\frac {d_{1}}{2}},{\\frac {d_{2}}{2}}\\right)}}\\\\&={\\frac {1}{\\mathrm {B} \\!\\left({\\frac {d_{1}}{2}},{\\frac {d_{2}}{2}}\\right)}}\\left({\\frac {d_{1}}{d_{2}}}\\right)^{\\frac {d_{1}}{2}}x^{{\\frac {d_{1}}{2}}-1}\\left(1+{\\frac {d_{1}}{d_{2}}}\\,x\\right)^{-{\\frac {d_{1}+d_{2}}{2}}}\\end{aligned}}}$$\n",
        "\n",
        "for real x>0. Where B is the beta function. \n",
        "\n",
        "Cummulative Density Function:\n",
        "\n",
        "$$F(x;d_{1},d_{2})=I_{{{\\frac  {d_{1}x}{d_{1}x+d_{2}}}}}\\left({\\tfrac  {d_{1}}{2}},{\\tfrac  {d_{2}}{2}}\\right),$$\n",
        "where I is the regularized [incomplete beta function](https://en.wikipedia.org/wiki/Regularized_incomplete_beta_function).\n"
      ]
    },
    {
      "cell_type": "code",
      "metadata": {
        "id": "3x2uAn1oFofb"
      },
      "source": [
        "# initialize symbols\n",
        "a,b = sp.symbols(\"a b\")"
      ],
      "execution_count": null,
      "outputs": []
    },
    {
      "cell_type": "markdown",
      "metadata": {
        "id": "PriAlU6FFWtd"
      },
      "source": [
        "### Incomplete $\\beta$- function:\n",
        "\n",
        "$${\\displaystyle \\mathrm {B} (x;\\,a,b)=\\int _{0}^{x}t^{a-1}\\,(1-t)^{b-1}\\,dt.}$$"
      ]
    },
    {
      "cell_type": "code",
      "metadata": {
        "id": "EhUdWxSRWF4-"
      },
      "source": [
        "# Prototypical implementation\n",
        "def incomplete_beta(x_0,a_0,b_0):\n",
        "    expr = t**(a_0-1)*(1-t)**(b_0-1)\n",
        "    return N(sp.integrate(expr, (t, 0, x_0)))"
      ],
      "execution_count": null,
      "outputs": []
    },
    {
      "cell_type": "code",
      "metadata": {
        "id": "B5nV9CAWF1DK"
      },
      "source": [
        "# implementation from SciPy\r\n",
        "def incomplete_beta_num(x_0, a_0, b_0):\r\n",
        "    expr = lambda t_0: t_0**(a_0-1)*(1-t_0)**(b_0-1)\r\n",
        "    return sci.integrate.quad(expr, 0, x_0)[0]"
      ],
      "execution_count": null,
      "outputs": []
    },
    {
      "cell_type": "code",
      "metadata": {
        "colab": {
          "base_uri": "https://localhost:8080/",
          "height": 36
        },
        "id": "UX-bbOavPZ09",
        "outputId": "243e386c-ba24-424b-d6a2-bdf89874b895"
      },
      "source": [
        "incomplete_beta(3,4,5)"
      ],
      "execution_count": null,
      "outputs": [
        {
          "output_type": "execute_result",
          "data": {
            "image/png": "[encoded data removed]",
            "text/latex": "$$125.260714285714$$",
            "text/plain": [
              "125.260714285714"
            ]
          },
          "metadata": {
            "tags": []
          },
          "execution_count": 15
        }
      ]
    },
    {
      "cell_type": "code",
      "metadata": {
        "colab": {
          "base_uri": "https://localhost:8080/",
          "height": 37
        },
        "id": "-ghd2K2BQLik",
        "outputId": "9eef0967-de32-4129-875f-af909a926dc7"
      },
      "source": [
        "incomplete_beta_num(3,4,5)"
      ],
      "execution_count": null,
      "outputs": [
        {
          "output_type": "execute_result",
          "data": {
            "image/png": "[encoded data removed]",
            "text/latex": "$$\\left ( 125.2607142857143, \\quad 1.3906732908099328e-12\\right )$$",
            "text/plain": [
              "(125.2607142857143, 1.3906732908099328e-12)"
            ]
          },
          "metadata": {
            "tags": []
          },
          "execution_count": 26
        }
      ]
    },
    {
      "cell_type": "markdown",
      "metadata": {
        "id": "s2RsoN_htrl9"
      },
      "source": [
        "$${\\displaystyle {\\begin{aligned}f(x;d_{1},d_{2})&={\\frac {\\sqrt {\\frac {(d_{1}x)^{d_{1}}\\,\\,d_{2}^{d_{2}}}{(d_{1}x+d_{2})^{d_{1}+d_{2}}}}}{x\\,\\mathrm {B} \\!\\left({\\frac {d_{1}}{2}},{\\frac {d_{2}}{2}}\\right)}}\\\\&={\\frac {1}{\\mathrm {B} \\!\\left({\\frac {d_{1}}{2}},{\\frac {d_{2}}{2}}\\right)}}\\left({\\frac {d_{1}}{d_{2}}}\\right)^{\\frac {d_{1}}{2}}x^{{\\frac {d_{1}}{2}}-1}\\left(1+{\\frac {d_{1}}{d_{2}}}\\,x\\right)^{-{\\frac {d_{1}+d_{2}}{2}}}\\end{aligned}}}$$"
      ]
    },
    {
      "cell_type": "code",
      "metadata": {
        "id": "Zq1QBGsfPCsZ"
      },
      "source": [
        "# pdf\n",
        "def f_dist_pdf(x_0, d1, d2):\n",
        "    return np.sqrt(((d1*x_0)**d1*d2**d2)/(d1*x_0+d2)**(d1+d2))/((x_0)*incomplete_beta_num(x_0, d1/2, d2/2)) "
      ],
      "execution_count": null,
      "outputs": []
    },
    {
      "cell_type": "code",
      "metadata": {
        "colab": {
          "base_uri": "https://localhost:8080/",
          "height": 36
        },
        "id": "u08gGUakUIMa",
        "outputId": "158385b7-3e6d-4370-d5c1-1caa6c4f0d26"
      },
      "source": [
        "f_dist_pdf(1,2,3)"
      ],
      "execution_count": null,
      "outputs": [
        {
          "output_type": "execute_result",
          "data": {
            "image/png": "[encoded data removed]",
            "text/latex": "$$0.27885480092693393$$",
            "text/plain": [
              "0.27885480092693393"
            ]
          },
          "metadata": {
            "tags": []
          },
          "execution_count": 38
        }
      ]
    },
    {
      "cell_type": "code",
      "metadata": {
        "colab": {
          "base_uri": "https://localhost:8080/",
          "height": 36
        },
        "id": "4_HcnuzIcJaj",
        "outputId": "9c96c1c9-49dd-47a4-b5ff-5b08b84a0d50"
      },
      "source": [
        "def test_f(x_0,d1,d2):\r\n",
        "    return np.sqrt(((d1*x_0)**d1*d2**d2)/(d1*x_0+d2)**(d1+d2))/((x_0)*sci.special.beta(d1/2, d2/2)) \r\n",
        "\r\n",
        "test_f(1,2,3)"
      ],
      "execution_count": null,
      "outputs": [
        {
          "output_type": "execute_result",
          "data": {
            "image/png": "[encoded data removed]",
            "text/latex": "$$0.27885480092693404$$",
            "text/plain": [
              "0.27885480092693404"
            ]
          },
          "metadata": {
            "tags": []
          },
          "execution_count": 75
        }
      ]
    },
    {
      "cell_type": "code",
      "metadata": {
        "colab": {
          "base_uri": "https://localhost:8080/",
          "height": 352
        },
        "id": "2hf90q1XUjsj",
        "outputId": "f3e84baf-4ba1-4a55-9d53-ca29f5edf9e6"
      },
      "source": [
        "x_f = np.linspace(1,5,1000)\r\n",
        "y_f = np.array([f_dist_pdf(i, 2,3) for i in x_f])\r\n",
        "\r\n",
        "plt.plot(x_f,y_f)"
      ],
      "execution_count": null,
      "outputs": [
        {
          "output_type": "error",
          "ename": "TypeError",
          "evalue": "ignored",
          "traceback": [
            "\u001b[0;31m---------------------------------------------------------------------------\u001b[0m",
            "\u001b[0;31mTypeError\u001b[0m                                 Traceback (most recent call last)",
            "\u001b[0;32m<ipython-input-39-a20c7ed26306>\u001b[0m in \u001b[0;36m<module>\u001b[0;34m()\u001b[0m\n\u001b[1;32m      1\u001b[0m \u001b[0mx_f\u001b[0m \u001b[0;34m=\u001b[0m \u001b[0mnp\u001b[0m\u001b[0;34m.\u001b[0m\u001b[0mlinspace\u001b[0m\u001b[0;34m(\u001b[0m\u001b[0;36m1\u001b[0m\u001b[0;34m,\u001b[0m\u001b[0;36m5\u001b[0m\u001b[0;34m,\u001b[0m\u001b[0;36m1000\u001b[0m\u001b[0;34m)\u001b[0m\u001b[0;34m\u001b[0m\u001b[0;34m\u001b[0m\u001b[0m\n\u001b[0;32m----> 2\u001b[0;31m \u001b[0my_f\u001b[0m \u001b[0;34m=\u001b[0m \u001b[0mnp\u001b[0m\u001b[0;34m.\u001b[0m\u001b[0marray\u001b[0m\u001b[0;34m(\u001b[0m\u001b[0;34m[\u001b[0m\u001b[0mf_dist_pdf\u001b[0m\u001b[0;34m(\u001b[0m\u001b[0mi\u001b[0m\u001b[0;34m,\u001b[0m \u001b[0;36m2\u001b[0m\u001b[0;34m,\u001b[0m\u001b[0;36m3\u001b[0m\u001b[0;34m)\u001b[0m \u001b[0;32mfor\u001b[0m \u001b[0mi\u001b[0m \u001b[0;32min\u001b[0m \u001b[0mx_f\u001b[0m\u001b[0;34m]\u001b[0m\u001b[0;34m)\u001b[0m\u001b[0;34m\u001b[0m\u001b[0;34m\u001b[0m\u001b[0m\n\u001b[0m\u001b[1;32m      3\u001b[0m \u001b[0;34m\u001b[0m\u001b[0m\n\u001b[1;32m      4\u001b[0m \u001b[0mplt\u001b[0m\u001b[0;34m.\u001b[0m\u001b[0mplot\u001b[0m\u001b[0;34m(\u001b[0m\u001b[0mx_f\u001b[0m\u001b[0;34m,\u001b[0m\u001b[0my_f\u001b[0m\u001b[0;34m)\u001b[0m\u001b[0;34m\u001b[0m\u001b[0;34m\u001b[0m\u001b[0m\n",
            "\u001b[0;32m<ipython-input-39-a20c7ed26306>\u001b[0m in \u001b[0;36m<listcomp>\u001b[0;34m(.0)\u001b[0m\n\u001b[1;32m      1\u001b[0m \u001b[0mx_f\u001b[0m \u001b[0;34m=\u001b[0m \u001b[0mnp\u001b[0m\u001b[0;34m.\u001b[0m\u001b[0mlinspace\u001b[0m\u001b[0;34m(\u001b[0m\u001b[0;36m1\u001b[0m\u001b[0;34m,\u001b[0m\u001b[0;36m5\u001b[0m\u001b[0;34m,\u001b[0m\u001b[0;36m1000\u001b[0m\u001b[0;34m)\u001b[0m\u001b[0;34m\u001b[0m\u001b[0;34m\u001b[0m\u001b[0m\n\u001b[0;32m----> 2\u001b[0;31m \u001b[0my_f\u001b[0m \u001b[0;34m=\u001b[0m \u001b[0mnp\u001b[0m\u001b[0;34m.\u001b[0m\u001b[0marray\u001b[0m\u001b[0;34m(\u001b[0m\u001b[0;34m[\u001b[0m\u001b[0mf_dist_pdf\u001b[0m\u001b[0;34m(\u001b[0m\u001b[0mi\u001b[0m\u001b[0;34m,\u001b[0m \u001b[0;36m2\u001b[0m\u001b[0;34m,\u001b[0m\u001b[0;36m3\u001b[0m\u001b[0;34m)\u001b[0m \u001b[0;32mfor\u001b[0m \u001b[0mi\u001b[0m \u001b[0;32min\u001b[0m \u001b[0mx_f\u001b[0m\u001b[0;34m]\u001b[0m\u001b[0;34m)\u001b[0m\u001b[0;34m\u001b[0m\u001b[0;34m\u001b[0m\u001b[0m\n\u001b[0m\u001b[1;32m      3\u001b[0m \u001b[0;34m\u001b[0m\u001b[0m\n\u001b[1;32m      4\u001b[0m \u001b[0mplt\u001b[0m\u001b[0;34m.\u001b[0m\u001b[0mplot\u001b[0m\u001b[0;34m(\u001b[0m\u001b[0mx_f\u001b[0m\u001b[0;34m,\u001b[0m\u001b[0my_f\u001b[0m\u001b[0;34m)\u001b[0m\u001b[0;34m\u001b[0m\u001b[0;34m\u001b[0m\u001b[0m\n",
            "\u001b[0;32m<ipython-input-31-3b1d8cd99ac0>\u001b[0m in \u001b[0;36mf_dist_pdf\u001b[0;34m(x_0, d1, d2)\u001b[0m\n\u001b[1;32m      1\u001b[0m \u001b[0;31m# pdf\u001b[0m\u001b[0;34m\u001b[0m\u001b[0;34m\u001b[0m\u001b[0;34m\u001b[0m\u001b[0m\n\u001b[1;32m      2\u001b[0m \u001b[0;32mdef\u001b[0m \u001b[0mf_dist_pdf\u001b[0m\u001b[0;34m(\u001b[0m\u001b[0mx_0\u001b[0m\u001b[0;34m,\u001b[0m \u001b[0md1\u001b[0m\u001b[0;34m,\u001b[0m \u001b[0md2\u001b[0m\u001b[0;34m)\u001b[0m\u001b[0;34m:\u001b[0m\u001b[0;34m\u001b[0m\u001b[0;34m\u001b[0m\u001b[0m\n\u001b[0;32m----> 3\u001b[0;31m     \u001b[0;32mreturn\u001b[0m \u001b[0mnp\u001b[0m\u001b[0;34m.\u001b[0m\u001b[0msqrt\u001b[0m\u001b[0;34m(\u001b[0m\u001b[0;34m(\u001b[0m\u001b[0;34m(\u001b[0m\u001b[0md1\u001b[0m\u001b[0;34m*\u001b[0m\u001b[0mx_0\u001b[0m\u001b[0;34m)\u001b[0m\u001b[0;34m**\u001b[0m\u001b[0md1\u001b[0m\u001b[0;34m*\u001b[0m\u001b[0md2\u001b[0m\u001b[0;34m**\u001b[0m\u001b[0md2\u001b[0m\u001b[0;34m)\u001b[0m\u001b[0;34m/\u001b[0m\u001b[0;34m(\u001b[0m\u001b[0md1\u001b[0m\u001b[0;34m*\u001b[0m\u001b[0mx_0\u001b[0m\u001b[0;34m+\u001b[0m\u001b[0md2\u001b[0m\u001b[0;34m)\u001b[0m\u001b[0;34m**\u001b[0m\u001b[0;34m(\u001b[0m\u001b[0md1\u001b[0m\u001b[0;34m+\u001b[0m\u001b[0md2\u001b[0m\u001b[0;34m)\u001b[0m\u001b[0;34m)\u001b[0m\u001b[0;34m/\u001b[0m\u001b[0;34m(\u001b[0m\u001b[0;34m(\u001b[0m\u001b[0mx_0\u001b[0m\u001b[0;34m)\u001b[0m\u001b[0;34m*\u001b[0m\u001b[0mincomplete_beta_num\u001b[0m\u001b[0;34m(\u001b[0m\u001b[0mx_0\u001b[0m\u001b[0;34m,\u001b[0m \u001b[0md1\u001b[0m\u001b[0;34m/\u001b[0m\u001b[0;36m2\u001b[0m\u001b[0;34m,\u001b[0m \u001b[0md2\u001b[0m\u001b[0;34m/\u001b[0m\u001b[0;36m2\u001b[0m\u001b[0;34m)\u001b[0m\u001b[0;34m)\u001b[0m\u001b[0;34m\u001b[0m\u001b[0;34m\u001b[0m\u001b[0m\n\u001b[0m",
            "\u001b[0;32m<ipython-input-30-74f504675878>\u001b[0m in \u001b[0;36mincomplete_beta_num\u001b[0;34m(x_0, a_0, b_0)\u001b[0m\n\u001b[1;32m      2\u001b[0m \u001b[0;32mdef\u001b[0m \u001b[0mincomplete_beta_num\u001b[0m\u001b[0;34m(\u001b[0m\u001b[0mx_0\u001b[0m\u001b[0;34m,\u001b[0m \u001b[0ma_0\u001b[0m\u001b[0;34m,\u001b[0m \u001b[0mb_0\u001b[0m\u001b[0;34m)\u001b[0m\u001b[0;34m:\u001b[0m\u001b[0;34m\u001b[0m\u001b[0;34m\u001b[0m\u001b[0m\n\u001b[1;32m      3\u001b[0m     \u001b[0mexpr\u001b[0m \u001b[0;34m=\u001b[0m \u001b[0;32mlambda\u001b[0m \u001b[0mt_0\u001b[0m\u001b[0;34m:\u001b[0m \u001b[0mt_0\u001b[0m\u001b[0;34m**\u001b[0m\u001b[0;34m(\u001b[0m\u001b[0ma_0\u001b[0m\u001b[0;34m-\u001b[0m\u001b[0;36m1\u001b[0m\u001b[0;34m)\u001b[0m\u001b[0;34m*\u001b[0m\u001b[0;34m(\u001b[0m\u001b[0;36m1\u001b[0m\u001b[0;34m-\u001b[0m\u001b[0mt_0\u001b[0m\u001b[0;34m)\u001b[0m\u001b[0;34m**\u001b[0m\u001b[0;34m(\u001b[0m\u001b[0mb_0\u001b[0m\u001b[0;34m-\u001b[0m\u001b[0;36m1\u001b[0m\u001b[0;34m)\u001b[0m\u001b[0;34m\u001b[0m\u001b[0;34m\u001b[0m\u001b[0m\n\u001b[0;32m----> 4\u001b[0;31m     \u001b[0;32mreturn\u001b[0m \u001b[0msci\u001b[0m\u001b[0;34m.\u001b[0m\u001b[0mintegrate\u001b[0m\u001b[0;34m.\u001b[0m\u001b[0mquad\u001b[0m\u001b[0;34m(\u001b[0m\u001b[0mexpr\u001b[0m\u001b[0;34m,\u001b[0m \u001b[0;36m0\u001b[0m\u001b[0;34m,\u001b[0m \u001b[0mx_0\u001b[0m\u001b[0;34m)\u001b[0m\u001b[0;34m[\u001b[0m\u001b[0;36m0\u001b[0m\u001b[0;34m]\u001b[0m\u001b[0;34m\u001b[0m\u001b[0;34m\u001b[0m\u001b[0m\n\u001b[0m",
            "\u001b[0;32m/usr/local/lib/python3.6/dist-packages/scipy/integrate/quadpack.py\u001b[0m in \u001b[0;36mquad\u001b[0;34m(func, a, b, args, full_output, epsabs, epsrel, limit, points, weight, wvar, wopts, maxp1, limlst)\u001b[0m\n\u001b[1;32m    340\u001b[0m     \u001b[0;32mif\u001b[0m \u001b[0mweight\u001b[0m \u001b[0;32mis\u001b[0m \u001b[0;32mNone\u001b[0m\u001b[0;34m:\u001b[0m\u001b[0;34m\u001b[0m\u001b[0;34m\u001b[0m\u001b[0m\n\u001b[1;32m    341\u001b[0m         retval = _quad(func, a, b, args, full_output, epsabs, epsrel, limit,\n\u001b[0;32m--> 342\u001b[0;31m                        points)\n\u001b[0m\u001b[1;32m    343\u001b[0m     \u001b[0;32melse\u001b[0m\u001b[0;34m:\u001b[0m\u001b[0;34m\u001b[0m\u001b[0;34m\u001b[0m\u001b[0m\n\u001b[1;32m    344\u001b[0m         \u001b[0;32mif\u001b[0m \u001b[0mpoints\u001b[0m \u001b[0;32mis\u001b[0m \u001b[0;32mnot\u001b[0m \u001b[0;32mNone\u001b[0m\u001b[0;34m:\u001b[0m\u001b[0;34m\u001b[0m\u001b[0;34m\u001b[0m\u001b[0m\n",
            "\u001b[0;32m/usr/local/lib/python3.6/dist-packages/scipy/integrate/quadpack.py\u001b[0m in \u001b[0;36m_quad\u001b[0;34m(func, a, b, args, full_output, epsabs, epsrel, limit, points)\u001b[0m\n\u001b[1;32m    451\u001b[0m     \u001b[0;32mif\u001b[0m \u001b[0mpoints\u001b[0m \u001b[0;32mis\u001b[0m \u001b[0;32mNone\u001b[0m\u001b[0;34m:\u001b[0m\u001b[0;34m\u001b[0m\u001b[0;34m\u001b[0m\u001b[0m\n\u001b[1;32m    452\u001b[0m         \u001b[0;32mif\u001b[0m \u001b[0minfbounds\u001b[0m \u001b[0;34m==\u001b[0m \u001b[0;36m0\u001b[0m\u001b[0;34m:\u001b[0m\u001b[0;34m\u001b[0m\u001b[0;34m\u001b[0m\u001b[0m\n\u001b[0;32m--> 453\u001b[0;31m             \u001b[0;32mreturn\u001b[0m \u001b[0m_quadpack\u001b[0m\u001b[0;34m.\u001b[0m\u001b[0m_qagse\u001b[0m\u001b[0;34m(\u001b[0m\u001b[0mfunc\u001b[0m\u001b[0;34m,\u001b[0m\u001b[0ma\u001b[0m\u001b[0;34m,\u001b[0m\u001b[0mb\u001b[0m\u001b[0;34m,\u001b[0m\u001b[0margs\u001b[0m\u001b[0;34m,\u001b[0m\u001b[0mfull_output\u001b[0m\u001b[0;34m,\u001b[0m\u001b[0mepsabs\u001b[0m\u001b[0;34m,\u001b[0m\u001b[0mepsrel\u001b[0m\u001b[0;34m,\u001b[0m\u001b[0mlimit\u001b[0m\u001b[0;34m)\u001b[0m\u001b[0;34m\u001b[0m\u001b[0;34m\u001b[0m\u001b[0m\n\u001b[0m\u001b[1;32m    454\u001b[0m         \u001b[0;32melse\u001b[0m\u001b[0;34m:\u001b[0m\u001b[0;34m\u001b[0m\u001b[0;34m\u001b[0m\u001b[0m\n\u001b[1;32m    455\u001b[0m             \u001b[0;32mreturn\u001b[0m \u001b[0m_quadpack\u001b[0m\u001b[0;34m.\u001b[0m\u001b[0m_qagie\u001b[0m\u001b[0;34m(\u001b[0m\u001b[0mfunc\u001b[0m\u001b[0;34m,\u001b[0m\u001b[0mbound\u001b[0m\u001b[0;34m,\u001b[0m\u001b[0minfbounds\u001b[0m\u001b[0;34m,\u001b[0m\u001b[0margs\u001b[0m\u001b[0;34m,\u001b[0m\u001b[0mfull_output\u001b[0m\u001b[0;34m,\u001b[0m\u001b[0mepsabs\u001b[0m\u001b[0;34m,\u001b[0m\u001b[0mepsrel\u001b[0m\u001b[0;34m,\u001b[0m\u001b[0mlimit\u001b[0m\u001b[0;34m)\u001b[0m\u001b[0;34m\u001b[0m\u001b[0;34m\u001b[0m\u001b[0m\n",
            "\u001b[0;31mTypeError\u001b[0m: can't convert complex to float"
          ]
        }
      ]
    },
    {
      "cell_type": "code",
      "metadata": {
        "id": "t7t97wWQPChQ"
      },
      "source": [
        "# cdf\n",
        "def f_dist_cdf():\n",
        "    pass"
      ],
      "execution_count": null,
      "outputs": []
    },
    {
      "cell_type": "code",
      "metadata": {
        "id": "-j9mCEgjYyi1"
      },
      "source": [
        "# difference between 2 variances"
      ],
      "execution_count": null,
      "outputs": []
    },
    {
      "cell_type": "markdown",
      "metadata": {
        "id": "X-EGfjwqHey8"
      },
      "source": [
        "## $\\chi^2$ Distribution\n",
        "\n",
        "Definition\n",
        "\n",
        "Probability Density Function\n",
        "\n",
        "The probability density function (pdf) of the chi-square distribution is\n",
        "\n",
        "$${\\displaystyle f(x;\\,k)={\\begin{cases}{\\dfrac {x^{{\\frac {k}{2}}-1}e^{-{\\frac {x}{2}}}}{2^{\\frac {k}{2}}\\Gamma \\left({\\frac {k}{2}}\\right)}},&x>0;\\\\0,&{\\text{otherwise}}.\\end{cases}}}$$\n",
        "\n",
        "where ${\\textstyle \\Gamma (k/2)}$ denotes the gamma function, which has closed-form values for integer $k$.\n",
        "\n",
        "\n",
        "Commulative Density Function\n",
        "$$F(x;\\,k)={\\frac {\\gamma ({\\frac {k}{2}},\\,{\\frac {x}{2}})}{\\Gamma ({\\frac {k}{2}})}}=P\\left({\\frac {k}{2}},\\,{\\frac {x}{2}}\\right),$$\n",
        "\n",
        "where ${\\displaystyle \\gamma (s,t)}$ is the lower incomplete gamma function and ${\\textstyle P(s,t)}$ is the regularized gamma function.\n"
      ]
    },
    {
      "cell_type": "code",
      "metadata": {
        "id": "A4meTfPZ-0x-"
      },
      "source": [
        "# introduce symbol\n",
        "k = sp.Symbol(k)"
      ],
      "execution_count": null,
      "outputs": []
    },
    {
      "cell_type": "code",
      "metadata": {
        "id": "l48sfDAzHfdZ"
      },
      "source": [
        "# pdf \n",
        "def chi_dist_pdf(x,k):\n",
        "    return (1/(np.power(2,(k/2)-1)*ss.gamma(k/2)))*np.power(x,k-1)*np.exp(-x**2/2)"
      ],
      "execution_count": null,
      "outputs": []
    },
    {
      "cell_type": "code",
      "metadata": {
        "id": "hQJR0wCmHft0"
      },
      "source": [
        "# cdf\n",
        "def chi_dist_pdf(x_0,k_0):\n",
        "    return ss.gammainc(k_0/2, x/2)/ss.gamma(k/2)"
      ],
      "execution_count": null,
      "outputs": []
    },
    {
      "cell_type": "markdown",
      "metadata": {
        "id": "buPdEwGlPIfT"
      },
      "source": [
        "## $\\Gamma$-Distribution\n",
        "\n",
        "- Case 1: $k>0 \\text{ shape};\\ \\theta>0 \\text{ scale}$\n",
        "- Case 2: $a>0 \\text{ shape}; \\beta>0  \\text{ scale}$\n",
        "\n",
        "Definitions\n",
        "\n",
        "Probability Density Function:\n",
        "\n",
        "Case 1: \n",
        "$${\\displaystyle f(x)={\\frac {1}{\\Gamma (k)\\theta ^{k}}}x^{k-1}e^{-{\\frac {x}{\\theta }}}}$$\n",
        "\n",
        "Case 2:\n",
        "$$\t{\\displaystyle f(x)={\\frac {\\beta ^{\\alpha }}{\\Gamma (\\alpha )}}x^{\\alpha -1}e^{-\\beta x}}$$\n",
        "\n",
        "Parameter\n",
        "- $x\\in (0, \\infty)$ is the random variable\n",
        "----\n",
        "Cumulative Distribution Function\n",
        "\n",
        "Case 1:\n",
        "$${\\displaystyle F(x)={\\frac {1}{\\Gamma (k)}}\\gamma \\left(k,{\\frac {x}{\\theta }}\\right)}$$\n",
        "\n",
        "Case 2:\n",
        "$$\t{\\displaystyle F(x)={\\frac {1}{\\Gamma (\\alpha )}}\\gamma (\\alpha ,\\beta x)}$$\n",
        "\n",
        "Parameter\n",
        "- $x\\in (0, \\infty)$ is the random variable"
      ]
    },
    {
      "cell_type": "code",
      "metadata": {
        "id": "oRQSeOvbPPbY"
      },
      "source": [
        "def gamma_pdf_c1(k, theta, x):\r\n",
        "    scale  = np.power(x,k-1)*np.exp(-x/theta)\r\n",
        "    return (1/(ss.gamma(k)*np.power(theta,k)))*scale"
      ],
      "execution_count": null,
      "outputs": []
    },
    {
      "cell_type": "code",
      "metadata": {
        "id": "IFq2r6fFPPTH"
      },
      "source": [
        "def gamma_pdf_c2(a, beta, x):\r\n",
        "    scale  = np.power(x,a-1)*np.exp(-x*beta)\r\n",
        "    return (1/(ss.gamma(a)*np.power(beta,a)))*scale"
      ],
      "execution_count": null,
      "outputs": []
    },
    {
      "cell_type": "code",
      "metadata": {
        "id": "XY9MA0JkNIJh"
      },
      "source": [
        "def gamma_cdf_c1(k, theta, x):\r\n",
        "    return (1/ss.gamma(k))*ss.gammaic(k, x/theta)"
      ],
      "execution_count": null,
      "outputs": []
    },
    {
      "cell_type": "code",
      "metadata": {
        "id": "QAX-qHSFFtnn"
      },
      "source": [
        "def gamma_cdf_c1(a, beta, x):\r\n",
        "    return (1/ss.gamma(a))*ss.gammaic(a, x*beta)"
      ],
      "execution_count": null,
      "outputs": []
    },
    {
      "cell_type": "markdown",
      "metadata": {
        "id": "JFEQLlqW1fSh"
      },
      "source": [
        "## Pareto Distribution\r\n",
        "\r\n",
        "Definitions\r\n",
        "\r\n",
        "Probability Density Function:\r\n",
        "$$f_X(x)= \\begin{cases} \\frac{\\alpha x_\\mathrm{m}^\\alpha}{x^{\\alpha+1}} & x \\ge x_\\mathrm{m}, \\\\ 0 & x < x_\\mathrm{m}. \\end{cases} $$\r\n",
        "\r\n",
        "- $x$ is the random variable\r\n",
        "- $k$ is the lower bound of the data\r\n",
        "- $α$ is the shape parameter\r\n",
        "- $x_m$ is the minimum possible value of $x$\r\n",
        "----\r\n",
        "Cumulative Distribution Function\r\n",
        "\r\n",
        "$$F_X(x) = \\begin{cases}\r\n",
        "1-\\left(\\frac{x_\\mathrm{m}}{x}\\right)^\\alpha & x \\ge x_\\mathrm{m}, \\\\\r\n",
        "0 & x < x_\\mathrm{m}.\r\n",
        "\\end{cases}$$\r\n",
        "\r\n",
        "- $x$ is the random variable\r\n",
        "- $k$ is the lower bound of the data\r\n",
        "- $α$ is the shape parameter\r\n",
        "- $x_m$ is the minimum possible value of $x$"
      ]
    },
    {
      "cell_type": "code",
      "metadata": {
        "id": "uXvc2Ck54I-x"
      },
      "source": [
        "def pareto_df(data,x,a):\r\n",
        "        # x ∈ data\r\n",
        "        if(x>=min(data)):\r\n",
        "            return (a*np.power(min(data), a))/(np.power(x,a+1))\r\n",
        "        else:\r\n",
        "            return 0"
      ],
      "execution_count": null,
      "outputs": []
    },
    {
      "cell_type": "code",
      "metadata": {
        "id": "WKulwIMO5FW4"
      },
      "source": [
        "def pareto_cdf(data,x,a):\r\n",
        "    # x ∈ data\r\n",
        "    if(x>=min(data)):\r\n",
        "        return (1-np.power(min(data)/x, a))\r\n",
        "    else:\r\n",
        "        return 0"
      ],
      "execution_count": null,
      "outputs": []
    },
    {
      "cell_type": "markdown",
      "metadata": {
        "id": "Vl-3OOMg5JtM"
      },
      "source": [
        "## Log-Normal Distribution\r\n",
        "\r\n",
        "Definitions\r\n",
        "\r\n",
        "Probability Density Function\r\n",
        "\r\n",
        "Parameters\r\n",
        "\r\n",
        "----\r\n",
        "Cumulative Distribution Function\r\n",
        "\r\n",
        "Parameters"
      ]
    },
    {
      "cell_type": "code",
      "metadata": {
        "id": "LTcE3kq45v0R"
      },
      "source": [
        ""
      ],
      "execution_count": null,
      "outputs": []
    },
    {
      "cell_type": "code",
      "metadata": {
        "id": "ui9DNfQG5w-Y"
      },
      "source": [
        ""
      ],
      "execution_count": null,
      "outputs": []
    },
    {
      "cell_type": "markdown",
      "metadata": {
        "id": "G_sytty15xok"
      },
      "source": [
        "## Non-central $\\chi^2$ distribution\r\n",
        "the noncentral chi-square distribution (or noncentral chi-squared distribution, noncentral $\\chi ^{2}$ distribution) is a noncentral generalization of the chi-square distribution. \r\n",
        "\r\n",
        "Definitions\r\n",
        "\r\n",
        "Probability Density Function\r\n",
        "\r\n",
        "$$f_{X}(x;k,\\lambda )=\\sum _{i=0}^{\\infty }{\\frac {e^{-\\lambda /2}(\\lambda /2)^{i}}{i!}}f_{Y_{k+2i}}(x)$$\r\n",
        "\r\n",
        "Parameters:\r\n",
        "- $Y_q$ is distributed as chi-square with $q$ degrees of freedom\r\n",
        "- $\\lambda$ [noncentrality parameter](https://en.wikipedia.org/wiki/Noncentrality_parameter):\r\n",
        "$$\\lambda =\\sum _{i=1}^{k}\\mu _{i}^{2}$$\r\n",
        "- $k$ degrees of freedom\r\n",
        "- $x$ random variable\r\n",
        "\r\n",
        "----\r\n",
        "Cumulative Distribution Function\r\n",
        "$$1-Q_{\\frac {k}{2}}\\left({\\sqrt {\\lambda }},{\\sqrt {x}}\\right) $$\r\n",
        "with [Marcum Q-function](https://en.wikipedia.org/wiki/Marcum_Q-function) $Q_{M}(a,b)$\r\n",
        "\r\n",
        "$${\\displaystyle {\\begin{aligned}Q_{M}(a,b)&=1-e^{-a^{2}/2}\\sum _{k=0}^{\\infty }\\left({\\frac {a^{2}}{2}}\\right)^{k}{\\frac {\\gamma (M+k,{\\frac {b^{2}}{2}})}{k!\\Gamma (M+k)}}\\\\[6pt]&=1-e^{-a^{2}/2}\\sum _{k=0}^{\\infty }\\left({\\frac {a^{2}}{2}}\\right)^{k}{\\frac {P(M+k,{\\frac {b^{2}}{2}})}{k!}}\\end{aligned}}}$$\r\n",
        "\r\n",
        "Parameters:\r\n",
        "- $\\lambda$ [noncentrality parameter](https://en.wikipedia.org/wiki/Noncentrality_parameter):\r\n",
        "- $k$ degrees of freedom\r\n",
        "- $x$ random variable"
      ]
    },
    {
      "cell_type": "code",
      "metadata": {
        "id": "BjSD3rmk_bZA"
      },
      "source": [
        ""
      ],
      "execution_count": null,
      "outputs": []
    },
    {
      "cell_type": "code",
      "metadata": {
        "id": "bRtDvNIS_cQN"
      },
      "source": [
        ""
      ],
      "execution_count": null,
      "outputs": []
    },
    {
      "cell_type": "markdown",
      "metadata": {
        "id": "lNsFzL1fwZM6"
      },
      "source": [
        "# Double Exponential (Gumbell) Distribution\r\n",
        "\r\n",
        "---\r\n",
        "Parameters:\r\n",
        "- $\\mu$ location\r\n",
        "- $\\beta >0$ scale\r\n",
        "- $x\\in \\mathbb{R}$ random variable\r\n",
        "\r\n",
        "PDF:\r\n",
        "$$f(x; \\mu, \\beta)={\\displaystyle {\\frac {1}{\\beta }}e^{-(z+e^{-z})}}$$\r\n",
        "where $z = \\frac{x-\\mu}{\\beta}$\r\n",
        "\r\n",
        "CDF:\r\n",
        "$$F(x;\\mu ,\\beta )=e^{{-e^{{-(x-\\mu )/\\beta }}}}$$\r\n",
        "Mean: $\\mu+\\beta \\gamma$ where $\\gamma$ is the Euler-Mascheroni constant\r\n",
        "\r\n",
        "Median:${\\displaystyle \\mu -\\beta \\ln(\\ln 2)}$\r\n",
        "\r\n",
        "Mode:$\\mu$\r\n",
        "\r\n",
        "Variance:${\\displaystyle {\\frac {\\pi ^{2}}{6}}\\beta ^{2}}$\r\n",
        "\r\n",
        "Skewness:${\\displaystyle {\\frac {12{\\sqrt {6}}\\,\\zeta (3)}{\\pi ^{3}}}\\approx 1.14}$\r\n",
        "\r\n",
        "Kurtosis:${\\frac  {12}{5}}$\r\n"
      ]
    },
    {
      "cell_type": "code",
      "metadata": {
        "colab": {
          "base_uri": "https://localhost:8080/"
        },
        "id": "EG29sabh2uLA",
        "outputId": "870baad4-1a78-43b1-f7eb-f378f4276072"
      },
      "source": [
        "mu = float(input())\r\n",
        "beta = float(input())"
      ],
      "execution_count": null,
      "outputs": [
        {
          "output_type": "stream",
          "text": [
            "0.5\n",
            "2\n"
          ],
          "name": "stdout"
        }
      ]
    },
    {
      "cell_type": "code",
      "metadata": {
        "id": "mmCUnFGq1u-V"
      },
      "source": [
        "def gumbell_pdf(mu, beta, x):\r\n",
        "    z = (x-mu)/beta\r\n",
        "    return (1/beta)*np.exp(-z-np.exp(-z))"
      ],
      "execution_count": null,
      "outputs": []
    },
    {
      "cell_type": "code",
      "metadata": {
        "colab": {
          "base_uri": "https://localhost:8080/",
          "height": 281
        },
        "id": "7i2-AQHe5KRl",
        "outputId": "554d02bb-eb74-4f78-f2f0-df24947126c8"
      },
      "source": [
        "# plot pdf\r\n",
        "x = np.linspace(-5, 20, 10000)\r\n",
        "y_g_pdf=np.array([gumbell_pdf(mu, beta, i) for i in x])\r\n",
        "\r\n",
        "plt.plot(x, y_g_pdf)"
      ],
      "execution_count": null,
      "outputs": [
        {
          "output_type": "execute_result",
          "data": {
            "text/plain": [
              "[<matplotlib.lines.Line2D at 0x7f84aa4e3c88>]"
            ]
          },
          "metadata": {
            "tags": []
          },
          "execution_count": 26
        },
        {
          "output_type": "display_data",
          "data": {
            "image/png": "[encoded data removed]",
            "text/plain": [
              "<Figure size 432x288 with 1 Axes>"
            ]
          },
          "metadata": {
            "tags": [],
            "needs_background": "light"
          }
        }
      ]
    },
    {
      "cell_type": "code",
      "metadata": {
        "id": "pQ8J09or2F0N"
      },
      "source": [
        "def gumbell_cdf(x, mu, beta):\r\n",
        "    return np.exp(-np.exp(-(x-mu)/beta))"
      ],
      "execution_count": null,
      "outputs": []
    },
    {
      "cell_type": "markdown",
      "metadata": {
        "id": "meQako7SHJkR"
      },
      "source": [
        "#####issue: apparently there exist a discrepancy between p_value (i.e. integral of the pdf) and cdf. "
      ]
    },
    {
      "cell_type": "code",
      "metadata": {
        "colab": {
          "base_uri": "https://localhost:8080/",
          "height": 281
        },
        "id": "0SXYV-Bj6KcT",
        "outputId": "37c61ea6-1675-4578-f800-0ce5bab42b67"
      },
      "source": [
        "# plot cdf\r\n",
        "x = np.linspace(-5, 20, 100000)\r\n",
        "y_g_cdf=np.array([gumbell_cdf(i, mu, beta) for i in x])\r\n",
        "\r\n",
        "plt.plot(x, y_g_cdf)"
      ],
      "execution_count": null,
      "outputs": [
        {
          "output_type": "execute_result",
          "data": {
            "text/plain": [
              "[<matplotlib.lines.Line2D at 0x7f84aa44acc0>]"
            ]
          },
          "metadata": {
            "tags": []
          },
          "execution_count": 31
        },
        {
          "output_type": "display_data",
          "data": {
            "image/png": "[encoded data removed]",
            "text/plain": [
              "<Figure size 432x288 with 1 Axes>"
            ]
          },
          "metadata": {
            "tags": [],
            "needs_background": "light"
          }
        }
      ]
    },
    {
      "cell_type": "code",
      "metadata": {
        "colab": {
          "base_uri": "https://localhost:8080/",
          "height": 36
        },
        "id": "DfAVWoiX9fqy",
        "outputId": "f67fa409-eb90-4e3a-ae57-5e03c1e739a9"
      },
      "source": [
        "gumbell_cdf(1,mu, beta)"
      ],
      "execution_count": null,
      "outputs": [
        {
          "output_type": "execute_result",
          "data": {
            "image/png": "[encoded data removed]",
            "text/latex": "$$0.4589560693076638$$",
            "text/plain": [
              "0.4589560693076638"
            ]
          },
          "metadata": {
            "tags": []
          },
          "execution_count": 41
        }
      ]
    },
    {
      "cell_type": "code",
      "metadata": {
        "id": "pLowTlbc2SfY"
      },
      "source": [
        "# check this first\r\n",
        "def gumbell_p(x_lower=-np.inf, x_upper=0):\r\n",
        "    return integrate.quad(gumbell_pdf, x_lower, x_upper, args=(mu, beta))[0]"
      ],
      "execution_count": null,
      "outputs": []
    },
    {
      "cell_type": "code",
      "metadata": {
        "colab": {
          "base_uri": "https://localhost:8080/",
          "height": 36
        },
        "id": "yICCKIFq8LrY",
        "outputId": "c2c0f52c-80fd-4530-b72a-af2c91a43974"
      },
      "source": [
        "gumbell_p(x_upper=1)"
      ],
      "execution_count": null,
      "outputs": [
        {
          "output_type": "execute_result",
          "data": {
            "image/png": "[encoded data removed]",
            "text/latex": "$$0.12657698150688332$$",
            "text/plain": [
              "0.12657698150688332"
            ]
          },
          "metadata": {
            "tags": []
          },
          "execution_count": 40
        }
      ]
    },
    {
      "cell_type": "code",
      "metadata": {
        "colab": {
          "base_uri": "https://localhost:8080/",
          "height": 281
        },
        "id": "ZD_EUziO78Yn",
        "outputId": "92d29651-ba5a-4f1c-9418-b1764fa4ccf9"
      },
      "source": [
        "# plot p_value\r\n",
        "x_p = np.linspace(-5, 20, 100000)\r\n",
        "y_g_p=np.array([gumbell_p(x_upper=i) for i in x_p])\r\n",
        "\r\n",
        "plt.plot(x_p, y_g_p)"
      ],
      "execution_count": null,
      "outputs": [
        {
          "output_type": "execute_result",
          "data": {
            "text/plain": [
              "[<matplotlib.lines.Line2D at 0x7f84aa0a29e8>]"
            ]
          },
          "metadata": {
            "tags": []
          },
          "execution_count": 38
        },
        {
          "output_type": "display_data",
          "data": {
            "image/png": "[encoded data removed]",
            "text/plain": [
              "<Figure size 432x288 with 1 Axes>"
            ]
          },
          "metadata": {
            "tags": [],
            "needs_background": "light"
          }
        }
      ]
    },
    {
      "cell_type": "code",
      "metadata": {
        "id": "AyJcMovBwpfE"
      },
      "source": [
        "class Gumbell:\r\n",
        "    def __init__(self, location, scale, randvar):\r\n",
        "        self.location = location\r\n",
        "        self.scale = scale\r\n",
        "        self.randvar = randvar\r\n",
        "    def pdf(self):\r\n",
        "        pass\r\n",
        "    def cdf(self):\r\n",
        "        pass \r\n",
        "    def mean(self):\r\n",
        "        return self.location+(self.scale*np.euler_gamma)\r\n",
        "    def median(self):\r\n",
        "        return self.location - (self.scale*np.log(np.log(2)))\r\n",
        "    def mode(self):\r\n",
        "        return self.location\r\n",
        "    def var(self):\r\n",
        "        return (np.pi**2/6)*self.scale**2\r\n",
        "    def skewness(self):\r\n",
        "        return 1.14\r\n",
        "    def kurtosis(self):\r\n",
        "        return 12/5\r\n",
        "    def print_summary(self):\r\n",
        "        mean = self.mean()\r\n",
        "        median = self.median()\r\n",
        "        mode = self.mode()\r\n",
        "        var = self.var()\r\n",
        "        skewness = self.skewness()\r\n",
        "        kurtosis = self.kurtosis()\r\n",
        "        cstr = \"summary statistic\"\r\n",
        "        print(cstr.center(40, \"=\"))\r\n",
        "        return print(\"mean: \", mean, \"\\nmedian: \", median, \"\\nmode: \", mode, \"\\nvar: \", var, \"\\nskewness: \", skewness, \"\\nkurtosis: \", kurtosis)"
      ],
      "execution_count": null,
      "outputs": []
    },
    {
      "cell_type": "code",
      "metadata": {
        "colab": {
          "base_uri": "https://localhost:8080/"
        },
        "id": "bY8ev0cg_CNF",
        "outputId": "80285ee0-b161-4378-8de7-32d0e951ceac"
      },
      "source": [
        "gumbell_obj = Gumbell(mu, beta, 3)\r\n",
        "gumbell_obj.print_summary()"
      ],
      "execution_count": null,
      "outputs": [
        {
          "output_type": "stream",
          "text": [
            "===========summary statistic============\n",
            "mean:  1.6544313298030657 \n",
            "median:  1.2330258411633288 \n",
            "mode:  0.5 \n",
            "var:  6.579736267392906 \n",
            "skewness:  1.14 \n",
            "kurtosis:  2.4\n"
          ],
          "name": "stdout"
        }
      ]
    },
    {
      "cell_type": "markdown",
      "metadata": {
        "id": "j6WonzKHwruD"
      },
      "source": [
        "# Tukey-Lambda Distribution\r\n",
        "\r\n",
        "---\r\n",
        "Parameters:\r\n",
        "\r\n",
        "PDF:\r\n",
        "\r\n",
        "CDF:\r\n",
        "\r\n",
        "Mean:\r\n",
        "\r\n",
        "Median:\r\n",
        "\r\n",
        "Mode:\r\n",
        "\r\n",
        "Variance:\r\n",
        "\r\n",
        "Skewness:\r\n",
        "\r\n",
        "Kurtosis:\r\n"
      ]
    },
    {
      "cell_type": "code",
      "metadata": {
        "id": "xahRGxsJwxML"
      },
      "source": [
        ""
      ],
      "execution_count": null,
      "outputs": []
    },
    {
      "cell_type": "markdown",
      "metadata": {
        "id": "uYlOk1ebwxr5"
      },
      "source": [
        "# Power Normal Distribution (Generalized Normal distirbution v1)\r\n",
        "The generalized normal distribution or generalized Gaussian distribution (GGD) is either of two families of parametric continuous probability distributions on the real line. Both families add a shape parameter to the normal distribution. To distinguish the two families, they are referred to below as \"version 1\" and \"version 2\". \r\n",
        "\r\n",
        "Reference: https://en.wikipedia.org/wiki/Generalized_normal_distribution\r\n",
        "\r\n",
        "---\r\n",
        "Parameters:\r\n",
        "- $\\mu$ location\r\n",
        "- $\\alpha$ scale\r\n",
        "- $\\beta$ shape\r\n",
        "- $x \\in \\mathbb{R}$ random variable\r\n",
        "\r\n",
        "PDF:\r\n",
        "$$f(x; \\mu, \\alpha, \\beta) = \\frac{\\beta}{2\\alpha\\Gamma(1/\\beta)} \\; e^{-(|x-\\mu|/\\alpha)^\\beta}$$\r\n",
        "CDF:\r\n",
        "$$f(x; \\mu, \\alpha, \\beta) = {\\displaystyle {\\frac {1}{2}}+{\\frac {{\\text{sign}}(x-\\mu )}{2}}{\\frac {1}{\\Gamma \\left({\\frac {1}{\\beta }}\\right)}}\\gamma \\left({\\frac {1}{\\beta }},x\\alpha ^{\\beta }\\right)}$$\r\n",
        "Mean:$\\mu$\r\n",
        "\r\n",
        "Median:$\\mu$\r\n",
        "\r\n",
        "Mode:$\\mu$\r\n",
        "\r\n",
        "Variance:$\\frac{\\alpha^2\\Gamma(3/\\beta)}{\\Gamma(1/\\beta)}$\r\n",
        "\r\n",
        "Skewness:$0$\r\n",
        "\r\n",
        "Kurtosis:$\\frac{\\Gamma(5/\\beta)\\Gamma(1/\\beta)}{\\Gamma(3/\\beta)^2}-3$\r\n"
      ]
    },
    {
      "cell_type": "code",
      "metadata": {
        "id": "9kRNwfFcw4in"
      },
      "source": [
        "def power_normalv1_pdf(mu, alpha, beta, x):\r\n",
        "    return (beta/(2*alpha*ss.gamma(1/beta)))*np.exp((-abs(x-mu)/alpha)**beta)"
      ],
      "execution_count": null,
      "outputs": []
    },
    {
      "cell_type": "code",
      "metadata": {
        "id": "bvfB9MnKJPKl"
      },
      "source": [
        ""
      ],
      "execution_count": null,
      "outputs": []
    },
    {
      "cell_type": "code",
      "metadata": {
        "id": "Csxf_fCEJP5u"
      },
      "source": [
        "def power_normalv1_cdf(mu, alpha, beta, x):\r\n",
        "    return 1/2+((np.sign(x-mu)/2)*(1/ss.gamma(1/beta))*ss.gammainc(1/beta, x*alpha**beta))"
      ],
      "execution_count": null,
      "outputs": []
    },
    {
      "cell_type": "code",
      "metadata": {
        "id": "UfWgZC5mJmWS"
      },
      "source": [
        ""
      ],
      "execution_count": null,
      "outputs": []
    },
    {
      "cell_type": "code",
      "metadata": {
        "id": "R74knyMaJmt4"
      },
      "source": [
        "class Power_normalv1:\r\n",
        "    def __init__(self, location, scale, shape, randvar):\r\n",
        "        self.location = location\r\n",
        "        self.scale = scale\r\n",
        "        self.shape = shape\r\n",
        "        self.randvar = randvar\r\n",
        "    def pdf(self):\r\n",
        "        pass\r\n",
        "    def cdf(self):\r\n",
        "        pass \r\n",
        "    def mean(self):\r\n",
        "        return self.location\r\n",
        "    def median(self):\r\n",
        "        return self.location\r\n",
        "    def mode(self):\r\n",
        "        return self.location\r\n",
        "    def var(self):\r\n",
        "        alpha = self.scale\r\n",
        "        beta = self.shape\r\n",
        "        return (alpha**2*ss.gamma(3/beta))/ss.gamma(1/beta)\r\n",
        "    def skewness(self):\r\n",
        "        return 0\r\n",
        "    def kurtosis(self):\r\n",
        "        beta = self.shape\r\n",
        "        return (ss.gamma(5/beta)*ss.gamma(1/beta))/(ss.gamma(3/beta)**3)-3\r\n",
        "    def print_summary(self):\r\n",
        "        mean = self.mean()\r\n",
        "        median = self.median()\r\n",
        "        mode = self.mode()\r\n",
        "        var = self.var()\r\n",
        "        skewness = self.skewness()\r\n",
        "        kurtosis = self.kurtosis()\r\n",
        "        cstr = \"summary statistic\"\r\n",
        "        print(cstr.center(40, \"=\"))\r\n",
        "        return print(\"mean: \", mean, \"\\nmedian: \", median, \"\\nmode: \", mode, \"\\nvar: \", var, \"\\nskewness: \", skewness, \"\\nkurtosis: \", kurtosis)"
      ],
      "execution_count": null,
      "outputs": []
    },
    {
      "cell_type": "markdown",
      "metadata": {
        "id": "sJnwI-UMLObE"
      },
      "source": [
        "# Power Normal Distribution (Generalized Normal distirbution v2)\r\n",
        "The generalized normal distribution or generalized Gaussian distribution (GGD) is either of two families of parametric continuous probability distributions on the real line. Both families add a shape parameter to the normal distribution. To distinguish the two families, they are referred to below as \"version 1\" and \"version 2\". \r\n",
        "\r\n",
        "Reference: https://en.wikipedia.org/wiki/Generalized_normal_distribution\r\n",
        "\r\n",
        "---\r\n",
        "Parameters:\r\n",
        "- $\t\\xi $ location\r\n",
        "- $\\alpha$ scale\r\n",
        "- $\\kappa$ shape\r\n",
        "$$\t{\\displaystyle x\\in (-\\infty ,\\xi +\\alpha /\\kappa ){\\text{ if }}\\kappa >0}x \\in (-\\infty,\\xi+\\alpha/\\kappa) \\text{ if } \\kappa>0\r\n",
        "{\\displaystyle x\\in (-\\infty ,\\infty ){\\text{ if }}\\kappa =0}x \\in (-\\infty,\\infty) \\text{ if } \\kappa=0$$ random variable\r\n",
        "\r\n",
        "PDF:\r\n",
        "$$\t{\\displaystyle {\\frac {\\phi (y)}{\\alpha -\\kappa (x-\\xi )}}}$$\r\n",
        "where:\r\n",
        "$$y = \\begin{cases} - \\frac{1}{\\kappa} \\log \\left[ 1- \\frac{\\kappa(x-\\xi)}{\\alpha} \\right] & \\text{if } \\kappa \\neq 0 \\\\ \\frac{x-\\xi}{\\alpha} & \\text{if } \\kappa=0 \\end{cases} $$\r\n",
        "such that $\\phi$ is the standard normal pdf\r\n",
        "\r\n",
        "CDF:\r\n",
        "$$\\Phi(y)$$\r\n",
        "$$ y = \\begin{cases} - \\frac{1}{\\kappa} \\log \\left[ 1- \\frac{\\kappa(x-\\xi)}{\\alpha} \\right] & \\text{if } \\kappa \\neq 0 \\\\ \\frac{x-\\xi}{\\alpha} & \\text{if } \\kappa=0 \\end{cases} $$\r\n",
        "\r\n",
        "where $\\Phi$ is the standard normal cdf\r\n",
        "\r\n",
        "Median:$\\xi$\r\n",
        "\r\n",
        "Mode: None\r\n",
        "\r\n",
        "Variance:$\\frac{\\alpha^2}{\\kappa^2} e^{\\kappa^2} \\left( e^{\\kappa^2} - 1 \\right)$\r\n",
        "\r\n",
        "Skewness:$\\frac{3 e^{\\kappa^2} - e^{3 \\kappa^2} - 2}{(e^{\\kappa^2} - 1)^{3/2}} \\text{ sign}(\\kappa) $\r\n",
        "\r\n",
        "Kurtosis:$e^{4 \\kappa^2} + 2 e^{3 \\kappa^2} + 3 e^{2 \\kappa^2} - 6 $\r\n"
      ]
    },
    {
      "cell_type": "code",
      "metadata": {
        "id": "S6YAR70DE1YT"
      },
      "source": [
        "def power_normalv2_pdf(alpha, kappa, x, xi=0):\r\n",
        "    norm_pdf = lambda x: (1/(np.sqrt(2*np.pi)))*np.exp(-((x/2)**2))\r\n",
        "    def y(_xi, _alpha, _kappa, x):\r\n",
        "        if k!=0:\r\n",
        "            return -(1/_kappa)*(np.log10(1-(_kappa*(x-_xi)/_alpha)))\r\n",
        "        return (x-_xi)/alpha\r\n",
        "    return norm_pdf(y(xi, alpha,kappa, x))/((alpha-kappa)*(x-xi))"
      ],
      "execution_count": null,
      "outputs": []
    },
    {
      "cell_type": "code",
      "metadata": {
        "id": "FoVhm9IqMe0B"
      },
      "source": [
        "class Power_normalv2:\r\n",
        "    def __init__(self, location, scale, shape, randvar):\r\n",
        "        self.location = location\r\n",
        "        self.scale = scale\r\n",
        "        self.shape = shape\r\n",
        "        self.randvar = randvar\r\n",
        "    def pdf(self):\r\n",
        "        pass\r\n",
        "    def cdf(self):\r\n",
        "        pass\r\n",
        "    def mean(self):\r\n",
        "        pass\r\n",
        "    def median(self):\r\n",
        "        pass\r\n",
        "    def mode(self):\r\n",
        "        pass\r\n",
        "    def var(self):\r\n",
        "        pass\r\n",
        "    def skewness(self):\r\n",
        "        pass\r\n",
        "    def kurtosis(self):\r\n",
        "        pass"
      ],
      "execution_count": null,
      "outputs": []
    },
    {
      "cell_type": "markdown",
      "metadata": {
        "id": "4YaAYrofw6_7"
      },
      "source": [
        "#Beta Distribution\r\n",
        "\r\n",
        "---\r\n",
        "Parameters:\r\n",
        "\r\n",
        "PDF:\r\n",
        "\r\n",
        "CDF:\r\n",
        "\r\n",
        "Mean:\r\n",
        "\r\n",
        "Median:\r\n",
        "\r\n",
        "Mode:\r\n",
        "\r\n",
        "Variance:\r\n",
        "\r\n",
        "Skewness:\r\n",
        "\r\n",
        "Kurtosis:\r\n"
      ]
    },
    {
      "cell_type": "code",
      "metadata": {
        "id": "uzIY0tMaw9Ed"
      },
      "source": [
        ""
      ],
      "execution_count": null,
      "outputs": []
    },
    {
      "cell_type": "code",
      "metadata": {
        "id": "-VP6NGzDUFF0"
      },
      "source": [
        ""
      ],
      "execution_count": null,
      "outputs": []
    },
    {
      "cell_type": "markdown",
      "metadata": {
        "id": "iArfVOgkUFig"
      },
      "source": [
        "p-value vs cdf "
      ]
    },
    {
      "cell_type": "code",
      "metadata": {
        "id": "xABm42ZFUH4n"
      },
      "source": [
        "# normal distribution cdf\r\n",
        "def normal_cdf(mean, std, x):\r\n",
        "    return 1/2*(1+ss.erf((x-mean)/(std*np.sqrt(2))))"
      ],
      "execution_count": null,
      "outputs": []
    },
    {
      "cell_type": "code",
      "metadata": {
        "colab": {
          "base_uri": "https://localhost:8080/",
          "height": 36
        },
        "id": "ymATSX80Wyfy",
        "outputId": "9613cdd4-92ad-43fd-e4ef-4551f55e9a0b"
      },
      "source": [
        "normal_cdf(2,1, 0)"
      ],
      "execution_count": null,
      "outputs": [
        {
          "output_type": "execute_result",
          "data": {
            "image/png": "[encoded data removed]",
            "text/latex": "$$0.02275013194817921$$",
            "text/plain": [
              "0.02275013194817921"
            ]
          },
          "metadata": {
            "tags": []
          },
          "execution_count": 87
        }
      ]
    },
    {
      "cell_type": "code",
      "metadata": {
        "id": "SYVutB8gW7fi"
      },
      "source": [
        "def normal_pdf(x):\r\n",
        "    return 1 / np.sqrt(2 * np.pi) * np.exp(-x**2 / 2)"
      ],
      "execution_count": null,
      "outputs": []
    },
    {
      "cell_type": "code",
      "metadata": {
        "id": "IwyeU7umZp8b"
      },
      "source": [
        "def normal_p_val(x_lower=-np.inf, x_upper=0):\r\n",
        "    return integrate.quad(normal_pdf, x_lower, x_upper)[0]"
      ],
      "execution_count": null,
      "outputs": []
    },
    {
      "cell_type": "code",
      "metadata": {
        "colab": {
          "base_uri": "https://localhost:8080/",
          "height": 36
        },
        "id": "ksSPZnwuZ7AG",
        "outputId": "1246580e-b5fa-4194-a5dc-84855cffc201"
      },
      "source": [
        "normal_p_val(x_upper=1)"
      ],
      "execution_count": null,
      "outputs": [
        {
          "output_type": "execute_result",
          "data": {
            "image/png": "[encoded data removed]",
            "text/latex": "$$0.8413447460685435$$",
            "text/plain": [
              "0.8413447460685435"
            ]
          },
          "metadata": {
            "tags": []
          },
          "execution_count": 80
        }
      ]
    },
    {
      "cell_type": "code",
      "metadata": {
        "id": "PdHPHim6bvvJ"
      },
      "source": [
        "# specialized function for p_values\r\n",
        "def normal_p(mean, std, x_lower=-np.inf, x_upper=0):\r\n",
        "    cdf = lambda mu, sig, x: 1/2*(1+ss.erf((x-mu)/(sig*np.sqrt(2))))\r\n",
        "    lower_v = cdf(mean, std, x_lower)\r\n",
        "    upper_v = cdf(mean, std, x_upper)\r\n",
        "    return abs(lower_v - upper_v)"
      ],
      "execution_count": null,
      "outputs": []
    },
    {
      "cell_type": "code",
      "metadata": {
        "colab": {
          "base_uri": "https://localhost:8080/",
          "height": 36
        },
        "id": "nyVsE3TddNjA",
        "outputId": "261ec956-2571-486b-e4b5-6d8067d5e67f"
      },
      "source": [
        "normal_p(2,1)"
      ],
      "execution_count": null,
      "outputs": [
        {
          "output_type": "execute_result",
          "data": {
            "image/png": "[encoded data removed]",
            "text/latex": "$$0.02275013194817921$$",
            "text/plain": [
              "0.02275013194817921"
            ]
          },
          "metadata": {
            "tags": []
          },
          "execution_count": 86
        }
      ]
    },
    {
      "cell_type": "code",
      "metadata": {
        "id": "5mILRFD80o1Y"
      },
      "source": [
        "# chisq pdf\r\n",
        "def chisq_pdf(df,x):\r\n",
        "    if x>0:\r\n",
        "        return ((np.power(x, (df/2) - 1) * np.exp(-x**2 / 2))/ (np.power(2, (df / 2)) * ss.gamma(df / 2)))\r\n",
        "    return 0"
      ],
      "execution_count": null,
      "outputs": []
    },
    {
      "cell_type": "code",
      "metadata": {
        "colab": {
          "base_uri": "https://localhost:8080/",
          "height": 281
        },
        "id": "vprEEqUH5acw",
        "outputId": "e7e64d77-a4ba-4d4c-8e44-d84835666c1b"
      },
      "source": [
        "# plot pdf\r\n",
        "x = np.linspace(0, 14, 10000)\r\n",
        "y = np.array([chisq_pdf(3,i) for i in x])\r\n",
        "\r\n",
        "plt.plot(x,y)"
      ],
      "execution_count": null,
      "outputs": [
        {
          "output_type": "execute_result",
          "data": {
            "text/plain": [
              "[<matplotlib.lines.Line2D at 0x7f05c9f823c8>]"
            ]
          },
          "metadata": {
            "tags": []
          },
          "execution_count": 32
        },
        {
          "output_type": "display_data",
          "data": {
            "image/png": "[encoded data removed]",
            "text/plain": [
              "<Figure size 432x288 with 1 Axes>"
            ]
          },
          "metadata": {
            "tags": [],
            "needs_background": "light"
          }
        }
      ]
    },
    {
      "cell_type": "code",
      "metadata": {
        "id": "3idNzUMX02bw"
      },
      "source": [
        "# chisq cdf\r\n",
        "def chisq_cdf(df, x):\r\n",
        "    return (1 / ss.gamma(df / 2)) * ss.gammainc(df / 2, x / 2)"
      ],
      "execution_count": null,
      "outputs": []
    },
    {
      "cell_type": "code",
      "metadata": {
        "colab": {
          "base_uri": "https://localhost:8080/",
          "height": 36
        },
        "id": "66ocoheV1-lO",
        "outputId": "b54a096c-dc82-4996-c09c-d998edf9c399"
      },
      "source": [
        "chisq_cdf(3, 5)"
      ],
      "execution_count": null,
      "outputs": [
        {
          "output_type": "execute_result",
          "data": {
            "image/png": "[encoded data removed]",
            "text/latex": "$$0.9345268485045768$$",
            "text/plain": [
              "0.9345268485045768"
            ]
          },
          "metadata": {
            "tags": []
          },
          "execution_count": 26
        }
      ]
    },
    {
      "cell_type": "code",
      "metadata": {
        "id": "RWiy87y51BIS"
      },
      "source": [
        "# chisq integral of pdf \r\n",
        "def chisq_p(df, x_lower=None, x_upper=0):\r\n",
        "    if x_lower is None:\r\n",
        "        return scipy.integrate.quad(chisq_pdf, 0, x_upper, args=(df))[0]\r\n",
        "    return scipy.integrate.quad(chisq_pdf, x_lower, x_upper, args=(df))[0]"
      ],
      "execution_count": null,
      "outputs": []
    },
    {
      "cell_type": "code",
      "metadata": {
        "colab": {
          "base_uri": "https://localhost:8080/"
        },
        "id": "tBJw_DmO2KgI",
        "outputId": "cfec4901-3df4-45fb-e584-9d018ed8d8f7"
      },
      "source": [
        "chisq_p(3, x_upper=5)"
      ],
      "execution_count": null,
      "outputs": [
        {
          "output_type": "execute_result",
          "data": {
            "text/plain": [
              "0.028210992432497802"
            ]
          },
          "metadata": {
            "tags": []
          },
          "execution_count": 37
        }
      ]
    },
    {
      "cell_type": "markdown",
      "metadata": {
        "id": "0cOQ5hrwdvLK"
      },
      "source": [
        "approximating gamma function using quadratures"
      ]
    },
    {
      "cell_type": "code",
      "metadata": {
        "id": "wXZfN8pWdziM"
      },
      "source": [
        "def gamma_approx(z):\r\n",
        "    func = lambda x,z: np.power(x, z-1)*np.exp(-1)\r\n",
        "    return integrate.quad(func, 0, np.inf, args=(z))[0]"
      ],
      "execution_count": null,
      "outputs": []
    },
    {
      "cell_type": "code",
      "metadata": {
        "colab": {
          "base_uri": "https://localhost:8080/",
          "height": 70
        },
        "id": "s-xBl-r1fPYd",
        "outputId": "8cc61800-7a18-4ec2-d2b6-40baafd5bc73"
      },
      "source": [
        "gamma_approx(np.pi)"
      ],
      "execution_count": null,
      "outputs": [
        {
          "output_type": "stream",
          "text": [
            "/usr/local/lib/python3.6/dist-packages/ipykernel_launcher.py:3: IntegrationWarning: The integral is probably divergent, or slowly convergent.\n",
            "  This is separate from the ipykernel package so we can avoid doing imports until\n"
          ],
          "name": "stderr"
        },
        {
          "output_type": "execute_result",
          "data": {
            "image/png": "[encoded data removed]",
            "text/latex": "$$-0.3659431793154321$$",
            "text/plain": [
              "-0.3659431793154321"
            ]
          },
          "metadata": {
            "tags": []
          },
          "execution_count": 102
        }
      ]
    },
    {
      "cell_type": "code",
      "metadata": {
        "colab": {
          "base_uri": "https://localhost:8080/",
          "height": 36
        },
        "id": "-JgaMSXAfWX2",
        "outputId": "abd0afd0-d106-42e2-9fd1-b87ce94d3dd7"
      },
      "source": [
        "ss.gamma(np.pi)"
      ],
      "execution_count": null,
      "outputs": [
        {
          "output_type": "execute_result",
          "data": {
            "image/png": "[encoded data removed]",
            "text/latex": "$$2.288037795340032$$",
            "text/plain": [
              "2.288037795340032"
            ]
          },
          "metadata": {
            "tags": []
          },
          "execution_count": 98
        }
      ]
    },
    {
      "cell_type": "markdown",
      "metadata": {
        "id": "e-nkCK5GxMjm"
      },
      "source": [
        "#### generating random numbers from a given distribution"
      ]
    },
    {
      "cell_type": "code",
      "metadata": {
        "id": "R26s3uwvxP5O"
      },
      "source": [
        "# random selection over uniform distribution\r\n",
        "# wrap the randomizer over some probability distribution\r\n",
        "import random as rd\r\n",
        "import matplotlib.pyplot as plt\r\n",
        "import numpy as np\r\n",
        "import scipy.special as ss\r\n",
        "from scipy import integrate"
      ],
      "execution_count": null,
      "outputs": []
    },
    {
      "cell_type": "code",
      "metadata": {
        "colab": {
          "base_uri": "https://localhost:8080/",
          "height": 281
        },
        "id": "S3q5thYpxh5z",
        "outputId": "82d20f96-2db2-404a-b583-e2b763de68a4"
      },
      "source": [
        "x = np.linspace(-3,3,1000)\r\n",
        "y = np.array([rd.uniform(3,5) for i in x])\r\n",
        "plt.plot(x,y)"
      ],
      "execution_count": null,
      "outputs": [
        {
          "output_type": "execute_result",
          "data": {
            "text/plain": [
              "[<matplotlib.lines.Line2D at 0x7f84a9cecd30>]"
            ]
          },
          "metadata": {
            "tags": []
          },
          "execution_count": 110
        },
        {
          "output_type": "display_data",
          "data": {
            "image/png": "[encoded data removed]",
            "text/plain": [
              "<Figure size 432x288 with 1 Axes>"
            ]
          },
          "metadata": {
            "tags": [],
            "needs_background": "light"
          }
        }
      ]
    },
    {
      "cell_type": "code",
      "metadata": {
        "id": "76SbNuMqxyai"
      },
      "source": [
        "def rvs_normaldist(threshold = 1000, mean=0, std=1):\r\n",
        "    pdf = lambda mean, std, x: (1/(std*np.sqrt(2*np.pi)))*np.exp(-((x-mean)/std)**2)\r\n",
        "    cdf = lambda mean, std, x: (1/2)*(1+ss.erf((x-mean)/(std*np.sqrt(2))))\r\n",
        "    x = np.linspace(-6,6,threshold)\r\n",
        "    y = np.array([pdf(mean, std, i) for i in x])\r\n",
        "    p = np.array([cdf(std, mean, i) for i in x])\r\n",
        "    return np.random.choice(y, p=p)\r\n",
        "    # return plt.plot(x,y)"
      ],
      "execution_count": null,
      "outputs": []
    },
    {
      "cell_type": "code",
      "metadata": {
        "colab": {
          "base_uri": "https://localhost:8080/",
          "height": 402
        },
        "id": "boj5uYTC0Pi5",
        "outputId": "e5057bf5-df97-42b8-f1e6-2cbf3e5a45dd"
      },
      "source": [
        "t = 1000\r\n",
        "x1 = np.linspace(-5,5,t)\r\n",
        "y = np.array([rvs_normaldist(threshold=t) for i in x1])\r\n",
        "plt.plot(x1,y)"
      ],
      "execution_count": null,
      "outputs": [
        {
          "output_type": "stream",
          "text": [
            "/usr/local/lib/python3.6/dist-packages/ipykernel_launcher.py:3: RuntimeWarning: divide by zero encountered in double_scalars\n",
            "  This is separate from the ipykernel package so we can avoid doing imports until\n"
          ],
          "name": "stderr"
        },
        {
          "output_type": "error",
          "ename": "ValueError",
          "evalue": "ignored",
          "traceback": [
            "\u001b[0;31m---------------------------------------------------------------------------\u001b[0m",
            "\u001b[0;31mValueError\u001b[0m                                Traceback (most recent call last)",
            "\u001b[0;32m<ipython-input-30-872890516de8>\u001b[0m in \u001b[0;36m<module>\u001b[0;34m()\u001b[0m\n\u001b[1;32m      1\u001b[0m \u001b[0mt\u001b[0m \u001b[0;34m=\u001b[0m \u001b[0;36m1000\u001b[0m\u001b[0;34m\u001b[0m\u001b[0;34m\u001b[0m\u001b[0m\n\u001b[1;32m      2\u001b[0m \u001b[0mx1\u001b[0m \u001b[0;34m=\u001b[0m \u001b[0mnp\u001b[0m\u001b[0;34m.\u001b[0m\u001b[0mlinspace\u001b[0m\u001b[0;34m(\u001b[0m\u001b[0;34m-\u001b[0m\u001b[0;36m5\u001b[0m\u001b[0;34m,\u001b[0m\u001b[0;36m5\u001b[0m\u001b[0;34m,\u001b[0m\u001b[0mt\u001b[0m\u001b[0;34m)\u001b[0m\u001b[0;34m\u001b[0m\u001b[0;34m\u001b[0m\u001b[0m\n\u001b[0;32m----> 3\u001b[0;31m \u001b[0my\u001b[0m \u001b[0;34m=\u001b[0m \u001b[0mnp\u001b[0m\u001b[0;34m.\u001b[0m\u001b[0marray\u001b[0m\u001b[0;34m(\u001b[0m\u001b[0;34m[\u001b[0m\u001b[0mrvs_normaldist\u001b[0m\u001b[0;34m(\u001b[0m\u001b[0mthreshold\u001b[0m\u001b[0;34m=\u001b[0m\u001b[0mt\u001b[0m\u001b[0;34m)\u001b[0m \u001b[0;32mfor\u001b[0m \u001b[0mi\u001b[0m \u001b[0;32min\u001b[0m \u001b[0mx1\u001b[0m\u001b[0;34m]\u001b[0m\u001b[0;34m)\u001b[0m\u001b[0;34m\u001b[0m\u001b[0;34m\u001b[0m\u001b[0m\n\u001b[0m\u001b[1;32m      4\u001b[0m \u001b[0mplt\u001b[0m\u001b[0;34m.\u001b[0m\u001b[0mplot\u001b[0m\u001b[0;34m(\u001b[0m\u001b[0mx1\u001b[0m\u001b[0;34m,\u001b[0m\u001b[0my\u001b[0m\u001b[0;34m)\u001b[0m\u001b[0;34m\u001b[0m\u001b[0;34m\u001b[0m\u001b[0m\n",
            "\u001b[0;32m<ipython-input-30-872890516de8>\u001b[0m in \u001b[0;36m<listcomp>\u001b[0;34m(.0)\u001b[0m\n\u001b[1;32m      1\u001b[0m \u001b[0mt\u001b[0m \u001b[0;34m=\u001b[0m \u001b[0;36m1000\u001b[0m\u001b[0;34m\u001b[0m\u001b[0;34m\u001b[0m\u001b[0m\n\u001b[1;32m      2\u001b[0m \u001b[0mx1\u001b[0m \u001b[0;34m=\u001b[0m \u001b[0mnp\u001b[0m\u001b[0;34m.\u001b[0m\u001b[0mlinspace\u001b[0m\u001b[0;34m(\u001b[0m\u001b[0;34m-\u001b[0m\u001b[0;36m5\u001b[0m\u001b[0;34m,\u001b[0m\u001b[0;36m5\u001b[0m\u001b[0;34m,\u001b[0m\u001b[0mt\u001b[0m\u001b[0;34m)\u001b[0m\u001b[0;34m\u001b[0m\u001b[0;34m\u001b[0m\u001b[0m\n\u001b[0;32m----> 3\u001b[0;31m \u001b[0my\u001b[0m \u001b[0;34m=\u001b[0m \u001b[0mnp\u001b[0m\u001b[0;34m.\u001b[0m\u001b[0marray\u001b[0m\u001b[0;34m(\u001b[0m\u001b[0;34m[\u001b[0m\u001b[0mrvs_normaldist\u001b[0m\u001b[0;34m(\u001b[0m\u001b[0mthreshold\u001b[0m\u001b[0;34m=\u001b[0m\u001b[0mt\u001b[0m\u001b[0;34m)\u001b[0m \u001b[0;32mfor\u001b[0m \u001b[0mi\u001b[0m \u001b[0;32min\u001b[0m \u001b[0mx1\u001b[0m\u001b[0;34m]\u001b[0m\u001b[0;34m)\u001b[0m\u001b[0;34m\u001b[0m\u001b[0;34m\u001b[0m\u001b[0m\n\u001b[0m\u001b[1;32m      4\u001b[0m \u001b[0mplt\u001b[0m\u001b[0;34m.\u001b[0m\u001b[0mplot\u001b[0m\u001b[0;34m(\u001b[0m\u001b[0mx1\u001b[0m\u001b[0;34m,\u001b[0m\u001b[0my\u001b[0m\u001b[0;34m)\u001b[0m\u001b[0;34m\u001b[0m\u001b[0;34m\u001b[0m\u001b[0m\n",
            "\u001b[0;32m<ipython-input-29-0b142babc54c>\u001b[0m in \u001b[0;36mrvs_normaldist\u001b[0;34m(threshold, mean, std)\u001b[0m\n\u001b[1;32m      5\u001b[0m     \u001b[0my\u001b[0m \u001b[0;34m=\u001b[0m \u001b[0mnp\u001b[0m\u001b[0;34m.\u001b[0m\u001b[0marray\u001b[0m\u001b[0;34m(\u001b[0m\u001b[0;34m[\u001b[0m\u001b[0mpdf\u001b[0m\u001b[0;34m(\u001b[0m\u001b[0mmean\u001b[0m\u001b[0;34m,\u001b[0m \u001b[0mstd\u001b[0m\u001b[0;34m,\u001b[0m \u001b[0mi\u001b[0m\u001b[0;34m)\u001b[0m \u001b[0;32mfor\u001b[0m \u001b[0mi\u001b[0m \u001b[0;32min\u001b[0m \u001b[0mx\u001b[0m\u001b[0;34m]\u001b[0m\u001b[0;34m)\u001b[0m\u001b[0;34m\u001b[0m\u001b[0;34m\u001b[0m\u001b[0m\n\u001b[1;32m      6\u001b[0m     \u001b[0mp\u001b[0m \u001b[0;34m=\u001b[0m \u001b[0mnp\u001b[0m\u001b[0;34m.\u001b[0m\u001b[0marray\u001b[0m\u001b[0;34m(\u001b[0m\u001b[0;34m[\u001b[0m\u001b[0mcdf\u001b[0m\u001b[0;34m(\u001b[0m\u001b[0mstd\u001b[0m\u001b[0;34m,\u001b[0m \u001b[0mmean\u001b[0m\u001b[0;34m,\u001b[0m \u001b[0mi\u001b[0m\u001b[0;34m)\u001b[0m \u001b[0;32mfor\u001b[0m \u001b[0mi\u001b[0m \u001b[0;32min\u001b[0m \u001b[0mx\u001b[0m\u001b[0;34m]\u001b[0m\u001b[0;34m)\u001b[0m\u001b[0;34m\u001b[0m\u001b[0;34m\u001b[0m\u001b[0m\n\u001b[0;32m----> 7\u001b[0;31m     \u001b[0;32mreturn\u001b[0m \u001b[0mnp\u001b[0m\u001b[0;34m.\u001b[0m\u001b[0mrandom\u001b[0m\u001b[0;34m.\u001b[0m\u001b[0mchoice\u001b[0m\u001b[0;34m(\u001b[0m\u001b[0my\u001b[0m\u001b[0;34m,\u001b[0m \u001b[0mp\u001b[0m\u001b[0;34m=\u001b[0m\u001b[0mp\u001b[0m\u001b[0;34m)\u001b[0m\u001b[0;34m\u001b[0m\u001b[0;34m\u001b[0m\u001b[0m\n\u001b[0m\u001b[1;32m      8\u001b[0m     \u001b[0;31m# return plt.plot(x,y)\u001b[0m\u001b[0;34m\u001b[0m\u001b[0;34m\u001b[0m\u001b[0;34m\u001b[0m\u001b[0m\n",
            "\u001b[0;32mmtrand.pyx\u001b[0m in \u001b[0;36mnumpy.random.mtrand.RandomState.choice\u001b[0;34m()\u001b[0m\n",
            "\u001b[0;31mValueError\u001b[0m: probabilities do not sum to 1"
          ]
        }
      ]
    },
    {
      "cell_type": "code",
      "metadata": {
        "colab": {
          "base_uri": "https://localhost:8080/",
          "height": 281
        },
        "id": "EjbVe0XE234a",
        "outputId": "b4eb60c2-e2d1-4734-89d2-d665cebb2729"
      },
      "source": [
        "t = 1000\r\n",
        "x1 = np.linspace(-5,5,t)\r\n",
        "y = np.array([rd.gauss(0,1)for i in x1])\r\n",
        "plt.plot(x1,y)\r\n"
      ],
      "execution_count": null,
      "outputs": [
        {
          "output_type": "execute_result",
          "data": {
            "text/plain": [
              "[<matplotlib.lines.Line2D at 0x7fcae9469c88>]"
            ]
          },
          "metadata": {
            "tags": []
          },
          "execution_count": 12
        },
        {
          "output_type": "display_data",
          "data": {
            "image/png": "[encoded data removed]",
            "text/plain": [
              "<Figure size 432x288 with 1 Axes>"
            ]
          },
          "metadata": {
            "tags": [],
            "needs_background": "light"
          }
        }
      ]
    },
    {
      "cell_type": "code",
      "metadata": {
        "colab": {
          "base_uri": "https://localhost:8080/",
          "height": 281
        },
        "id": "_ZRi0kSE6zcw",
        "outputId": "92691072-ca90-4a3f-aaed-9ef58d6a96e3"
      },
      "source": [
        "cdf = lambda mean, std, x: (1/2)*(1+ss.erf((x-mean)/(std*np.sqrt(2))))\r\n",
        "x1 = np.linspace(-3,3,1000)\r\n",
        "yz = np.array([normal_cdf(0,1,i) for i in x1])\r\n",
        "plt.plot(x1,yz)"
      ],
      "execution_count": null,
      "outputs": [
        {
          "output_type": "execute_result",
          "data": {
            "text/plain": [
              "[<matplotlib.lines.Line2D at 0x7fe7eb4d5a20>]"
            ]
          },
          "metadata": {
            "tags": []
          },
          "execution_count": 4
        },
        {
          "output_type": "display_data",
          "data": {
            "image/png": "[encoded data removed]",
            "text/plain": [
              "<Figure size 432x288 with 1 Axes>"
            ]
          },
          "metadata": {
            "tags": [],
            "needs_background": "light"
          }
        }
      ]
    },
    {
      "cell_type": "code",
      "metadata": {
        "id": "jvfM-lVSKPDI"
      },
      "source": [
        "# function\r\n",
        "def normal_pdf(x):\r\n",
        "    return 1 / np.sqrt(2 * np.pi) * np.exp(-x**2 / 2)"
      ],
      "execution_count": null,
      "outputs": []
    },
    {
      "cell_type": "code",
      "metadata": {
        "id": "FHKeSJ4DKW35"
      },
      "source": [
        "# class \r\n",
        "class Normal:\r\n",
        "    def pdf(self,x):\r\n",
        "        return 1 / np.sqrt(2 * np.pi) * np.exp(-x**2 / 2)"
      ],
      "execution_count": null,
      "outputs": []
    },
    {
      "cell_type": "code",
      "metadata": {
        "colab": {
          "base_uri": "https://localhost:8080/",
          "height": 297
        },
        "id": "FMTDreVkKI1-",
        "outputId": "b20b5317-edc9-4e4a-a5a6-954abe2fbda9"
      },
      "source": [
        "%%timeit\r\n",
        "x = np.linspace(-3,3,1000)\r\n",
        "y = np.array([normal_pdf(i) for i in x])\r\n",
        "plt.plot(x,y)"
      ],
      "execution_count": null,
      "outputs": [
        {
          "output_type": "stream",
          "text": [
            "The slowest run took 4.09 times longer than the fastest. This could mean that an intermediate result is being cached.\n",
            "100 loops, best of 3: 4.63 ms per loop\n"
          ],
          "name": "stdout"
        },
        {
          "output_type": "display_data",
          "data": {
            "image/png": "[encoded data removed]",
            "text/plain": [
              "<Figure size 432x288 with 1 Axes>"
            ]
          },
          "metadata": {
            "tags": [],
            "needs_background": "light"
          }
        }
      ]
    },
    {
      "cell_type": "code",
      "metadata": {
        "colab": {
          "base_uri": "https://localhost:8080/",
          "height": 297
        },
        "id": "wDecZ_o1MUv1",
        "outputId": "04426ae5-ff71-4797-acb4-67d2f8f3353d"
      },
      "source": [
        "%%timeit\r\n",
        "x = np.linspace(-3,3,1000)\r\n",
        "obj = Normal()\r\n",
        "y2 = np.array([obj.pdf(i) for i in x])\r\n",
        "plt.plot(x,y2)"
      ],
      "execution_count": null,
      "outputs": [
        {
          "output_type": "stream",
          "text": [
            "The slowest run took 5.08 times longer than the fastest. This could mean that an intermediate result is being cached.\n",
            "100 loops, best of 3: 4.7 ms per loop\n"
          ],
          "name": "stdout"
        },
        {
          "output_type": "display_data",
          "data": {
            "image/png": "[encoded data removed]",
            "text/plain": [
              "<Figure size 432x288 with 1 Axes>"
            ]
          },
          "metadata": {
            "tags": [],
            "needs_background": "light"
          }
        }
      ]
    },
    {
      "cell_type": "code",
      "metadata": {
        "colab": {
          "base_uri": "https://localhost:8080/"
        },
        "id": "5EiwUcsuv8U7",
        "outputId": "09f8c44d-a95c-476d-983e-6df121e18905"
      },
      "source": [
        "generator = lambda mu, sig, x: 1/2*(1+ss.erf((x-mu)/(sig*np.sqrt(2))))\r\n",
        "generator(0,1,-np.inf)"
      ],
      "execution_count": null,
      "outputs": [
        {
          "output_type": "execute_result",
          "data": {
            "text/plain": [
              "0.0"
            ]
          },
          "metadata": {
            "tags": []
          },
          "execution_count": 3
        }
      ]
    },
    {
      "cell_type": "markdown",
      "metadata": {
        "id": "M-Li29RXJdPh"
      },
      "source": [
        "# Inverse Random Variate Generation by Inverse Transform Sampling \r\n",
        "\r\n",
        "Supported Distributions\r\n",
        "- Exponential\r\n",
        "- Cauchy\r\n",
        "- Rayleigh\r\n",
        "- Triangular\r\n",
        "- Pareto\r\n",
        "- Logistic\r\n",
        "- Weibull\r\n",
        "----\r\n",
        "Discrete\r\n",
        "- Geometric"
      ]
    },
    {
      "cell_type": "code",
      "metadata": {
        "id": "waJTLkXuJb8G"
      },
      "source": [
        "def inv_exponential(_lambda):\r\n",
        "    return (-1/_lambda)*np.log(1-np.random.uniform(0,1))"
      ],
      "execution_count": 28,
      "outputs": []
    },
    {
      "cell_type": "code",
      "metadata": {
        "colab": {
          "base_uri": "https://localhost:8080/",
          "height": 346
        },
        "id": "k99_wM7MTGsa",
        "outputId": "5372131e-796d-4a75-ef52-ef137a4e4eb7"
      },
      "source": [
        "x_exp = np.linspace(0, 1, 1000)\r\n",
        "y_exp = np.array([inv_exponential(2) for i in x_exp])\r\n",
        "\r\n",
        "plt.hist(y_exp)"
      ],
      "execution_count": 29,
      "outputs": [
        {
          "output_type": "execute_result",
          "data": {
            "text/plain": [
              "(array([505., 244., 116.,  67.,  34.,  17.,   8.,   6.,   2.,   1.]),\n",
              " array([1.56336914e-04, 3.33087556e-01, 6.66018775e-01, 9.98949994e-01,\n",
              "        1.33188121e+00, 1.66481243e+00, 1.99774365e+00, 2.33067487e+00,\n",
              "        2.66360609e+00, 2.99653731e+00, 3.32946853e+00]),\n",
              " <a list of 10 Patch objects>)"
            ]
          },
          "metadata": {
            "tags": []
          },
          "execution_count": 29
        },
        {
          "output_type": "display_data",
          "data": {
            "image/png": "[encoded data removed]",
            "text/plain": [
              "<Figure size 432x288 with 1 Axes>"
            ]
          },
          "metadata": {
            "tags": [],
            "needs_background": "light"
          }
        }
      ]
    },
    {
      "cell_type": "code",
      "metadata": {
        "id": "dxKUB5ZKKDUs"
      },
      "source": [
        "def inv_cauchy(sig):\r\n",
        "    return sig*np.tan(np.pi*(np.random.uniform(0,1)-0.5))"
      ],
      "execution_count": 30,
      "outputs": []
    },
    {
      "cell_type": "code",
      "metadata": {
        "colab": {
          "base_uri": "https://localhost:8080/",
          "height": 347
        },
        "id": "6DXhDiJJThVF",
        "outputId": "c9b13272-fd66-4e25-9898-3d0647fe8439"
      },
      "source": [
        "x_cauchy = np.linspace(0, 1, 1000)\r\n",
        "y_cauchy = np.array([inv_cauchy(20) for i in x_exp])\r\n",
        "\r\n",
        "plt.hist(y_cauchy)"
      ],
      "execution_count": 32,
      "outputs": [
        {
          "output_type": "execute_result",
          "data": {
            "text/plain": [
              "(array([  1.,   0.,   0.,   0.,   0.,   0.,   0.,   2., 968.,  29.]),\n",
              " array([-23890.81819003, -21186.9643668 , -18483.11054356, -15779.25672032,\n",
              "        -13075.40289708, -10371.54907384,  -7667.69525061,  -4963.84142737,\n",
              "         -2259.98760413,    443.86621911,   3147.72004234]),\n",
              " <a list of 10 Patch objects>)"
            ]
          },
          "metadata": {
            "tags": []
          },
          "execution_count": 32
        },
        {
          "output_type": "display_data",
          "data": {
            "image/png": "[encoded data removed]",
            "text/plain": [
              "<Figure size 432x288 with 1 Axes>"
            ]
          },
          "metadata": {
            "tags": [],
            "needs_background": "light"
          }
        }
      ]
    },
    {
      "cell_type": "code",
      "metadata": {
        "id": "GhG-nODHKQTF"
      },
      "source": [
        "def inv_rayleigh(sig):\r\n",
        "    return sig*np.sqrt(-np.log(np.random.uniform(0,1)))"
      ],
      "execution_count": 33,
      "outputs": []
    },
    {
      "cell_type": "code",
      "metadata": {
        "colab": {
          "base_uri": "https://localhost:8080/",
          "height": 346
        },
        "id": "MApDsw0WU1Zo",
        "outputId": "fc71777b-7fb0-4954-939d-d95c6d0ea0c8"
      },
      "source": [
        "x_rayleigh = np.linspace(0, 1, 1000)\r\n",
        "y_rayleigh = np.array([inv_rayleigh(2) for i in x_rayleigh])\r\n",
        "\r\n",
        "plt.hist(y_rayleigh)"
      ],
      "execution_count": 34,
      "outputs": [
        {
          "output_type": "execute_result",
          "data": {
            "text/plain": [
              "(array([ 74., 188., 210., 217., 130.,  91.,  49.,  26.,  10.,   5.]),\n",
              " array([0.03761097, 0.55140379, 1.06519662, 1.57898944, 2.09278227,\n",
              "        2.60657509, 3.12036792, 3.63416074, 4.14795357, 4.66174639,\n",
              "        5.17553922]),\n",
              " <a list of 10 Patch objects>)"
            ]
          },
          "metadata": {
            "tags": []
          },
          "execution_count": 34
        },
        {
          "output_type": "display_data",
          "data": {
            "image/png": "[encoded data removed]",
            "text/plain": [
              "<Figure size 432x288 with 1 Axes>"
            ]
          },
          "metadata": {
            "tags": [],
            "needs_background": "light"
          }
        }
      ]
    },
    {
      "cell_type": "code",
      "metadata": {
        "id": "KS0o2VxRKbsg"
      },
      "source": [
        "def inv_triangular(a):\r\n",
        "    return a*(1-np.sqrt(np.random.uniform(0,1)))"
      ],
      "execution_count": 35,
      "outputs": []
    },
    {
      "cell_type": "code",
      "metadata": {
        "colab": {
          "base_uri": "https://localhost:8080/",
          "height": 346
        },
        "id": "LEXN83mSVCtZ",
        "outputId": "ba395091-5281-40e6-bfe2-67d5baeb0c82"
      },
      "source": [
        "x_triangular = np.linspace(0, 1, 1000)\r\n",
        "y_triangular = np.array([inv_triangular(2) for i in x_triangular])\r\n",
        "\r\n",
        "plt.hist(y_triangular)"
      ],
      "execution_count": 36,
      "outputs": [
        {
          "output_type": "execute_result",
          "data": {
            "text/plain": [
              "(array([190., 155., 149., 129., 114.,  80.,  64.,  61.,  32.,  26.]),\n",
              " array([0.00262654, 0.19808012, 0.39353371, 0.58898729, 0.78444088,\n",
              "        0.97989446, 1.17534805, 1.37080163, 1.56625522, 1.7617088 ,\n",
              "        1.95716239]),\n",
              " <a list of 10 Patch objects>)"
            ]
          },
          "metadata": {
            "tags": []
          },
          "execution_count": 36
        },
        {
          "output_type": "display_data",
          "data": {
            "image/png": "[encoded data removed]",
            "text/plain": [
              "<Figure size 432x288 with 1 Axes>"
            ]
          },
          "metadata": {
            "tags": [],
            "needs_background": "light"
          }
        }
      ]
    },
    {
      "cell_type": "code",
      "metadata": {
        "id": "06TxbccdKk9t"
      },
      "source": [
        "def inv_pareto(a,b):\r\n",
        "    return b/(np.power(1-np.random.uniform(0,1), 1/a))"
      ],
      "execution_count": null,
      "outputs": []
    },
    {
      "cell_type": "code",
      "metadata": {
        "id": "Kccah1qjKyYg"
      },
      "source": [
        "def inv_logistic(mu, b):\r\n",
        "    return mu-b*(np.log(1-(np.random.uniform(0,1))))"
      ],
      "execution_count": null,
      "outputs": []
    },
    {
      "cell_type": "code",
      "metadata": {
        "id": "FG3GkPfDLELr"
      },
      "source": [
        "def inv_weilbull_dist(a,b):\r\n",
        "    return a*np.power(np.log(np.random.uniform(0,1)), 1/b)"
      ],
      "execution_count": null,
      "outputs": []
    },
    {
      "cell_type": "code",
      "metadata": {
        "id": "Wr22IsiELP-0"
      },
      "source": [
        "def inv_geom(p):\r\n",
        "    return np.ceil(np.log(np.random.uniform(0,1))/np.log(1-p))"
      ],
      "execution_count": null,
      "outputs": []
    },
    {
      "cell_type": "markdown",
      "metadata": {
        "id": "YCu_IB-9NEa6"
      },
      "source": [
        "inverse gamma sampling \r\n",
        "see: https://wiki.math.uwaterloo.ca/statwiki/index.php?title=techniques_for_Normal_and_Gamma_Sampling"
      ]
    },
    {
      "cell_type": "code",
      "metadata": {
        "id": "TvP3J1WgNM5v"
      },
      "source": [
        "def inv_gamma_sampling(t, _lambda):\r\n",
        "    return (-1/_lambda)*np.log(np.prod([np.random.uniform(0,1) for i in range(1,t)]))"
      ],
      "execution_count": 13,
      "outputs": []
    },
    {
      "cell_type": "code",
      "metadata": {
        "colab": {
          "base_uri": "https://localhost:8080/",
          "height": 1000
        },
        "id": "929--ZgAN1wk",
        "outputId": "0d6a57f8-238a-4df7-8857-b00b1309e9e2"
      },
      "source": [
        "_lambda = 3\r\n",
        "x_gamma = np.array([i for i in range(0, 5000)])\r\n",
        "y_gamma = np.array([inv_gamma_sampling(3, _lambda) for i in x_gamma])\r\n",
        "\r\n",
        "plt.hist(y_gamma, bins=1000)"
      ],
      "execution_count": 27,
      "outputs": [
        {
          "output_type": "execute_result",
          "data": {
            "text/plain": [
              "(array([ 3.,  2.,  4.,  0.,  4.,  4.,  4.,  3.,  5.,  3.,  6.,  2.,  6.,\n",
              "         8.,  6.,  6.,  5.,  6.,  5., 12.,  7., 10.,  5., 16., 10., 17.,\n",
              "        15., 11., 10., 10., 13., 11., 16., 17., 10., 10., 12., 15., 11.,\n",
              "        14.,  9., 21., 16., 15., 13.,  9., 20., 15., 21., 21., 19., 15.,\n",
              "        20., 19., 22., 20., 20., 21., 23., 15., 18., 17., 15., 20., 14.,\n",
              "        19., 17., 15., 23., 23., 22.,  8., 18., 16., 12., 17., 19., 17.,\n",
              "        18., 17., 20., 13., 20., 24., 17., 16., 16., 19., 19., 14., 17.,\n",
              "        21., 22., 14., 20., 12., 24., 20., 12., 20., 13., 19., 22., 18.,\n",
              "        17., 19., 19., 18., 18., 18., 18., 13., 18., 16., 18., 16., 14.,\n",
              "        14., 13., 22., 22., 13., 21., 20., 19., 17., 22., 10., 23., 17.,\n",
              "        13., 12., 24., 17., 19., 17., 20., 20., 20., 22., 15., 17., 17.,\n",
              "        15., 18., 13., 22., 15., 21., 18., 13., 14., 18., 17., 22., 15.,\n",
              "        17., 19., 19., 12., 12., 24., 18., 23., 14., 16., 14., 20., 17.,\n",
              "        18., 11., 13., 18., 17., 10., 12., 18., 19., 12., 12., 12., 18.,\n",
              "        20.,  6., 11., 15., 15., 10., 10., 13., 12., 11., 13., 14., 19.,\n",
              "         9.,  8., 11.,  9., 14., 14., 12., 20., 15., 15., 10., 13., 14.,\n",
              "        13., 11., 10., 15., 13., 15., 18., 11., 18., 14.,  9., 11., 14.,\n",
              "        12.,  3., 11., 14., 13.,  8., 15.,  9.,  5., 13., 11., 11., 15.,\n",
              "        11., 13.,  9., 15., 17.,  8., 11., 16., 12.,  7., 16., 13., 11.,\n",
              "         4., 10.,  8., 18., 21.,  4.,  9., 10.,  7.,  7., 10.,  6., 14.,\n",
              "         4.,  7.,  9., 11., 14., 10., 10.,  8.,  9., 11.,  6., 10.,  8.,\n",
              "         4.,  7.,  7., 12., 12.,  6.,  7.,  4., 10.,  8.,  7.,  6.,  9.,\n",
              "         3.,  6.,  8.,  6.,  5.,  5.,  6.,  8.,  8.,  9.,  5., 10.,  8.,\n",
              "         8., 10.,  0.,  7.,  2., 12.,  6.,  8.,  6.,  6., 11.,  9.,  9.,\n",
              "         8.,  8.,  4.,  6.,  7.,  4.,  6.,  7., 13.,  8.,  8.,  2.,  8.,\n",
              "         2.,  5.,  6.,  5.,  4.,  5.,  3., 10.,  9.,  7.,  6.,  8.,  4.,\n",
              "         6.,  2.,  5.,  9.,  5.,  8.,  7.,  9.,  7.,  6.,  6.,  8.,  5.,\n",
              "         8.,  3.,  1.,  3.,  8.,  3.,  8.,  7.,  5.,  4.,  3.,  2.,  8.,\n",
              "         6.,  0.,  3.,  6.,  1.,  1.,  5.,  3.,  2.,  3.,  5.,  3.,  3.,\n",
              "         7.,  5.,  2.,  6.,  4.,  5.,  4.,  3.,  3.,  6.,  4.,  3.,  4.,\n",
              "         1.,  6.,  1.,  2.,  7.,  3.,  5.,  3.,  3.,  4.,  2.,  3.,  4.,\n",
              "         4.,  3.,  5.,  4.,  5.,  3.,  1.,  2.,  0.,  4.,  1.,  2.,  1.,\n",
              "         4.,  6.,  2.,  5.,  1.,  4.,  0.,  1.,  1.,  3.,  2.,  5.,  3.,\n",
              "         4.,  3.,  3.,  1.,  5.,  5.,  3.,  7.,  6.,  1.,  3.,  1.,  1.,\n",
              "         1.,  3.,  1.,  3.,  2.,  2.,  3.,  3.,  2.,  2.,  1.,  5.,  3.,\n",
              "         2.,  7.,  1.,  1.,  0.,  7.,  1.,  7.,  2.,  3.,  4.,  1.,  4.,\n",
              "         3.,  2.,  2.,  3.,  2.,  1.,  3.,  0.,  3.,  0.,  0.,  1.,  2.,\n",
              "         1.,  1.,  4.,  2.,  1.,  1.,  0.,  4.,  1.,  2.,  1.,  4.,  0.,\n",
              "         2.,  3.,  3.,  3.,  1.,  3.,  0.,  4.,  1.,  3.,  0.,  1.,  1.,\n",
              "         1.,  2.,  4.,  1.,  1.,  2.,  1.,  2.,  3.,  2.,  2.,  1.,  0.,\n",
              "         1.,  3.,  3.,  1.,  0.,  2.,  2.,  2.,  0.,  3.,  2.,  0.,  0.,\n",
              "         2.,  1.,  0.,  1.,  3.,  2.,  1.,  0.,  1.,  0.,  3.,  0.,  3.,\n",
              "         0.,  1.,  1.,  0.,  1.,  2.,  4.,  0.,  2.,  0.,  1.,  0.,  1.,\n",
              "         0.,  3.,  0.,  2.,  1.,  3.,  1.,  0.,  0.,  1.,  2.,  1.,  1.,\n",
              "         2.,  0.,  1.,  1.,  0.,  0.,  1.,  0.,  0.,  2.,  0.,  1.,  0.,\n",
              "         0.,  2.,  1.,  2.,  0.,  0.,  0.,  0.,  1.,  0.,  2.,  0.,  2.,\n",
              "         0.,  0.,  1.,  0.,  0.,  1.,  1.,  2.,  1.,  0.,  0.,  1.,  0.,\n",
              "         0.,  0.,  1.,  2.,  1.,  0.,  0.,  0.,  1.,  1.,  0.,  0.,  2.,\n",
              "         2.,  0.,  0.,  0.,  0.,  0.,  0.,  1.,  0.,  0.,  0.,  1.,  0.,\n",
              "         0.,  1.,  0.,  0.,  0.,  0.,  0.,  0.,  0.,  2.,  2.,  0.,  0.,\n",
              "         1.,  0.,  1.,  0.,  0.,  0.,  0.,  2.,  1.,  1.,  0.,  1.,  0.,\n",
              "         0.,  1.,  1.,  1.,  0.,  1.,  2.,  0.,  0.,  0.,  0.,  1.,  0.,\n",
              "         1.,  0.,  0.,  0.,  0.,  0.,  1.,  1.,  0.,  0.,  0.,  0.,  1.,\n",
              "         0.,  0.,  0.,  0.,  0.,  0.,  0.,  1.,  1.,  0.,  1.,  0.,  0.,\n",
              "         0.,  1.,  0.,  0.,  0.,  0.,  0.,  0.,  1.,  0.,  0.,  0.,  0.,\n",
              "         0.,  0.,  0.,  1.,  0.,  0.,  1.,  0.,  0.,  0.,  0.,  0.,  0.,\n",
              "         0.,  0.,  0.,  0.,  1.,  0.,  0.,  0.,  3.,  1.,  0.,  0.,  0.,\n",
              "         0.,  1.,  0.,  0.,  0.,  1.,  0.,  1.,  0.,  0.,  0.,  0.,  0.,\n",
              "         0.,  0.,  0.,  0.,  0.,  0.,  0.,  1.,  0.,  0.,  0.,  0.,  1.,\n",
              "         0.,  0.,  0.,  0.,  0.,  0.,  0.,  0.,  0.,  0.,  0.,  0.,  0.,\n",
              "         0.,  0.,  0.,  0.,  0.,  0.,  0.,  0.,  1.,  0.,  0.,  0.,  0.,\n",
              "         0.,  0.,  0.,  1.,  0.,  1.,  1.,  0.,  0.,  1.,  0.,  0.,  0.,\n",
              "         0.,  0.,  0.,  0.,  0.,  0.,  0.,  0.,  0.,  0.,  0.,  0.,  0.,\n",
              "         0.,  0.,  0.,  0.,  0.,  0.,  0.,  0.,  0.,  0.,  0.,  0.,  0.,\n",
              "         0.,  0.,  0.,  0.,  1.,  1.,  0.,  0.,  1.,  0.,  0.,  0.,  0.,\n",
              "         0.,  0.,  0.,  0.,  0.,  0.,  0.,  0.,  0.,  0.,  0.,  0.,  0.,\n",
              "         0.,  0.,  0.,  0.,  0.,  0.,  0.,  0.,  0.,  0.,  0.,  0.,  0.,\n",
              "         0.,  0.,  0.,  0.,  0.,  0.,  0.,  0.,  0.,  0.,  0.,  0.,  0.,\n",
              "         0.,  0.,  0.,  0.,  0.,  0.,  0.,  0.,  0.,  0.,  0.,  0.,  0.,\n",
              "         0.,  0.,  0.,  0.,  0.,  0.,  0.,  0.,  0.,  0.,  0.,  0.,  0.,\n",
              "         1.,  0.,  0.,  0.,  0.,  0.,  0.,  0.,  1.,  0.,  0.,  0.,  0.,\n",
              "         0.,  0.,  0.,  0.,  0.,  0.,  0.,  0.,  0.,  0.,  0.,  0.,  0.,\n",
              "         0.,  0.,  0.,  0.,  0.,  0.,  1.,  1.,  0.,  0.,  0.,  1.,  0.,\n",
              "         0.,  0.,  0.,  0.,  0.,  0.,  0.,  0.,  0.,  0.,  0.,  0.,  0.,\n",
              "         0.,  0.,  0.,  0.,  0.,  0.,  0.,  0.,  0.,  0.,  0.,  0.,  0.,\n",
              "         0.,  0.,  0.,  0.,  0.,  0.,  0.,  0.,  0.,  0.,  0.,  0.,  0.,\n",
              "         0.,  0.,  0.,  0.,  0.,  0.,  0.,  0.,  0.,  0.,  0.,  1.]),\n",
              " array([0.01002646, 0.01339155, 0.01675664, ..., 3.36838165, 3.37174673,\n",
              "        3.37511182]),\n",
              " <a list of 1000 Patch objects>)"
            ]
          },
          "metadata": {
            "tags": []
          },
          "execution_count": 27
        },
        {
          "output_type": "display_data",
          "data": {
            "image/png": "[encoded data removed]",
            "text/plain": [
              "<Figure size 432x288 with 1 Axes>"
            ]
          },
          "metadata": {
            "tags": [],
            "needs_background": "light"
          }
        }
      ]
    }
  ]
}