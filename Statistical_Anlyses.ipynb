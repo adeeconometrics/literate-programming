{
  "nbformat": 4,
  "nbformat_minor": 0,
  "metadata": {
    "colab": {
      "name": "Statistical Anlyses.ipynb",
      "provenance": [],
      "authorship_tag": "ABX9TyMuUypHLmNHiZpF++9/TxbX",
      "include_colab_link": true
    },
    "kernelspec": {
      "name": "python3",
      "display_name": "Python 3"
    }
  },
  "cells": [
    {
      "cell_type": "markdown",
      "metadata": {
        "id": "view-in-github",
        "colab_type": "text"
      },
      "source": [
        "<a href=\"https://colab.research.google.com/github/adeeconometrics/literate-programming/blob/main/Statistical_Anlyses.ipynb\" target=\"_parent\"><img src=\"https://colab.research.google.com/assets/colab-badge.svg\" alt=\"Open In Colab\"/></a>"
      ]
    },
    {
      "cell_type": "markdown",
      "metadata": {
        "id": "qTD0CsX0x2EB"
      },
      "source": [
        "#Statistical Analyses\n",
        "\n",
        "This notebook shall discuss some of the most prominent statistical methods, their assumptions and applications in a research setting. \n",
        "\n",
        "----\n",
        "##Content\n",
        "\n",
        "- Distributions\n",
        "    - Normal Distribution\n",
        "    - Binomial distribution\n",
        "    - T-distribution\n",
        "    - $\\chi ^2$- distribution\n",
        "    - F Distribution\n",
        "\n",
        "- Parametric Statistics\n",
        "    - T-test\n",
        "        - One Sample T-Test\n",
        "        - Two Sample T-Test\n",
        "        - Paired T-test\n",
        "    - Z-test\n",
        "        - One Sample Z-test\n",
        "        - Two Sample Z-test\n",
        "    - $\\chi^2$- test\n",
        "    - Levene's Test\n",
        "    - ANOVA\n",
        "        - One-way\n",
        "        - Two-way\n",
        "    - Shapiro-Wilk teest\n",
        "\n",
        "- Non-parametric Statistics\n"
      ]
    },
    {
      "cell_type": "code",
      "metadata": {
        "id": "-NI491_Mxvc2"
      },
      "source": [
        ""
      ],
      "execution_count": null,
      "outputs": []
    }
  ]
}