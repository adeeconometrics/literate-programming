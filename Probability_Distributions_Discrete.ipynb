{
  "nbformat": 4,
  "nbformat_minor": 0,
  "metadata": {
    "colab": {
      "name": "Probability Distributions_Discrete.ipynb",
      "provenance": [],
      "authorship_tag": "ABX9TyM1LrBp49UiQNlp5D4j+Du0",
      "include_colab_link": true
    },
    "kernelspec": {
      "name": "python3",
      "display_name": "Python 3"
    }
  },
  "cells": [
    {
      "cell_type": "markdown",
      "metadata": {
        "id": "view-in-github",
        "colab_type": "text"
      },
      "source": [
        "<a href=\"https://colab.research.google.com/github/adeeconometrics/literate-programming/blob/main/Probability_Distributions_Discrete.ipynb\" target=\"_parent\"><img src=\"https://colab.research.google.com/assets/colab-badge.svg\" alt=\"Open In Colab\"/></a>"
      ]
    },
    {
      "cell_type": "markdown",
      "metadata": {
        "id": "DeTjf3MbK4Qt"
      },
      "source": [
        "# Discrete Probability Distributions\n",
        "by Dave Amiana\n",
        "\n",
        "The purpose of this notebook is to introduce and explore some probability models in the discrete space; we shall explore by simulating random events in games of chance. \n",
        "\n",
        "The following probability distributions that we shall explore in this notebook are listed as follows:\n",
        "\n",
        "- Binomial distribution\n",
        "- Multinomial distribution\n",
        "- Geometric distribution\n",
        "- Hypergeometric distribution\n",
        "- Poisson distribution\n",
        "\n",
        "We will explore the derivation of these distributions, their motvation, assumptions, and applications. "
      ]
    },
    {
      "cell_type": "code",
      "metadata": {
        "id": "xaPh3UM7K31P"
      },
      "source": [
        "# import all the relevant packages\n",
        "import matplotlib.pyplot as plt\n",
        "import numpy as np\n",
        "from sympy import *\n",
        "import sympy as sp\n",
        "\n",
        "sp.init_printing() # enable LaTeX output\n",
        "x,y,z = sy.symbols(\"x y z\") # initialize variables"
      ],
      "execution_count": null,
      "outputs": []
    },
    {
      "cell_type": "markdown",
      "metadata": {
        "id": "RHu7WCw9RR14"
      },
      "source": [
        "# Preliminary Notes on related terms and concepts\n",
        "\n",
        "- **random variable ** - DEFINE\n",
        "- **Probability Mass Function** - function that gives the probability that a discrete random variable is equal to some value.\n",
        "\n",
        "- **Frequency Distribution** - a table that displays the frequency of various outcomes **in a sample**.\n",
        "\n",
        "- **Relative Frequency Distribution** - : a frequency distribution where each value has been divided (normalized) by a number of outcomes in a sample i.e. sample size.\n",
        "\n",
        "- **Discrete Probability Distribution Function** -  general term to indicate the way the total probability of 1 is distributed over **all** various possible outcomes (i.e. over entire population) for discrete random variable.\n",
        "\n",
        "- **Cumulative Distribution Function** -  function evaluating the probability that $X$ will take a value less than or equal to $x$ for a discrete random variable.\n",
        "- **Categorical Distribution** -  for discrete random variables with a finite set of values.\n"
      ]
    },
    {
      "cell_type": "markdown",
      "metadata": {
        "id": "aeyf_ngsMcOm"
      },
      "source": [
        "## Binomial Distribution\n",
        "\n",
        "Discussion:\n",
        "In probability theory and statistics, the binomial distribution  is a result of binomial experiments where the experimenter is asking a yes-no question where each comes with its own Boolean-valued outcome: *success* (with probability *p*) or failure (with probability *q=p-1*).\n",
        "\n",
        "----\n",
        "### Motivation\n",
        "In general, if the *random variable* $X$ follows  the binomial distribution with parameters $n \\in \\mathbb{N}$ and $p\\in [0,1]$, we write X ~ B(n,p). Hence we define the function:\n",
        "\n",
        "$${f(k,n,p)=\\Pr(k;n,p)=\\Pr(X=k)={\\binom {n}{k}}p^{k}(1-p)^{n-k}} $$\n",
        " for $k=0,1,2,..., n, $ where \n",
        " $${{\\binom {n}{k}}={\\frac {n!}{k!(n-k)!}}}$$\n",
        "\n",
        "is the binomial coefficient, hence the name of the distribution.\n",
        "\n",
        "The formula can be understood as follows: $k$ successes occur with probability $p^k$ and $n − k$ failures occur with probability $(1 − p)^{n − k}$. However, the k successes can occur anywhere among the n trials, and there are ${\\binom {n}{k}}$ different ways of distributing k successes in a sequence of $n$ trials.\n",
        "\n",
        "----\n",
        "### Assumptions & Applications\n"
      ]
    },
    {
      "cell_type": "code",
      "metadata": {
        "id": "bmO_ZYPsMrrN"
      },
      "source": [
        "# definition of functions "
      ],
      "execution_count": null,
      "outputs": []
    },
    {
      "cell_type": "code",
      "metadata": {
        "id": "uY0-0JF8NP3-"
      },
      "source": [
        "# visualization"
      ],
      "execution_count": null,
      "outputs": []
    },
    {
      "cell_type": "code",
      "metadata": {
        "id": "ChGVTC9INU5B"
      },
      "source": [
        "# simulation"
      ],
      "execution_count": null,
      "outputs": []
    },
    {
      "cell_type": "markdown",
      "metadata": {
        "id": "UNgvX_65Mo3v"
      },
      "source": [
        "## Multinomial Distribution\n",
        "\n",
        "### Motivation\n",
        "\n",
        "### Assumptions & Applications\n"
      ]
    },
    {
      "cell_type": "code",
      "metadata": {
        "id": "fU-68dZlMsiE"
      },
      "source": [
        "# definition of functions"
      ],
      "execution_count": null,
      "outputs": []
    },
    {
      "cell_type": "code",
      "metadata": {
        "id": "2Ogz0mxkNYtX"
      },
      "source": [
        "# visualization"
      ],
      "execution_count": null,
      "outputs": []
    },
    {
      "cell_type": "code",
      "metadata": {
        "id": "R-TG5juRNazK"
      },
      "source": [
        "# simulation"
      ],
      "execution_count": null,
      "outputs": []
    },
    {
      "cell_type": "markdown",
      "metadata": {
        "id": "HbKBBWw1Mp3H"
      },
      "source": [
        "## Geometric Distribution\n",
        "\n",
        "### Motivation\n",
        "\n",
        "### Assumptions & Applications\n"
      ]
    },
    {
      "cell_type": "code",
      "metadata": {
        "id": "fqItgOb6Ms_6"
      },
      "source": [
        "# definition of functions"
      ],
      "execution_count": null,
      "outputs": []
    },
    {
      "cell_type": "code",
      "metadata": {
        "id": "dbZtDlMLNeuo"
      },
      "source": [
        "# visualization"
      ],
      "execution_count": null,
      "outputs": []
    },
    {
      "cell_type": "code",
      "metadata": {
        "id": "zAOWl9HnNlo7"
      },
      "source": [
        "# simulations"
      ],
      "execution_count": null,
      "outputs": []
    },
    {
      "cell_type": "markdown",
      "metadata": {
        "id": "d1hImQruMqKi"
      },
      "source": [
        "## Hypergeometric Distribution\n",
        "\n",
        "### Motivation\n",
        "\n",
        "### Assumptions & Applications\n"
      ]
    },
    {
      "cell_type": "code",
      "metadata": {
        "id": "NZlC5RIMMtZK"
      },
      "source": [
        "# definition of functions"
      ],
      "execution_count": null,
      "outputs": []
    },
    {
      "cell_type": "code",
      "metadata": {
        "id": "uKC4ldhkNnCc"
      },
      "source": [
        "# visualization"
      ],
      "execution_count": null,
      "outputs": []
    },
    {
      "cell_type": "code",
      "metadata": {
        "id": "_I-ZZloaNnRT"
      },
      "source": [
        "# simulation"
      ],
      "execution_count": null,
      "outputs": []
    },
    {
      "cell_type": "markdown",
      "metadata": {
        "id": "qi5BRww5MqXI"
      },
      "source": [
        "## Poisson Distribution\n",
        "\n",
        "### Motivation\n",
        "\n",
        "### Assumptions & Applications\n"
      ]
    },
    {
      "cell_type": "code",
      "metadata": {
        "id": "cUl6EnnSK3CI"
      },
      "source": [
        ""
      ],
      "execution_count": null,
      "outputs": []
    },
    {
      "cell_type": "code",
      "metadata": {
        "id": "A3LMERedNtRS"
      },
      "source": [
        ""
      ],
      "execution_count": null,
      "outputs": []
    },
    {
      "cell_type": "code",
      "metadata": {
        "id": "HS6CAkZ4NtiD"
      },
      "source": [
        ""
      ],
      "execution_count": null,
      "outputs": []
    }
  ]
}