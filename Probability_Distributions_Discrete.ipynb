{
  "nbformat": 4,
  "nbformat_minor": 0,
  "metadata": {
    "colab": {
      "name": "Probability Distributions_Discrete.ipynb",
      "provenance": [],
      "authorship_tag": "ABX9TyPw3ZatMOZTJfzZOu1er2U5",
      "include_colab_link": true
    },
    "kernelspec": {
      "name": "python3",
      "display_name": "Python 3"
    }
  },
  "cells": [
    {
      "cell_type": "markdown",
      "metadata": {
        "id": "view-in-github",
        "colab_type": "text"
      },
      "source": [
        "<a href=\"https://colab.research.google.com/github/adeeconometrics/literate-programming/blob/main/Probability_Distributions_Discrete.ipynb\" target=\"_parent\"><img src=\"https://colab.research.google.com/assets/colab-badge.svg\" alt=\"Open In Colab\"/></a>"
      ]
    },
    {
      "cell_type": "markdown",
      "metadata": {
        "id": "DeTjf3MbK4Qt"
      },
      "source": [
        "# Discrete Probability Distributions\n",
        "by Dave Amiana\n",
        "\n",
        "The purpose of this notebook is to introduce and explore some probability models in the discrete space; we shall explore by simulating random events in games of chance. \n",
        "\n",
        "The following probability distributions that we shall explore in this notebook are listed as follows:\n",
        "\n",
        "- Binomial distribution\n",
        "- Multinomial distribution\n",
        "- Geometric distribution\n",
        "- Hypergeometric distribution\n",
        "- Poisson distribution\n",
        "\n",
        "We will explore the derivation of these distributions, their motvation, assumptions, and applications. "
      ]
    },
    {
      "cell_type": "code",
      "metadata": {
        "id": "xaPh3UM7K31P"
      },
      "source": [
        "# import all the relevant packages\n",
        "import matplotlib.pyplot as plt\n",
        "import numpy as np\n",
        "from sympy import init_printing, gamma, lambdify, oo, N, erf \n",
        "import sympy as sp\n",
        "\n",
        "init_printing() # enable LaTeX output\n",
        "x,y,z = sp.symbols(\"x y z\") # initialize variables"
      ],
      "execution_count": 69,
      "outputs": []
    },
    {
      "cell_type": "markdown",
      "metadata": {
        "id": "RHu7WCw9RR14"
      },
      "source": [
        "# Preliminary Notes on related terms and concepts\n",
        "\n",
        "- **random variable** - is described informally as a variable whose values depend on outcomes of a random phenomenon\n",
        "- **Probability Mass Function** - function that gives the probability that a discrete random variable is equal to some value.\n",
        "\n",
        "- **Frequency Distribution** - a table that displays the frequency of various outcomes **in a sample**.\n",
        "\n",
        "- **Relative Frequency Distribution** - : a frequency distribution where each value has been divided (normalized) by a number of outcomes in a sample i.e. sample size.\n",
        "\n",
        "- **Discrete Probability Distribution Function** -  general term to indicate the way the total probability of 1 is distributed over **all** various possible outcomes (i.e. over entire population) for discrete random variable.\n",
        "\n",
        "- **Cumulative Distribution Function** -  function evaluating the probability that $X$ will take a value less than or equal to $x$ for a discrete random variable.\n",
        "- **Categorical Distribution** -  for discrete random variables with a finite set of values.\n"
      ]
    },
    {
      "cell_type": "code",
      "metadata": {
        "colab": {
          "base_uri": "https://localhost:8080/"
        },
        "id": "lXbtaRRy2pvU",
        "outputId": "d36805ee-97e7-4e6c-8700-34c065c5b29e"
      },
      "source": [
        "# definition of cumulative sum in numpy\n",
        "arr = [i+1 for i in range(0,10)]\n",
        "np.cumsum(arr)"
      ],
      "execution_count": 36,
      "outputs": [
        {
          "output_type": "execute_result",
          "data": {
            "text/plain": [
              "array([ 1,  3,  6, 10, 15, 21, 28, 36, 45, 55])"
            ]
          },
          "metadata": {
            "tags": []
          },
          "execution_count": 36
        }
      ]
    },
    {
      "cell_type": "code",
      "metadata": {
        "colab": {
          "base_uri": "https://localhost:8080/",
          "height": 37
        },
        "id": "kjbaI_4320IH",
        "outputId": "518d4287-7e82-46bc-a6f1-001eede01294"
      },
      "source": [
        "# implementation of user-defined algo\n",
        "def _cumsum(series):\n",
        "    temp = 0; temp_arr=[]\n",
        "    for i in range(0, len(series)):\n",
        "        temp = temp + series[i]\n",
        "        temp_arr = temp_arr + [temp]\n",
        "    return temp_arr\n",
        "\n",
        "_cumsum(arr)"
      ],
      "execution_count": 37,
      "outputs": [
        {
          "output_type": "execute_result",
          "data": {
            "image/png": "[encoded data removed]",
            "text/latex": "$$\\left [ 1, \\quad 3, \\quad 6, \\quad 10, \\quad 15, \\quad 21, \\quad 28, \\quad 36, \\quad 45, \\quad 55\\right ]$$",
            "text/plain": [
              "[1, 3, 6, 10, 15, 21, 28, 36, 45, 55]"
            ]
          },
          "metadata": {
            "tags": []
          },
          "execution_count": 37
        }
      ]
    },
    {
      "cell_type": "markdown",
      "metadata": {
        "id": "HbgME02Vfz42"
      },
      "source": [
        "## Discrete Uniform Distribution\n",
        "Discussion:\n",
        "The discrete uniform distribution is a symmetric probability distribution wherein a finite number of values are equally likely to be observed; every one of n values has equal probability 1/n. Another way of saying \"discrete uniform distribution\" would be \"a known, finite number of outcomes equally likely to happen\".\n",
        "\n",
        "----\n",
        "\n",
        "\n",
        "#### Definition:\n",
        "Probability Mass Function:\n",
        "$$f(x)=\\frac{1}{x}$$\n",
        "\n",
        "Cumulative Distribution Function\n",
        "$$F(k;a,b)={\\frac  {\\lfloor k\\rfloor -a+1}{b-a+1}}$$\n",
        "\n"
      ]
    },
    {
      "cell_type": "code",
      "metadata": {
        "id": "8xKhJFfZgGow"
      },
      "source": [
        "def uniform_dist_pmf(n):\n",
        "    return 1/len(n)\n",
        "\n",
        "def uniform_dist_cdf(a,b,x):\n",
        "    return (np.floor(x)-a+1)/(b-a+1)"
      ],
      "execution_count": 2,
      "outputs": []
    },
    {
      "cell_type": "code",
      "metadata": {
        "colab": {
          "base_uri": "https://localhost:8080/",
          "height": 281
        },
        "id": "N_x1y4VviGYu",
        "outputId": "aea723b9-c824-4f52-ff85-b5fb9442857a"
      },
      "source": [
        "# visualizing the PMF of Uniform Distirbution\n",
        "\n",
        "x_unif = np.linspace(0,5,10)\n",
        "y_unif_pdf = np.array([uniform_dist_pmf(x_unif) for i in range(0,len(x_unif))])\n",
        "plt.scatter(x_unif,y_unif_pdf)"
      ],
      "execution_count": 11,
      "outputs": [
        {
          "output_type": "execute_result",
          "data": {
            "text/plain": [
              "<matplotlib.collections.PathCollection at 0x7f3d44c5c4a8>"
            ]
          },
          "metadata": {
            "tags": []
          },
          "execution_count": 11
        },
        {
          "output_type": "display_data",
          "data": {
            "image/png": "[encoded data removed]",
            "text/plain": [
              "<Figure size 432x288 with 1 Axes>"
            ]
          },
          "metadata": {
            "tags": [],
            "needs_background": "light"
          }
        }
      ]
    },
    {
      "cell_type": "code",
      "metadata": {
        "colab": {
          "base_uri": "https://localhost:8080/",
          "height": 37
        },
        "id": "fdPAPvtdyYYO",
        "outputId": "642a02be-6f49-4a6c-e96d-d76004e35431"
      },
      "source": [
        "# cumulative sum of pdf\n",
        "np.cumsum(y_unif_pdf)[-1]  # should be very close to 1"
      ],
      "execution_count": 18,
      "outputs": [
        {
          "output_type": "execute_result",
          "data": {
            "image/png": "[encoded data removed]",
            "text/latex": "$$0.9999999999999999$$",
            "text/plain": [
              "0.9999999999999999"
            ]
          },
          "metadata": {
            "tags": []
          },
          "execution_count": 18
        }
      ]
    },
    {
      "cell_type": "code",
      "metadata": {
        "colab": {
          "base_uri": "https://localhost:8080/",
          "height": 288
        },
        "id": "fxLTJvFwidt1",
        "outputId": "753901e8-b876-424c-9102-31dcec26424c"
      },
      "source": [
        "#  visualizing the CDF of Uniform Distirbution\n",
        "\n",
        "y_unif_cdf = np.array([uniform_dist_cdf(0,5,i) for i in x_unif])\n",
        "plt.scatter(x_unif,y_unif_cdf)\n",
        "plt.ylim(0,1)\n",
        "plt.xlim(0,5)"
      ],
      "execution_count": 9,
      "outputs": [
        {
          "output_type": "execute_result",
          "data": {
            "image/png": "[encoded data removed]",
            "text/latex": "$$\\left ( 0.0, \\quad 5.0\\right )$$",
            "text/plain": [
              "(0.0, 5.0)"
            ]
          },
          "metadata": {
            "tags": []
          },
          "execution_count": 9
        },
        {
          "output_type": "display_data",
          "data": {
            "image/png": "[encoded data removed]",
            "text/plain": [
              "<Figure size 432x288 with 1 Axes>"
            ]
          },
          "metadata": {
            "tags": [],
            "needs_background": "light"
          }
        }
      ]
    },
    {
      "cell_type": "code",
      "metadata": {
        "colab": {
          "base_uri": "https://localhost:8080/",
          "height": 281
        },
        "id": "a3ljD2bl2IXe",
        "outputId": "f35d4ed1-a16b-4db7-d2fc-7924cc7d92eb"
      },
      "source": [
        "# not used np.floor() function\n",
        "plt.scatter(x_unif, np.cumsum(y_unif_pdf))"
      ],
      "execution_count": 35,
      "outputs": [
        {
          "output_type": "execute_result",
          "data": {
            "text/plain": [
              "<matplotlib.collections.PathCollection at 0x7f3d3c7ea7f0>"
            ]
          },
          "metadata": {
            "tags": []
          },
          "execution_count": 35
        },
        {
          "output_type": "display_data",
          "data": {
            "image/png": "[encoded data removed]",
            "text/plain": [
              "<Figure size 432x288 with 1 Axes>"
            ]
          },
          "metadata": {
            "tags": [],
            "needs_background": "light"
          }
        }
      ]
    },
    {
      "cell_type": "markdown",
      "metadata": {
        "id": "aeyf_ngsMcOm"
      },
      "source": [
        "## Binomial Distribution\n",
        "\n",
        "Discussion:\n",
        "In probability theory and statistics, the binomial distribution  is a result of binomial experiments where the experimenter is asking a yes-no question where each comes with its own Boolean-valued outcome: *success* (with probability *p*) or failure (with probability *q=p-1*).\n",
        "\n",
        "----\n",
        "### Motivation\n",
        "In general, if the *random variable* $X$ follows  the binomial distribution with parameters $n \\in \\mathbb{N}$ and $p\\in [0,1]$, we write X ~ B(n,p). Hence we define the function:\n",
        "\n",
        "$${f(k,n,p)=\\Pr(k;n,p)=\\Pr(X=k)={\\binom {n}{k}}p^{k}(1-p)^{n-k}} $$\n",
        " for $k=0,1,2,..., n, $ where \n",
        " $${{\\binom {n}{k}}={\\frac {n!}{k!(n-k)!}}}$$\n",
        "\n",
        "is the binomial coefficient, hence the name of the distribution.\n",
        "\n",
        "The formula can be understood as follows: $k$ successes occur with probability $p^k$ and $n − k$ failures occur with probability $(1 − p)^{n − k}$. However, the k successes can occur anywhere among the n trials, and there are ${\\binom {n}{k}}$ different ways of distributing k successes in a sequence of $n$ trials.\n",
        "\n",
        "----\n",
        "### Assumptions & Applications\n"
      ]
    },
    {
      "cell_type": "code",
      "metadata": {
        "colab": {
          "base_uri": "https://localhost:8080/",
          "height": 285
        },
        "id": "7WTQCH2BJaVa",
        "outputId": "ff11bc19-e501-441f-a65c-fef8557fd8d7"
      },
      "source": [
        "# plotting binomial distribution\n",
        "n = 20; p=0.5\n",
        "\n",
        "def bin_dist_pmf(n,p, k):\n",
        "    list_k = [i+1 for i in range(0,k)]\n",
        "    n_k = np.array([np.math.factorial(n)/(np.math.factorial(k)*np.math.factorial(np.abs(n-k))) for k in list_k])\n",
        "    return n_k*np.power(p,k)*np.power(1-p, n-k)\n",
        "\n",
        "x_bin = np.linspace(-5,5,100)\n",
        "y_bin_pmf = bin_dist_pmf(n,p, len(x_bin))\n",
        "\n",
        "plt.scatter(x_bin,y_bin_pmf)\n",
        "plt.xlim(-5, -3)"
      ],
      "execution_count": 13,
      "outputs": [
        {
          "output_type": "execute_result",
          "data": {
            "image/png": "[encoded data removed]",
            "text/latex": "$$\\left ( -5.0, \\quad -3.0\\right )$$",
            "text/plain": [
              "(-5.0, -3.0)"
            ]
          },
          "metadata": {
            "tags": []
          },
          "execution_count": 13
        },
        {
          "output_type": "display_data",
          "data": {
            "image/png": "[encoded data removed]",
            "text/plain": [
              "<Figure size 432x288 with 1 Axes>"
            ]
          },
          "metadata": {
            "tags": [],
            "needs_background": "light"
          }
        }
      ]
    },
    {
      "cell_type": "code",
      "metadata": {
        "colab": {
          "base_uri": "https://localhost:8080/",
          "height": 37
        },
        "id": "6oEg0xBzyAen",
        "outputId": "81d84f01-93ac-4b12-d954-126cd574b681"
      },
      "source": [
        "# cumulative sum of bin_pdf\n",
        "np.cumsum(y_bin_pmf)[-1]  # should be very close to 1"
      ],
      "execution_count": 20,
      "outputs": [
        {
          "output_type": "execute_result",
          "data": {
            "image/png": "[encoded data removed]",
            "text/latex": "$$0.9999990927859764$$",
            "text/plain": [
              "0.9999990927859764"
            ]
          },
          "metadata": {
            "tags": []
          },
          "execution_count": 20
        }
      ]
    },
    {
      "cell_type": "code",
      "metadata": {
        "colab": {
          "base_uri": "https://localhost:8080/",
          "height": 285
        },
        "id": "icBisKwrT3Mx",
        "outputId": "ad4ab25a-bb77-44f4-c72b-f4fba859f2ea"
      },
      "source": [
        "# cdf binomial distribution\n",
        "n=40;p=0.5\n",
        "\n",
        "def bin_dist_cdf(n,p,k):\n",
        "    bin_coef = lambda _i: np.array((np.math.factorial(n)/(np.math.factorial(_i)*np.math.factorial(np.abs(n-_i))))*(np.power(p,_i)*np.power((1-p),n-_i)))\n",
        "    return np.cumsum([bin_coef(j) for j in range(0,k)], dtype=float)\n",
        "\n",
        "x = np.linspace(-5,5,100)\n",
        "y_bin_cdf = bin_dist_cdf(n,p,len(x))\n",
        "y_bin_cdf\n",
        "plt.scatter(x,y_bin_cdf)\n",
        "\n",
        "plt.xlim(-4, -1)"
      ],
      "execution_count": 14,
      "outputs": [
        {
          "output_type": "execute_result",
          "data": {
            "image/png": "[encoded data removed]",
            "text/latex": "$$\\left ( -4.0, \\quad -1.0\\right )$$",
            "text/plain": [
              "(-4.0, -1.0)"
            ]
          },
          "metadata": {
            "tags": []
          },
          "execution_count": 14
        },
        {
          "output_type": "display_data",
          "data": {
            "image/png": "[encoded data removed]",
            "text/plain": [
              "<Figure size 432x288 with 1 Axes>"
            ]
          },
          "metadata": {
            "tags": [],
            "needs_background": "light"
          }
        }
      ]
    },
    {
      "cell_type": "code",
      "metadata": {
        "id": "ChGVTC9INU5B"
      },
      "source": [
        "# simulation"
      ],
      "execution_count": null,
      "outputs": []
    },
    {
      "cell_type": "markdown",
      "metadata": {
        "id": "UNgvX_65Mo3v"
      },
      "source": [
        "## Multinomial Distribution\n",
        "\n",
        "### Discussion\n",
        "In probability theory, the multinomial distribution is a generalization of the binomial distribution. For example, it models the probability of counts for each side of a k-sided dice rolled n times. For n independent trials each of which leads to a success for exactly one of k categories, with each category having a given fixed success probability, the multinomial distribution gives the probability of any particular combination of numbers of successes for the various categories\n",
        "\n",
        "\n",
        "### Functional Definition\n",
        "\n",
        "Probability Mass Function\n",
        "\n",
        "$${\\displaystyle {\\begin{aligned}f(x_{1},\\ldots ,x_{k};n,p_{1},\\ldots ,p_{k})&{}=\\Pr(X_{1}=x_{1}{\\text{ and }}\\dots {\\text{ and }}X_{k}=x_{k})\\\\&{}={\\begin{cases}{\\displaystyle {n! \\over x_{1}!\\cdots x_{k}!}p_{1}^{x_{1}}\\times \\cdots \\times p_{k}^{x_{k}}},\\quad &{\\text{when }}\\sum _{i=1}^{k}x_{i}=n\\\\\\\\0&{\\text{otherwise,}}\\end{cases}}\\end{aligned}}}$$\n",
        "for non-negative integers $x_1, ..., x_k$.\n",
        "\n",
        "the probability mass function can be expressed using the gamma function as:\n",
        "\n",
        "$${f(x_{1},\\dots ,x_{k};p_{1},\\ldots ,p_{k})={\\frac {\\Gamma (\\sum _{i}x_{i}+1)}{\\prod _{i}\\Gamma (x_{i}+1)}}\\prod _{i=1}^{k}p_{i}^{x_{i}}.}$$\n",
        "\n",
        "### Assumptions & Applications\n"
      ]
    },
    {
      "cell_type": "code",
      "metadata": {
        "id": "fU-68dZlMsiE"
      },
      "source": [
        "# definition of functions\n",
        "\n",
        "def mult_dist_pmf(n,**kwargs=\"x\"):\n",
        "    if(sum(x)==n):\n",
        "        _coef = np.factorial(n)/(np.product([np.factorial(x_i) for x_i in x]))\n",
        "        _p = np.product([np.power(p_i,x_i) for p_i in p for x_i in x])\n",
        "        return _p*_coef\n",
        "    else:\n",
        "        return 0\n",
        "\n",
        "def mult_dist_cdf():\n",
        "    pass"
      ],
      "execution_count": null,
      "outputs": []
    },
    {
      "cell_type": "code",
      "metadata": {
        "id": "2Ogz0mxkNYtX"
      },
      "source": [
        "# visualization"
      ],
      "execution_count": null,
      "outputs": []
    },
    {
      "cell_type": "code",
      "metadata": {
        "id": "R-TG5juRNazK"
      },
      "source": [
        "# simulation"
      ],
      "execution_count": null,
      "outputs": []
    },
    {
      "cell_type": "markdown",
      "metadata": {
        "id": "HbKBBWw1Mp3H"
      },
      "source": [
        "## Geometric Distribution\n",
        "\n",
        "### Discussion\n",
        "The geometric distribution represents the number of failures before you get a success in a series of Bernoulli trials.\n",
        "The geometric distribution is either one of two discrete probability distributions:\n",
        "\n",
        "- The probability distribution of the number X of Bernoulli trials needed to get one success, supported on the set { 1, 2, 3, ... }\n",
        "\n",
        "- The probability distribution of the number Y = X − 1 of failures before the first success, supported on the set { 0, 1, 2, 3, ... }\n",
        "Which of these one calls \"the\" geometric distribution is a matter of convention and convenience.\n",
        "\n",
        "\n",
        "### Functional Definition\n",
        "PMF of Geometric distribution\n",
        "\n",
        "$${\\displaystyle (1-p)^{k-1}p}$$\n",
        "where \n",
        "-  $p$ is the probability of success  \n",
        "- $k$ is the number of trials\n",
        "\n",
        "CDF of Geometric distribution\n",
        "\n",
        "$${\\displaystyle 1-(1-p)^{k}}$$\n",
        "where \n",
        "-  $p$ is the probability of success  \n",
        "- $k$ is the number of trials\n",
        "\n",
        "### Assumptions & Applications\n",
        "The geometric distribution is an appropriate model if the following assumptions are true.\n",
        "\n",
        "- The phenomenon being modeled is a sequence of independent trials.\n",
        "- There are only two possible outcomes for each trial, often designated success or failure.\n",
        "- The probability of success, p, is the same for every trial.\n",
        "\n",
        "If these conditions are true, then the geometric random variable $Y$ is the count of the number of failures before the first success. The possible number of failures before the first success is 0, 1, 2, 3, and so on. In the graphs above, this formulation is shown on the right.\n",
        "\n",
        "An alternative formulation is that the geometric random variable $X$ is the total number of trials up to and including the first success, and the number of failures is $X − 1$. In the graphs above, this formulation is shown on the left."
      ]
    },
    {
      "cell_type": "code",
      "metadata": {
        "id": "fqItgOb6Ms_6"
      },
      "source": [
        "# definition of functions : THIS IS NOT CORRECT?\n",
        "def geom_dist_pmf(p,k):\n",
        "    _dist = lambda x: np.power((1-p),(x-1))*p\n",
        "    return _dist(k)\n",
        "\n",
        "def geom_dist_cdf(p,k):\n",
        "    return 1-np.power(1-p,k)"
      ],
      "execution_count": 11,
      "outputs": []
    },
    {
      "cell_type": "code",
      "metadata": {
        "id": "dbZtDlMLNeuo",
        "colab": {
          "base_uri": "https://localhost:8080/",
          "height": 285
        },
        "outputId": "48f5a1e6-c69e-4041-b6fb-ff5d46ee384b"
      },
      "source": [
        "# visualization pmf\n",
        "p = 0.20\n",
        "x_geom = np.linspace(-5,5,10)\n",
        "y_geom_pmf = np.array([geom_dist_pmf(p,k) for k in x_geom])\n",
        "\n",
        "plt.scatter(x_geom, y_geom_pmf)\n",
        "plt.xlim(0,10)"
      ],
      "execution_count": 12,
      "outputs": [
        {
          "output_type": "execute_result",
          "data": {
            "image/png": "[encoded data removed]",
            "text/latex": "$$\\left ( 0.0, \\quad 10.0\\right )$$",
            "text/plain": [
              "(0.0, 10.0)"
            ]
          },
          "metadata": {
            "tags": []
          },
          "execution_count": 12
        },
        {
          "output_type": "display_data",
          "data": {
            "image/png": "[encoded data removed]",
            "text/plain": [
              "<Figure size 432x288 with 1 Axes>"
            ]
          },
          "metadata": {
            "tags": [],
            "needs_background": "light"
          }
        }
      ]
    },
    {
      "cell_type": "code",
      "metadata": {
        "colab": {
          "base_uri": "https://localhost:8080/",
          "height": 37
        },
        "id": "34IXBrViJ_hN",
        "outputId": "1ec7e5fb-b918-47bf-f088-cbddd8180420"
      },
      "source": [
        "np.cumsum(y_geom_pmf)[-1]  # should be very close to 1"
      ],
      "execution_count": 13,
      "outputs": [
        {
          "output_type": "execute_result",
          "data": {
            "image/png": "[encoded data removed]",
            "text/latex": "$$3.1832270239162455$$",
            "text/plain": [
              "3.1832270239162455"
            ]
          },
          "metadata": {
            "tags": []
          },
          "execution_count": 13
        }
      ]
    },
    {
      "cell_type": "code",
      "metadata": {
        "colab": {
          "base_uri": "https://localhost:8080/",
          "height": 288
        },
        "id": "kx7t74N2I50Y",
        "outputId": "2d383641-d53a-4000-d115-6060a27e7a83"
      },
      "source": [
        "# visualization pmf\n",
        "y_geom_cdf = np.array([geom_dist_cdf(p,k) for k in x_geom])\n",
        "\n",
        "plt.scatter(x_geom, y_geom_cdf)\n",
        "plt.ylim(0,1)"
      ],
      "execution_count": 14,
      "outputs": [
        {
          "output_type": "execute_result",
          "data": {
            "image/png": "[encoded data removed]",
            "text/latex": "$$\\left ( 0.0, \\quad 1.0\\right )$$",
            "text/plain": [
              "(0.0, 1.0)"
            ]
          },
          "metadata": {
            "tags": []
          },
          "execution_count": 14
        },
        {
          "output_type": "display_data",
          "data": {
            "image/png": "[encoded data removed]",
            "text/plain": [
              "<Figure size 432x288 with 1 Axes>"
            ]
          },
          "metadata": {
            "tags": [],
            "needs_background": "light"
          }
        }
      ]
    },
    {
      "cell_type": "code",
      "metadata": {
        "colab": {
          "base_uri": "https://localhost:8080/",
          "height": 37
        },
        "id": "I9DoWF5v1BnO",
        "outputId": "cccae29c-0122-4eb5-aca1-373d43dabba5"
      },
      "source": [
        "y_geom_cdf[-1]  # should be very close to 1"
      ],
      "execution_count": 10,
      "outputs": [
        {
          "output_type": "execute_result",
          "data": {
            "image/png": "[encoded data removed]",
            "text/latex": "$$0.6723199999999999$$",
            "text/plain": [
              "0.6723199999999999"
            ]
          },
          "metadata": {
            "tags": []
          },
          "execution_count": 10
        }
      ]
    },
    {
      "cell_type": "code",
      "metadata": {
        "id": "zAOWl9HnNlo7"
      },
      "source": [
        "# simulations"
      ],
      "execution_count": null,
      "outputs": []
    },
    {
      "cell_type": "markdown",
      "metadata": {
        "id": "d1hImQruMqKi"
      },
      "source": [
        "## Hypergeometric Distribution\n",
        "\n",
        "### Discussion\n",
        "\n",
        "### Functional Definition\n",
        "PMF of hyper geometric distribution\n",
        "\n",
        "$${\\displaystyle p_{X}(k)=\\Pr(X=k)={\\frac {{\\binom {K}{k}}{\\binom {N-K}{n-k}}}{\\binom {N}{n}}}}={{n \\choose k}{{N-n} \\choose {K-k}} \\over {N \\choose K}}$$\n",
        "\n",
        "Parameters of the PMF\n",
        "- $N$ is the population size,\n",
        "- $K$ is the number of success states in the population,\n",
        "- $k$ is the number of observed successes,\n",
        "- $n$ is the number of draws (i.e. quantity drawn in each trial),\n",
        "- ${\\textstyle \\textstyle {a \\choose b}}$ is a binomial coefficient: \n",
        "$$\\binom {n}{k}=\\frac {n!}{k!(n-k)!}$$\n",
        "\n",
        "### Assumptions & Applications"
      ]
    },
    {
      "cell_type": "code",
      "metadata": {
        "colab": {
          "base_uri": "https://localhost:8080/"
        },
        "id": "xKvN82_g81km",
        "outputId": "d29a01db-078d-4148-b604-7ebdcb9a7ab4"
      },
      "source": [
        "# left identity\n",
        "def hyp_geom_pmf_l(N, K, n,x):\n",
        "    bin_coef = lambda _x,_y: np.array(np.math.factorial(_x)/(np.math.factorial(_y)*np.math.factorial(np.abs(_x-_y))))\n",
        "    return (bin_coef(K,x)*bin_coef(N-K,n-x))/bin_coef(N,n)\n",
        "\n",
        "hyp_geom_pmf_l(50,5,10,4)"
      ],
      "execution_count": null,
      "outputs": [
        {
          "output_type": "execute_result",
          "data": {
            "text/plain": [
              "0.003964583058015066"
            ]
          },
          "metadata": {
            "tags": []
          },
          "execution_count": 23
        }
      ]
    },
    {
      "cell_type": "code",
      "metadata": {
        "colab": {
          "base_uri": "https://localhost:8080/"
        },
        "id": "g3CdjFX3-1BO",
        "outputId": "db6dd847-676e-4961-8d7b-ae1f3f9b5c26"
      },
      "source": [
        "# right identity\n",
        "def hyp_geom_pmf_r(N, K, n,x):\n",
        "    bin_coef = lambda _x,_y: np.array(np.math.factorial(_x)/(np.math.factorial(_y)*np.math.factorial(np.abs(_x-_y))))\n",
        "    return (bin_coef(n,x)*bin_coef(N-n,K-x))/bin_coef(N,K)\n",
        "\n",
        "hyp_geom_pmf_r(50,5,10,4)"
      ],
      "execution_count": null,
      "outputs": [
        {
          "output_type": "execute_result",
          "data": {
            "text/plain": [
              "0.003964583058015066"
            ]
          },
          "metadata": {
            "tags": []
          },
          "execution_count": 24
        }
      ]
    },
    {
      "cell_type": "code",
      "metadata": {
        "colab": {
          "base_uri": "https://localhost:8080/",
          "height": 292
        },
        "id": "lntZ1wIrGuG9",
        "outputId": "e8b91da3-8509-4d63-f610-9f6d7bf97130"
      },
      "source": [
        "# plotting hyper geometric distribution\n",
        "def hyp_geom_pmf(N, K, n,k):\n",
        "    bin_coef = lambda _x,_y: np.array(np.math.factorial(_x)/(np.math.factorial(_y)*np.math.factorial(np.abs(_x-_y))))\n",
        "    hyp_g_coef = np.array([(bin_coef(K,x)*bin_coef(N-n,np.abs(K-x)))/bin_coef(N,n) for x in range(0, k)])\n",
        "    return hyp_g_coef\n",
        "\n",
        "x = np.linspace(0,60,100)\n",
        "y = hyp_geom_pmf(500, 50, 30, len(x))\n",
        "y_2 = hyp_geom_pmf(500, 50, 31, len(x))\n",
        "plt.scatter(x,y)\n",
        "plt.scatter(x,y_2)\n",
        "plt.xlim(0,40)"
      ],
      "execution_count": null,
      "outputs": [
        {
          "output_type": "execute_result",
          "data": {
            "text/plain": [
              "(0.0, 40.0)"
            ]
          },
          "metadata": {
            "tags": []
          },
          "execution_count": 68
        },
        {
          "output_type": "display_data",
          "data": {
            "image/png": "[encoded data removed]",
            "text/plain": [
              "<Figure size 432x288 with 1 Axes>"
            ]
          },
          "metadata": {
            "tags": [],
            "needs_background": "light"
          }
        }
      ]
    },
    {
      "cell_type": "code",
      "metadata": {
        "id": "_I-ZZloaNnRT"
      },
      "source": [
        "# simulation"
      ],
      "execution_count": null,
      "outputs": []
    },
    {
      "cell_type": "markdown",
      "metadata": {
        "id": "qi5BRww5MqXI"
      },
      "source": [
        "## Poisson Distribution\n",
        "\n",
        "### Discussion\n",
        "\n",
        "### Functional Definition\n",
        "\n",
        "### Assumptions & Applications"
      ]
    },
    {
      "cell_type": "code",
      "metadata": {
        "id": "06w9GmrdhFl8"
      },
      "source": [
        ""
      ],
      "execution_count": null,
      "outputs": []
    }
  ]
}