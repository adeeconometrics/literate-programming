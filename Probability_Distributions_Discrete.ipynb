{
  "nbformat": 4,
  "nbformat_minor": 0,
  "metadata": {
    "colab": {
      "name": "Probability Distributions_Discrete.ipynb",
      "provenance": [],
      "authorship_tag": "ABX9TyNf6FVcne8eQuAftRHlLDRE",
      "include_colab_link": true
    },
    "kernelspec": {
      "name": "python3",
      "display_name": "Python 3"
    }
  },
  "cells": [
    {
      "cell_type": "markdown",
      "metadata": {
        "id": "view-in-github",
        "colab_type": "text"
      },
      "source": [
        "<a href=\"https://colab.research.google.com/github/adeeconometrics/literate-programming/blob/main/Probability_Distributions_Discrete.ipynb\" target=\"_parent\"><img src=\"https://colab.research.google.com/assets/colab-badge.svg\" alt=\"Open In Colab\"/></a>"
      ]
    },
    {
      "cell_type": "markdown",
      "metadata": {
        "id": "DeTjf3MbK4Qt"
      },
      "source": [
        "# Discrete Probability Distributions\n",
        "by Dave Amiana\n",
        "\n",
        "The purpose of this notebook is to introduce and explore some probability models in the discrete space; we shall explore by simulating random events in games of chance. \n",
        "\n",
        "The following probability distributions that we shall explore in this notebook are listed as follows:\n",
        "\n",
        "- Binomial distribution\n",
        "- Multinomial distribution\n",
        "- Geometric distribution\n",
        "- Hypergeometric distribution\n",
        "- Poisson distribution\n",
        "\n",
        "We will explore the derivation of these distributions, their motvation, assumptions, and applications. "
      ]
    },
    {
      "cell_type": "code",
      "metadata": {
        "id": "xaPh3UM7K31P"
      },
      "source": [
        "# import all the relevant packages\n",
        "import matplotlib.pyplot as plt\n",
        "import numpy as np\n",
        "from sympy import init_printing\n",
        "import sympy as sp\n",
        "\n",
        "init_printing() # enable LaTeX output\n",
        "x,y,z = sy.symbols(\"x y z\") # initialize variables"
      ],
      "execution_count": null,
      "outputs": []
    },
    {
      "cell_type": "markdown",
      "metadata": {
        "id": "RHu7WCw9RR14"
      },
      "source": [
        "# Preliminary Notes on related terms and concepts\n",
        "\n",
        "- **random variable ** - DEFINE\n",
        "- **Probability Mass Function** - function that gives the probability that a discrete random variable is equal to some value.\n",
        "\n",
        "- **Frequency Distribution** - a table that displays the frequency of various outcomes **in a sample**.\n",
        "\n",
        "- **Relative Frequency Distribution** - : a frequency distribution where each value has been divided (normalized) by a number of outcomes in a sample i.e. sample size.\n",
        "\n",
        "- **Discrete Probability Distribution Function** -  general term to indicate the way the total probability of 1 is distributed over **all** various possible outcomes (i.e. over entire population) for discrete random variable.\n",
        "\n",
        "- **Cumulative Distribution Function** -  function evaluating the probability that $X$ will take a value less than or equal to $x$ for a discrete random variable.\n",
        "- **Categorical Distribution** -  for discrete random variables with a finite set of values.\n"
      ]
    },
    {
      "cell_type": "markdown",
      "metadata": {
        "id": "aeyf_ngsMcOm"
      },
      "source": [
        "## Binomial Distribution\n",
        "\n",
        "Discussion:\n",
        "In probability theory and statistics, the binomial distribution  is a result of binomial experiments where the experimenter is asking a yes-no question where each comes with its own Boolean-valued outcome: *success* (with probability *p*) or failure (with probability *q=p-1*).\n",
        "\n",
        "----\n",
        "### Motivation\n",
        "In general, if the *random variable* $X$ follows  the binomial distribution with parameters $n \\in \\mathbb{N}$ and $p\\in [0,1]$, we write X ~ B(n,p). Hence we define the function:\n",
        "\n",
        "$${f(k,n,p)=\\Pr(k;n,p)=\\Pr(X=k)={\\binom {n}{k}}p^{k}(1-p)^{n-k}} $$\n",
        " for $k=0,1,2,..., n, $ where \n",
        " $${{\\binom {n}{k}}={\\frac {n!}{k!(n-k)!}}}$$\n",
        "\n",
        "is the binomial coefficient, hence the name of the distribution.\n",
        "\n",
        "The formula can be understood as follows: $k$ successes occur with probability $p^k$ and $n − k$ failures occur with probability $(1 − p)^{n − k}$. However, the k successes can occur anywhere among the n trials, and there are ${\\binom {n}{k}}$ different ways of distributing k successes in a sequence of $n$ trials.\n",
        "\n",
        "----\n",
        "### Assumptions & Applications\n"
      ]
    },
    {
      "cell_type": "code",
      "metadata": {
        "colab": {
          "base_uri": "https://localhost:8080/",
          "height": 281
        },
        "id": "7WTQCH2BJaVa",
        "outputId": "5b1b6956-ce1d-4083-d644-5b11f45c2399"
      },
      "source": [
        "# plotting binomial distribution\n",
        "n = 20; p=0.5\n",
        "\n",
        "def bin_dist_pmf(n,p, k):\n",
        "    list_k = [i+1 for i in range(0,k)]\n",
        "    n_k = np.array([np.math.factorial(n)/(np.math.factorial(k)*np.math.factorial(np.abs(n-k))) for k in list_k])\n",
        "    return n_k*np.power(p,k)*np.power(1-p, n-k)\n",
        "\n",
        "x = np.linspace(-5,5,100)\n",
        "y = bin_dist_pmf(n,p, len(x))\n",
        "\n",
        "plt.scatter(x,y)\n",
        "plt.xlim(-5, -3)"
      ],
      "execution_count": null,
      "outputs": [
        {
          "output_type": "execute_result",
          "data": {
            "text/plain": [
              "(-5.0, -3.0)"
            ]
          },
          "metadata": {
            "tags": []
          },
          "execution_count": 30
        },
        {
          "output_type": "display_data",
          "data": {
            "image/png": "[encoded data removed]",
            "text/plain": [
              "<Figure size 432x288 with 1 Axes>"
            ]
          },
          "metadata": {
            "tags": [],
            "needs_background": "light"
          }
        }
      ]
    },
    {
      "cell_type": "code",
      "metadata": {
        "colab": {
          "base_uri": "https://localhost:8080/",
          "height": 281
        },
        "id": "icBisKwrT3Mx",
        "outputId": "4f4f9570-4ee1-4b46-f53a-e15ba5098af2"
      },
      "source": [
        "# cmf binomial distribution\n",
        "n=40;p=0.5\n",
        "\n",
        "def bin_dist_cmf(n,p,k):\n",
        "    bin_coef = lambda _i: np.array((np.math.factorial(n)/(np.math.factorial(_i)*np.math.factorial(np.abs(n-_i))))*(np.power(p,_i)*np.power((1-p),n-_i)))\n",
        "    return np.cumsum([bin_coef(j) for j in range(0,k)], dtype=float)\n",
        "\n",
        "x = np.linspace(-5,5,100)\n",
        "y_0 = bin_dist_cmf(n,p,len(x))\n",
        "y_0\n",
        "plt.scatter(x,y_0)\n",
        "\n",
        "plt.xlim(-4, -1)"
      ],
      "execution_count": null,
      "outputs": [
        {
          "output_type": "execute_result",
          "data": {
            "text/plain": [
              "(-4.0, -1.0)"
            ]
          },
          "metadata": {
            "tags": []
          },
          "execution_count": 18
        },
        {
          "output_type": "display_data",
          "data": {
            "image/png": "[encoded data removed]",
            "text/plain": [
              "<Figure size 432x288 with 1 Axes>"
            ]
          },
          "metadata": {
            "tags": [],
            "needs_background": "light"
          }
        }
      ]
    },
    {
      "cell_type": "code",
      "metadata": {
        "id": "ChGVTC9INU5B"
      },
      "source": [
        "# simulation"
      ],
      "execution_count": null,
      "outputs": []
    },
    {
      "cell_type": "markdown",
      "metadata": {
        "id": "UNgvX_65Mo3v"
      },
      "source": [
        "## Multinomial Distribution\n",
        "\n",
        "### Discussion\n",
        "In probability theory, the multinomial distribution is a generalization of the binomial distribution. For example, it models the probability of counts for each side of a k-sided dice rolled n times. For n independent trials each of which leads to a success for exactly one of k categories, with each category having a given fixed success probability, the multinomial distribution gives the probability of any particular combination of numbers of successes for the various categories\n",
        "\n",
        "\n",
        "### Functional Definition\n",
        "\n",
        "Probability Mass Function\n",
        "\n",
        "$${\\displaystyle {\\begin{aligned}f(x_{1},\\ldots ,x_{k};n,p_{1},\\ldots ,p_{k})&{}=\\Pr(X_{1}=x_{1}{\\text{ and }}\\dots {\\text{ and }}X_{k}=x_{k})\\\\&{}={\\begin{cases}{\\displaystyle {n! \\over x_{1}!\\cdots x_{k}!}p_{1}^{x_{1}}\\times \\cdots \\times p_{k}^{x_{k}}},\\quad &{\\text{when }}\\sum _{i=1}^{k}x_{i}=n\\\\\\\\0&{\\text{otherwise,}}\\end{cases}}\\end{aligned}}}$$\n",
        "for non-negative integers $x_1, ..., x_k$.\n",
        "\n",
        "he probability mass function can be expressed using the gamma function as:\n",
        "\n",
        "$${f(x_{1},\\dots ,x_{k};p_{1},\\ldots ,p_{k})={\\frac {\\Gamma (\\sum _{i}x_{i}+1)}{\\prod _{i}\\Gamma (x_{i}+1)}}\\prod _{i=1}^{k}p_{i}^{x_{i}}.}$$\n",
        "\n",
        "### Assumptions & Applications\n"
      ]
    },
    {
      "cell_type": "code",
      "metadata": {
        "id": "fU-68dZlMsiE"
      },
      "source": [
        "# definition of functions"
      ],
      "execution_count": null,
      "outputs": []
    },
    {
      "cell_type": "code",
      "metadata": {
        "id": "2Ogz0mxkNYtX"
      },
      "source": [
        "# visualization"
      ],
      "execution_count": null,
      "outputs": []
    },
    {
      "cell_type": "code",
      "metadata": {
        "id": "R-TG5juRNazK"
      },
      "source": [
        "# simulation"
      ],
      "execution_count": null,
      "outputs": []
    },
    {
      "cell_type": "markdown",
      "metadata": {
        "id": "HbKBBWw1Mp3H"
      },
      "source": [
        "## Geometric Distribution\n",
        "\n",
        "### Discussion\n",
        "The geometric distribution represents the number of failures before you get a success in a series of Bernoulli trials.\n",
        "The geometric distribution is either one of two discrete probability distributions:\n",
        "\n",
        "- The probability distribution of the number X of Bernoulli trials needed to get one success, supported on the set { 1, 2, 3, ... }\n",
        "\n",
        "- The probability distribution of the number Y = X − 1 of failures before the first success, supported on the set { 0, 1, 2, 3, ... }\n",
        "Which of these one calls \"the\" geometric distribution is a matter of convention and convenience.\n",
        "\n",
        "\n",
        "### Functional Definition\n",
        "PMF of Geometric distribution\n",
        "\n",
        "$${\\displaystyle (1-p)^{k-1}p}$$\n",
        "where \n",
        "-  $p$ is the probability of success  \n",
        "- $k$ is the number of trials\n",
        "\n",
        "### Assumptions & Applications\n",
        "The geometric distribution is an appropriate model if the following assumptions are true.\n",
        "\n",
        "- The phenomenon being modeled is a sequence of independent trials.\n",
        "- There are only two possible outcomes for each trial, often designated success or failure.\n",
        "- The probability of success, p, is the same for every trial.\n",
        "\n",
        "If these conditions are true, then the geometric random variable $Y$ is the count of the number of failures before the first success. The possible number of failures before the first success is 0, 1, 2, 3, and so on. In the graphs above, this formulation is shown on the right.\n",
        "\n",
        "An alternative formulation is that the geometric random variable $X$ is the total number of trials up to and including the first success, and the number of failures is $X − 1$. In the graphs above, this formulation is shown on the left."
      ]
    },
    {
      "cell_type": "code",
      "metadata": {
        "id": "fqItgOb6Ms_6"
      },
      "source": [
        "# definition of functions\n",
        "def geom_dist(p,k):\n",
        "    dist = lambda x: np.power((1-p),(x-1))*p\n",
        "    return np.array([dist(i) for i in range(0,k)])"
      ],
      "execution_count": null,
      "outputs": []
    },
    {
      "cell_type": "code",
      "metadata": {
        "id": "dbZtDlMLNeuo"
      },
      "source": [
        "# visualization"
      ],
      "execution_count": null,
      "outputs": []
    },
    {
      "cell_type": "code",
      "metadata": {
        "id": "zAOWl9HnNlo7"
      },
      "source": [
        "# simulations"
      ],
      "execution_count": null,
      "outputs": []
    },
    {
      "cell_type": "markdown",
      "metadata": {
        "id": "d1hImQruMqKi"
      },
      "source": [
        "## Hypergeometric Distribution\n",
        "\n",
        "### Discussion\n",
        "\n",
        "### Functional Definition\n",
        "PMF of hyper geometric distribution\n",
        "\n",
        "$${\\displaystyle p_{X}(k)=\\Pr(X=k)={\\frac {{\\binom {K}{k}}{\\binom {N-K}{n-k}}}{\\binom {N}{n}}}}={{n \\choose k}{{N-n} \\choose {K-k}} \\over {N \\choose K}}$$\n",
        "\n",
        "Parameters of the PMF\n",
        "- $N$ is the population size,\n",
        "- $K$ is the number of success states in the population,\n",
        "- $k$ is the number of observed successes,\n",
        "- $n$ is the number of draws (i.e. quantity drawn in each trial),\n",
        "- ${\\textstyle \\textstyle {a \\choose b}}$ is a binomial coefficient: \n",
        "$$\\binom {n}{k}=\\frac {n!}{k!(n-k)!}$$\n",
        "\n",
        "### Assumptions & Applications"
      ]
    },
    {
      "cell_type": "code",
      "metadata": {
        "colab": {
          "base_uri": "https://localhost:8080/"
        },
        "id": "xKvN82_g81km",
        "outputId": "d29a01db-078d-4148-b604-7ebdcb9a7ab4"
      },
      "source": [
        "# left identity\n",
        "def hyp_geom_pmf_l(N, K, n,x):\n",
        "    bin_coef = lambda _x,_y: np.array(np.math.factorial(_x)/(np.math.factorial(_y)*np.math.factorial(np.abs(_x-_y))))\n",
        "    return (bin_coef(K,x)*bin_coef(N-K,n-x))/bin_coef(N,n)\n",
        "\n",
        "hyp_geom_pmf_l(50,5,10,4)"
      ],
      "execution_count": null,
      "outputs": [
        {
          "output_type": "execute_result",
          "data": {
            "text/plain": [
              "0.003964583058015066"
            ]
          },
          "metadata": {
            "tags": []
          },
          "execution_count": 23
        }
      ]
    },
    {
      "cell_type": "code",
      "metadata": {
        "colab": {
          "base_uri": "https://localhost:8080/"
        },
        "id": "g3CdjFX3-1BO",
        "outputId": "db6dd847-676e-4961-8d7b-ae1f3f9b5c26"
      },
      "source": [
        "# right identity\n",
        "def hyp_geom_pmf_r(N, K, n,x):\n",
        "    bin_coef = lambda _x,_y: np.array(np.math.factorial(_x)/(np.math.factorial(_y)*np.math.factorial(np.abs(_x-_y))))\n",
        "    return (bin_coef(n,x)*bin_coef(N-n,K-x))/bin_coef(N,K)\n",
        "\n",
        "hyp_geom_pmf_r(50,5,10,4)"
      ],
      "execution_count": null,
      "outputs": [
        {
          "output_type": "execute_result",
          "data": {
            "text/plain": [
              "0.003964583058015066"
            ]
          },
          "metadata": {
            "tags": []
          },
          "execution_count": 24
        }
      ]
    },
    {
      "cell_type": "code",
      "metadata": {
        "colab": {
          "base_uri": "https://localhost:8080/",
          "height": 292
        },
        "id": "lntZ1wIrGuG9",
        "outputId": "e8b91da3-8509-4d63-f610-9f6d7bf97130"
      },
      "source": [
        "# plotting hyper geometric distribution\n",
        "def hyp_geom_pmf(N, K, n,k):\n",
        "    bin_coef = lambda _x,_y: np.array(np.math.factorial(_x)/(np.math.factorial(_y)*np.math.factorial(np.abs(_x-_y))))\n",
        "    hyp_g_coef = np.array([(bin_coef(K,x)*bin_coef(N-n,np.abs(K-x)))/bin_coef(N,n) for x in range(0, k)])\n",
        "    return hyp_g_coef\n",
        "\n",
        "x = np.linspace(0,60,100)\n",
        "y = hyp_geom_pmf(500, 50, 30, len(x))\n",
        "y_2 = hyp_geom_pmf(500, 50, 31, len(x))\n",
        "plt.scatter(x,y)\n",
        "plt.scatter(x,y_2)\n",
        "plt.xlim(0,40)"
      ],
      "execution_count": null,
      "outputs": [
        {
          "output_type": "execute_result",
          "data": {
            "text/plain": [
              "(0.0, 40.0)"
            ]
          },
          "metadata": {
            "tags": []
          },
          "execution_count": 68
        },
        {
          "output_type": "display_data",
          "data": {
            "image/png": "[encoded data removed]",
            "text/plain": [
              "<Figure size 432x288 with 1 Axes>"
            ]
          },
          "metadata": {
            "tags": [],
            "needs_background": "light"
          }
        }
      ]
    },
    {
      "cell_type": "code",
      "metadata": {
        "id": "_I-ZZloaNnRT"
      },
      "source": [
        "# simulation"
      ],
      "execution_count": null,
      "outputs": []
    },
    {
      "cell_type": "markdown",
      "metadata": {
        "id": "qi5BRww5MqXI"
      },
      "source": [
        "## Poisson Distribution\n",
        "\n",
        "### Discussion\n",
        "\n",
        "### Functional Definition\n",
        "\n",
        "### Assumptions & Applications"
      ]
    },
    {
      "cell_type": "code",
      "metadata": {
        "id": "cUl6EnnSK3CI"
      },
      "source": [
        ""
      ],
      "execution_count": null,
      "outputs": []
    },
    {
      "cell_type": "code",
      "metadata": {
        "id": "A3LMERedNtRS"
      },
      "source": [
        ""
      ],
      "execution_count": null,
      "outputs": []
    },
    {
      "cell_type": "code",
      "metadata": {
        "id": "HS6CAkZ4NtiD"
      },
      "source": [
        ""
      ],
      "execution_count": null,
      "outputs": []
    }
  ]
}